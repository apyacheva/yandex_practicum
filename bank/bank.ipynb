{
 "cells": [
  {
   "cell_type": "markdown",
   "id": "2f95cc34",
   "metadata": {},
   "source": [
    "# Исследование надежности заемщиков."
   ]
  },
  {
   "cell_type": "markdown",
   "id": "1901ad3d",
   "metadata": {},
   "source": [
    "**Заказчик** — кредитный отдел банка. Нужно разобраться, влияет ли семейное положение и количество детей клиента на факт погашения кредита в срок. Входные данные от банка — статистика о платёжеспособности клиентов.\n",
    "Результаты исследования будут учтены при построении модели кредитного скоринга — специальной системы, которая оценивает способность потенциального заёмщика вернуть кредит банку.\n",
    "\n",
    "**Цель проекта** - ответить на 4 вопроса:\n",
    "- Есть ли зависимость между количеством детей и возвратом кредита в срок?\n",
    "- Есть ли зависимость между семейным положением и возвратом кредита в срок?\n",
    "- Есть ли зависимость между уровнем дохода и возвратом кредита в срок?\n",
    "- Как разные цели кредита влияют на его возврат в срок?\n",
    "\n",
    "**Ход проекта**\\\n",
    "В ходе проекта проверим исходные данные, при необходимости проведем их обработку, затем с помощью сводных таблиц ответим на поставленные вопросы и сделаем выводы.\n",
    "Основные этапы проекта:\n",
    "- Обзор данных,\n",
    "- Предобработка данных,\n",
    "- Ответы на вопросы,\n",
    "- Выводы."
   ]
  },
  {
   "cell_type": "markdown",
   "id": "46f8d3af",
   "metadata": {},
   "source": [
    "## Шаг 1. Обзор данных"
   ]
  },
  {
   "cell_type": "code",
   "execution_count": 1,
   "id": "d3f58587",
   "metadata": {},
   "outputs": [],
   "source": [
    "import pandas as pd"
   ]
  },
  {
   "cell_type": "code",
   "execution_count": 2,
   "id": "6d74a56a",
   "metadata": {},
   "outputs": [
    {
     "data": {
      "text/html": [
       "<div>\n",
       "<style scoped>\n",
       "    .dataframe tbody tr th:only-of-type {\n",
       "        vertical-align: middle;\n",
       "    }\n",
       "\n",
       "    .dataframe tbody tr th {\n",
       "        vertical-align: top;\n",
       "    }\n",
       "\n",
       "    .dataframe thead th {\n",
       "        text-align: right;\n",
       "    }\n",
       "</style>\n",
       "<table border=\"1\" class=\"dataframe\">\n",
       "  <thead>\n",
       "    <tr style=\"text-align: right;\">\n",
       "      <th></th>\n",
       "      <th>children</th>\n",
       "      <th>days_employed</th>\n",
       "      <th>dob_years</th>\n",
       "      <th>education</th>\n",
       "      <th>education_id</th>\n",
       "      <th>family_status</th>\n",
       "      <th>family_status_id</th>\n",
       "      <th>gender</th>\n",
       "      <th>income_type</th>\n",
       "      <th>debt</th>\n",
       "      <th>total_income</th>\n",
       "      <th>purpose</th>\n",
       "    </tr>\n",
       "  </thead>\n",
       "  <tbody>\n",
       "    <tr>\n",
       "      <th>0</th>\n",
       "      <td>1</td>\n",
       "      <td>-8437.673028</td>\n",
       "      <td>42</td>\n",
       "      <td>высшее</td>\n",
       "      <td>0</td>\n",
       "      <td>женат / замужем</td>\n",
       "      <td>0</td>\n",
       "      <td>F</td>\n",
       "      <td>сотрудник</td>\n",
       "      <td>0</td>\n",
       "      <td>253875.639453</td>\n",
       "      <td>покупка жилья</td>\n",
       "    </tr>\n",
       "    <tr>\n",
       "      <th>1</th>\n",
       "      <td>1</td>\n",
       "      <td>-4024.803754</td>\n",
       "      <td>36</td>\n",
       "      <td>среднее</td>\n",
       "      <td>1</td>\n",
       "      <td>женат / замужем</td>\n",
       "      <td>0</td>\n",
       "      <td>F</td>\n",
       "      <td>сотрудник</td>\n",
       "      <td>0</td>\n",
       "      <td>112080.014102</td>\n",
       "      <td>приобретение автомобиля</td>\n",
       "    </tr>\n",
       "    <tr>\n",
       "      <th>2</th>\n",
       "      <td>0</td>\n",
       "      <td>-5623.422610</td>\n",
       "      <td>33</td>\n",
       "      <td>Среднее</td>\n",
       "      <td>1</td>\n",
       "      <td>женат / замужем</td>\n",
       "      <td>0</td>\n",
       "      <td>M</td>\n",
       "      <td>сотрудник</td>\n",
       "      <td>0</td>\n",
       "      <td>145885.952297</td>\n",
       "      <td>покупка жилья</td>\n",
       "    </tr>\n",
       "    <tr>\n",
       "      <th>3</th>\n",
       "      <td>3</td>\n",
       "      <td>-4124.747207</td>\n",
       "      <td>32</td>\n",
       "      <td>среднее</td>\n",
       "      <td>1</td>\n",
       "      <td>женат / замужем</td>\n",
       "      <td>0</td>\n",
       "      <td>M</td>\n",
       "      <td>сотрудник</td>\n",
       "      <td>0</td>\n",
       "      <td>267628.550329</td>\n",
       "      <td>дополнительное образование</td>\n",
       "    </tr>\n",
       "    <tr>\n",
       "      <th>4</th>\n",
       "      <td>0</td>\n",
       "      <td>340266.072047</td>\n",
       "      <td>53</td>\n",
       "      <td>среднее</td>\n",
       "      <td>1</td>\n",
       "      <td>гражданский брак</td>\n",
       "      <td>1</td>\n",
       "      <td>F</td>\n",
       "      <td>пенсионер</td>\n",
       "      <td>0</td>\n",
       "      <td>158616.077870</td>\n",
       "      <td>сыграть свадьбу</td>\n",
       "    </tr>\n",
       "    <tr>\n",
       "      <th>5</th>\n",
       "      <td>0</td>\n",
       "      <td>-926.185831</td>\n",
       "      <td>27</td>\n",
       "      <td>высшее</td>\n",
       "      <td>0</td>\n",
       "      <td>гражданский брак</td>\n",
       "      <td>1</td>\n",
       "      <td>M</td>\n",
       "      <td>компаньон</td>\n",
       "      <td>0</td>\n",
       "      <td>255763.565419</td>\n",
       "      <td>покупка жилья</td>\n",
       "    </tr>\n",
       "    <tr>\n",
       "      <th>6</th>\n",
       "      <td>0</td>\n",
       "      <td>-2879.202052</td>\n",
       "      <td>43</td>\n",
       "      <td>высшее</td>\n",
       "      <td>0</td>\n",
       "      <td>женат / замужем</td>\n",
       "      <td>0</td>\n",
       "      <td>F</td>\n",
       "      <td>компаньон</td>\n",
       "      <td>0</td>\n",
       "      <td>240525.971920</td>\n",
       "      <td>операции с жильем</td>\n",
       "    </tr>\n",
       "    <tr>\n",
       "      <th>7</th>\n",
       "      <td>0</td>\n",
       "      <td>-152.779569</td>\n",
       "      <td>50</td>\n",
       "      <td>СРЕДНЕЕ</td>\n",
       "      <td>1</td>\n",
       "      <td>женат / замужем</td>\n",
       "      <td>0</td>\n",
       "      <td>M</td>\n",
       "      <td>сотрудник</td>\n",
       "      <td>0</td>\n",
       "      <td>135823.934197</td>\n",
       "      <td>образование</td>\n",
       "    </tr>\n",
       "    <tr>\n",
       "      <th>8</th>\n",
       "      <td>2</td>\n",
       "      <td>-6929.865299</td>\n",
       "      <td>35</td>\n",
       "      <td>ВЫСШЕЕ</td>\n",
       "      <td>0</td>\n",
       "      <td>гражданский брак</td>\n",
       "      <td>1</td>\n",
       "      <td>F</td>\n",
       "      <td>сотрудник</td>\n",
       "      <td>0</td>\n",
       "      <td>95856.832424</td>\n",
       "      <td>на проведение свадьбы</td>\n",
       "    </tr>\n",
       "    <tr>\n",
       "      <th>9</th>\n",
       "      <td>0</td>\n",
       "      <td>-2188.756445</td>\n",
       "      <td>41</td>\n",
       "      <td>среднее</td>\n",
       "      <td>1</td>\n",
       "      <td>женат / замужем</td>\n",
       "      <td>0</td>\n",
       "      <td>M</td>\n",
       "      <td>сотрудник</td>\n",
       "      <td>0</td>\n",
       "      <td>144425.938277</td>\n",
       "      <td>покупка жилья для семьи</td>\n",
       "    </tr>\n",
       "  </tbody>\n",
       "</table>\n",
       "</div>"
      ],
      "text/plain": [
       "   children  days_employed  dob_years education  education_id  \\\n",
       "0         1   -8437.673028         42    высшее             0   \n",
       "1         1   -4024.803754         36   среднее             1   \n",
       "2         0   -5623.422610         33   Среднее             1   \n",
       "3         3   -4124.747207         32   среднее             1   \n",
       "4         0  340266.072047         53   среднее             1   \n",
       "5         0    -926.185831         27    высшее             0   \n",
       "6         0   -2879.202052         43    высшее             0   \n",
       "7         0    -152.779569         50   СРЕДНЕЕ             1   \n",
       "8         2   -6929.865299         35    ВЫСШЕЕ             0   \n",
       "9         0   -2188.756445         41   среднее             1   \n",
       "\n",
       "      family_status  family_status_id gender income_type  debt   total_income  \\\n",
       "0   женат / замужем                 0      F   сотрудник     0  253875.639453   \n",
       "1   женат / замужем                 0      F   сотрудник     0  112080.014102   \n",
       "2   женат / замужем                 0      M   сотрудник     0  145885.952297   \n",
       "3   женат / замужем                 0      M   сотрудник     0  267628.550329   \n",
       "4  гражданский брак                 1      F   пенсионер     0  158616.077870   \n",
       "5  гражданский брак                 1      M   компаньон     0  255763.565419   \n",
       "6   женат / замужем                 0      F   компаньон     0  240525.971920   \n",
       "7   женат / замужем                 0      M   сотрудник     0  135823.934197   \n",
       "8  гражданский брак                 1      F   сотрудник     0   95856.832424   \n",
       "9   женат / замужем                 0      M   сотрудник     0  144425.938277   \n",
       "\n",
       "                      purpose  \n",
       "0               покупка жилья  \n",
       "1     приобретение автомобиля  \n",
       "2               покупка жилья  \n",
       "3  дополнительное образование  \n",
       "4             сыграть свадьбу  \n",
       "5               покупка жилья  \n",
       "6           операции с жильем  \n",
       "7                 образование  \n",
       "8       на проведение свадьбы  \n",
       "9     покупка жилья для семьи  "
      ]
     },
     "metadata": {},
     "output_type": "display_data"
    }
   ],
   "source": [
    "data = pd.read_csv('data.csv')\n",
    "#выведем на экран первые 10 строк дата-фрейма, чтобы оценить его структуру\n",
    "display(data.head(10))"
   ]
  },
  {
   "cell_type": "code",
   "execution_count": 3,
   "id": "cfab3d6c",
   "metadata": {},
   "outputs": [
    {
     "name": "stdout",
     "output_type": "stream",
     "text": [
      "<class 'pandas.core.frame.DataFrame'>\n",
      "RangeIndex: 21525 entries, 0 to 21524\n",
      "Data columns (total 12 columns):\n",
      " #   Column            Non-Null Count  Dtype  \n",
      "---  ------            --------------  -----  \n",
      " 0   children          21525 non-null  int64  \n",
      " 1   days_employed     19351 non-null  float64\n",
      " 2   dob_years         21525 non-null  int64  \n",
      " 3   education         21525 non-null  object \n",
      " 4   education_id      21525 non-null  int64  \n",
      " 5   family_status     21525 non-null  object \n",
      " 6   family_status_id  21525 non-null  int64  \n",
      " 7   gender            21525 non-null  object \n",
      " 8   income_type       21525 non-null  object \n",
      " 9   debt              21525 non-null  int64  \n",
      " 10  total_income      19351 non-null  float64\n",
      " 11  purpose           21525 non-null  object \n",
      "dtypes: float64(2), int64(5), object(5)\n",
      "memory usage: 2.0+ MB\n"
     ]
    }
   ],
   "source": [
    "#общая информация о данных\n",
    "data.info()"
   ]
  },
  {
   "cell_type": "markdown",
   "id": "6f9cdec2",
   "metadata": {},
   "source": [
    "Всего в файле 21525 записей. По сводной информации видим, что пропущенные данные есть в столбцах `days_employed` и `total_income`, причем их количество одинаково, возможно это не случайно. Кроме того по первым строкам дата-фрейма видим, что столбец `days_employed` содержит отрицательные значения, чего по смыслу быть не может, т.к. это трудовой стаж. Также этот столбец должен содержать данные типа `int64`, а не `float64`, т.к. нелогично учитывать стаж в долях дня.\n"
   ]
  },
  {
   "cell_type": "markdown",
   "id": "d2ab43d2",
   "metadata": {},
   "source": [
    "## Шаг 2. Предобработка данных"
   ]
  },
  {
   "cell_type": "markdown",
   "id": "c8d29688",
   "metadata": {},
   "source": [
    "### Шаг 2.1 Исправления отрицательных значений."
   ]
  },
  {
   "cell_type": "markdown",
   "id": "9649f73f",
   "metadata": {},
   "source": [
    "Заполнять пропущенные значения в количественных данных логично средним или медианным значением, чтобы они могли участвовать в дальнейших расчетах. Но для того, чтобы посчитать это значение, необходимо исправить отрицательные значения в столбце `days_employed`. Сначала посчитаем их количество."
   ]
  },
  {
   "cell_type": "code",
   "execution_count": 4,
   "id": "fdb7e175",
   "metadata": {},
   "outputs": [
    {
     "data": {
      "text/plain": [
       "15906"
      ]
     },
     "execution_count": 4,
     "metadata": {},
     "output_type": "execute_result"
    }
   ],
   "source": [
    "data[data['days_employed'] < 0]['days_employed'].count()"
   ]
  },
  {
   "cell_type": "markdown",
   "id": "f7b72091",
   "metadata": {},
   "source": [
    "Отрицательных значений больше половины. Значит, их нельзя просто отбросить. Судя по всему, значения правильные, лишь содержат знак \"минус\". Вероятно, ошибка возникла при ручном вводе информации.\n",
    "Заменим их на абсолютные значения."
   ]
  },
  {
   "cell_type": "code",
   "execution_count": 5,
   "id": "1cf2902c",
   "metadata": {},
   "outputs": [
    {
     "data": {
      "text/plain": [
       "0"
      ]
     },
     "execution_count": 5,
     "metadata": {},
     "output_type": "execute_result"
    }
   ],
   "source": [
    "data['days_employed'] = abs(data['days_employed'])\n",
    "#проверка\n",
    "data[data['days_employed'] < 0]['days_employed'].count()"
   ]
  },
  {
   "cell_type": "markdown",
   "id": "a136adfb",
   "metadata": {},
   "source": [
    "Найдем статистические показатели по столбцу `days_employed`"
   ]
  },
  {
   "cell_type": "code",
   "execution_count": 6,
   "id": "9c483a41",
   "metadata": {},
   "outputs": [
    {
     "name": "stdout",
     "output_type": "stream",
     "text": [
      "Минимальное значение 0.06614146093282515 лет\n",
      "Максимальное значение 1100.6997273296713 лет\n",
      "Среднее значение 183.32802440225305 лет\n",
      "Медианное значение 6.0115631969279315 лет\n"
     ]
    }
   ],
   "source": [
    "days_min = data['days_employed'].min()\n",
    "days_max = data['days_employed'].max()\n",
    "days_mean = data['days_employed'].mean()\n",
    "days_median = data['days_employed'].median()\n",
    "print(f\"Минимальное значение {days_min/365} лет\")\n",
    "print(f\"Максимальное значение {days_max/365} лет\")\n",
    "print(f\"Среднее значение {days_mean/365} лет\")\n",
    "print(f\"Медианное значение {days_median/365} лет\")"
   ]
  },
  {
   "cell_type": "markdown",
   "id": "849b871f",
   "metadata": {},
   "source": [
    "Минимальное значение стажа очень мало, но теоретически возможно. \n",
    "А вот максимальное значение 1100 лет нереально большое. Из-за этого среднее значение тоже принимает нереальное значение. \n",
    "Можно было бы заменить слишком большие значения медианными, но данный столбец в дальнейшем анализе не участвует, поэтому можем оставить данные, как есть."
   ]
  },
  {
   "cell_type": "markdown",
   "id": "6dee0638",
   "metadata": {},
   "source": [
    "### Шаг 2.2 Заполнение пропусков"
   ]
  },
  {
   "cell_type": "markdown",
   "id": "b852ee91",
   "metadata": {},
   "source": [
    "Проверим общее количество пропущенных значений"
   ]
  },
  {
   "cell_type": "code",
   "execution_count": 7,
   "id": "62f9583b",
   "metadata": {
    "scrolled": true
   },
   "outputs": [
    {
     "data": {
      "text/plain": [
       "children               0\n",
       "days_employed       2174\n",
       "dob_years              0\n",
       "education              0\n",
       "education_id           0\n",
       "family_status          0\n",
       "family_status_id       0\n",
       "gender                 0\n",
       "income_type            0\n",
       "debt                   0\n",
       "total_income        2174\n",
       "purpose                0\n",
       "dtype: int64"
      ]
     },
     "execution_count": 7,
     "metadata": {},
     "output_type": "execute_result"
    }
   ],
   "source": [
    "data.isna().sum()"
   ]
  },
  {
   "cell_type": "markdown",
   "id": "7d046080",
   "metadata": {},
   "source": [
    "Пропущенных значений около 10%. Проверим, есть ли связь между пропущенными данными в столбцах `days_employed` и `total_income`. Для начала выведем на экран несколько строк с пропущенным значением `days_employed`"
   ]
  },
  {
   "cell_type": "code",
   "execution_count": 8,
   "id": "e58b40c1",
   "metadata": {},
   "outputs": [
    {
     "data": {
      "text/html": [
       "<div>\n",
       "<style scoped>\n",
       "    .dataframe tbody tr th:only-of-type {\n",
       "        vertical-align: middle;\n",
       "    }\n",
       "\n",
       "    .dataframe tbody tr th {\n",
       "        vertical-align: top;\n",
       "    }\n",
       "\n",
       "    .dataframe thead th {\n",
       "        text-align: right;\n",
       "    }\n",
       "</style>\n",
       "<table border=\"1\" class=\"dataframe\">\n",
       "  <thead>\n",
       "    <tr style=\"text-align: right;\">\n",
       "      <th></th>\n",
       "      <th>children</th>\n",
       "      <th>days_employed</th>\n",
       "      <th>dob_years</th>\n",
       "      <th>education</th>\n",
       "      <th>education_id</th>\n",
       "      <th>family_status</th>\n",
       "      <th>family_status_id</th>\n",
       "      <th>gender</th>\n",
       "      <th>income_type</th>\n",
       "      <th>debt</th>\n",
       "      <th>total_income</th>\n",
       "      <th>purpose</th>\n",
       "    </tr>\n",
       "  </thead>\n",
       "  <tbody>\n",
       "    <tr>\n",
       "      <th>12</th>\n",
       "      <td>0</td>\n",
       "      <td>NaN</td>\n",
       "      <td>65</td>\n",
       "      <td>среднее</td>\n",
       "      <td>1</td>\n",
       "      <td>гражданский брак</td>\n",
       "      <td>1</td>\n",
       "      <td>M</td>\n",
       "      <td>пенсионер</td>\n",
       "      <td>0</td>\n",
       "      <td>NaN</td>\n",
       "      <td>сыграть свадьбу</td>\n",
       "    </tr>\n",
       "    <tr>\n",
       "      <th>26</th>\n",
       "      <td>0</td>\n",
       "      <td>NaN</td>\n",
       "      <td>41</td>\n",
       "      <td>среднее</td>\n",
       "      <td>1</td>\n",
       "      <td>женат / замужем</td>\n",
       "      <td>0</td>\n",
       "      <td>M</td>\n",
       "      <td>госслужащий</td>\n",
       "      <td>0</td>\n",
       "      <td>NaN</td>\n",
       "      <td>образование</td>\n",
       "    </tr>\n",
       "    <tr>\n",
       "      <th>29</th>\n",
       "      <td>0</td>\n",
       "      <td>NaN</td>\n",
       "      <td>63</td>\n",
       "      <td>среднее</td>\n",
       "      <td>1</td>\n",
       "      <td>Не женат / не замужем</td>\n",
       "      <td>4</td>\n",
       "      <td>F</td>\n",
       "      <td>пенсионер</td>\n",
       "      <td>0</td>\n",
       "      <td>NaN</td>\n",
       "      <td>строительство жилой недвижимости</td>\n",
       "    </tr>\n",
       "    <tr>\n",
       "      <th>41</th>\n",
       "      <td>0</td>\n",
       "      <td>NaN</td>\n",
       "      <td>50</td>\n",
       "      <td>среднее</td>\n",
       "      <td>1</td>\n",
       "      <td>женат / замужем</td>\n",
       "      <td>0</td>\n",
       "      <td>F</td>\n",
       "      <td>госслужащий</td>\n",
       "      <td>0</td>\n",
       "      <td>NaN</td>\n",
       "      <td>сделка с подержанным автомобилем</td>\n",
       "    </tr>\n",
       "    <tr>\n",
       "      <th>55</th>\n",
       "      <td>0</td>\n",
       "      <td>NaN</td>\n",
       "      <td>54</td>\n",
       "      <td>среднее</td>\n",
       "      <td>1</td>\n",
       "      <td>гражданский брак</td>\n",
       "      <td>1</td>\n",
       "      <td>F</td>\n",
       "      <td>пенсионер</td>\n",
       "      <td>1</td>\n",
       "      <td>NaN</td>\n",
       "      <td>сыграть свадьбу</td>\n",
       "    </tr>\n",
       "    <tr>\n",
       "      <th>65</th>\n",
       "      <td>0</td>\n",
       "      <td>NaN</td>\n",
       "      <td>21</td>\n",
       "      <td>среднее</td>\n",
       "      <td>1</td>\n",
       "      <td>Не женат / не замужем</td>\n",
       "      <td>4</td>\n",
       "      <td>M</td>\n",
       "      <td>компаньон</td>\n",
       "      <td>0</td>\n",
       "      <td>NaN</td>\n",
       "      <td>операции с коммерческой недвижимостью</td>\n",
       "    </tr>\n",
       "    <tr>\n",
       "      <th>67</th>\n",
       "      <td>0</td>\n",
       "      <td>NaN</td>\n",
       "      <td>52</td>\n",
       "      <td>высшее</td>\n",
       "      <td>0</td>\n",
       "      <td>женат / замужем</td>\n",
       "      <td>0</td>\n",
       "      <td>F</td>\n",
       "      <td>пенсионер</td>\n",
       "      <td>0</td>\n",
       "      <td>NaN</td>\n",
       "      <td>покупка жилья для семьи</td>\n",
       "    </tr>\n",
       "    <tr>\n",
       "      <th>72</th>\n",
       "      <td>1</td>\n",
       "      <td>NaN</td>\n",
       "      <td>32</td>\n",
       "      <td>высшее</td>\n",
       "      <td>0</td>\n",
       "      <td>женат / замужем</td>\n",
       "      <td>0</td>\n",
       "      <td>M</td>\n",
       "      <td>госслужащий</td>\n",
       "      <td>0</td>\n",
       "      <td>NaN</td>\n",
       "      <td>операции с коммерческой недвижимостью</td>\n",
       "    </tr>\n",
       "    <tr>\n",
       "      <th>82</th>\n",
       "      <td>2</td>\n",
       "      <td>NaN</td>\n",
       "      <td>50</td>\n",
       "      <td>высшее</td>\n",
       "      <td>0</td>\n",
       "      <td>женат / замужем</td>\n",
       "      <td>0</td>\n",
       "      <td>F</td>\n",
       "      <td>сотрудник</td>\n",
       "      <td>0</td>\n",
       "      <td>NaN</td>\n",
       "      <td>жилье</td>\n",
       "    </tr>\n",
       "    <tr>\n",
       "      <th>83</th>\n",
       "      <td>0</td>\n",
       "      <td>NaN</td>\n",
       "      <td>52</td>\n",
       "      <td>среднее</td>\n",
       "      <td>1</td>\n",
       "      <td>женат / замужем</td>\n",
       "      <td>0</td>\n",
       "      <td>M</td>\n",
       "      <td>сотрудник</td>\n",
       "      <td>0</td>\n",
       "      <td>NaN</td>\n",
       "      <td>жилье</td>\n",
       "    </tr>\n",
       "  </tbody>\n",
       "</table>\n",
       "</div>"
      ],
      "text/plain": [
       "    children  days_employed  dob_years education  education_id  \\\n",
       "12         0            NaN         65   среднее             1   \n",
       "26         0            NaN         41   среднее             1   \n",
       "29         0            NaN         63   среднее             1   \n",
       "41         0            NaN         50   среднее             1   \n",
       "55         0            NaN         54   среднее             1   \n",
       "65         0            NaN         21   среднее             1   \n",
       "67         0            NaN         52    высшее             0   \n",
       "72         1            NaN         32    высшее             0   \n",
       "82         2            NaN         50    высшее             0   \n",
       "83         0            NaN         52   среднее             1   \n",
       "\n",
       "            family_status  family_status_id gender  income_type  debt  \\\n",
       "12       гражданский брак                 1      M    пенсионер     0   \n",
       "26        женат / замужем                 0      M  госслужащий     0   \n",
       "29  Не женат / не замужем                 4      F    пенсионер     0   \n",
       "41        женат / замужем                 0      F  госслужащий     0   \n",
       "55       гражданский брак                 1      F    пенсионер     1   \n",
       "65  Не женат / не замужем                 4      M    компаньон     0   \n",
       "67        женат / замужем                 0      F    пенсионер     0   \n",
       "72        женат / замужем                 0      M  госслужащий     0   \n",
       "82        женат / замужем                 0      F    сотрудник     0   \n",
       "83        женат / замужем                 0      M    сотрудник     0   \n",
       "\n",
       "    total_income                                purpose  \n",
       "12           NaN                        сыграть свадьбу  \n",
       "26           NaN                            образование  \n",
       "29           NaN       строительство жилой недвижимости  \n",
       "41           NaN       сделка с подержанным автомобилем  \n",
       "55           NaN                        сыграть свадьбу  \n",
       "65           NaN  операции с коммерческой недвижимостью  \n",
       "67           NaN                покупка жилья для семьи  \n",
       "72           NaN  операции с коммерческой недвижимостью  \n",
       "82           NaN                                  жилье  \n",
       "83           NaN                                  жилье  "
      ]
     },
     "execution_count": 8,
     "metadata": {},
     "output_type": "execute_result"
    }
   ],
   "source": [
    "data[data['days_employed'].isna()].head(10)"
   ]
  },
  {
   "cell_type": "markdown",
   "id": "c568a1e0",
   "metadata": {},
   "source": [
    "Похоже, что пропуски в одних и тех же строках. Проверим это."
   ]
  },
  {
   "cell_type": "code",
   "execution_count": 9,
   "id": "70efd9c7",
   "metadata": {},
   "outputs": [
    {
     "data": {
      "text/plain": [
       "array([nan])"
      ]
     },
     "execution_count": 9,
     "metadata": {},
     "output_type": "execute_result"
    }
   ],
   "source": [
    "data_null = data[data['total_income'].isna()]\n",
    "data_null['days_employed'].unique()"
   ]
  },
  {
   "cell_type": "markdown",
   "id": "66fc6bea",
   "metadata": {},
   "source": [
    "Действительно, получилось, что в дата-фрейме с отсутствующими данными в столбце стажа все данные в столбце дохода так же отсутствуют. Значит, эти пропуски не случайны. Но никаких взаимосвязей с другими столбцами не видно - в остальных столбцах встречаются все варианты значений, это видно даже по 10 первым строкам. Вероятно, кто-то не захотел предоставлять о себе такую информацию. Хотя при подаче заявки на выдачу кредита эта информация является обязательной. Может быть, пропуски возникли из-за технического сбоя."
   ]
  },
  {
   "cell_type": "markdown",
   "id": "45a31cbe",
   "metadata": {},
   "source": [
    "Заполним пропущенные значения в столбце `days_employed` посчитанным выше медианным значением."
   ]
  },
  {
   "cell_type": "code",
   "execution_count": 10,
   "id": "a611c2cb",
   "metadata": {},
   "outputs": [
    {
     "data": {
      "text/plain": [
       "0"
      ]
     },
     "execution_count": 10,
     "metadata": {},
     "output_type": "execute_result"
    }
   ],
   "source": [
    "data['days_employed']=data['days_employed'].fillna(days_median)\n",
    "#проверим\n",
    "data['days_employed'].isna().sum()"
   ]
  },
  {
   "cell_type": "markdown",
   "id": "324c1e14",
   "metadata": {},
   "source": [
    "Пропуски в столбце `total_income` следует заполнять медианным значением, но не по всему дата-фрейму, а по категориям занятости, т.к. доход пенсионера в общем случае отличается от дохода предпринимателя. Найдем медианные значения дохода для каждой категории занятости."
   ]
  },
  {
   "cell_type": "code",
   "execution_count": 11,
   "id": "7b53f49d",
   "metadata": {
    "scrolled": true
   },
   "outputs": [
    {
     "data": {
      "text/plain": [
       "income_type\n",
       "безработный        131339.751676\n",
       "в декрете           53829.130729\n",
       "госслужащий        150447.935283\n",
       "компаньон          172357.950966\n",
       "пенсионер          118514.486412\n",
       "предприниматель    499163.144947\n",
       "сотрудник          142594.396847\n",
       "студент             98201.625314\n",
       "Name: total_income, dtype: float64"
      ]
     },
     "execution_count": 11,
     "metadata": {},
     "output_type": "execute_result"
    }
   ],
   "source": [
    "income_group = data.groupby('income_type')['total_income'].median()\n",
    "income_group"
   ]
  },
  {
   "cell_type": "markdown",
   "id": "4b126766",
   "metadata": {},
   "source": [
    "Так и есть - медианы по категориям различаются."
   ]
  },
  {
   "cell_type": "code",
   "execution_count": 12,
   "id": "29cc069b",
   "metadata": {},
   "outputs": [
    {
     "data": {
      "text/plain": [
       "array(['сотрудник', 'пенсионер', 'компаньон', 'госслужащий',\n",
       "       'безработный', 'предприниматель', 'студент', 'в декрете'],\n",
       "      dtype=object)"
      ]
     },
     "execution_count": 12,
     "metadata": {},
     "output_type": "execute_result"
    }
   ],
   "source": [
    "#список уникальны значений в столбце категория занятости:\n",
    "i_type = data['income_type'].unique()\n",
    "i_type"
   ]
  },
  {
   "cell_type": "markdown",
   "id": "e22cbf2f",
   "metadata": {},
   "source": [
    "Для каждой категории занятости заполним пропуски в данных о доходе медианным значением. Для этого воспользуемся циклом."
   ]
  },
  {
   "cell_type": "code",
   "execution_count": 13,
   "id": "9f2d9400",
   "metadata": {},
   "outputs": [],
   "source": [
    "for i_type in i_type:\n",
    "    data.loc[data['income_type'] == i_type, 'total_income'] = data['total_income'].fillna(data.loc[data['income_type'] == i_type, 'total_income'].median())"
   ]
  },
  {
   "cell_type": "markdown",
   "id": "1db8bed1",
   "metadata": {},
   "source": [
    "Снова проверим пропуски в данных."
   ]
  },
  {
   "cell_type": "code",
   "execution_count": 14,
   "id": "87eba80e",
   "metadata": {
    "scrolled": true
   },
   "outputs": [
    {
     "data": {
      "text/plain": [
       "children            0\n",
       "days_employed       0\n",
       "dob_years           0\n",
       "education           0\n",
       "education_id        0\n",
       "family_status       0\n",
       "family_status_id    0\n",
       "gender              0\n",
       "income_type         0\n",
       "debt                0\n",
       "total_income        0\n",
       "purpose             0\n",
       "dtype: int64"
      ]
     },
     "execution_count": 14,
     "metadata": {},
     "output_type": "execute_result"
    }
   ],
   "source": [
    "data.isna().sum()"
   ]
  },
  {
   "cell_type": "markdown",
   "id": "5f6abcd3",
   "metadata": {},
   "source": [
    "От пропусков в данных избавились."
   ]
  },
  {
   "cell_type": "markdown",
   "id": "0fb9a023",
   "metadata": {},
   "source": [
    "### Шаг 2.3 Проверка данных на аномалии и исправления."
   ]
  },
  {
   "cell_type": "markdown",
   "id": "136043a8",
   "metadata": {},
   "source": [
    "Проанализируем данные в каждом столбце, чтобы проверить корректность данных.\n",
    "Начнем со столбца `children`"
   ]
  },
  {
   "cell_type": "code",
   "execution_count": 15,
   "id": "5a8b7e4e",
   "metadata": {},
   "outputs": [
    {
     "data": {
      "text/plain": [
       " 0     14149\n",
       " 1      4818\n",
       " 2      2055\n",
       " 3       330\n",
       " 20       76\n",
       "-1        47\n",
       " 4        41\n",
       " 5         9\n",
       "Name: children, dtype: int64"
      ]
     },
     "execution_count": 15,
     "metadata": {},
     "output_type": "execute_result"
    }
   ],
   "source": [
    "data['children'].value_counts()"
   ]
  },
  {
   "cell_type": "markdown",
   "id": "e0010094",
   "metadata": {},
   "source": [
    "Явно некорректное отрицательное количество детей. Ошибка возможна из-за ручного ввода данных. Заменим значение -1 на 1.\n",
    "Также настораживает значение 20 детей. Такое, конечно, бывает, но не в 76 случаях из 21 тыс. Здесь возможна опечатка в виде лишнего нуля. Заменим значение 20 на 2.  "
   ]
  },
  {
   "cell_type": "code",
   "execution_count": 16,
   "id": "cbdfb838",
   "metadata": {},
   "outputs": [
    {
     "data": {
      "text/plain": [
       "0    14149\n",
       "1     4865\n",
       "2     2131\n",
       "3      330\n",
       "4       41\n",
       "5        9\n",
       "Name: children, dtype: int64"
      ]
     },
     "execution_count": 16,
     "metadata": {},
     "output_type": "execute_result"
    }
   ],
   "source": [
    "data.loc[data['children'] == -1, 'children'] = 1\n",
    "data.loc[data['children'] == 20, 'children'] = 2\n",
    "#проверим\n",
    "data['children'].value_counts()"
   ]
  },
  {
   "cell_type": "markdown",
   "id": "3eace9b7",
   "metadata": {},
   "source": [
    "Замена выполнена успешно.\n",
    "\n",
    "Столбец `days_employed` уже обработан ранее.\n",
    "\n",
    "Следующий столбец `dob_years`"
   ]
  },
  {
   "cell_type": "code",
   "execution_count": 17,
   "id": "210e7edf",
   "metadata": {
    "scrolled": true
   },
   "outputs": [
    {
     "data": {
      "text/plain": [
       "35    617\n",
       "40    609\n",
       "41    607\n",
       "34    603\n",
       "38    598\n",
       "42    597\n",
       "33    581\n",
       "39    573\n",
       "31    560\n",
       "36    555\n",
       "44    547\n",
       "29    545\n",
       "30    540\n",
       "48    538\n",
       "37    537\n",
       "50    514\n",
       "43    513\n",
       "32    510\n",
       "49    508\n",
       "28    503\n",
       "45    497\n",
       "27    493\n",
       "56    487\n",
       "52    484\n",
       "47    480\n",
       "54    479\n",
       "46    475\n",
       "58    461\n",
       "57    460\n",
       "53    459\n",
       "51    448\n",
       "59    444\n",
       "55    443\n",
       "26    408\n",
       "60    377\n",
       "25    357\n",
       "61    355\n",
       "62    352\n",
       "63    269\n",
       "64    265\n",
       "24    264\n",
       "23    254\n",
       "65    194\n",
       "66    183\n",
       "22    183\n",
       "67    167\n",
       "21    111\n",
       "0     101\n",
       "68     99\n",
       "69     85\n",
       "70     65\n",
       "71     58\n",
       "20     51\n",
       "72     33\n",
       "19     14\n",
       "73      8\n",
       "74      6\n",
       "75      1\n",
       "Name: dob_years, dtype: int64"
      ]
     },
     "execution_count": 17,
     "metadata": {},
     "output_type": "execute_result"
    }
   ],
   "source": [
    "data['dob_years'].value_counts()"
   ]
  },
  {
   "cell_type": "markdown",
   "id": "e62a568a",
   "metadata": {},
   "source": [
    "Здесь некорректным значением является 0, т.к. речь о возрасте заемщиков. Наиболее правильным будет заменить 0 на медианное значение возраста. Для количественных переменных это наилучшее решение, т.к. медиана показывает среднее по частоте значение."
   ]
  },
  {
   "cell_type": "code",
   "execution_count": 18,
   "id": "bdba17a7",
   "metadata": {},
   "outputs": [
    {
     "data": {
      "text/plain": [
       "array([42., 36., 33., 32., 53., 27., 43., 50., 35., 41., 40., 65., 54.,\n",
       "       56., 26., 48., 24., 21., 57., 67., 28., 63., 62., 47., 34., 68.,\n",
       "       25., 31., 30., 20., 49., 37., 45., 61., 64., 44., 52., 46., 23.,\n",
       "       38., 39., 51., 59., 29., 60., 55., 58., 71., 22., 73., 66., 69.,\n",
       "       19., 72., 70., 74., 75.])"
      ]
     },
     "execution_count": 18,
     "metadata": {},
     "output_type": "execute_result"
    }
   ],
   "source": [
    "data.loc[data['dob_years'] == 0, ['dob_years']] = data['dob_years'].median()\n",
    "#проверим\n",
    "data['dob_years'].unique()"
   ]
  },
  {
   "cell_type": "markdown",
   "id": "61bb374e",
   "metadata": {},
   "source": [
    "Ноль исчез из значений. Зато при подстановке медианного значения изменился тип данных на вещественный. Но это не проблема, в следующем шаге мы поменяем его обратно на целочисленный.\n",
    "\n",
    "Следующий столбец для проверки `education`"
   ]
  },
  {
   "cell_type": "code",
   "execution_count": 19,
   "id": "dab30759",
   "metadata": {},
   "outputs": [
    {
     "data": {
      "text/plain": [
       "array(['высшее', 'среднее', 'Среднее', 'СРЕДНЕЕ', 'ВЫСШЕЕ',\n",
       "       'неоконченное высшее', 'начальное', 'Высшее',\n",
       "       'НЕОКОНЧЕННОЕ ВЫСШЕЕ', 'Неоконченное высшее', 'НАЧАЛЬНОЕ',\n",
       "       'Начальное', 'Ученая степень', 'УЧЕНАЯ СТЕПЕНЬ', 'ученая степень'],\n",
       "      dtype=object)"
      ]
     },
     "execution_count": 19,
     "metadata": {},
     "output_type": "execute_result"
    }
   ],
   "source": [
    "data['education'].unique()"
   ]
  },
  {
   "cell_type": "markdown",
   "id": "308c55c2",
   "metadata": {},
   "source": [
    "Здесь видим, что одни и те же позиции записаны с применением строчных и заглавных букв. Приведем все значения к нижнему регистру."
   ]
  },
  {
   "cell_type": "code",
   "execution_count": 20,
   "id": "9fe6bbfe",
   "metadata": {},
   "outputs": [
    {
     "data": {
      "text/plain": [
       "array(['высшее', 'среднее', 'неоконченное высшее', 'начальное',\n",
       "       'ученая степень'], dtype=object)"
      ]
     },
     "execution_count": 20,
     "metadata": {},
     "output_type": "execute_result"
    }
   ],
   "source": [
    "data['education'] = data['education'].str.lower()\n",
    "data['education'].unique()"
   ]
  },
  {
   "cell_type": "markdown",
   "id": "87586597",
   "metadata": {},
   "source": [
    "Оказалось, уникальных значений всего 5.\n",
    "\n",
    "Следующий столбец для проверки `education_id`"
   ]
  },
  {
   "cell_type": "code",
   "execution_count": 21,
   "id": "ca1b694e",
   "metadata": {},
   "outputs": [
    {
     "data": {
      "text/plain": [
       "array([0, 1, 2, 3, 4], dtype=int64)"
      ]
     },
     "execution_count": 21,
     "metadata": {},
     "output_type": "execute_result"
    }
   ],
   "source": [
    "data['education_id'].unique()"
   ]
  },
  {
   "cell_type": "markdown",
   "id": "cbf83477",
   "metadata": {},
   "source": [
    "Здесь все в порядке.\n",
    "\n",
    "Проверим следующий столбец `family_status`."
   ]
  },
  {
   "cell_type": "code",
   "execution_count": 22,
   "id": "7cfbb148",
   "metadata": {},
   "outputs": [
    {
     "data": {
      "text/plain": [
       "array(['женат / замужем', 'гражданский брак', 'вдовец / вдова',\n",
       "       'в разводе', 'Не женат / не замужем'], dtype=object)"
      ]
     },
     "execution_count": 22,
     "metadata": {},
     "output_type": "execute_result"
    }
   ],
   "source": [
    "data['family_status'].unique()"
   ]
  },
  {
   "cell_type": "markdown",
   "id": "e0aa3e0e",
   "metadata": {},
   "source": [
    "С этим столбцом тоже все в порядке.\n",
    "\n",
    "Проверим `family_status_id`."
   ]
  },
  {
   "cell_type": "code",
   "execution_count": 23,
   "id": "1feec259",
   "metadata": {},
   "outputs": [
    {
     "data": {
      "text/plain": [
       "array([0, 1, 2, 3, 4], dtype=int64)"
      ]
     },
     "execution_count": 23,
     "metadata": {},
     "output_type": "execute_result"
    }
   ],
   "source": [
    "data['family_status_id'].unique()"
   ]
  },
  {
   "cell_type": "markdown",
   "id": "3ce914e2",
   "metadata": {},
   "source": [
    "Здесь тоже все в порядке. Следующий `gender`"
   ]
  },
  {
   "cell_type": "code",
   "execution_count": 24,
   "id": "8e0fcb47",
   "metadata": {
    "scrolled": true
   },
   "outputs": [
    {
     "data": {
      "text/plain": [
       "F      14236\n",
       "M       7288\n",
       "XNA        1\n",
       "Name: gender, dtype: int64"
      ]
     },
     "execution_count": 24,
     "metadata": {},
     "output_type": "execute_result"
    }
   ],
   "source": [
    "data['gender'].value_counts()"
   ]
  },
  {
   "cell_type": "markdown",
   "id": "c9e1aa08",
   "metadata": {},
   "source": [
    "Будем считать, что один раз встречающееся `XNA` - это \"неопределенный пол\", такое тоже бывает.\n",
    "\n",
    "Значения столбца `income_type` мы уже получали, когда считали медианный доход по категориям. Там все в норме. Столбец `total_income` уже обработан. \n",
    "\n",
    "Следующий проверим `debt`."
   ]
  },
  {
   "cell_type": "code",
   "execution_count": 25,
   "id": "fa2e5fa0",
   "metadata": {},
   "outputs": [
    {
     "data": {
      "text/plain": [
       "array([0, 1], dtype=int64)"
      ]
     },
     "execution_count": 25,
     "metadata": {},
     "output_type": "execute_result"
    }
   ],
   "source": [
    "data['debt'].unique()"
   ]
  },
  {
   "cell_type": "markdown",
   "id": "47aef58e",
   "metadata": {},
   "source": [
    "Здесь все, как и должно быть.\n",
    "\n",
    "Последний столбец `purpose`."
   ]
  },
  {
   "cell_type": "code",
   "execution_count": 26,
   "id": "c8662e46",
   "metadata": {},
   "outputs": [
    {
     "data": {
      "text/plain": [
       "array(['покупка жилья', 'приобретение автомобиля',\n",
       "       'дополнительное образование', 'сыграть свадьбу',\n",
       "       'операции с жильем', 'образование', 'на проведение свадьбы',\n",
       "       'покупка жилья для семьи', 'покупка недвижимости',\n",
       "       'покупка коммерческой недвижимости', 'покупка жилой недвижимости',\n",
       "       'строительство собственной недвижимости', 'недвижимость',\n",
       "       'строительство недвижимости', 'на покупку подержанного автомобиля',\n",
       "       'на покупку своего автомобиля',\n",
       "       'операции с коммерческой недвижимостью',\n",
       "       'строительство жилой недвижимости', 'жилье',\n",
       "       'операции со своей недвижимостью', 'автомобили',\n",
       "       'заняться образованием', 'сделка с подержанным автомобилем',\n",
       "       'получение образования', 'автомобиль', 'свадьба',\n",
       "       'получение дополнительного образования', 'покупка своего жилья',\n",
       "       'операции с недвижимостью', 'получение высшего образования',\n",
       "       'свой автомобиль', 'сделка с автомобилем',\n",
       "       'профильное образование', 'высшее образование',\n",
       "       'покупка жилья для сдачи', 'на покупку автомобиля', 'ремонт жилью',\n",
       "       'заняться высшим образованием'], dtype=object)"
      ]
     },
     "execution_count": 26,
     "metadata": {},
     "output_type": "execute_result"
    }
   ],
   "source": [
    "data['purpose'].unique()"
   ]
  },
  {
   "cell_type": "markdown",
   "id": "15d03a0e",
   "metadata": {},
   "source": [
    "Здесь много однотипных значений. Обработаем их позже."
   ]
  },
  {
   "cell_type": "markdown",
   "id": "176d47ed",
   "metadata": {},
   "source": [
    "### Шаг 2.4. Изменение типов данных."
   ]
  },
  {
   "cell_type": "markdown",
   "id": "4eb20853",
   "metadata": {},
   "source": [
    "В самом начале обзора данных упоминалось, что нужно изменить тип данных в столбце `days_employed` с `float64` на `int64`. Сделаем это. Также изменим на целочисленный тип данные в столбце `dob_years`, где тип данных изменился из-за подстановки медианы. Также для удобства восприятия изменим на целочисленный тип данных в столбце `total_income`."
   ]
  },
  {
   "cell_type": "code",
   "execution_count": 27,
   "id": "c9efb45e",
   "metadata": {},
   "outputs": [
    {
     "name": "stdout",
     "output_type": "stream",
     "text": [
      "<class 'pandas.core.frame.DataFrame'>\n",
      "RangeIndex: 21525 entries, 0 to 21524\n",
      "Data columns (total 12 columns):\n",
      " #   Column            Non-Null Count  Dtype \n",
      "---  ------            --------------  ----- \n",
      " 0   children          21525 non-null  int64 \n",
      " 1   days_employed     21525 non-null  int32 \n",
      " 2   dob_years         21525 non-null  int32 \n",
      " 3   education         21525 non-null  object\n",
      " 4   education_id      21525 non-null  int64 \n",
      " 5   family_status     21525 non-null  object\n",
      " 6   family_status_id  21525 non-null  int64 \n",
      " 7   gender            21525 non-null  object\n",
      " 8   income_type       21525 non-null  object\n",
      " 9   debt              21525 non-null  int64 \n",
      " 10  total_income      21525 non-null  int32 \n",
      " 11  purpose           21525 non-null  object\n",
      "dtypes: int32(3), int64(4), object(5)\n",
      "memory usage: 1.7+ MB\n"
     ]
    }
   ],
   "source": [
    "data[['days_employed', 'dob_years', 'total_income']] = data[['days_employed', 'dob_years', 'total_income']].astype('int')\n",
    "#проверим\n",
    "data.info()"
   ]
  },
  {
   "cell_type": "markdown",
   "id": "06506c64",
   "metadata": {},
   "source": [
    "Теперь все корректно."
   ]
  },
  {
   "cell_type": "markdown",
   "id": "5f98d071",
   "metadata": {},
   "source": [
    "### Шаг 2.5. Удаление дубликатов."
   ]
  },
  {
   "cell_type": "markdown",
   "id": "37ece30c",
   "metadata": {},
   "source": [
    "Проверим датафрейм на наличие явных дубликатов."
   ]
  },
  {
   "cell_type": "code",
   "execution_count": 28,
   "id": "8ce63468",
   "metadata": {},
   "outputs": [
    {
     "data": {
      "text/plain": [
       "72"
      ]
     },
     "execution_count": 28,
     "metadata": {},
     "output_type": "execute_result"
    }
   ],
   "source": [
    "data.duplicated().sum()"
   ]
  },
  {
   "cell_type": "markdown",
   "id": "5d60708a",
   "metadata": {},
   "source": [
    "В данных 72 дублирующих строки. Удалим дублирующиеся строки с обновлением индексов."
   ]
  },
  {
   "cell_type": "code",
   "execution_count": 29,
   "id": "58132e68",
   "metadata": {},
   "outputs": [
    {
     "data": {
      "text/plain": [
       "0"
      ]
     },
     "execution_count": 29,
     "metadata": {},
     "output_type": "execute_result"
    }
   ],
   "source": [
    "data = data.drop_duplicates().reset_index(drop=True)\n",
    "#проверим\n",
    "data.duplicated().sum()"
   ]
  },
  {
   "cell_type": "markdown",
   "id": "597fc58e",
   "metadata": {},
   "source": [
    "Неявные дубликаты (если они были), образовавшиеся за счет разного регистра в столбце образование, удалились сейчас автоматически, т.к. мы заранее преобразовали регистр."
   ]
  },
  {
   "cell_type": "markdown",
   "id": "cccb79ad",
   "metadata": {},
   "source": [
    "### Шаг 2.6. Формирование дополнительных датафреймов словарей, декомпозиция исходного датафрейма."
   ]
  },
  {
   "cell_type": "markdown",
   "id": "eb8c94e9",
   "metadata": {},
   "source": [
    "В процессе анализа данных удобно пользоваться индексами, а не строковыми значениями. Вынесем строковые значения в столбцах `education` и `family_status` в отдельные словари, а в основном дата-фрейме будем пользоваться идентификаторами."
   ]
  },
  {
   "cell_type": "code",
   "execution_count": 30,
   "id": "fd6cf31b",
   "metadata": {
    "scrolled": true
   },
   "outputs": [
    {
     "data": {
      "text/html": [
       "<div>\n",
       "<style scoped>\n",
       "    .dataframe tbody tr th:only-of-type {\n",
       "        vertical-align: middle;\n",
       "    }\n",
       "\n",
       "    .dataframe tbody tr th {\n",
       "        vertical-align: top;\n",
       "    }\n",
       "\n",
       "    .dataframe thead th {\n",
       "        text-align: right;\n",
       "    }\n",
       "</style>\n",
       "<table border=\"1\" class=\"dataframe\">\n",
       "  <thead>\n",
       "    <tr style=\"text-align: right;\">\n",
       "      <th></th>\n",
       "      <th>education</th>\n",
       "      <th>education_id</th>\n",
       "    </tr>\n",
       "  </thead>\n",
       "  <tbody>\n",
       "    <tr>\n",
       "      <th>0</th>\n",
       "      <td>высшее</td>\n",
       "      <td>0</td>\n",
       "    </tr>\n",
       "    <tr>\n",
       "      <th>1</th>\n",
       "      <td>среднее</td>\n",
       "      <td>1</td>\n",
       "    </tr>\n",
       "    <tr>\n",
       "      <th>2</th>\n",
       "      <td>среднее</td>\n",
       "      <td>1</td>\n",
       "    </tr>\n",
       "    <tr>\n",
       "      <th>3</th>\n",
       "      <td>среднее</td>\n",
       "      <td>1</td>\n",
       "    </tr>\n",
       "    <tr>\n",
       "      <th>4</th>\n",
       "      <td>среднее</td>\n",
       "      <td>1</td>\n",
       "    </tr>\n",
       "  </tbody>\n",
       "</table>\n",
       "</div>"
      ],
      "text/plain": [
       "  education  education_id\n",
       "0    высшее             0\n",
       "1   среднее             1\n",
       "2   среднее             1\n",
       "3   среднее             1\n",
       "4   среднее             1"
      ]
     },
     "metadata": {},
     "output_type": "display_data"
    },
    {
     "data": {
      "text/html": [
       "<div>\n",
       "<style scoped>\n",
       "    .dataframe tbody tr th:only-of-type {\n",
       "        vertical-align: middle;\n",
       "    }\n",
       "\n",
       "    .dataframe tbody tr th {\n",
       "        vertical-align: top;\n",
       "    }\n",
       "\n",
       "    .dataframe thead th {\n",
       "        text-align: right;\n",
       "    }\n",
       "</style>\n",
       "<table border=\"1\" class=\"dataframe\">\n",
       "  <thead>\n",
       "    <tr style=\"text-align: right;\">\n",
       "      <th></th>\n",
       "      <th>family_status</th>\n",
       "      <th>family_status_id</th>\n",
       "    </tr>\n",
       "  </thead>\n",
       "  <tbody>\n",
       "    <tr>\n",
       "      <th>0</th>\n",
       "      <td>женат / замужем</td>\n",
       "      <td>0</td>\n",
       "    </tr>\n",
       "    <tr>\n",
       "      <th>1</th>\n",
       "      <td>женат / замужем</td>\n",
       "      <td>0</td>\n",
       "    </tr>\n",
       "    <tr>\n",
       "      <th>2</th>\n",
       "      <td>женат / замужем</td>\n",
       "      <td>0</td>\n",
       "    </tr>\n",
       "    <tr>\n",
       "      <th>3</th>\n",
       "      <td>женат / замужем</td>\n",
       "      <td>0</td>\n",
       "    </tr>\n",
       "    <tr>\n",
       "      <th>4</th>\n",
       "      <td>гражданский брак</td>\n",
       "      <td>1</td>\n",
       "    </tr>\n",
       "  </tbody>\n",
       "</table>\n",
       "</div>"
      ],
      "text/plain": [
       "      family_status  family_status_id\n",
       "0   женат / замужем                 0\n",
       "1   женат / замужем                 0\n",
       "2   женат / замужем                 0\n",
       "3   женат / замужем                 0\n",
       "4  гражданский брак                 1"
      ]
     },
     "metadata": {},
     "output_type": "display_data"
    }
   ],
   "source": [
    "education_dict = data.loc[:, ['education', 'education_id']]\n",
    "family_dict = data.loc[:, ['family_status', 'family_status_id']]\n",
    "display(education_dict.head())\n",
    "display(family_dict.head())"
   ]
  },
  {
   "cell_type": "markdown",
   "id": "8ff18a07",
   "metadata": {},
   "source": [
    "Удалим дубликаты в словарях."
   ]
  },
  {
   "cell_type": "code",
   "execution_count": 31,
   "id": "a9f67b68",
   "metadata": {},
   "outputs": [
    {
     "data": {
      "text/html": [
       "<div>\n",
       "<style scoped>\n",
       "    .dataframe tbody tr th:only-of-type {\n",
       "        vertical-align: middle;\n",
       "    }\n",
       "\n",
       "    .dataframe tbody tr th {\n",
       "        vertical-align: top;\n",
       "    }\n",
       "\n",
       "    .dataframe thead th {\n",
       "        text-align: right;\n",
       "    }\n",
       "</style>\n",
       "<table border=\"1\" class=\"dataframe\">\n",
       "  <thead>\n",
       "    <tr style=\"text-align: right;\">\n",
       "      <th></th>\n",
       "      <th>education</th>\n",
       "      <th>education_id</th>\n",
       "    </tr>\n",
       "  </thead>\n",
       "  <tbody>\n",
       "    <tr>\n",
       "      <th>0</th>\n",
       "      <td>высшее</td>\n",
       "      <td>0</td>\n",
       "    </tr>\n",
       "    <tr>\n",
       "      <th>1</th>\n",
       "      <td>среднее</td>\n",
       "      <td>1</td>\n",
       "    </tr>\n",
       "    <tr>\n",
       "      <th>2</th>\n",
       "      <td>неоконченное высшее</td>\n",
       "      <td>2</td>\n",
       "    </tr>\n",
       "    <tr>\n",
       "      <th>3</th>\n",
       "      <td>начальное</td>\n",
       "      <td>3</td>\n",
       "    </tr>\n",
       "    <tr>\n",
       "      <th>4</th>\n",
       "      <td>ученая степень</td>\n",
       "      <td>4</td>\n",
       "    </tr>\n",
       "  </tbody>\n",
       "</table>\n",
       "</div>"
      ],
      "text/plain": [
       "             education  education_id\n",
       "0               высшее             0\n",
       "1              среднее             1\n",
       "2  неоконченное высшее             2\n",
       "3            начальное             3\n",
       "4       ученая степень             4"
      ]
     },
     "metadata": {},
     "output_type": "display_data"
    },
    {
     "data": {
      "text/html": [
       "<div>\n",
       "<style scoped>\n",
       "    .dataframe tbody tr th:only-of-type {\n",
       "        vertical-align: middle;\n",
       "    }\n",
       "\n",
       "    .dataframe tbody tr th {\n",
       "        vertical-align: top;\n",
       "    }\n",
       "\n",
       "    .dataframe thead th {\n",
       "        text-align: right;\n",
       "    }\n",
       "</style>\n",
       "<table border=\"1\" class=\"dataframe\">\n",
       "  <thead>\n",
       "    <tr style=\"text-align: right;\">\n",
       "      <th></th>\n",
       "      <th>family_status</th>\n",
       "      <th>family_status_id</th>\n",
       "    </tr>\n",
       "  </thead>\n",
       "  <tbody>\n",
       "    <tr>\n",
       "      <th>0</th>\n",
       "      <td>женат / замужем</td>\n",
       "      <td>0</td>\n",
       "    </tr>\n",
       "    <tr>\n",
       "      <th>1</th>\n",
       "      <td>гражданский брак</td>\n",
       "      <td>1</td>\n",
       "    </tr>\n",
       "    <tr>\n",
       "      <th>2</th>\n",
       "      <td>вдовец / вдова</td>\n",
       "      <td>2</td>\n",
       "    </tr>\n",
       "    <tr>\n",
       "      <th>3</th>\n",
       "      <td>в разводе</td>\n",
       "      <td>3</td>\n",
       "    </tr>\n",
       "    <tr>\n",
       "      <th>4</th>\n",
       "      <td>Не женат / не замужем</td>\n",
       "      <td>4</td>\n",
       "    </tr>\n",
       "  </tbody>\n",
       "</table>\n",
       "</div>"
      ],
      "text/plain": [
       "           family_status  family_status_id\n",
       "0        женат / замужем                 0\n",
       "1       гражданский брак                 1\n",
       "2         вдовец / вдова                 2\n",
       "3              в разводе                 3\n",
       "4  Не женат / не замужем                 4"
      ]
     },
     "metadata": {},
     "output_type": "display_data"
    }
   ],
   "source": [
    "education_dict = education_dict.drop_duplicates().reset_index(drop=True)\n",
    "family_dict = family_dict.drop_duplicates().reset_index(drop=True)\n",
    "display(education_dict.head())\n",
    "display(family_dict.head())"
   ]
  },
  {
   "cell_type": "markdown",
   "id": "3d90bfd2",
   "metadata": {},
   "source": [
    "Теперь у нас готовы словари. Данные из основного дата-фрейма сохраним отдельно только с идентификаторами образования и семейного положения."
   ]
  },
  {
   "cell_type": "code",
   "execution_count": 32,
   "id": "306a6ad7",
   "metadata": {},
   "outputs": [
    {
     "data": {
      "text/html": [
       "<div>\n",
       "<style scoped>\n",
       "    .dataframe tbody tr th:only-of-type {\n",
       "        vertical-align: middle;\n",
       "    }\n",
       "\n",
       "    .dataframe tbody tr th {\n",
       "        vertical-align: top;\n",
       "    }\n",
       "\n",
       "    .dataframe thead th {\n",
       "        text-align: right;\n",
       "    }\n",
       "</style>\n",
       "<table border=\"1\" class=\"dataframe\">\n",
       "  <thead>\n",
       "    <tr style=\"text-align: right;\">\n",
       "      <th></th>\n",
       "      <th>children</th>\n",
       "      <th>days_employed</th>\n",
       "      <th>dob_years</th>\n",
       "      <th>education_id</th>\n",
       "      <th>family_status_id</th>\n",
       "      <th>gender</th>\n",
       "      <th>income_type</th>\n",
       "      <th>debt</th>\n",
       "      <th>total_income</th>\n",
       "      <th>purpose</th>\n",
       "    </tr>\n",
       "  </thead>\n",
       "  <tbody>\n",
       "    <tr>\n",
       "      <th>0</th>\n",
       "      <td>1</td>\n",
       "      <td>8437</td>\n",
       "      <td>42</td>\n",
       "      <td>0</td>\n",
       "      <td>0</td>\n",
       "      <td>F</td>\n",
       "      <td>сотрудник</td>\n",
       "      <td>0</td>\n",
       "      <td>253875</td>\n",
       "      <td>покупка жилья</td>\n",
       "    </tr>\n",
       "    <tr>\n",
       "      <th>1</th>\n",
       "      <td>1</td>\n",
       "      <td>4024</td>\n",
       "      <td>36</td>\n",
       "      <td>1</td>\n",
       "      <td>0</td>\n",
       "      <td>F</td>\n",
       "      <td>сотрудник</td>\n",
       "      <td>0</td>\n",
       "      <td>112080</td>\n",
       "      <td>приобретение автомобиля</td>\n",
       "    </tr>\n",
       "    <tr>\n",
       "      <th>2</th>\n",
       "      <td>0</td>\n",
       "      <td>5623</td>\n",
       "      <td>33</td>\n",
       "      <td>1</td>\n",
       "      <td>0</td>\n",
       "      <td>M</td>\n",
       "      <td>сотрудник</td>\n",
       "      <td>0</td>\n",
       "      <td>145885</td>\n",
       "      <td>покупка жилья</td>\n",
       "    </tr>\n",
       "    <tr>\n",
       "      <th>3</th>\n",
       "      <td>3</td>\n",
       "      <td>4124</td>\n",
       "      <td>32</td>\n",
       "      <td>1</td>\n",
       "      <td>0</td>\n",
       "      <td>M</td>\n",
       "      <td>сотрудник</td>\n",
       "      <td>0</td>\n",
       "      <td>267628</td>\n",
       "      <td>дополнительное образование</td>\n",
       "    </tr>\n",
       "    <tr>\n",
       "      <th>4</th>\n",
       "      <td>0</td>\n",
       "      <td>340266</td>\n",
       "      <td>53</td>\n",
       "      <td>1</td>\n",
       "      <td>1</td>\n",
       "      <td>F</td>\n",
       "      <td>пенсионер</td>\n",
       "      <td>0</td>\n",
       "      <td>158616</td>\n",
       "      <td>сыграть свадьбу</td>\n",
       "    </tr>\n",
       "  </tbody>\n",
       "</table>\n",
       "</div>"
      ],
      "text/plain": [
       "   children  days_employed  dob_years  education_id  family_status_id gender  \\\n",
       "0         1           8437         42             0                 0      F   \n",
       "1         1           4024         36             1                 0      F   \n",
       "2         0           5623         33             1                 0      M   \n",
       "3         3           4124         32             1                 0      M   \n",
       "4         0         340266         53             1                 1      F   \n",
       "\n",
       "  income_type  debt  total_income                     purpose  \n",
       "0   сотрудник     0        253875               покупка жилья  \n",
       "1   сотрудник     0        112080     приобретение автомобиля  \n",
       "2   сотрудник     0        145885               покупка жилья  \n",
       "3   сотрудник     0        267628  дополнительное образование  \n",
       "4   пенсионер     0        158616             сыграть свадьбу  "
      ]
     },
     "metadata": {},
     "output_type": "display_data"
    }
   ],
   "source": [
    "data_log = data.drop(['education', 'family_status'], axis=1)\n",
    "display(data_log.head())"
   ]
  },
  {
   "cell_type": "markdown",
   "id": "1c421639",
   "metadata": {},
   "source": [
    "### Шаг 2.7. Категоризация дохода."
   ]
  },
  {
   "cell_type": "markdown",
   "id": "4a1ecdd3",
   "metadata": {},
   "source": [
    "  Чтобы было удобно анализировать доход, разобьем его на категории. Для этого напишем функцию, которая на вход получит значение ежемесячного дохода, а на выходе вернет категорию клиента по следующему правилу:\\\n",
    "0–30000 — 'E';\\\n",
    "30001–50000 — 'D';\\\n",
    "50001–200000 — 'C';\\\n",
    "200001–1000000 — 'B';\\\n",
    "1000001 и выше — 'A'.  "
   ]
  },
  {
   "cell_type": "code",
   "execution_count": 33,
   "id": "d2f0ce80",
   "metadata": {},
   "outputs": [
    {
     "name": "stdout",
     "output_type": "stream",
     "text": [
      "Клиент с доходом 29000 относится к категории E\n",
      "Клиент с доходом 256000 относится к категории B\n",
      "Клиент с доходом 132560 относится к категории C\n"
     ]
    }
   ],
   "source": [
    "def income_cat(income):\n",
    "    if income <= 30000:\n",
    "        return 'E'\n",
    "    if income <=50000:\n",
    "        return 'D'\n",
    "    if income <= 200000:\n",
    "        return 'C'\n",
    "    if income <= 1000000:\n",
    "        return 'B'\n",
    "    return 'A'\n",
    "\n",
    "#проверим работу функции\n",
    "print(f'Клиент с доходом 29000 относится к категории {income_cat(29000)}')\n",
    "print(f'Клиент с доходом 256000 относится к категории {income_cat(256000)}')\n",
    "print(f'Клиент с доходом 132560 относится к категории {income_cat(132560)}')"
   ]
  },
  {
   "cell_type": "markdown",
   "id": "8f23b4f7",
   "metadata": {},
   "source": [
    "Теперь применим функцию к столбцу `total_income` и создадим новый столбец `total_income_category`."
   ]
  },
  {
   "cell_type": "code",
   "execution_count": 34,
   "id": "103fbdf9",
   "metadata": {},
   "outputs": [
    {
     "data": {
      "text/html": [
       "<div>\n",
       "<style scoped>\n",
       "    .dataframe tbody tr th:only-of-type {\n",
       "        vertical-align: middle;\n",
       "    }\n",
       "\n",
       "    .dataframe tbody tr th {\n",
       "        vertical-align: top;\n",
       "    }\n",
       "\n",
       "    .dataframe thead th {\n",
       "        text-align: right;\n",
       "    }\n",
       "</style>\n",
       "<table border=\"1\" class=\"dataframe\">\n",
       "  <thead>\n",
       "    <tr style=\"text-align: right;\">\n",
       "      <th></th>\n",
       "      <th>children</th>\n",
       "      <th>days_employed</th>\n",
       "      <th>dob_years</th>\n",
       "      <th>education_id</th>\n",
       "      <th>family_status_id</th>\n",
       "      <th>gender</th>\n",
       "      <th>income_type</th>\n",
       "      <th>debt</th>\n",
       "      <th>total_income</th>\n",
       "      <th>purpose</th>\n",
       "      <th>total_income_category</th>\n",
       "    </tr>\n",
       "  </thead>\n",
       "  <tbody>\n",
       "    <tr>\n",
       "      <th>0</th>\n",
       "      <td>1</td>\n",
       "      <td>8437</td>\n",
       "      <td>42</td>\n",
       "      <td>0</td>\n",
       "      <td>0</td>\n",
       "      <td>F</td>\n",
       "      <td>сотрудник</td>\n",
       "      <td>0</td>\n",
       "      <td>253875</td>\n",
       "      <td>покупка жилья</td>\n",
       "      <td>B</td>\n",
       "    </tr>\n",
       "    <tr>\n",
       "      <th>1</th>\n",
       "      <td>1</td>\n",
       "      <td>4024</td>\n",
       "      <td>36</td>\n",
       "      <td>1</td>\n",
       "      <td>0</td>\n",
       "      <td>F</td>\n",
       "      <td>сотрудник</td>\n",
       "      <td>0</td>\n",
       "      <td>112080</td>\n",
       "      <td>приобретение автомобиля</td>\n",
       "      <td>C</td>\n",
       "    </tr>\n",
       "    <tr>\n",
       "      <th>2</th>\n",
       "      <td>0</td>\n",
       "      <td>5623</td>\n",
       "      <td>33</td>\n",
       "      <td>1</td>\n",
       "      <td>0</td>\n",
       "      <td>M</td>\n",
       "      <td>сотрудник</td>\n",
       "      <td>0</td>\n",
       "      <td>145885</td>\n",
       "      <td>покупка жилья</td>\n",
       "      <td>C</td>\n",
       "    </tr>\n",
       "    <tr>\n",
       "      <th>3</th>\n",
       "      <td>3</td>\n",
       "      <td>4124</td>\n",
       "      <td>32</td>\n",
       "      <td>1</td>\n",
       "      <td>0</td>\n",
       "      <td>M</td>\n",
       "      <td>сотрудник</td>\n",
       "      <td>0</td>\n",
       "      <td>267628</td>\n",
       "      <td>дополнительное образование</td>\n",
       "      <td>B</td>\n",
       "    </tr>\n",
       "    <tr>\n",
       "      <th>4</th>\n",
       "      <td>0</td>\n",
       "      <td>340266</td>\n",
       "      <td>53</td>\n",
       "      <td>1</td>\n",
       "      <td>1</td>\n",
       "      <td>F</td>\n",
       "      <td>пенсионер</td>\n",
       "      <td>0</td>\n",
       "      <td>158616</td>\n",
       "      <td>сыграть свадьбу</td>\n",
       "      <td>C</td>\n",
       "    </tr>\n",
       "    <tr>\n",
       "      <th>5</th>\n",
       "      <td>0</td>\n",
       "      <td>926</td>\n",
       "      <td>27</td>\n",
       "      <td>0</td>\n",
       "      <td>1</td>\n",
       "      <td>M</td>\n",
       "      <td>компаньон</td>\n",
       "      <td>0</td>\n",
       "      <td>255763</td>\n",
       "      <td>покупка жилья</td>\n",
       "      <td>B</td>\n",
       "    </tr>\n",
       "    <tr>\n",
       "      <th>6</th>\n",
       "      <td>0</td>\n",
       "      <td>2879</td>\n",
       "      <td>43</td>\n",
       "      <td>0</td>\n",
       "      <td>0</td>\n",
       "      <td>F</td>\n",
       "      <td>компаньон</td>\n",
       "      <td>0</td>\n",
       "      <td>240525</td>\n",
       "      <td>операции с жильем</td>\n",
       "      <td>B</td>\n",
       "    </tr>\n",
       "    <tr>\n",
       "      <th>7</th>\n",
       "      <td>0</td>\n",
       "      <td>152</td>\n",
       "      <td>50</td>\n",
       "      <td>1</td>\n",
       "      <td>0</td>\n",
       "      <td>M</td>\n",
       "      <td>сотрудник</td>\n",
       "      <td>0</td>\n",
       "      <td>135823</td>\n",
       "      <td>образование</td>\n",
       "      <td>C</td>\n",
       "    </tr>\n",
       "    <tr>\n",
       "      <th>8</th>\n",
       "      <td>2</td>\n",
       "      <td>6929</td>\n",
       "      <td>35</td>\n",
       "      <td>0</td>\n",
       "      <td>1</td>\n",
       "      <td>F</td>\n",
       "      <td>сотрудник</td>\n",
       "      <td>0</td>\n",
       "      <td>95856</td>\n",
       "      <td>на проведение свадьбы</td>\n",
       "      <td>C</td>\n",
       "    </tr>\n",
       "    <tr>\n",
       "      <th>9</th>\n",
       "      <td>0</td>\n",
       "      <td>2188</td>\n",
       "      <td>41</td>\n",
       "      <td>1</td>\n",
       "      <td>0</td>\n",
       "      <td>M</td>\n",
       "      <td>сотрудник</td>\n",
       "      <td>0</td>\n",
       "      <td>144425</td>\n",
       "      <td>покупка жилья для семьи</td>\n",
       "      <td>C</td>\n",
       "    </tr>\n",
       "  </tbody>\n",
       "</table>\n",
       "</div>"
      ],
      "text/plain": [
       "   children  days_employed  dob_years  education_id  family_status_id gender  \\\n",
       "0         1           8437         42             0                 0      F   \n",
       "1         1           4024         36             1                 0      F   \n",
       "2         0           5623         33             1                 0      M   \n",
       "3         3           4124         32             1                 0      M   \n",
       "4         0         340266         53             1                 1      F   \n",
       "5         0            926         27             0                 1      M   \n",
       "6         0           2879         43             0                 0      F   \n",
       "7         0            152         50             1                 0      M   \n",
       "8         2           6929         35             0                 1      F   \n",
       "9         0           2188         41             1                 0      M   \n",
       "\n",
       "  income_type  debt  total_income                     purpose  \\\n",
       "0   сотрудник     0        253875               покупка жилья   \n",
       "1   сотрудник     0        112080     приобретение автомобиля   \n",
       "2   сотрудник     0        145885               покупка жилья   \n",
       "3   сотрудник     0        267628  дополнительное образование   \n",
       "4   пенсионер     0        158616             сыграть свадьбу   \n",
       "5   компаньон     0        255763               покупка жилья   \n",
       "6   компаньон     0        240525           операции с жильем   \n",
       "7   сотрудник     0        135823                 образование   \n",
       "8   сотрудник     0         95856       на проведение свадьбы   \n",
       "9   сотрудник     0        144425     покупка жилья для семьи   \n",
       "\n",
       "  total_income_category  \n",
       "0                     B  \n",
       "1                     C  \n",
       "2                     C  \n",
       "3                     B  \n",
       "4                     C  \n",
       "5                     B  \n",
       "6                     B  \n",
       "7                     C  \n",
       "8                     C  \n",
       "9                     C  "
      ]
     },
     "execution_count": 34,
     "metadata": {},
     "output_type": "execute_result"
    }
   ],
   "source": [
    "data_log['total_income_category'] = data_log['total_income'].apply(income_cat)\n",
    "data_log.head(10)"
   ]
  },
  {
   "cell_type": "markdown",
   "id": "9b701cfc",
   "metadata": {},
   "source": [
    "### Шаг 2.8. Категоризация целей кредита."
   ]
  },
  {
   "cell_type": "markdown",
   "id": "4015db7a",
   "metadata": {},
   "source": [
    "Как отмечалось выше при анализе уникальных значений столбца `purpose`, в нем много близких по смыслу значений, которые следует объединить в категории.\n",
    "Выведем их еще раз на экран и попробуем проанализировать."
   ]
  },
  {
   "cell_type": "code",
   "execution_count": 35,
   "id": "da1f897d",
   "metadata": {},
   "outputs": [
    {
     "data": {
      "text/plain": [
       "array(['покупка жилья', 'приобретение автомобиля',\n",
       "       'дополнительное образование', 'сыграть свадьбу',\n",
       "       'операции с жильем', 'образование', 'на проведение свадьбы',\n",
       "       'покупка жилья для семьи', 'покупка недвижимости',\n",
       "       'покупка коммерческой недвижимости', 'покупка жилой недвижимости',\n",
       "       'строительство собственной недвижимости', 'недвижимость',\n",
       "       'строительство недвижимости', 'на покупку подержанного автомобиля',\n",
       "       'на покупку своего автомобиля',\n",
       "       'операции с коммерческой недвижимостью',\n",
       "       'строительство жилой недвижимости', 'жилье',\n",
       "       'операции со своей недвижимостью', 'автомобили',\n",
       "       'заняться образованием', 'сделка с подержанным автомобилем',\n",
       "       'получение образования', 'автомобиль', 'свадьба',\n",
       "       'получение дополнительного образования', 'покупка своего жилья',\n",
       "       'операции с недвижимостью', 'получение высшего образования',\n",
       "       'свой автомобиль', 'сделка с автомобилем',\n",
       "       'профильное образование', 'высшее образование',\n",
       "       'покупка жилья для сдачи', 'на покупку автомобиля', 'ремонт жилью',\n",
       "       'заняться высшим образованием'], dtype=object)"
      ]
     },
     "execution_count": 35,
     "metadata": {},
     "output_type": "execute_result"
    }
   ],
   "source": [
    "data_log['purpose'].unique()"
   ]
  },
  {
   "cell_type": "markdown",
   "id": "007af45d",
   "metadata": {},
   "source": [
    "Все значения сводятся к четырем группам:\n",
    "- 'операции с автомобилем',\n",
    "- 'операции с недвижимостью',\n",
    "- 'проведение свадьбы',\n",
    "- 'получение образования'.\\\n",
    "Аналогично предыдущему пункту создадим функцию, которая будет распределять строки на входе по категориям и возвращать название категории."
   ]
  },
  {
   "cell_type": "code",
   "execution_count": 36,
   "id": "b8a950b4",
   "metadata": {},
   "outputs": [
    {
     "name": "stdout",
     "output_type": "stream",
     "text": [
      "\"покупка жилья\" относится к категории \"операции с недвижимостью\"\n",
      "\"дополнительное образование\" относится к категории \"получение образования\"\n",
      "\"сделка с подержанным автомобилем\" относится к категории \"операции с автомобилем\"\n",
      "\"покупка\" относится к категории \"категория не определена\"\n"
     ]
    }
   ],
   "source": [
    "def purpose_cat(purpose):\n",
    "    if purpose.find('автомоб') >= 0:\n",
    "        return 'операции с автомобилем'\n",
    "    if (purpose.find('недвиж') >= 0) | (purpose.find('жил') >= 0):\n",
    "        return 'операции с недвижимостью'\n",
    "    if purpose.find('свад') >= 0:\n",
    "        return 'проведение свадьбы'\n",
    "    if purpose.find('образов') >= 0:\n",
    "        return 'получение образования'\n",
    "    return 'категория не определена'  # введем эту строку для проверки, все ли мы учли\n",
    "\n",
    "#проверим работу функции\n",
    "print(f'\"покупка жилья\" относится к категории \"{purpose_cat(\"покупка жилья\")}\"')\n",
    "print(f'\"дополнительное образование\" относится к категории \"{purpose_cat(\"дополнительное образование\")}\"')\n",
    "print(f'\"сделка с подержанным автомобилем\" относится к категории \"{purpose_cat(\"сделка с подержанным автомобилем\")}\"')\n",
    "print(f'\"покупка\" относится к категории \"{purpose_cat(\"покупка\")}\"')"
   ]
  },
  {
   "cell_type": "markdown",
   "id": "8878dcea",
   "metadata": {},
   "source": [
    "Применим теперь эту функцию к столбцу `purpose`"
   ]
  },
  {
   "cell_type": "code",
   "execution_count": 37,
   "id": "135abf43",
   "metadata": {},
   "outputs": [
    {
     "data": {
      "text/plain": [
       "0"
      ]
     },
     "execution_count": 37,
     "metadata": {},
     "output_type": "execute_result"
    }
   ],
   "source": [
    "data_log['purpose_category'] = data_log['purpose'].apply(purpose_cat)\n",
    "#проверим, все ли варианты целей мы учли при категоризации\n",
    "data_log.loc[data_log['purpose_category'] == 'категория не определена']['purpose_category'].count()"
   ]
  },
  {
   "cell_type": "markdown",
   "id": "d48b03cb",
   "metadata": {},
   "source": [
    "В столбце `purpose_category` нет значений `категория не определена`. Т.о. мы все учли, можно приступать к анализу."
   ]
  },
  {
   "cell_type": "code",
   "execution_count": 38,
   "id": "dab7f85f",
   "metadata": {},
   "outputs": [
    {
     "data": {
      "text/html": [
       "<div>\n",
       "<style scoped>\n",
       "    .dataframe tbody tr th:only-of-type {\n",
       "        vertical-align: middle;\n",
       "    }\n",
       "\n",
       "    .dataframe tbody tr th {\n",
       "        vertical-align: top;\n",
       "    }\n",
       "\n",
       "    .dataframe thead th {\n",
       "        text-align: right;\n",
       "    }\n",
       "</style>\n",
       "<table border=\"1\" class=\"dataframe\">\n",
       "  <thead>\n",
       "    <tr style=\"text-align: right;\">\n",
       "      <th></th>\n",
       "      <th>children</th>\n",
       "      <th>days_employed</th>\n",
       "      <th>dob_years</th>\n",
       "      <th>education_id</th>\n",
       "      <th>family_status_id</th>\n",
       "      <th>gender</th>\n",
       "      <th>income_type</th>\n",
       "      <th>debt</th>\n",
       "      <th>total_income</th>\n",
       "      <th>purpose</th>\n",
       "      <th>total_income_category</th>\n",
       "      <th>purpose_category</th>\n",
       "    </tr>\n",
       "  </thead>\n",
       "  <tbody>\n",
       "    <tr>\n",
       "      <th>0</th>\n",
       "      <td>1</td>\n",
       "      <td>8437</td>\n",
       "      <td>42</td>\n",
       "      <td>0</td>\n",
       "      <td>0</td>\n",
       "      <td>F</td>\n",
       "      <td>сотрудник</td>\n",
       "      <td>0</td>\n",
       "      <td>253875</td>\n",
       "      <td>покупка жилья</td>\n",
       "      <td>B</td>\n",
       "      <td>операции с недвижимостью</td>\n",
       "    </tr>\n",
       "    <tr>\n",
       "      <th>1</th>\n",
       "      <td>1</td>\n",
       "      <td>4024</td>\n",
       "      <td>36</td>\n",
       "      <td>1</td>\n",
       "      <td>0</td>\n",
       "      <td>F</td>\n",
       "      <td>сотрудник</td>\n",
       "      <td>0</td>\n",
       "      <td>112080</td>\n",
       "      <td>приобретение автомобиля</td>\n",
       "      <td>C</td>\n",
       "      <td>операции с автомобилем</td>\n",
       "    </tr>\n",
       "    <tr>\n",
       "      <th>2</th>\n",
       "      <td>0</td>\n",
       "      <td>5623</td>\n",
       "      <td>33</td>\n",
       "      <td>1</td>\n",
       "      <td>0</td>\n",
       "      <td>M</td>\n",
       "      <td>сотрудник</td>\n",
       "      <td>0</td>\n",
       "      <td>145885</td>\n",
       "      <td>покупка жилья</td>\n",
       "      <td>C</td>\n",
       "      <td>операции с недвижимостью</td>\n",
       "    </tr>\n",
       "    <tr>\n",
       "      <th>3</th>\n",
       "      <td>3</td>\n",
       "      <td>4124</td>\n",
       "      <td>32</td>\n",
       "      <td>1</td>\n",
       "      <td>0</td>\n",
       "      <td>M</td>\n",
       "      <td>сотрудник</td>\n",
       "      <td>0</td>\n",
       "      <td>267628</td>\n",
       "      <td>дополнительное образование</td>\n",
       "      <td>B</td>\n",
       "      <td>получение образования</td>\n",
       "    </tr>\n",
       "    <tr>\n",
       "      <th>4</th>\n",
       "      <td>0</td>\n",
       "      <td>340266</td>\n",
       "      <td>53</td>\n",
       "      <td>1</td>\n",
       "      <td>1</td>\n",
       "      <td>F</td>\n",
       "      <td>пенсионер</td>\n",
       "      <td>0</td>\n",
       "      <td>158616</td>\n",
       "      <td>сыграть свадьбу</td>\n",
       "      <td>C</td>\n",
       "      <td>проведение свадьбы</td>\n",
       "    </tr>\n",
       "    <tr>\n",
       "      <th>5</th>\n",
       "      <td>0</td>\n",
       "      <td>926</td>\n",
       "      <td>27</td>\n",
       "      <td>0</td>\n",
       "      <td>1</td>\n",
       "      <td>M</td>\n",
       "      <td>компаньон</td>\n",
       "      <td>0</td>\n",
       "      <td>255763</td>\n",
       "      <td>покупка жилья</td>\n",
       "      <td>B</td>\n",
       "      <td>операции с недвижимостью</td>\n",
       "    </tr>\n",
       "    <tr>\n",
       "      <th>6</th>\n",
       "      <td>0</td>\n",
       "      <td>2879</td>\n",
       "      <td>43</td>\n",
       "      <td>0</td>\n",
       "      <td>0</td>\n",
       "      <td>F</td>\n",
       "      <td>компаньон</td>\n",
       "      <td>0</td>\n",
       "      <td>240525</td>\n",
       "      <td>операции с жильем</td>\n",
       "      <td>B</td>\n",
       "      <td>операции с недвижимостью</td>\n",
       "    </tr>\n",
       "    <tr>\n",
       "      <th>7</th>\n",
       "      <td>0</td>\n",
       "      <td>152</td>\n",
       "      <td>50</td>\n",
       "      <td>1</td>\n",
       "      <td>0</td>\n",
       "      <td>M</td>\n",
       "      <td>сотрудник</td>\n",
       "      <td>0</td>\n",
       "      <td>135823</td>\n",
       "      <td>образование</td>\n",
       "      <td>C</td>\n",
       "      <td>получение образования</td>\n",
       "    </tr>\n",
       "    <tr>\n",
       "      <th>8</th>\n",
       "      <td>2</td>\n",
       "      <td>6929</td>\n",
       "      <td>35</td>\n",
       "      <td>0</td>\n",
       "      <td>1</td>\n",
       "      <td>F</td>\n",
       "      <td>сотрудник</td>\n",
       "      <td>0</td>\n",
       "      <td>95856</td>\n",
       "      <td>на проведение свадьбы</td>\n",
       "      <td>C</td>\n",
       "      <td>проведение свадьбы</td>\n",
       "    </tr>\n",
       "    <tr>\n",
       "      <th>9</th>\n",
       "      <td>0</td>\n",
       "      <td>2188</td>\n",
       "      <td>41</td>\n",
       "      <td>1</td>\n",
       "      <td>0</td>\n",
       "      <td>M</td>\n",
       "      <td>сотрудник</td>\n",
       "      <td>0</td>\n",
       "      <td>144425</td>\n",
       "      <td>покупка жилья для семьи</td>\n",
       "      <td>C</td>\n",
       "      <td>операции с недвижимостью</td>\n",
       "    </tr>\n",
       "  </tbody>\n",
       "</table>\n",
       "</div>"
      ],
      "text/plain": [
       "   children  days_employed  dob_years  education_id  family_status_id gender  \\\n",
       "0         1           8437         42             0                 0      F   \n",
       "1         1           4024         36             1                 0      F   \n",
       "2         0           5623         33             1                 0      M   \n",
       "3         3           4124         32             1                 0      M   \n",
       "4         0         340266         53             1                 1      F   \n",
       "5         0            926         27             0                 1      M   \n",
       "6         0           2879         43             0                 0      F   \n",
       "7         0            152         50             1                 0      M   \n",
       "8         2           6929         35             0                 1      F   \n",
       "9         0           2188         41             1                 0      M   \n",
       "\n",
       "  income_type  debt  total_income                     purpose  \\\n",
       "0   сотрудник     0        253875               покупка жилья   \n",
       "1   сотрудник     0        112080     приобретение автомобиля   \n",
       "2   сотрудник     0        145885               покупка жилья   \n",
       "3   сотрудник     0        267628  дополнительное образование   \n",
       "4   пенсионер     0        158616             сыграть свадьбу   \n",
       "5   компаньон     0        255763               покупка жилья   \n",
       "6   компаньон     0        240525           операции с жильем   \n",
       "7   сотрудник     0        135823                 образование   \n",
       "8   сотрудник     0         95856       на проведение свадьбы   \n",
       "9   сотрудник     0        144425     покупка жилья для семьи   \n",
       "\n",
       "  total_income_category          purpose_category  \n",
       "0                     B  операции с недвижимостью  \n",
       "1                     C    операции с автомобилем  \n",
       "2                     C  операции с недвижимостью  \n",
       "3                     B     получение образования  \n",
       "4                     C        проведение свадьбы  \n",
       "5                     B  операции с недвижимостью  \n",
       "6                     B  операции с недвижимостью  \n",
       "7                     C     получение образования  \n",
       "8                     C        проведение свадьбы  \n",
       "9                     C  операции с недвижимостью  "
      ]
     },
     "execution_count": 38,
     "metadata": {},
     "output_type": "execute_result"
    }
   ],
   "source": [
    "data_log.head(10)"
   ]
  },
  {
   "cell_type": "markdown",
   "id": "1b9c7c00",
   "metadata": {},
   "source": [
    "### Вывод по шагу 2"
   ]
  },
  {
   "cell_type": "markdown",
   "id": "bc9a0c7b",
   "metadata": {},
   "source": [
    "Итак, мы подготовили данные для анализа:\n",
    "- Заполнили недостающие значения, удалили дубликаты, исправили аномальные значения, изменили типы данных.\n",
    "- Для упрощения и ускорения процесса анализа сформировали словари идентификаторов по столбцам семейное положение и уровень образования.\n",
    "- Сгруппировали доход и цели кредита по категориям.\n",
    "\n",
    "Теперь имеем данные, удобные для формирования сводных таблиц и ответов на поставленные вопросы."
   ]
  },
  {
   "cell_type": "markdown",
   "id": "c189375b",
   "metadata": {},
   "source": [
    "## Шаг 3. Ответы на вопросы"
   ]
  },
  {
   "cell_type": "markdown",
   "id": "830dae43",
   "metadata": {},
   "source": [
    "### Вопрос 1:"
   ]
  },
  {
   "cell_type": "markdown",
   "id": "04a9690a",
   "metadata": {},
   "source": [
    "Определим, есть ли зависимость между количеством детей и возвратом кредита в срок. Для этого создадим сводную таблицу, в строках которой укажем количество детей, в столбцах - показатель возврата кредита, а в ячейках посчитаем количество соответствующих случаев."
   ]
  },
  {
   "cell_type": "code",
   "execution_count": 39,
   "id": "94300ff8",
   "metadata": {},
   "outputs": [
    {
     "data": {
      "text/html": [
       "<div>\n",
       "<style scoped>\n",
       "    .dataframe tbody tr th:only-of-type {\n",
       "        vertical-align: middle;\n",
       "    }\n",
       "\n",
       "    .dataframe tbody tr th {\n",
       "        vertical-align: top;\n",
       "    }\n",
       "\n",
       "    .dataframe thead th {\n",
       "        text-align: right;\n",
       "    }\n",
       "</style>\n",
       "<table border=\"1\" class=\"dataframe\">\n",
       "  <thead>\n",
       "    <tr style=\"text-align: right;\">\n",
       "      <th>debt</th>\n",
       "      <th>0</th>\n",
       "      <th>1</th>\n",
       "    </tr>\n",
       "    <tr>\n",
       "      <th>children</th>\n",
       "      <th></th>\n",
       "      <th></th>\n",
       "    </tr>\n",
       "  </thead>\n",
       "  <tbody>\n",
       "    <tr>\n",
       "      <th>0</th>\n",
       "      <td>13027.0</td>\n",
       "      <td>1063.0</td>\n",
       "    </tr>\n",
       "    <tr>\n",
       "      <th>1</th>\n",
       "      <td>4410.0</td>\n",
       "      <td>445.0</td>\n",
       "    </tr>\n",
       "    <tr>\n",
       "      <th>2</th>\n",
       "      <td>1926.0</td>\n",
       "      <td>202.0</td>\n",
       "    </tr>\n",
       "    <tr>\n",
       "      <th>3</th>\n",
       "      <td>303.0</td>\n",
       "      <td>27.0</td>\n",
       "    </tr>\n",
       "    <tr>\n",
       "      <th>4</th>\n",
       "      <td>37.0</td>\n",
       "      <td>4.0</td>\n",
       "    </tr>\n",
       "    <tr>\n",
       "      <th>5</th>\n",
       "      <td>9.0</td>\n",
       "      <td>NaN</td>\n",
       "    </tr>\n",
       "  </tbody>\n",
       "</table>\n",
       "</div>"
      ],
      "text/plain": [
       "debt            0       1\n",
       "children                 \n",
       "0         13027.0  1063.0\n",
       "1          4410.0   445.0\n",
       "2          1926.0   202.0\n",
       "3           303.0    27.0\n",
       "4            37.0     4.0\n",
       "5             9.0     NaN"
      ]
     },
     "metadata": {},
     "output_type": "display_data"
    }
   ],
   "source": [
    "data_pivot_children = data_log.pivot_table(index='children', columns='debt', values='purpose', aggfunc='count')\n",
    "display(data_pivot_children)"
   ]
  },
  {
   "cell_type": "markdown",
   "id": "72957178",
   "metadata": {},
   "source": [
    "`0` означает отсутствие задолженности, `1` - наличие задолженности.\\\n",
    "Пока что видим, что возвращают кредит вовремя примерно в 10 раз чаще, чем имеют задолженности, при любом количестве детей. Также по данной таблице видим, что чем меньше детей, тем цифры больше. Но это говорит лишь о том, что среди заемщиков, как и в обществе в целом, чаще всего встречаются люди без детей, с ростом количества детей число соответствующих семей уменьшается.\\\n",
    "Чтобы ответить на наш вопрос, посчитаем для каждого количества детей долю возврата кредита в срок. В этом нам поможет функция для строки дата-фрейма."
   ]
  },
  {
   "cell_type": "code",
   "execution_count": 40,
   "id": "11190e91",
   "metadata": {},
   "outputs": [
    {
     "data": {
      "text/plain": [
       "0.3"
      ]
     },
     "execution_count": 40,
     "metadata": {},
     "output_type": "execute_result"
    }
   ],
   "source": [
    "def debt_proportion(row):\n",
    "    return row[0] /(row[0] + row[1])\n",
    "#проверим работу функции\n",
    "row_values = [3, 7]\n",
    "row_columns = [0, 1]\n",
    "row = pd.Series(data=row_values, index=row_columns)\n",
    "debt_proportion(row)"
   ]
  },
  {
   "cell_type": "markdown",
   "id": "ee4523e7",
   "metadata": {},
   "source": [
    "Теперь применим функцию к сводной таблице. Добавим в ней новый столбец со значением доли вовремя выплаченных кредитов `proportion_0`"
   ]
  },
  {
   "cell_type": "code",
   "execution_count": 41,
   "id": "13837064",
   "metadata": {},
   "outputs": [
    {
     "data": {
      "text/html": [
       "<div>\n",
       "<style scoped>\n",
       "    .dataframe tbody tr th:only-of-type {\n",
       "        vertical-align: middle;\n",
       "    }\n",
       "\n",
       "    .dataframe tbody tr th {\n",
       "        vertical-align: top;\n",
       "    }\n",
       "\n",
       "    .dataframe thead th {\n",
       "        text-align: right;\n",
       "    }\n",
       "</style>\n",
       "<table border=\"1\" class=\"dataframe\">\n",
       "  <thead>\n",
       "    <tr style=\"text-align: right;\">\n",
       "      <th>debt</th>\n",
       "      <th>0</th>\n",
       "      <th>1</th>\n",
       "      <th>proportion_0</th>\n",
       "    </tr>\n",
       "    <tr>\n",
       "      <th>children</th>\n",
       "      <th></th>\n",
       "      <th></th>\n",
       "      <th></th>\n",
       "    </tr>\n",
       "  </thead>\n",
       "  <tbody>\n",
       "    <tr>\n",
       "      <th>0</th>\n",
       "      <td>13027.0</td>\n",
       "      <td>1063.0</td>\n",
       "      <td>0.924556</td>\n",
       "    </tr>\n",
       "    <tr>\n",
       "      <th>1</th>\n",
       "      <td>4410.0</td>\n",
       "      <td>445.0</td>\n",
       "      <td>0.908342</td>\n",
       "    </tr>\n",
       "    <tr>\n",
       "      <th>2</th>\n",
       "      <td>1926.0</td>\n",
       "      <td>202.0</td>\n",
       "      <td>0.905075</td>\n",
       "    </tr>\n",
       "    <tr>\n",
       "      <th>3</th>\n",
       "      <td>303.0</td>\n",
       "      <td>27.0</td>\n",
       "      <td>0.918182</td>\n",
       "    </tr>\n",
       "    <tr>\n",
       "      <th>4</th>\n",
       "      <td>37.0</td>\n",
       "      <td>4.0</td>\n",
       "      <td>0.902439</td>\n",
       "    </tr>\n",
       "    <tr>\n",
       "      <th>5</th>\n",
       "      <td>9.0</td>\n",
       "      <td>NaN</td>\n",
       "      <td>NaN</td>\n",
       "    </tr>\n",
       "  </tbody>\n",
       "</table>\n",
       "</div>"
      ],
      "text/plain": [
       "debt            0       1  proportion_0\n",
       "children                               \n",
       "0         13027.0  1063.0      0.924556\n",
       "1          4410.0   445.0      0.908342\n",
       "2          1926.0   202.0      0.905075\n",
       "3           303.0    27.0      0.918182\n",
       "4            37.0     4.0      0.902439\n",
       "5             9.0     NaN           NaN"
      ]
     },
     "metadata": {},
     "output_type": "display_data"
    }
   ],
   "source": [
    "data_pivot_children['proportion_0'] = data_pivot_children.apply(debt_proportion, axis=1)\n",
    "display(data_pivot_children)"
   ]
  },
  {
   "cell_type": "code",
   "execution_count": 42,
   "id": "20dd9004",
   "metadata": {},
   "outputs": [
    {
     "data": {
      "text/html": [
       "<div>\n",
       "<style scoped>\n",
       "    .dataframe tbody tr th:only-of-type {\n",
       "        vertical-align: middle;\n",
       "    }\n",
       "\n",
       "    .dataframe tbody tr th {\n",
       "        vertical-align: top;\n",
       "    }\n",
       "\n",
       "    .dataframe thead th {\n",
       "        text-align: right;\n",
       "    }\n",
       "</style>\n",
       "<table border=\"1\" class=\"dataframe\">\n",
       "  <thead>\n",
       "    <tr style=\"text-align: right;\">\n",
       "      <th></th>\n",
       "      <th>debt</th>\n",
       "    </tr>\n",
       "    <tr>\n",
       "      <th>children</th>\n",
       "      <th></th>\n",
       "    </tr>\n",
       "  </thead>\n",
       "  <tbody>\n",
       "    <tr>\n",
       "      <th>0</th>\n",
       "      <td>0.075444</td>\n",
       "    </tr>\n",
       "    <tr>\n",
       "      <th>1</th>\n",
       "      <td>0.091658</td>\n",
       "    </tr>\n",
       "    <tr>\n",
       "      <th>2</th>\n",
       "      <td>0.094925</td>\n",
       "    </tr>\n",
       "    <tr>\n",
       "      <th>3</th>\n",
       "      <td>0.081818</td>\n",
       "    </tr>\n",
       "    <tr>\n",
       "      <th>4</th>\n",
       "      <td>0.097561</td>\n",
       "    </tr>\n",
       "    <tr>\n",
       "      <th>5</th>\n",
       "      <td>0.000000</td>\n",
       "    </tr>\n",
       "  </tbody>\n",
       "</table>\n",
       "</div>"
      ],
      "text/plain": [
       "              debt\n",
       "children          \n",
       "0         0.075444\n",
       "1         0.091658\n",
       "2         0.094925\n",
       "3         0.081818\n",
       "4         0.097561\n",
       "5         0.000000"
      ]
     },
     "execution_count": 42,
     "metadata": {},
     "output_type": "execute_result"
    }
   ],
   "source": [
    "data_log.pivot_table(index='children', values='debt')"
   ]
  },
  {
   "cell_type": "markdown",
   "id": "7eb45858",
   "metadata": {},
   "source": [
    "#### Вывод 1:"
   ]
  },
  {
   "cell_type": "markdown",
   "id": "234e324e",
   "metadata": {},
   "source": [
    "По полученным данным можно сделать вывод о том, что чаще всего (но незначительно) вовремя возвращают кредит заемщики без детей, на втором месте заемщики в тремя детьми, потом все остальные. С пятью детьми вообще все взятые кредиты были возвращены вовремя, но выборка в данном случае слишком мала (9 случаев), чтобы утверждать однозначно.\\\n",
    "Разница в долях незначительна, я бы считала, что зависимости между возвратом кредита в срок и количеством детей практически нет."
   ]
  },
  {
   "cell_type": "markdown",
   "id": "b66fd828",
   "metadata": {},
   "source": [
    "### Вопрос 2:"
   ]
  },
  {
   "cell_type": "markdown",
   "id": "7ed95512",
   "metadata": {},
   "source": [
    "Аналогичным образом определим, есть ли зависимость между семейным положением и возвратом кредита в срок. Создадим сводную таблицу, в строках которой укажем различные варианты семейного положения, в столбцах - показатель возврата кредита, а в ячейках посчитаем количество соответствующих случаев."
   ]
  },
  {
   "cell_type": "code",
   "execution_count": 43,
   "id": "e5f264fb",
   "metadata": {},
   "outputs": [
    {
     "data": {
      "text/html": [
       "<div>\n",
       "<style scoped>\n",
       "    .dataframe tbody tr th:only-of-type {\n",
       "        vertical-align: middle;\n",
       "    }\n",
       "\n",
       "    .dataframe tbody tr th {\n",
       "        vertical-align: top;\n",
       "    }\n",
       "\n",
       "    .dataframe thead th {\n",
       "        text-align: right;\n",
       "    }\n",
       "</style>\n",
       "<table border=\"1\" class=\"dataframe\">\n",
       "  <thead>\n",
       "    <tr style=\"text-align: right;\">\n",
       "      <th>debt</th>\n",
       "      <th>0</th>\n",
       "      <th>1</th>\n",
       "    </tr>\n",
       "    <tr>\n",
       "      <th>family_status_id</th>\n",
       "      <th></th>\n",
       "      <th></th>\n",
       "    </tr>\n",
       "  </thead>\n",
       "  <tbody>\n",
       "    <tr>\n",
       "      <th>0</th>\n",
       "      <td>11408</td>\n",
       "      <td>931</td>\n",
       "    </tr>\n",
       "    <tr>\n",
       "      <th>1</th>\n",
       "      <td>3762</td>\n",
       "      <td>388</td>\n",
       "    </tr>\n",
       "    <tr>\n",
       "      <th>2</th>\n",
       "      <td>896</td>\n",
       "      <td>63</td>\n",
       "    </tr>\n",
       "    <tr>\n",
       "      <th>3</th>\n",
       "      <td>1110</td>\n",
       "      <td>85</td>\n",
       "    </tr>\n",
       "    <tr>\n",
       "      <th>4</th>\n",
       "      <td>2536</td>\n",
       "      <td>274</td>\n",
       "    </tr>\n",
       "  </tbody>\n",
       "</table>\n",
       "</div>"
      ],
      "text/plain": [
       "debt                  0    1\n",
       "family_status_id            \n",
       "0                 11408  931\n",
       "1                  3762  388\n",
       "2                   896   63\n",
       "3                  1110   85\n",
       "4                  2536  274"
      ]
     },
     "metadata": {},
     "output_type": "display_data"
    }
   ],
   "source": [
    "data_pivot_family = data_log.pivot_table(index='family_status_id', columns='debt', values='purpose', aggfunc='count')\n",
    "display(data_pivot_family)"
   ]
  },
  {
   "cell_type": "markdown",
   "id": "f9fb771f",
   "metadata": {},
   "source": [
    "Воспользуемся написанной ранее функцией `debt_proportion`"
   ]
  },
  {
   "cell_type": "code",
   "execution_count": 44,
   "id": "a96e4876",
   "metadata": {
    "scrolled": false
   },
   "outputs": [
    {
     "data": {
      "text/html": [
       "<div>\n",
       "<style scoped>\n",
       "    .dataframe tbody tr th:only-of-type {\n",
       "        vertical-align: middle;\n",
       "    }\n",
       "\n",
       "    .dataframe tbody tr th {\n",
       "        vertical-align: top;\n",
       "    }\n",
       "\n",
       "    .dataframe thead th {\n",
       "        text-align: right;\n",
       "    }\n",
       "</style>\n",
       "<table border=\"1\" class=\"dataframe\">\n",
       "  <thead>\n",
       "    <tr style=\"text-align: right;\">\n",
       "      <th>debt</th>\n",
       "      <th>0</th>\n",
       "      <th>1</th>\n",
       "      <th>proportion_0</th>\n",
       "    </tr>\n",
       "    <tr>\n",
       "      <th>family_status_id</th>\n",
       "      <th></th>\n",
       "      <th></th>\n",
       "      <th></th>\n",
       "    </tr>\n",
       "  </thead>\n",
       "  <tbody>\n",
       "    <tr>\n",
       "      <th>0</th>\n",
       "      <td>11408</td>\n",
       "      <td>931</td>\n",
       "      <td>0.924548</td>\n",
       "    </tr>\n",
       "    <tr>\n",
       "      <th>1</th>\n",
       "      <td>3762</td>\n",
       "      <td>388</td>\n",
       "      <td>0.906506</td>\n",
       "    </tr>\n",
       "    <tr>\n",
       "      <th>2</th>\n",
       "      <td>896</td>\n",
       "      <td>63</td>\n",
       "      <td>0.934307</td>\n",
       "    </tr>\n",
       "    <tr>\n",
       "      <th>3</th>\n",
       "      <td>1110</td>\n",
       "      <td>85</td>\n",
       "      <td>0.928870</td>\n",
       "    </tr>\n",
       "    <tr>\n",
       "      <th>4</th>\n",
       "      <td>2536</td>\n",
       "      <td>274</td>\n",
       "      <td>0.902491</td>\n",
       "    </tr>\n",
       "  </tbody>\n",
       "</table>\n",
       "</div>"
      ],
      "text/plain": [
       "debt                  0    1  proportion_0\n",
       "family_status_id                          \n",
       "0                 11408  931      0.924548\n",
       "1                  3762  388      0.906506\n",
       "2                   896   63      0.934307\n",
       "3                  1110   85      0.928870\n",
       "4                  2536  274      0.902491"
      ]
     },
     "metadata": {},
     "output_type": "display_data"
    }
   ],
   "source": [
    "data_pivot_family['proportion_0'] = data_pivot_family.apply(debt_proportion, axis=1)\n",
    "display(data_pivot_family)"
   ]
  },
  {
   "cell_type": "markdown",
   "id": "716de5e0",
   "metadata": {},
   "source": [
    "По данной таблице сложно что-либо сказать, поскольку в ней присутствуют только идентификаторы семейного положения. Добавим в сюда расшифровки из словаря. И отсортируем сводную таблицу по столбцу `proportion_0` по убыванию."
   ]
  },
  {
   "cell_type": "code",
   "execution_count": 45,
   "id": "0c933a1f",
   "metadata": {},
   "outputs": [
    {
     "data": {
      "text/html": [
       "<div>\n",
       "<style scoped>\n",
       "    .dataframe tbody tr th:only-of-type {\n",
       "        vertical-align: middle;\n",
       "    }\n",
       "\n",
       "    .dataframe tbody tr th {\n",
       "        vertical-align: top;\n",
       "    }\n",
       "\n",
       "    .dataframe thead th {\n",
       "        text-align: right;\n",
       "    }\n",
       "</style>\n",
       "<table border=\"1\" class=\"dataframe\">\n",
       "  <thead>\n",
       "    <tr style=\"text-align: right;\">\n",
       "      <th></th>\n",
       "      <th>family_status_id</th>\n",
       "      <th>0</th>\n",
       "      <th>1</th>\n",
       "      <th>proportion_0</th>\n",
       "      <th>family_status</th>\n",
       "    </tr>\n",
       "  </thead>\n",
       "  <tbody>\n",
       "    <tr>\n",
       "      <th>2</th>\n",
       "      <td>2</td>\n",
       "      <td>896</td>\n",
       "      <td>63</td>\n",
       "      <td>0.934307</td>\n",
       "      <td>вдовец / вдова</td>\n",
       "    </tr>\n",
       "    <tr>\n",
       "      <th>3</th>\n",
       "      <td>3</td>\n",
       "      <td>1110</td>\n",
       "      <td>85</td>\n",
       "      <td>0.928870</td>\n",
       "      <td>в разводе</td>\n",
       "    </tr>\n",
       "    <tr>\n",
       "      <th>0</th>\n",
       "      <td>0</td>\n",
       "      <td>11408</td>\n",
       "      <td>931</td>\n",
       "      <td>0.924548</td>\n",
       "      <td>женат / замужем</td>\n",
       "    </tr>\n",
       "    <tr>\n",
       "      <th>1</th>\n",
       "      <td>1</td>\n",
       "      <td>3762</td>\n",
       "      <td>388</td>\n",
       "      <td>0.906506</td>\n",
       "      <td>гражданский брак</td>\n",
       "    </tr>\n",
       "    <tr>\n",
       "      <th>4</th>\n",
       "      <td>4</td>\n",
       "      <td>2536</td>\n",
       "      <td>274</td>\n",
       "      <td>0.902491</td>\n",
       "      <td>Не женат / не замужем</td>\n",
       "    </tr>\n",
       "  </tbody>\n",
       "</table>\n",
       "</div>"
      ],
      "text/plain": [
       "   family_status_id      0    1  proportion_0          family_status\n",
       "2                 2    896   63      0.934307         вдовец / вдова\n",
       "3                 3   1110   85      0.928870              в разводе\n",
       "0                 0  11408  931      0.924548        женат / замужем\n",
       "1                 1   3762  388      0.906506       гражданский брак\n",
       "4                 4   2536  274      0.902491  Не женат / не замужем"
      ]
     },
     "execution_count": 45,
     "metadata": {},
     "output_type": "execute_result"
    }
   ],
   "source": [
    "data_pivot_family = data_pivot_family.merge(family_dict, on='family_status_id', how='left')\n",
    "data_pivot_family.sort_values('proportion_0', ascending=False)"
   ]
  },
  {
   "cell_type": "markdown",
   "id": "4be4f860",
   "metadata": {},
   "source": [
    "#### Вывод 2:"
   ]
  },
  {
   "cell_type": "markdown",
   "id": "236aa45a",
   "metadata": {},
   "source": [
    "По полученной таблице легко можно сделать вывод о том, что лучше всех кредиты возвращают вдовцы/вдовы, хуже всех - не женатые/не замужние люди."
   ]
  },
  {
   "cell_type": "markdown",
   "id": "2fb06a3e",
   "metadata": {},
   "source": [
    "### Вопрос 3:"
   ]
  },
  {
   "cell_type": "markdown",
   "id": "375742c4",
   "metadata": {},
   "source": [
    "Определим, есть ли зависимость между уровнем дохода и возвратом кредита в срок. Аналогично предыдущим пунктам создадим сводную таблицу и сразу применим к ней функцию подсчета доли вовремя возвращенных кредитов."
   ]
  },
  {
   "cell_type": "code",
   "execution_count": 46,
   "id": "01b23923",
   "metadata": {
    "scrolled": true
   },
   "outputs": [
    {
     "data": {
      "text/html": [
       "<div>\n",
       "<style scoped>\n",
       "    .dataframe tbody tr th:only-of-type {\n",
       "        vertical-align: middle;\n",
       "    }\n",
       "\n",
       "    .dataframe tbody tr th {\n",
       "        vertical-align: top;\n",
       "    }\n",
       "\n",
       "    .dataframe thead th {\n",
       "        text-align: right;\n",
       "    }\n",
       "</style>\n",
       "<table border=\"1\" class=\"dataframe\">\n",
       "  <thead>\n",
       "    <tr style=\"text-align: right;\">\n",
       "      <th>debt</th>\n",
       "      <th>0</th>\n",
       "      <th>1</th>\n",
       "      <th>proportion_0</th>\n",
       "    </tr>\n",
       "    <tr>\n",
       "      <th>total_income_category</th>\n",
       "      <th></th>\n",
       "      <th></th>\n",
       "      <th></th>\n",
       "    </tr>\n",
       "  </thead>\n",
       "  <tbody>\n",
       "    <tr>\n",
       "      <th>A</th>\n",
       "      <td>23</td>\n",
       "      <td>2</td>\n",
       "      <td>0.920000</td>\n",
       "    </tr>\n",
       "    <tr>\n",
       "      <th>B</th>\n",
       "      <td>4686</td>\n",
       "      <td>356</td>\n",
       "      <td>0.929393</td>\n",
       "    </tr>\n",
       "    <tr>\n",
       "      <th>C</th>\n",
       "      <td>14654</td>\n",
       "      <td>1360</td>\n",
       "      <td>0.915074</td>\n",
       "    </tr>\n",
       "    <tr>\n",
       "      <th>D</th>\n",
       "      <td>329</td>\n",
       "      <td>21</td>\n",
       "      <td>0.940000</td>\n",
       "    </tr>\n",
       "    <tr>\n",
       "      <th>E</th>\n",
       "      <td>20</td>\n",
       "      <td>2</td>\n",
       "      <td>0.909091</td>\n",
       "    </tr>\n",
       "  </tbody>\n",
       "</table>\n",
       "</div>"
      ],
      "text/plain": [
       "debt                       0     1  proportion_0\n",
       "total_income_category                           \n",
       "A                         23     2      0.920000\n",
       "B                       4686   356      0.929393\n",
       "C                      14654  1360      0.915074\n",
       "D                        329    21      0.940000\n",
       "E                         20     2      0.909091"
      ]
     },
     "execution_count": 46,
     "metadata": {},
     "output_type": "execute_result"
    }
   ],
   "source": [
    "data_pivot_income = data_log.pivot_table(index='total_income_category', columns='debt', values='purpose', aggfunc='count')\n",
    "data_pivot_income['proportion_0'] = data_pivot_income.apply(debt_proportion, axis=1)\n",
    "data_pivot_income"
   ]
  },
  {
   "cell_type": "markdown",
   "id": "9b4e6ae2",
   "metadata": {},
   "source": [
    "Пока по этой таблице можно лишь заметить, что количество кредитов в зависимости от дохода имеет близкое к нормальному распределение, т.е. люди со средним доходом чаще всего берут кредиты.\\\n",
    "Напомним, как распределялись категории дохода:\\\n",
    "0–30000 — 'E';\\\n",
    "30001–50000 — 'D';\\\n",
    "50001–200000 — 'C';\\\n",
    "200001–1000000 — 'B';\\\n",
    "1000001 и выше — 'A'.\\\n",
    "Создадим для этих категорий словарь, чтобы потом соединить его со сводной таблицей."
   ]
  },
  {
   "cell_type": "code",
   "execution_count": 47,
   "id": "29fb0815",
   "metadata": {},
   "outputs": [
    {
     "data": {
      "text/html": [
       "<div>\n",
       "<style scoped>\n",
       "    .dataframe tbody tr th:only-of-type {\n",
       "        vertical-align: middle;\n",
       "    }\n",
       "\n",
       "    .dataframe tbody tr th {\n",
       "        vertical-align: top;\n",
       "    }\n",
       "\n",
       "    .dataframe thead th {\n",
       "        text-align: right;\n",
       "    }\n",
       "</style>\n",
       "<table border=\"1\" class=\"dataframe\">\n",
       "  <thead>\n",
       "    <tr style=\"text-align: right;\">\n",
       "      <th></th>\n",
       "      <th>total_income_category</th>\n",
       "      <th>total_income</th>\n",
       "    </tr>\n",
       "  </thead>\n",
       "  <tbody>\n",
       "    <tr>\n",
       "      <th>0</th>\n",
       "      <td>A</td>\n",
       "      <td>1000001 и выше</td>\n",
       "    </tr>\n",
       "    <tr>\n",
       "      <th>1</th>\n",
       "      <td>B</td>\n",
       "      <td>200001–1000000</td>\n",
       "    </tr>\n",
       "    <tr>\n",
       "      <th>2</th>\n",
       "      <td>C</td>\n",
       "      <td>50001–200000</td>\n",
       "    </tr>\n",
       "    <tr>\n",
       "      <th>3</th>\n",
       "      <td>D</td>\n",
       "      <td>30001–50000</td>\n",
       "    </tr>\n",
       "    <tr>\n",
       "      <th>4</th>\n",
       "      <td>E</td>\n",
       "      <td>0–30000</td>\n",
       "    </tr>\n",
       "  </tbody>\n",
       "</table>\n",
       "</div>"
      ],
      "text/plain": [
       "  total_income_category    total_income\n",
       "0                     A  1000001 и выше\n",
       "1                     B  200001–1000000\n",
       "2                     C    50001–200000\n",
       "3                     D     30001–50000\n",
       "4                     E         0–30000"
      ]
     },
     "execution_count": 47,
     "metadata": {},
     "output_type": "execute_result"
    }
   ],
   "source": [
    "cat = [['A', '1000001 и выше'],\n",
    "       ['B', '200001–1000000'],\n",
    "       ['C', '50001–200000'],\n",
    "       ['D', '30001–50000'],\n",
    "       ['E', '0–30000']]\n",
    "columns = ['total_income_category', 'total_income']\n",
    "category = pd.DataFrame(data=cat, columns=columns)\n",
    "category"
   ]
  },
  {
   "cell_type": "markdown",
   "id": "6e9b7e21",
   "metadata": {},
   "source": [
    "Объединим словарь со сводной таблицей и отсортируем по столбцу `proportion_0`"
   ]
  },
  {
   "cell_type": "code",
   "execution_count": 48,
   "id": "02684b71",
   "metadata": {
    "scrolled": false
   },
   "outputs": [
    {
     "data": {
      "text/html": [
       "<div>\n",
       "<style scoped>\n",
       "    .dataframe tbody tr th:only-of-type {\n",
       "        vertical-align: middle;\n",
       "    }\n",
       "\n",
       "    .dataframe tbody tr th {\n",
       "        vertical-align: top;\n",
       "    }\n",
       "\n",
       "    .dataframe thead th {\n",
       "        text-align: right;\n",
       "    }\n",
       "</style>\n",
       "<table border=\"1\" class=\"dataframe\">\n",
       "  <thead>\n",
       "    <tr style=\"text-align: right;\">\n",
       "      <th></th>\n",
       "      <th>total_income_category</th>\n",
       "      <th>0</th>\n",
       "      <th>1</th>\n",
       "      <th>proportion_0</th>\n",
       "      <th>total_income</th>\n",
       "    </tr>\n",
       "  </thead>\n",
       "  <tbody>\n",
       "    <tr>\n",
       "      <th>3</th>\n",
       "      <td>D</td>\n",
       "      <td>329</td>\n",
       "      <td>21</td>\n",
       "      <td>0.940000</td>\n",
       "      <td>30001–50000</td>\n",
       "    </tr>\n",
       "    <tr>\n",
       "      <th>1</th>\n",
       "      <td>B</td>\n",
       "      <td>4686</td>\n",
       "      <td>356</td>\n",
       "      <td>0.929393</td>\n",
       "      <td>200001–1000000</td>\n",
       "    </tr>\n",
       "    <tr>\n",
       "      <th>0</th>\n",
       "      <td>A</td>\n",
       "      <td>23</td>\n",
       "      <td>2</td>\n",
       "      <td>0.920000</td>\n",
       "      <td>1000001 и выше</td>\n",
       "    </tr>\n",
       "    <tr>\n",
       "      <th>2</th>\n",
       "      <td>C</td>\n",
       "      <td>14654</td>\n",
       "      <td>1360</td>\n",
       "      <td>0.915074</td>\n",
       "      <td>50001–200000</td>\n",
       "    </tr>\n",
       "    <tr>\n",
       "      <th>4</th>\n",
       "      <td>E</td>\n",
       "      <td>20</td>\n",
       "      <td>2</td>\n",
       "      <td>0.909091</td>\n",
       "      <td>0–30000</td>\n",
       "    </tr>\n",
       "  </tbody>\n",
       "</table>\n",
       "</div>"
      ],
      "text/plain": [
       "  total_income_category      0     1  proportion_0    total_income\n",
       "3                     D    329    21      0.940000     30001–50000\n",
       "1                     B   4686   356      0.929393  200001–1000000\n",
       "0                     A     23     2      0.920000  1000001 и выше\n",
       "2                     C  14654  1360      0.915074    50001–200000\n",
       "4                     E     20     2      0.909091         0–30000"
      ]
     },
     "execution_count": 48,
     "metadata": {},
     "output_type": "execute_result"
    }
   ],
   "source": [
    "data_pivot_income = data_pivot_income.merge(category, on='total_income_category', how='left')\n",
    "data_pivot_income.sort_values('proportion_0', ascending=False)"
   ]
  },
  {
   "cell_type": "markdown",
   "id": "bfb0959d",
   "metadata": {},
   "source": [
    "#### Вывод 3:"
   ]
  },
  {
   "cell_type": "markdown",
   "id": "11bd5fa9",
   "metadata": {},
   "source": [
    "По полученным данным сложно сделать однозначный вывод, полученная зависимость нелинейная. Хуже всего возвращают кредиты заемщики с самым маленьким доходом, но выборка по ним самая маленькая и потому не показательна. Наилучший результат тоже в достаточно маленькой выборке. Наиболее показательны цифры для людей со средним доходом, а они практически одинаковые."
   ]
  },
  {
   "cell_type": "markdown",
   "id": "d7b27694",
   "metadata": {},
   "source": [
    "### Вопрос 4:"
   ]
  },
  {
   "cell_type": "markdown",
   "id": "8ba87fc5",
   "metadata": {},
   "source": [
    "Определим, как разные цели кредита влияют на его возврат в срок. Воспользуемся уже знакомыми методами, аналогичными предыдущим пунктам."
   ]
  },
  {
   "cell_type": "code",
   "execution_count": 49,
   "id": "37afafbe",
   "metadata": {},
   "outputs": [
    {
     "data": {
      "text/html": [
       "<div>\n",
       "<style scoped>\n",
       "    .dataframe tbody tr th:only-of-type {\n",
       "        vertical-align: middle;\n",
       "    }\n",
       "\n",
       "    .dataframe tbody tr th {\n",
       "        vertical-align: top;\n",
       "    }\n",
       "\n",
       "    .dataframe thead th {\n",
       "        text-align: right;\n",
       "    }\n",
       "</style>\n",
       "<table border=\"1\" class=\"dataframe\">\n",
       "  <thead>\n",
       "    <tr style=\"text-align: right;\">\n",
       "      <th>debt</th>\n",
       "      <th>0</th>\n",
       "      <th>1</th>\n",
       "      <th>proportion_0</th>\n",
       "    </tr>\n",
       "    <tr>\n",
       "      <th>purpose_category</th>\n",
       "      <th></th>\n",
       "      <th></th>\n",
       "      <th></th>\n",
       "    </tr>\n",
       "  </thead>\n",
       "  <tbody>\n",
       "    <tr>\n",
       "      <th>операции с недвижимостью</th>\n",
       "      <td>10029</td>\n",
       "      <td>782</td>\n",
       "      <td>0.927666</td>\n",
       "    </tr>\n",
       "    <tr>\n",
       "      <th>проведение свадьбы</th>\n",
       "      <td>2137</td>\n",
       "      <td>186</td>\n",
       "      <td>0.919931</td>\n",
       "    </tr>\n",
       "    <tr>\n",
       "      <th>получение образования</th>\n",
       "      <td>3643</td>\n",
       "      <td>370</td>\n",
       "      <td>0.907800</td>\n",
       "    </tr>\n",
       "    <tr>\n",
       "      <th>операции с автомобилем</th>\n",
       "      <td>3903</td>\n",
       "      <td>403</td>\n",
       "      <td>0.906410</td>\n",
       "    </tr>\n",
       "  </tbody>\n",
       "</table>\n",
       "</div>"
      ],
      "text/plain": [
       "debt                          0    1  proportion_0\n",
       "purpose_category                                  \n",
       "операции с недвижимостью  10029  782      0.927666\n",
       "проведение свадьбы         2137  186      0.919931\n",
       "получение образования      3643  370      0.907800\n",
       "операции с автомобилем     3903  403      0.906410"
      ]
     },
     "execution_count": 49,
     "metadata": {},
     "output_type": "execute_result"
    }
   ],
   "source": [
    "data_pivot_purpose = data_log.pivot_table(index='purpose_category', columns='debt', values='purpose', aggfunc='count')\n",
    "data_pivot_purpose['proportion_0'] = data_pivot_purpose.apply(debt_proportion, axis=1)\n",
    "data_pivot_purpose.sort_values('proportion_0', ascending=False)"
   ]
  },
  {
   "cell_type": "markdown",
   "id": "6222a9f3",
   "metadata": {},
   "source": [
    "#### Вывод 4:"
   ]
  },
  {
   "cell_type": "markdown",
   "id": "607ec3c5",
   "metadata": {},
   "source": [
    "Чаще всего берут кредит и лучше всего возвращают на операции с недвижимостью. Хуже всего возвращают кредиты на получение образования и операции с автомобилем (практически одинаковый процент возврата)."
   ]
  },
  {
   "cell_type": "markdown",
   "id": "7a8ba336",
   "metadata": {},
   "source": [
    "## Общий вывод:"
   ]
  },
  {
   "cell_type": "markdown",
   "id": "764ee4f5",
   "metadata": {},
   "source": [
    "В ходе проекта мы провели большую часть работы по предобработке данных: заполнили пропущенные значения, удалили дубликаты, заменили аномальные значения, вынесли некоторые признаки в отдельные словари, заменив их при анализе идентификаторами, чтобы сократить требуемые для анализа ресурсы, создали категории, удобные для анализа.\\\n",
    "В целом по итогам анализа можно признать, что на своевременный возврат кредита не влияет ни количество детей, ни семейное положение, ни уровень дохода, ни цель кредита. Во всех случаях результаты различаются в пределах 4% (от 90% до 94%) и находятся в пределах статистической погрешности. Я думаю, при увеличении выборки результаты станут еще более близки друг к другу, в среднем 92%."
   ]
  },
  {
   "cell_type": "code",
   "execution_count": null,
   "id": "23436a1c",
   "metadata": {},
   "outputs": [],
   "source": []
  }
 ],
 "metadata": {
  "ExecuteTimeLog": [
   {
    "duration": 662,
    "start_time": "2022-02-26T17:35:32.888Z"
   },
   {
    "duration": 268,
    "start_time": "2022-02-27T12:16:05.561Z"
   },
   {
    "duration": 718,
    "start_time": "2022-02-27T12:16:13.300Z"
   },
   {
    "duration": 16,
    "start_time": "2022-02-27T12:16:17.694Z"
   },
   {
    "duration": 14,
    "start_time": "2022-02-27T13:38:37.357Z"
   },
   {
    "duration": 7,
    "start_time": "2022-02-27T13:38:47.326Z"
   },
   {
    "duration": 6,
    "start_time": "2022-02-27T13:38:52.874Z"
   },
   {
    "duration": 6,
    "start_time": "2022-02-27T13:39:15.689Z"
   },
   {
    "duration": 13,
    "start_time": "2022-02-27T13:39:30.826Z"
   },
   {
    "duration": 14,
    "start_time": "2022-02-27T13:40:14.920Z"
   },
   {
    "duration": 16,
    "start_time": "2022-02-27T13:45:11.588Z"
   },
   {
    "duration": 18,
    "start_time": "2022-02-27T13:50:17.420Z"
   },
   {
    "duration": 12,
    "start_time": "2022-02-27T13:51:56.884Z"
   },
   {
    "duration": 231,
    "start_time": "2022-02-27T13:52:09.578Z"
   },
   {
    "duration": 220,
    "start_time": "2022-02-27T13:52:19.705Z"
   },
   {
    "duration": 12,
    "start_time": "2022-02-27T13:52:27.678Z"
   },
   {
    "duration": 22,
    "start_time": "2022-02-27T14:01:57.499Z"
   },
   {
    "duration": 75,
    "start_time": "2022-02-27T14:08:10.094Z"
   },
   {
    "duration": 62,
    "start_time": "2022-02-27T14:10:46.253Z"
   },
   {
    "duration": 11,
    "start_time": "2022-02-27T14:11:20.912Z"
   },
   {
    "duration": 11,
    "start_time": "2022-02-27T14:11:37.038Z"
   },
   {
    "duration": 11,
    "start_time": "2022-02-27T14:11:59.692Z"
   },
   {
    "duration": 35,
    "start_time": "2022-02-27T14:12:53.229Z"
   },
   {
    "duration": 16,
    "start_time": "2022-02-27T14:13:41.708Z"
   },
   {
    "duration": 9,
    "start_time": "2022-02-27T14:55:38.627Z"
   },
   {
    "duration": 9,
    "start_time": "2022-02-27T14:56:00.253Z"
   },
   {
    "duration": 302,
    "start_time": "2022-02-27T19:04:01.548Z"
   },
   {
    "duration": 870,
    "start_time": "2022-02-27T19:04:33.071Z"
   },
   {
    "duration": 29,
    "start_time": "2022-02-27T19:04:33.944Z"
   },
   {
    "duration": 10,
    "start_time": "2022-02-27T19:04:33.976Z"
   },
   {
    "duration": 14,
    "start_time": "2022-02-27T19:04:33.989Z"
   },
   {
    "duration": 26,
    "start_time": "2022-02-27T19:04:34.005Z"
   },
   {
    "duration": 5,
    "start_time": "2022-02-27T19:04:34.033Z"
   },
   {
    "duration": 24,
    "start_time": "2022-02-27T19:05:01.610Z"
   },
   {
    "duration": 9,
    "start_time": "2022-02-27T19:06:14.414Z"
   },
   {
    "duration": 11,
    "start_time": "2022-02-27T19:07:15.990Z"
   },
   {
    "duration": 7,
    "start_time": "2022-02-27T19:07:33.482Z"
   },
   {
    "duration": 552,
    "start_time": "2022-02-27T19:07:51.844Z"
   },
   {
    "duration": 216,
    "start_time": "2022-02-27T19:08:11.384Z"
   },
   {
    "duration": 12,
    "start_time": "2022-02-27T19:10:52.232Z"
   },
   {
    "duration": 6,
    "start_time": "2022-02-27T19:11:12.314Z"
   },
   {
    "duration": 5,
    "start_time": "2022-02-27T19:11:19.295Z"
   },
   {
    "duration": 2081,
    "start_time": "2022-02-27T19:14:01.315Z"
   },
   {
    "duration": 401,
    "start_time": "2022-02-27T19:18:25.585Z"
   },
   {
    "duration": 6,
    "start_time": "2022-02-27T19:19:56.082Z"
   },
   {
    "duration": 10,
    "start_time": "2022-02-27T19:22:06.935Z"
   },
   {
    "duration": 76,
    "start_time": "2022-02-27T19:23:13.392Z"
   },
   {
    "duration": 10,
    "start_time": "2022-02-27T19:23:42.755Z"
   },
   {
    "duration": 9,
    "start_time": "2022-02-27T19:25:28.454Z"
   },
   {
    "duration": 261,
    "start_time": "2022-02-27T19:28:33.476Z"
   },
   {
    "duration": 11,
    "start_time": "2022-02-27T19:30:54.978Z"
   },
   {
    "duration": 23,
    "start_time": "2022-02-27T19:31:08.107Z"
   },
   {
    "duration": 19,
    "start_time": "2022-02-27T19:31:49.021Z"
   },
   {
    "duration": 912,
    "start_time": "2022-02-27T19:32:32.734Z"
   },
   {
    "duration": 31,
    "start_time": "2022-02-27T19:32:33.650Z"
   },
   {
    "duration": 11,
    "start_time": "2022-02-27T19:32:33.685Z"
   },
   {
    "duration": 9,
    "start_time": "2022-02-27T19:32:33.699Z"
   },
   {
    "duration": 9,
    "start_time": "2022-02-27T19:32:33.711Z"
   },
   {
    "duration": 125,
    "start_time": "2022-02-27T19:32:33.723Z"
   },
   {
    "duration": 37,
    "start_time": "2022-02-27T19:32:33.851Z"
   },
   {
    "duration": 4,
    "start_time": "2022-02-27T19:32:33.891Z"
   },
   {
    "duration": 811,
    "start_time": "2022-02-27T19:33:00.415Z"
   },
   {
    "duration": 15,
    "start_time": "2022-02-27T19:33:01.229Z"
   },
   {
    "duration": 28,
    "start_time": "2022-02-27T19:33:01.252Z"
   },
   {
    "duration": 21,
    "start_time": "2022-02-27T19:33:01.283Z"
   },
   {
    "duration": 13,
    "start_time": "2022-02-27T19:33:01.306Z"
   },
   {
    "duration": 39,
    "start_time": "2022-02-27T19:33:01.323Z"
   },
   {
    "duration": 3,
    "start_time": "2022-02-27T19:33:01.375Z"
   },
   {
    "duration": 171,
    "start_time": "2022-02-27T19:34:52.439Z"
   },
   {
    "duration": 12,
    "start_time": "2022-02-27T19:36:55.480Z"
   },
   {
    "duration": 11,
    "start_time": "2022-02-27T19:37:50.981Z"
   },
   {
    "duration": 13,
    "start_time": "2022-02-27T19:38:26.095Z"
   },
   {
    "duration": 11,
    "start_time": "2022-02-27T19:38:32.667Z"
   },
   {
    "duration": 14,
    "start_time": "2022-02-27T19:38:38.603Z"
   },
   {
    "duration": 12,
    "start_time": "2022-02-27T19:38:48.239Z"
   },
   {
    "duration": 12,
    "start_time": "2022-02-27T19:39:05.002Z"
   },
   {
    "duration": 12,
    "start_time": "2022-02-27T19:41:32.889Z"
   },
   {
    "duration": 10,
    "start_time": "2022-02-27T19:42:03.125Z"
   },
   {
    "duration": 18,
    "start_time": "2022-02-27T19:51:20.084Z"
   },
   {
    "duration": 21,
    "start_time": "2022-02-27T19:52:05.304Z"
   },
   {
    "duration": 17,
    "start_time": "2022-02-27T19:52:24.861Z"
   },
   {
    "duration": 8,
    "start_time": "2022-02-27T20:00:18.496Z"
   },
   {
    "duration": 829,
    "start_time": "2022-02-27T20:00:26.097Z"
   },
   {
    "duration": 15,
    "start_time": "2022-02-27T20:00:26.929Z"
   },
   {
    "duration": 27,
    "start_time": "2022-02-27T20:00:26.948Z"
   },
   {
    "duration": 9,
    "start_time": "2022-02-27T20:00:26.978Z"
   },
   {
    "duration": 9,
    "start_time": "2022-02-27T20:00:26.990Z"
   },
   {
    "duration": 17,
    "start_time": "2022-02-27T20:00:27.001Z"
   },
   {
    "duration": 61,
    "start_time": "2022-02-27T20:00:27.020Z"
   },
   {
    "duration": 32,
    "start_time": "2022-02-27T20:00:27.084Z"
   },
   {
    "duration": 3,
    "start_time": "2022-02-27T20:00:27.119Z"
   },
   {
    "duration": 23,
    "start_time": "2022-02-27T20:03:51.665Z"
   },
   {
    "duration": 5,
    "start_time": "2022-02-27T20:05:08.239Z"
   },
   {
    "duration": 7,
    "start_time": "2022-02-27T20:05:19.138Z"
   },
   {
    "duration": 35,
    "start_time": "2022-02-27T20:05:33.661Z"
   },
   {
    "duration": 9,
    "start_time": "2022-02-27T20:07:10.996Z"
   },
   {
    "duration": 9,
    "start_time": "2022-02-27T20:07:49.905Z"
   },
   {
    "duration": 24,
    "start_time": "2022-02-27T20:10:36.621Z"
   },
   {
    "duration": 6,
    "start_time": "2022-02-27T20:17:32.306Z"
   },
   {
    "duration": 7,
    "start_time": "2022-02-27T20:19:19.842Z"
   },
   {
    "duration": 6,
    "start_time": "2022-02-27T20:20:05.185Z"
   },
   {
    "duration": 1639,
    "start_time": "2022-02-27T20:20:14.522Z"
   },
   {
    "duration": 15,
    "start_time": "2022-02-27T20:20:16.163Z"
   },
   {
    "duration": 15,
    "start_time": "2022-02-27T20:20:16.180Z"
   },
   {
    "duration": 20,
    "start_time": "2022-02-27T20:20:16.198Z"
   },
   {
    "duration": 16,
    "start_time": "2022-02-27T20:20:16.220Z"
   },
   {
    "duration": 24,
    "start_time": "2022-02-27T20:20:16.238Z"
   },
   {
    "duration": 26,
    "start_time": "2022-02-27T20:20:16.264Z"
   },
   {
    "duration": 6,
    "start_time": "2022-02-27T20:20:16.293Z"
   },
   {
    "duration": 36,
    "start_time": "2022-02-27T20:20:16.302Z"
   },
   {
    "duration": 36,
    "start_time": "2022-02-27T20:20:16.341Z"
   },
   {
    "duration": 8,
    "start_time": "2022-02-27T20:20:16.379Z"
   },
   {
    "duration": 77,
    "start_time": "2022-02-27T20:21:32.660Z"
   },
   {
    "duration": 35,
    "start_time": "2022-02-27T20:21:32.740Z"
   },
   {
    "duration": 10,
    "start_time": "2022-02-27T20:21:32.778Z"
   },
   {
    "duration": 14,
    "start_time": "2022-02-27T20:21:32.790Z"
   },
   {
    "duration": 97,
    "start_time": "2022-02-27T20:21:32.806Z"
   },
   {
    "duration": 17,
    "start_time": "2022-02-27T20:21:32.906Z"
   },
   {
    "duration": 21,
    "start_time": "2022-02-27T20:21:32.926Z"
   },
   {
    "duration": 7,
    "start_time": "2022-02-27T20:21:32.950Z"
   },
   {
    "duration": 50,
    "start_time": "2022-02-27T20:21:32.960Z"
   },
   {
    "duration": 92,
    "start_time": "2022-02-27T20:21:33.013Z"
   },
   {
    "duration": 74,
    "start_time": "2022-02-27T20:22:37.634Z"
   },
   {
    "duration": 15,
    "start_time": "2022-02-27T20:22:47.272Z"
   },
   {
    "duration": 11,
    "start_time": "2022-02-27T20:22:53.554Z"
   },
   {
    "duration": 9,
    "start_time": "2022-02-27T20:22:56.217Z"
   },
   {
    "duration": 10,
    "start_time": "2022-02-27T20:23:01.934Z"
   },
   {
    "duration": 11,
    "start_time": "2022-02-27T20:23:15.245Z"
   },
   {
    "duration": 21,
    "start_time": "2022-02-27T20:23:19.581Z"
   },
   {
    "duration": 6,
    "start_time": "2022-02-27T20:23:22.638Z"
   },
   {
    "duration": 13,
    "start_time": "2022-02-27T20:24:28.513Z"
   },
   {
    "duration": 34,
    "start_time": "2022-02-27T20:26:28.343Z"
   },
   {
    "duration": 6,
    "start_time": "2022-02-27T20:27:05.392Z"
   },
   {
    "duration": 6,
    "start_time": "2022-02-27T20:28:08.367Z"
   },
   {
    "duration": 6,
    "start_time": "2022-02-27T20:28:34.938Z"
   },
   {
    "duration": 36,
    "start_time": "2022-02-27T20:29:08.558Z"
   },
   {
    "duration": 12,
    "start_time": "2022-02-27T20:29:26.553Z"
   },
   {
    "duration": 8,
    "start_time": "2022-02-27T20:31:42.204Z"
   },
   {
    "duration": 623,
    "start_time": "2022-02-28T18:36:05.650Z"
   },
   {
    "duration": 12,
    "start_time": "2022-02-28T18:36:06.275Z"
   },
   {
    "duration": 13,
    "start_time": "2022-02-28T18:36:06.289Z"
   },
   {
    "duration": 7,
    "start_time": "2022-02-28T18:36:06.304Z"
   },
   {
    "duration": 9,
    "start_time": "2022-02-28T18:36:06.312Z"
   },
   {
    "duration": 8,
    "start_time": "2022-02-28T18:36:06.323Z"
   },
   {
    "duration": 19,
    "start_time": "2022-02-28T18:36:06.332Z"
   },
   {
    "duration": 13,
    "start_time": "2022-02-28T18:36:06.354Z"
   },
   {
    "duration": 46,
    "start_time": "2022-02-28T18:36:06.369Z"
   },
   {
    "duration": 7,
    "start_time": "2022-02-28T18:36:06.416Z"
   },
   {
    "duration": 9,
    "start_time": "2022-02-28T18:36:06.424Z"
   },
   {
    "duration": 56,
    "start_time": "2022-02-28T18:36:18.484Z"
   },
   {
    "duration": 13,
    "start_time": "2022-02-28T18:36:23.191Z"
   },
   {
    "duration": 11,
    "start_time": "2022-02-28T18:38:28.274Z"
   },
   {
    "duration": 59,
    "start_time": "2022-02-28T18:38:52.645Z"
   },
   {
    "duration": 10,
    "start_time": "2022-02-28T18:38:52.706Z"
   },
   {
    "duration": 15,
    "start_time": "2022-02-28T18:38:52.718Z"
   },
   {
    "duration": 7,
    "start_time": "2022-02-28T18:38:52.735Z"
   },
   {
    "duration": 7,
    "start_time": "2022-02-28T18:38:52.744Z"
   },
   {
    "duration": 8,
    "start_time": "2022-02-28T18:38:52.753Z"
   },
   {
    "duration": 47,
    "start_time": "2022-02-28T18:38:52.763Z"
   },
   {
    "duration": 11,
    "start_time": "2022-02-28T18:38:52.813Z"
   },
   {
    "duration": 17,
    "start_time": "2022-02-28T18:38:52.826Z"
   },
   {
    "duration": 8,
    "start_time": "2022-02-28T18:38:52.845Z"
   },
   {
    "duration": 6,
    "start_time": "2022-02-28T18:38:52.855Z"
   },
   {
    "duration": 12,
    "start_time": "2022-02-28T18:38:56.371Z"
   },
   {
    "duration": 58,
    "start_time": "2022-02-28T18:40:23.406Z"
   },
   {
    "duration": 13,
    "start_time": "2022-02-28T18:40:23.467Z"
   },
   {
    "duration": 8,
    "start_time": "2022-02-28T18:40:23.502Z"
   },
   {
    "duration": 8,
    "start_time": "2022-02-28T18:40:23.513Z"
   },
   {
    "duration": 14,
    "start_time": "2022-02-28T18:40:23.523Z"
   },
   {
    "duration": 23,
    "start_time": "2022-02-28T18:40:23.539Z"
   },
   {
    "duration": 38,
    "start_time": "2022-02-28T18:40:23.564Z"
   },
   {
    "duration": 17,
    "start_time": "2022-02-28T18:40:23.604Z"
   },
   {
    "duration": 17,
    "start_time": "2022-02-28T18:40:23.623Z"
   },
   {
    "duration": 6,
    "start_time": "2022-02-28T18:40:23.642Z"
   },
   {
    "duration": 32,
    "start_time": "2022-02-28T18:40:23.650Z"
   },
   {
    "duration": 23,
    "start_time": "2022-02-28T18:40:23.684Z"
   },
   {
    "duration": 61,
    "start_time": "2022-02-28T18:40:50.952Z"
   },
   {
    "duration": 11,
    "start_time": "2022-02-28T18:40:51.015Z"
   },
   {
    "duration": 7,
    "start_time": "2022-02-28T18:40:51.029Z"
   },
   {
    "duration": 15,
    "start_time": "2022-02-28T18:40:51.038Z"
   },
   {
    "duration": 13,
    "start_time": "2022-02-28T18:40:51.055Z"
   },
   {
    "duration": 8,
    "start_time": "2022-02-28T18:40:51.070Z"
   },
   {
    "duration": 14,
    "start_time": "2022-02-28T18:40:51.101Z"
   },
   {
    "duration": 12,
    "start_time": "2022-02-28T18:40:51.118Z"
   },
   {
    "duration": 17,
    "start_time": "2022-02-28T18:40:51.132Z"
   },
   {
    "duration": 8,
    "start_time": "2022-02-28T18:40:51.151Z"
   },
   {
    "duration": 6,
    "start_time": "2022-02-28T18:40:51.161Z"
   },
   {
    "duration": 11,
    "start_time": "2022-02-28T18:40:51.202Z"
   },
   {
    "duration": 11,
    "start_time": "2022-02-28T18:41:24.739Z"
   },
   {
    "duration": 10,
    "start_time": "2022-02-28T18:41:45.675Z"
   },
   {
    "duration": 55,
    "start_time": "2022-02-28T18:41:52.567Z"
   },
   {
    "duration": 11,
    "start_time": "2022-02-28T18:41:52.624Z"
   },
   {
    "duration": 8,
    "start_time": "2022-02-28T18:41:52.637Z"
   },
   {
    "duration": 7,
    "start_time": "2022-02-28T18:41:52.647Z"
   },
   {
    "duration": 46,
    "start_time": "2022-02-28T18:41:52.655Z"
   },
   {
    "duration": 8,
    "start_time": "2022-02-28T18:41:52.703Z"
   },
   {
    "duration": 12,
    "start_time": "2022-02-28T18:41:52.713Z"
   },
   {
    "duration": 14,
    "start_time": "2022-02-28T18:41:52.728Z"
   },
   {
    "duration": 11,
    "start_time": "2022-02-28T18:41:52.744Z"
   },
   {
    "duration": 50,
    "start_time": "2022-02-28T18:41:52.757Z"
   },
   {
    "duration": 7,
    "start_time": "2022-02-28T18:41:52.808Z"
   },
   {
    "duration": 11,
    "start_time": "2022-02-28T18:41:52.816Z"
   },
   {
    "duration": 13,
    "start_time": "2022-02-28T18:41:52.829Z"
   },
   {
    "duration": 57,
    "start_time": "2022-02-28T18:42:26.716Z"
   },
   {
    "duration": 12,
    "start_time": "2022-02-28T18:42:26.775Z"
   },
   {
    "duration": 13,
    "start_time": "2022-02-28T18:42:26.789Z"
   },
   {
    "duration": 17,
    "start_time": "2022-02-28T18:42:26.804Z"
   },
   {
    "duration": 13,
    "start_time": "2022-02-28T18:42:26.823Z"
   },
   {
    "duration": 20,
    "start_time": "2022-02-28T18:42:26.838Z"
   },
   {
    "duration": 15,
    "start_time": "2022-02-28T18:42:26.860Z"
   },
   {
    "duration": 13,
    "start_time": "2022-02-28T18:42:31.024Z"
   },
   {
    "duration": 54,
    "start_time": "2022-02-28T18:42:55.149Z"
   },
   {
    "duration": 11,
    "start_time": "2022-02-28T18:42:55.205Z"
   },
   {
    "duration": 7,
    "start_time": "2022-02-28T18:42:55.218Z"
   },
   {
    "duration": 7,
    "start_time": "2022-02-28T18:42:55.226Z"
   },
   {
    "duration": 12,
    "start_time": "2022-02-28T18:42:57.971Z"
   },
   {
    "duration": 57,
    "start_time": "2022-02-28T18:43:24.461Z"
   },
   {
    "duration": 11,
    "start_time": "2022-02-28T18:43:24.520Z"
   },
   {
    "duration": 7,
    "start_time": "2022-02-28T18:43:24.533Z"
   },
   {
    "duration": 6,
    "start_time": "2022-02-28T18:43:24.542Z"
   },
   {
    "duration": 11,
    "start_time": "2022-02-28T18:43:24.550Z"
   },
   {
    "duration": 7,
    "start_time": "2022-02-28T18:43:24.563Z"
   },
   {
    "duration": 11,
    "start_time": "2022-02-28T18:43:28.302Z"
   },
   {
    "duration": 53,
    "start_time": "2022-02-28T18:43:58.585Z"
   },
   {
    "duration": 11,
    "start_time": "2022-02-28T18:43:58.640Z"
   },
   {
    "duration": 6,
    "start_time": "2022-02-28T18:43:58.653Z"
   },
   {
    "duration": 6,
    "start_time": "2022-02-28T18:43:58.661Z"
   },
   {
    "duration": 37,
    "start_time": "2022-02-28T18:43:58.669Z"
   },
   {
    "duration": 10,
    "start_time": "2022-02-28T18:43:58.707Z"
   },
   {
    "duration": 19,
    "start_time": "2022-02-28T18:43:58.719Z"
   },
   {
    "duration": 13,
    "start_time": "2022-02-28T18:44:01.172Z"
   },
   {
    "duration": 11,
    "start_time": "2022-02-28T18:44:38.966Z"
   },
   {
    "duration": 56,
    "start_time": "2022-02-28T18:44:42.471Z"
   },
   {
    "duration": 11,
    "start_time": "2022-02-28T18:44:42.529Z"
   },
   {
    "duration": 20,
    "start_time": "2022-02-28T18:44:42.542Z"
   },
   {
    "duration": 22,
    "start_time": "2022-02-28T18:44:42.564Z"
   },
   {
    "duration": 30,
    "start_time": "2022-02-28T18:44:42.588Z"
   },
   {
    "duration": 17,
    "start_time": "2022-02-28T18:44:42.621Z"
   },
   {
    "duration": 22,
    "start_time": "2022-02-28T18:44:42.640Z"
   },
   {
    "duration": 12,
    "start_time": "2022-02-28T18:44:46.207Z"
   },
   {
    "duration": 11,
    "start_time": "2022-02-28T18:45:12.638Z"
   },
   {
    "duration": 53,
    "start_time": "2022-02-28T18:45:18.612Z"
   },
   {
    "duration": 11,
    "start_time": "2022-02-28T18:45:18.667Z"
   },
   {
    "duration": 7,
    "start_time": "2022-02-28T18:45:18.681Z"
   },
   {
    "duration": 16,
    "start_time": "2022-02-28T18:45:18.690Z"
   },
   {
    "duration": 8,
    "start_time": "2022-02-28T18:45:18.707Z"
   },
   {
    "duration": 14,
    "start_time": "2022-02-28T18:45:18.716Z"
   },
   {
    "duration": 12,
    "start_time": "2022-02-28T18:45:18.732Z"
   },
   {
    "duration": 17,
    "start_time": "2022-02-28T18:45:18.745Z"
   },
   {
    "duration": 44,
    "start_time": "2022-02-28T18:45:18.765Z"
   },
   {
    "duration": 11,
    "start_time": "2022-02-28T18:45:21.578Z"
   },
   {
    "duration": 54,
    "start_time": "2022-02-28T18:46:19.505Z"
   },
   {
    "duration": 11,
    "start_time": "2022-02-28T18:46:19.561Z"
   },
   {
    "duration": 27,
    "start_time": "2022-02-28T18:46:19.575Z"
   },
   {
    "duration": 6,
    "start_time": "2022-02-28T18:46:19.604Z"
   },
   {
    "duration": 8,
    "start_time": "2022-02-28T18:46:19.612Z"
   },
   {
    "duration": 10,
    "start_time": "2022-02-28T18:46:19.622Z"
   },
   {
    "duration": 12,
    "start_time": "2022-02-28T18:46:19.634Z"
   },
   {
    "duration": 9,
    "start_time": "2022-02-28T18:46:19.649Z"
   },
   {
    "duration": 44,
    "start_time": "2022-02-28T18:46:19.661Z"
   },
   {
    "duration": 12,
    "start_time": "2022-02-28T18:46:19.708Z"
   },
   {
    "duration": 14,
    "start_time": "2022-02-28T18:46:19.722Z"
   },
   {
    "duration": 7,
    "start_time": "2022-02-28T18:46:19.738Z"
   },
   {
    "duration": 8,
    "start_time": "2022-02-28T18:46:19.746Z"
   },
   {
    "duration": 46,
    "start_time": "2022-02-28T18:46:19.756Z"
   },
   {
    "duration": 59,
    "start_time": "2022-02-28T18:53:56.145Z"
   },
   {
    "duration": 12,
    "start_time": "2022-02-28T18:53:56.206Z"
   },
   {
    "duration": 15,
    "start_time": "2022-02-28T18:53:56.221Z"
   },
   {
    "duration": 23,
    "start_time": "2022-02-28T18:53:56.239Z"
   },
   {
    "duration": 18,
    "start_time": "2022-02-28T18:53:56.264Z"
   },
   {
    "duration": 9,
    "start_time": "2022-02-28T18:53:56.284Z"
   },
   {
    "duration": 31,
    "start_time": "2022-02-28T18:53:56.295Z"
   },
   {
    "duration": 37,
    "start_time": "2022-02-28T18:53:56.329Z"
   },
   {
    "duration": 26,
    "start_time": "2022-02-28T18:53:56.368Z"
   },
   {
    "duration": 16,
    "start_time": "2022-02-28T18:53:56.397Z"
   },
   {
    "duration": 18,
    "start_time": "2022-02-28T18:53:56.415Z"
   },
   {
    "duration": 13,
    "start_time": "2022-02-28T18:53:59.350Z"
   },
   {
    "duration": 362,
    "start_time": "2022-02-28T18:56:35.368Z"
   },
   {
    "duration": 219,
    "start_time": "2022-02-28T18:57:05.164Z"
   },
   {
    "duration": 8,
    "start_time": "2022-02-28T18:57:24.936Z"
   },
   {
    "duration": 5,
    "start_time": "2022-02-28T18:59:35.010Z"
   },
   {
    "duration": 5,
    "start_time": "2022-02-28T18:59:39.045Z"
   },
   {
    "duration": 7,
    "start_time": "2022-02-28T18:59:57.782Z"
   },
   {
    "duration": 6342,
    "start_time": "2022-02-28T19:01:50.719Z"
   },
   {
    "duration": 552,
    "start_time": "2022-02-28T19:02:58.775Z"
   },
   {
    "duration": 7652,
    "start_time": "2022-02-28T19:03:02.180Z"
   },
   {
    "duration": 559,
    "start_time": "2022-02-28T19:03:19.912Z"
   },
   {
    "duration": 561,
    "start_time": "2022-02-28T19:04:56.887Z"
   },
   {
    "duration": 6651,
    "start_time": "2022-02-28T19:05:03.956Z"
   },
   {
    "duration": 6,
    "start_time": "2022-02-28T19:12:52.883Z"
   },
   {
    "duration": 22,
    "start_time": "2022-02-28T19:13:06.534Z"
   },
   {
    "duration": 8,
    "start_time": "2022-02-28T19:14:06.105Z"
   },
   {
    "duration": 6160,
    "start_time": "2022-02-28T19:15:30.562Z"
   },
   {
    "duration": 6089,
    "start_time": "2022-02-28T19:15:55.369Z"
   },
   {
    "duration": 568,
    "start_time": "2022-02-28T19:23:56.098Z"
   },
   {
    "duration": 566,
    "start_time": "2022-02-28T19:23:56.101Z"
   },
   {
    "duration": 563,
    "start_time": "2022-02-28T19:23:56.105Z"
   },
   {
    "duration": 551,
    "start_time": "2022-02-28T19:23:56.118Z"
   },
   {
    "duration": 544,
    "start_time": "2022-02-28T19:23:56.125Z"
   },
   {
    "duration": 538,
    "start_time": "2022-02-28T19:23:56.132Z"
   },
   {
    "duration": 532,
    "start_time": "2022-02-28T19:23:56.139Z"
   },
   {
    "duration": 530,
    "start_time": "2022-02-28T19:23:56.142Z"
   },
   {
    "duration": 518,
    "start_time": "2022-02-28T19:23:56.155Z"
   },
   {
    "duration": 510,
    "start_time": "2022-02-28T19:23:56.164Z"
   },
   {
    "duration": 507,
    "start_time": "2022-02-28T19:23:56.168Z"
   },
   {
    "duration": 499,
    "start_time": "2022-02-28T19:23:56.176Z"
   },
   {
    "duration": 495,
    "start_time": "2022-02-28T19:23:56.181Z"
   },
   {
    "duration": 6126,
    "start_time": "2022-02-28T19:24:11.882Z"
   },
   {
    "duration": 566,
    "start_time": "2022-02-28T19:24:32.749Z"
   },
   {
    "duration": 7,
    "start_time": "2022-02-28T19:24:35.383Z"
   },
   {
    "duration": 6272,
    "start_time": "2022-02-28T19:24:39.312Z"
   },
   {
    "duration": 7,
    "start_time": "2022-02-28T20:44:38.641Z"
   },
   {
    "duration": 4,
    "start_time": "2022-02-28T20:45:54.339Z"
   },
   {
    "duration": 5,
    "start_time": "2022-02-28T20:46:01.912Z"
   },
   {
    "duration": 40,
    "start_time": "2022-02-28T20:50:19.591Z"
   },
   {
    "duration": 8,
    "start_time": "2022-02-28T20:50:23.911Z"
   },
   {
    "duration": 58,
    "start_time": "2022-02-28T20:50:44.450Z"
   },
   {
    "duration": 11,
    "start_time": "2022-02-28T20:50:44.510Z"
   },
   {
    "duration": 7,
    "start_time": "2022-02-28T20:50:44.524Z"
   },
   {
    "duration": 7,
    "start_time": "2022-02-28T20:50:44.533Z"
   },
   {
    "duration": 9,
    "start_time": "2022-02-28T20:50:44.542Z"
   },
   {
    "duration": 3,
    "start_time": "2022-02-28T20:50:44.553Z"
   },
   {
    "duration": 6,
    "start_time": "2022-02-28T20:50:44.558Z"
   },
   {
    "duration": 17,
    "start_time": "2022-02-28T20:50:44.603Z"
   },
   {
    "duration": 16,
    "start_time": "2022-02-28T20:50:44.622Z"
   },
   {
    "duration": 10,
    "start_time": "2022-02-28T20:50:44.640Z"
   },
   {
    "duration": 5,
    "start_time": "2022-02-28T20:50:44.652Z"
   },
   {
    "duration": 42,
    "start_time": "2022-02-28T20:50:44.659Z"
   },
   {
    "duration": 5,
    "start_time": "2022-02-28T20:50:44.703Z"
   },
   {
    "duration": 42,
    "start_time": "2022-02-28T20:50:44.710Z"
   },
   {
    "duration": 6,
    "start_time": "2022-02-28T20:50:44.754Z"
   },
   {
    "duration": 12,
    "start_time": "2022-02-28T20:51:26.002Z"
   },
   {
    "duration": 40,
    "start_time": "2022-02-28T20:51:36.224Z"
   },
   {
    "duration": 8,
    "start_time": "2022-02-28T20:51:37.319Z"
   },
   {
    "duration": 12,
    "start_time": "2022-02-28T20:51:38.414Z"
   },
   {
    "duration": 615,
    "start_time": "2022-03-01T18:13:47.963Z"
   },
   {
    "duration": 11,
    "start_time": "2022-03-01T18:13:48.581Z"
   },
   {
    "duration": 15,
    "start_time": "2022-03-01T18:13:48.594Z"
   },
   {
    "duration": 17,
    "start_time": "2022-03-01T18:13:48.610Z"
   },
   {
    "duration": 11,
    "start_time": "2022-03-01T18:13:48.629Z"
   },
   {
    "duration": 13,
    "start_time": "2022-03-01T18:13:48.642Z"
   },
   {
    "duration": 7,
    "start_time": "2022-03-01T18:13:48.656Z"
   },
   {
    "duration": 18,
    "start_time": "2022-03-01T18:13:48.665Z"
   },
   {
    "duration": 18,
    "start_time": "2022-03-01T18:13:48.685Z"
   },
   {
    "duration": 6,
    "start_time": "2022-03-01T18:13:48.704Z"
   },
   {
    "duration": 11,
    "start_time": "2022-03-01T18:13:48.712Z"
   },
   {
    "duration": 19,
    "start_time": "2022-03-01T18:13:48.724Z"
   },
   {
    "duration": 10,
    "start_time": "2022-03-01T18:13:48.744Z"
   },
   {
    "duration": 38,
    "start_time": "2022-03-01T18:13:48.755Z"
   },
   {
    "duration": 6,
    "start_time": "2022-03-01T18:13:48.794Z"
   },
   {
    "duration": 8,
    "start_time": "2022-03-01T18:13:48.805Z"
   },
   {
    "duration": 33,
    "start_time": "2022-03-01T18:23:01.449Z"
   },
   {
    "duration": 326,
    "start_time": "2022-03-01T18:24:44.544Z"
   },
   {
    "duration": 9,
    "start_time": "2022-03-01T18:26:25.686Z"
   },
   {
    "duration": 11,
    "start_time": "2022-03-01T18:30:18.803Z"
   },
   {
    "duration": 5,
    "start_time": "2022-03-01T18:31:32.142Z"
   },
   {
    "duration": 7,
    "start_time": "2022-03-01T18:33:48.873Z"
   },
   {
    "duration": 10,
    "start_time": "2022-03-01T18:34:26.689Z"
   },
   {
    "duration": 20,
    "start_time": "2022-03-01T18:34:55.489Z"
   },
   {
    "duration": 52,
    "start_time": "2022-03-01T18:37:20.137Z"
   },
   {
    "duration": 8,
    "start_time": "2022-03-01T18:37:20.190Z"
   },
   {
    "duration": 5,
    "start_time": "2022-03-01T18:37:20.200Z"
   },
   {
    "duration": 5,
    "start_time": "2022-03-01T18:37:20.206Z"
   },
   {
    "duration": 7,
    "start_time": "2022-03-01T18:37:20.212Z"
   },
   {
    "duration": 6,
    "start_time": "2022-03-01T18:37:20.220Z"
   },
   {
    "duration": 4,
    "start_time": "2022-03-01T18:37:20.227Z"
   },
   {
    "duration": 8,
    "start_time": "2022-03-01T18:37:20.233Z"
   },
   {
    "duration": 12,
    "start_time": "2022-03-01T18:37:20.243Z"
   },
   {
    "duration": 5,
    "start_time": "2022-03-01T18:37:20.257Z"
   },
   {
    "duration": 4,
    "start_time": "2022-03-01T18:37:20.263Z"
   },
   {
    "duration": 43,
    "start_time": "2022-03-01T18:37:20.268Z"
   },
   {
    "duration": 4,
    "start_time": "2022-03-01T18:37:20.416Z"
   },
   {
    "duration": 36,
    "start_time": "2022-03-01T18:37:20.425Z"
   },
   {
    "duration": 5,
    "start_time": "2022-03-01T18:37:20.462Z"
   },
   {
    "duration": 5,
    "start_time": "2022-03-01T18:37:25.336Z"
   },
   {
    "duration": 7,
    "start_time": "2022-03-01T18:37:26.509Z"
   },
   {
    "duration": 19,
    "start_time": "2022-03-01T18:37:36.864Z"
   },
   {
    "duration": 6,
    "start_time": "2022-03-01T18:37:59.018Z"
   },
   {
    "duration": 8,
    "start_time": "2022-03-01T18:38:03.725Z"
   },
   {
    "duration": 18,
    "start_time": "2022-03-01T18:38:14.973Z"
   },
   {
    "duration": 8,
    "start_time": "2022-03-01T18:41:15.262Z"
   },
   {
    "duration": 6,
    "start_time": "2022-03-01T18:41:52.407Z"
   },
   {
    "duration": 6,
    "start_time": "2022-03-01T18:49:06.091Z"
   },
   {
    "duration": 19,
    "start_time": "2022-03-01T18:49:16.681Z"
   },
   {
    "duration": 6,
    "start_time": "2022-03-01T18:49:53.264Z"
   },
   {
    "duration": 6,
    "start_time": "2022-03-01T18:50:02.406Z"
   },
   {
    "duration": 6,
    "start_time": "2022-03-01T18:50:12.940Z"
   },
   {
    "duration": 284,
    "start_time": "2022-03-01T18:50:52.235Z"
   },
   {
    "duration": 288,
    "start_time": "2022-03-01T18:51:13.461Z"
   },
   {
    "duration": 281,
    "start_time": "2022-03-01T18:51:23.098Z"
   },
   {
    "duration": 7,
    "start_time": "2022-03-01T18:51:32.815Z"
   },
   {
    "duration": 21,
    "start_time": "2022-03-01T18:51:52.512Z"
   },
   {
    "duration": 16,
    "start_time": "2022-03-01T18:52:13.730Z"
   },
   {
    "duration": 8,
    "start_time": "2022-03-01T18:52:32.352Z"
   },
   {
    "duration": 9,
    "start_time": "2022-03-01T18:52:51.020Z"
   },
   {
    "duration": 62,
    "start_time": "2022-03-01T18:55:08.980Z"
   },
   {
    "duration": 9,
    "start_time": "2022-03-01T18:55:09.044Z"
   },
   {
    "duration": 4,
    "start_time": "2022-03-01T18:55:09.055Z"
   },
   {
    "duration": 5,
    "start_time": "2022-03-01T18:55:09.061Z"
   },
   {
    "duration": 9,
    "start_time": "2022-03-01T18:55:09.067Z"
   },
   {
    "duration": 2,
    "start_time": "2022-03-01T18:55:09.077Z"
   },
   {
    "duration": 24,
    "start_time": "2022-03-01T18:55:09.081Z"
   },
   {
    "duration": 10,
    "start_time": "2022-03-01T18:55:09.106Z"
   },
   {
    "duration": 11,
    "start_time": "2022-03-01T18:55:09.118Z"
   },
   {
    "duration": 5,
    "start_time": "2022-03-01T18:55:09.130Z"
   },
   {
    "duration": 4,
    "start_time": "2022-03-01T18:55:09.136Z"
   },
   {
    "duration": 7,
    "start_time": "2022-03-01T18:55:09.141Z"
   },
   {
    "duration": 5,
    "start_time": "2022-03-01T18:55:09.149Z"
   },
   {
    "duration": 64,
    "start_time": "2022-03-01T18:55:09.155Z"
   },
   {
    "duration": 5,
    "start_time": "2022-03-01T18:55:09.220Z"
   },
   {
    "duration": 8,
    "start_time": "2022-03-01T18:55:09.227Z"
   },
   {
    "duration": 24,
    "start_time": "2022-03-01T18:55:09.237Z"
   },
   {
    "duration": 5,
    "start_time": "2022-03-01T18:55:09.262Z"
   },
   {
    "duration": 10,
    "start_time": "2022-03-01T18:55:09.268Z"
   },
   {
    "duration": 51,
    "start_time": "2022-03-01T18:57:46.859Z"
   },
   {
    "duration": 9,
    "start_time": "2022-03-01T18:57:46.911Z"
   },
   {
    "duration": 6,
    "start_time": "2022-03-01T18:57:46.922Z"
   },
   {
    "duration": 7,
    "start_time": "2022-03-01T18:57:46.929Z"
   },
   {
    "duration": 6,
    "start_time": "2022-03-01T18:57:46.937Z"
   },
   {
    "duration": 3,
    "start_time": "2022-03-01T18:57:46.944Z"
   },
   {
    "duration": 4,
    "start_time": "2022-03-01T18:57:46.948Z"
   },
   {
    "duration": 10,
    "start_time": "2022-03-01T18:57:46.954Z"
   },
   {
    "duration": 12,
    "start_time": "2022-03-01T18:57:46.965Z"
   },
   {
    "duration": 30,
    "start_time": "2022-03-01T18:57:46.978Z"
   },
   {
    "duration": 5,
    "start_time": "2022-03-01T18:57:47.009Z"
   },
   {
    "duration": 7,
    "start_time": "2022-03-01T18:57:47.015Z"
   },
   {
    "duration": 6,
    "start_time": "2022-03-01T18:57:47.023Z"
   },
   {
    "duration": 35,
    "start_time": "2022-03-01T18:57:47.030Z"
   },
   {
    "duration": 40,
    "start_time": "2022-03-01T18:57:47.066Z"
   },
   {
    "duration": 4,
    "start_time": "2022-03-01T19:00:30.798Z"
   },
   {
    "duration": 5,
    "start_time": "2022-03-01T19:00:49.228Z"
   },
   {
    "duration": 10,
    "start_time": "2022-03-01T19:09:25.370Z"
   },
   {
    "duration": 6,
    "start_time": "2022-03-01T19:12:09.389Z"
   },
   {
    "duration": 4,
    "start_time": "2022-03-01T19:12:36.863Z"
   },
   {
    "duration": 276,
    "start_time": "2022-03-01T19:12:56.805Z"
   },
   {
    "duration": 258,
    "start_time": "2022-03-01T19:13:18.673Z"
   },
   {
    "duration": 4,
    "start_time": "2022-03-01T19:13:25.503Z"
   },
   {
    "duration": 5,
    "start_time": "2022-03-01T19:14:20.450Z"
   },
   {
    "duration": 6,
    "start_time": "2022-03-01T19:14:58.053Z"
   },
   {
    "duration": 6,
    "start_time": "2022-03-01T19:19:47.640Z"
   },
   {
    "duration": 8,
    "start_time": "2022-03-01T19:19:57.706Z"
   },
   {
    "duration": 9,
    "start_time": "2022-03-01T19:20:44.009Z"
   },
   {
    "duration": 8,
    "start_time": "2022-03-01T19:21:43.618Z"
   },
   {
    "duration": 10,
    "start_time": "2022-03-01T19:23:17.611Z"
   },
   {
    "duration": 11,
    "start_time": "2022-03-01T19:23:55.436Z"
   },
   {
    "duration": 10,
    "start_time": "2022-03-01T19:24:45.186Z"
   },
   {
    "duration": 11,
    "start_time": "2022-03-01T19:25:05.062Z"
   },
   {
    "duration": 8,
    "start_time": "2022-03-01T19:25:57.720Z"
   },
   {
    "duration": 7,
    "start_time": "2022-03-01T19:28:43.896Z"
   },
   {
    "duration": 5,
    "start_time": "2022-03-01T19:29:09.487Z"
   },
   {
    "duration": 280,
    "start_time": "2022-03-01T19:39:12.516Z"
   },
   {
    "duration": 10,
    "start_time": "2022-03-01T19:40:02.740Z"
   },
   {
    "duration": 14,
    "start_time": "2022-03-01T19:40:18.466Z"
   },
   {
    "duration": 5,
    "start_time": "2022-03-01T19:42:46.971Z"
   },
   {
    "duration": 4,
    "start_time": "2022-03-01T19:43:07.015Z"
   },
   {
    "duration": 5,
    "start_time": "2022-03-01T19:44:20.758Z"
   },
   {
    "duration": 4,
    "start_time": "2022-03-01T19:45:37.903Z"
   },
   {
    "duration": 4,
    "start_time": "2022-03-01T19:51:12.566Z"
   },
   {
    "duration": 7,
    "start_time": "2022-03-01T19:51:40.503Z"
   },
   {
    "duration": 5,
    "start_time": "2022-03-01T19:57:27.877Z"
   },
   {
    "duration": 5,
    "start_time": "2022-03-01T19:59:27.792Z"
   },
   {
    "duration": 6,
    "start_time": "2022-03-01T20:02:12.350Z"
   },
   {
    "duration": 268,
    "start_time": "2022-03-01T20:06:35.813Z"
   },
   {
    "duration": 3,
    "start_time": "2022-03-01T20:08:49.033Z"
   },
   {
    "duration": 10,
    "start_time": "2022-03-01T20:08:58.947Z"
   },
   {
    "duration": 578,
    "start_time": "2022-03-01T20:11:54.366Z"
   },
   {
    "duration": 9,
    "start_time": "2022-03-01T20:11:54.946Z"
   },
   {
    "duration": 9,
    "start_time": "2022-03-01T20:11:54.957Z"
   },
   {
    "duration": 5,
    "start_time": "2022-03-01T20:11:54.968Z"
   },
   {
    "duration": 6,
    "start_time": "2022-03-01T20:11:54.974Z"
   },
   {
    "duration": 2,
    "start_time": "2022-03-01T20:11:54.981Z"
   },
   {
    "duration": 22,
    "start_time": "2022-03-01T20:11:54.984Z"
   },
   {
    "duration": 9,
    "start_time": "2022-03-01T20:11:55.008Z"
   },
   {
    "duration": 11,
    "start_time": "2022-03-01T20:11:55.019Z"
   },
   {
    "duration": 6,
    "start_time": "2022-03-01T20:11:55.032Z"
   },
   {
    "duration": 5,
    "start_time": "2022-03-01T20:11:55.039Z"
   },
   {
    "duration": 6,
    "start_time": "2022-03-01T20:11:55.045Z"
   },
   {
    "duration": 5,
    "start_time": "2022-03-01T20:11:55.053Z"
   },
   {
    "duration": 75,
    "start_time": "2022-03-01T20:11:55.059Z"
   },
   {
    "duration": 8,
    "start_time": "2022-03-01T20:11:55.136Z"
   },
   {
    "duration": 6,
    "start_time": "2022-03-01T20:11:55.145Z"
   },
   {
    "duration": 11,
    "start_time": "2022-03-01T20:11:55.153Z"
   },
   {
    "duration": 4,
    "start_time": "2022-03-01T20:11:55.166Z"
   },
   {
    "duration": 35,
    "start_time": "2022-03-01T20:11:55.171Z"
   },
   {
    "duration": 4,
    "start_time": "2022-03-01T20:11:55.208Z"
   },
   {
    "duration": 15,
    "start_time": "2022-03-01T20:11:55.213Z"
   },
   {
    "duration": 3,
    "start_time": "2022-03-01T20:11:55.230Z"
   },
   {
    "duration": 6,
    "start_time": "2022-03-01T20:11:55.234Z"
   },
   {
    "duration": 6,
    "start_time": "2022-03-01T20:11:55.241Z"
   },
   {
    "duration": 9,
    "start_time": "2022-03-01T20:11:55.248Z"
   },
   {
    "duration": 5,
    "start_time": "2022-03-01T20:11:55.258Z"
   },
   {
    "duration": 7,
    "start_time": "2022-03-01T20:11:55.264Z"
   },
   {
    "duration": 11,
    "start_time": "2022-03-01T20:11:55.330Z"
   },
   {
    "duration": 8,
    "start_time": "2022-03-01T20:13:30.437Z"
   },
   {
    "duration": 8,
    "start_time": "2022-03-01T20:14:03.571Z"
   },
   {
    "duration": 8,
    "start_time": "2022-03-01T20:14:19.753Z"
   },
   {
    "duration": 9,
    "start_time": "2022-03-01T20:14:46.777Z"
   },
   {
    "duration": 13,
    "start_time": "2022-03-01T20:16:47.810Z"
   },
   {
    "duration": 16,
    "start_time": "2022-03-01T20:18:24.196Z"
   },
   {
    "duration": 14,
    "start_time": "2022-03-01T20:19:42.278Z"
   },
   {
    "duration": 15,
    "start_time": "2022-03-01T20:23:58.890Z"
   },
   {
    "duration": 24,
    "start_time": "2022-03-01T20:24:11.909Z"
   },
   {
    "duration": 22,
    "start_time": "2022-03-01T20:24:47.699Z"
   },
   {
    "duration": 23,
    "start_time": "2022-03-01T20:25:45.382Z"
   },
   {
    "duration": 25,
    "start_time": "2022-03-01T20:26:15.325Z"
   },
   {
    "duration": 360,
    "start_time": "2022-03-02T07:04:07.828Z"
   },
   {
    "duration": 821,
    "start_time": "2022-03-02T07:04:17.194Z"
   },
   {
    "duration": 17,
    "start_time": "2022-03-02T07:04:18.018Z"
   },
   {
    "duration": 9,
    "start_time": "2022-03-02T07:04:18.038Z"
   },
   {
    "duration": 9,
    "start_time": "2022-03-02T07:04:18.073Z"
   },
   {
    "duration": 9,
    "start_time": "2022-03-02T07:04:18.084Z"
   },
   {
    "duration": 3,
    "start_time": "2022-03-02T07:04:18.096Z"
   },
   {
    "duration": 5,
    "start_time": "2022-03-02T07:04:18.101Z"
   },
   {
    "duration": 15,
    "start_time": "2022-03-02T07:04:18.108Z"
   },
   {
    "duration": 65,
    "start_time": "2022-03-02T07:04:18.127Z"
   },
   {
    "duration": 8,
    "start_time": "2022-03-02T07:04:18.195Z"
   },
   {
    "duration": 9,
    "start_time": "2022-03-02T07:04:18.206Z"
   },
   {
    "duration": 11,
    "start_time": "2022-03-02T07:04:18.218Z"
   },
   {
    "duration": 47,
    "start_time": "2022-03-02T07:04:18.231Z"
   },
   {
    "duration": 63,
    "start_time": "2022-03-02T07:04:18.280Z"
   },
   {
    "duration": 32,
    "start_time": "2022-03-02T07:04:18.345Z"
   },
   {
    "duration": 8,
    "start_time": "2022-03-02T07:04:18.380Z"
   },
   {
    "duration": 21,
    "start_time": "2022-03-02T07:04:18.390Z"
   },
   {
    "duration": 7,
    "start_time": "2022-03-02T07:04:18.414Z"
   },
   {
    "duration": 25,
    "start_time": "2022-03-02T07:04:18.423Z"
   },
   {
    "duration": 26,
    "start_time": "2022-03-02T07:04:18.451Z"
   },
   {
    "duration": 22,
    "start_time": "2022-03-02T07:04:18.480Z"
   },
   {
    "duration": 6,
    "start_time": "2022-03-02T07:04:18.505Z"
   },
   {
    "duration": 12,
    "start_time": "2022-03-02T07:04:18.513Z"
   },
   {
    "duration": 47,
    "start_time": "2022-03-02T07:04:18.528Z"
   },
   {
    "duration": 11,
    "start_time": "2022-03-02T07:04:18.577Z"
   },
   {
    "duration": 10,
    "start_time": "2022-03-02T07:04:18.590Z"
   },
   {
    "duration": 7,
    "start_time": "2022-03-02T07:04:18.605Z"
   },
   {
    "duration": 19,
    "start_time": "2022-03-02T07:04:18.615Z"
   },
   {
    "duration": 57,
    "start_time": "2022-03-02T07:04:18.636Z"
   },
   {
    "duration": 45,
    "start_time": "2022-03-02T07:04:18.696Z"
   },
   {
    "duration": 58,
    "start_time": "2022-03-02T07:04:18.744Z"
   },
   {
    "duration": 274,
    "start_time": "2022-03-02T07:06:46.114Z"
   },
   {
    "duration": 238,
    "start_time": "2022-03-02T07:07:32.629Z"
   },
   {
    "duration": 26,
    "start_time": "2022-03-02T07:07:50.312Z"
   },
   {
    "duration": 21,
    "start_time": "2022-03-02T07:10:06.691Z"
   },
   {
    "duration": 23,
    "start_time": "2022-03-02T07:10:13.367Z"
   },
   {
    "duration": 4,
    "start_time": "2022-03-02T07:25:38.649Z"
   },
   {
    "duration": 5,
    "start_time": "2022-03-02T07:27:41.509Z"
   },
   {
    "duration": 6,
    "start_time": "2022-03-02T07:28:00.431Z"
   },
   {
    "duration": 6,
    "start_time": "2022-03-02T07:28:37.689Z"
   },
   {
    "duration": 7,
    "start_time": "2022-03-02T07:28:45.863Z"
   },
   {
    "duration": 513,
    "start_time": "2022-03-02T07:31:57.534Z"
   },
   {
    "duration": 86,
    "start_time": "2022-03-02T07:33:36.536Z"
   },
   {
    "duration": 15,
    "start_time": "2022-03-02T07:33:43.592Z"
   },
   {
    "duration": 28,
    "start_time": "2022-03-02T07:34:05.258Z"
   },
   {
    "duration": 643,
    "start_time": "2022-03-02T19:10:39.464Z"
   },
   {
    "duration": 9,
    "start_time": "2022-03-02T19:10:40.109Z"
   },
   {
    "duration": 7,
    "start_time": "2022-03-02T19:10:40.120Z"
   },
   {
    "duration": 6,
    "start_time": "2022-03-02T19:10:40.128Z"
   },
   {
    "duration": 29,
    "start_time": "2022-03-02T19:10:40.135Z"
   },
   {
    "duration": 2,
    "start_time": "2022-03-02T19:10:40.165Z"
   },
   {
    "duration": 6,
    "start_time": "2022-03-02T19:10:40.169Z"
   },
   {
    "duration": 11,
    "start_time": "2022-03-02T19:10:40.177Z"
   },
   {
    "duration": 12,
    "start_time": "2022-03-02T19:10:40.190Z"
   },
   {
    "duration": 5,
    "start_time": "2022-03-02T19:10:40.203Z"
   },
   {
    "duration": 7,
    "start_time": "2022-03-02T19:10:40.209Z"
   },
   {
    "duration": 10,
    "start_time": "2022-03-02T19:10:40.217Z"
   },
   {
    "duration": 37,
    "start_time": "2022-03-02T19:10:40.228Z"
   },
   {
    "duration": 37,
    "start_time": "2022-03-02T19:10:40.267Z"
   },
   {
    "duration": 8,
    "start_time": "2022-03-02T19:10:40.306Z"
   },
   {
    "duration": 5,
    "start_time": "2022-03-02T19:10:40.316Z"
   },
   {
    "duration": 10,
    "start_time": "2022-03-02T19:10:40.323Z"
   },
   {
    "duration": 31,
    "start_time": "2022-03-02T19:10:40.335Z"
   },
   {
    "duration": 10,
    "start_time": "2022-03-02T19:10:40.368Z"
   },
   {
    "duration": 6,
    "start_time": "2022-03-02T19:10:40.380Z"
   },
   {
    "duration": 15,
    "start_time": "2022-03-02T19:10:40.388Z"
   },
   {
    "duration": 7,
    "start_time": "2022-03-02T19:10:40.404Z"
   },
   {
    "duration": 7,
    "start_time": "2022-03-02T19:10:40.414Z"
   },
   {
    "duration": 4,
    "start_time": "2022-03-02T19:10:40.422Z"
   },
   {
    "duration": 37,
    "start_time": "2022-03-02T19:10:40.427Z"
   },
   {
    "duration": 4,
    "start_time": "2022-03-02T19:10:40.465Z"
   },
   {
    "duration": 8,
    "start_time": "2022-03-02T19:10:40.471Z"
   },
   {
    "duration": 20,
    "start_time": "2022-03-02T19:10:40.480Z"
   },
   {
    "duration": 16,
    "start_time": "2022-03-02T19:10:40.502Z"
   },
   {
    "duration": 53,
    "start_time": "2022-03-02T19:10:40.519Z"
   },
   {
    "duration": 11,
    "start_time": "2022-03-02T19:10:40.574Z"
   },
   {
    "duration": 19,
    "start_time": "2022-03-02T19:10:40.587Z"
   },
   {
    "duration": 11,
    "start_time": "2022-03-02T19:10:40.607Z"
   },
   {
    "duration": 5,
    "start_time": "2022-03-02T19:10:40.619Z"
   },
   {
    "duration": 45,
    "start_time": "2022-03-02T19:10:40.626Z"
   },
   {
    "duration": 1133,
    "start_time": "2022-03-03T17:45:44.132Z"
   },
   {
    "duration": 22,
    "start_time": "2022-03-03T17:45:45.268Z"
   },
   {
    "duration": 12,
    "start_time": "2022-03-03T17:45:45.294Z"
   },
   {
    "duration": 41,
    "start_time": "2022-03-03T17:45:45.310Z"
   },
   {
    "duration": 12,
    "start_time": "2022-03-03T17:45:45.354Z"
   },
   {
    "duration": 3,
    "start_time": "2022-03-03T17:45:45.369Z"
   },
   {
    "duration": 12,
    "start_time": "2022-03-03T17:45:45.375Z"
   },
   {
    "duration": 12,
    "start_time": "2022-03-03T17:45:45.391Z"
   },
   {
    "duration": 59,
    "start_time": "2022-03-03T17:45:45.405Z"
   },
   {
    "duration": 9,
    "start_time": "2022-03-03T17:45:45.466Z"
   },
   {
    "duration": 8,
    "start_time": "2022-03-03T17:45:45.477Z"
   },
   {
    "duration": 11,
    "start_time": "2022-03-03T17:45:45.488Z"
   },
   {
    "duration": 55,
    "start_time": "2022-03-03T17:45:45.501Z"
   },
   {
    "duration": 59,
    "start_time": "2022-03-03T17:45:45.559Z"
   },
   {
    "duration": 32,
    "start_time": "2022-03-03T17:45:45.620Z"
   },
   {
    "duration": 86,
    "start_time": "2022-03-03T17:45:45.655Z"
   },
   {
    "duration": 42,
    "start_time": "2022-03-03T17:45:45.743Z"
   },
   {
    "duration": 20,
    "start_time": "2022-03-03T17:45:45.787Z"
   },
   {
    "duration": 30,
    "start_time": "2022-03-03T17:45:45.809Z"
   },
   {
    "duration": 28,
    "start_time": "2022-03-03T17:45:45.841Z"
   },
   {
    "duration": 30,
    "start_time": "2022-03-03T17:45:45.872Z"
   },
   {
    "duration": 24,
    "start_time": "2022-03-03T17:45:45.904Z"
   },
   {
    "duration": 38,
    "start_time": "2022-03-03T17:45:45.935Z"
   },
   {
    "duration": 17,
    "start_time": "2022-03-03T17:45:45.977Z"
   },
   {
    "duration": 21,
    "start_time": "2022-03-03T17:45:45.996Z"
   },
   {
    "duration": 23,
    "start_time": "2022-03-03T17:45:46.019Z"
   },
   {
    "duration": 44,
    "start_time": "2022-03-03T17:45:46.044Z"
   },
   {
    "duration": 38,
    "start_time": "2022-03-03T17:45:46.092Z"
   },
   {
    "duration": 22,
    "start_time": "2022-03-03T17:45:46.133Z"
   },
   {
    "duration": 50,
    "start_time": "2022-03-03T17:45:46.157Z"
   },
   {
    "duration": 17,
    "start_time": "2022-03-03T17:45:46.209Z"
   },
   {
    "duration": 41,
    "start_time": "2022-03-03T17:45:46.228Z"
   },
   {
    "duration": 18,
    "start_time": "2022-03-03T17:45:46.271Z"
   },
   {
    "duration": 13,
    "start_time": "2022-03-03T17:45:46.291Z"
   },
   {
    "duration": 63,
    "start_time": "2022-03-03T17:45:46.306Z"
   },
   {
    "duration": 7,
    "start_time": "2022-03-03T17:50:38.109Z"
   },
   {
    "duration": 8,
    "start_time": "2022-03-03T17:57:50.668Z"
   },
   {
    "duration": 9,
    "start_time": "2022-03-03T17:58:01.133Z"
   },
   {
    "duration": 841,
    "start_time": "2022-03-04T18:27:13.988Z"
   },
   {
    "duration": 13,
    "start_time": "2022-03-04T18:27:14.832Z"
   },
   {
    "duration": 9,
    "start_time": "2022-03-04T18:27:14.848Z"
   },
   {
    "duration": 8,
    "start_time": "2022-03-04T18:27:14.860Z"
   },
   {
    "duration": 9,
    "start_time": "2022-03-04T18:27:14.870Z"
   },
   {
    "duration": 3,
    "start_time": "2022-03-04T18:27:14.881Z"
   },
   {
    "duration": 6,
    "start_time": "2022-03-04T18:27:14.931Z"
   },
   {
    "duration": 13,
    "start_time": "2022-03-04T18:27:14.941Z"
   },
   {
    "duration": 23,
    "start_time": "2022-03-04T18:27:14.958Z"
   },
   {
    "duration": 13,
    "start_time": "2022-03-04T18:27:14.985Z"
   },
   {
    "duration": 10,
    "start_time": "2022-03-04T18:27:15.034Z"
   },
   {
    "duration": 13,
    "start_time": "2022-03-04T18:27:15.047Z"
   },
   {
    "duration": 10,
    "start_time": "2022-03-04T18:27:15.063Z"
   },
   {
    "duration": 108,
    "start_time": "2022-03-04T18:27:15.076Z"
   },
   {
    "duration": 15,
    "start_time": "2022-03-04T18:27:15.187Z"
   },
   {
    "duration": 33,
    "start_time": "2022-03-04T18:27:15.205Z"
   },
   {
    "duration": 14,
    "start_time": "2022-03-04T18:27:15.241Z"
   },
   {
    "duration": 10,
    "start_time": "2022-03-04T18:27:15.258Z"
   },
   {
    "duration": 12,
    "start_time": "2022-03-04T18:27:15.271Z"
   },
   {
    "duration": 49,
    "start_time": "2022-03-04T18:27:15.285Z"
   },
   {
    "duration": 32,
    "start_time": "2022-03-04T18:27:15.337Z"
   },
   {
    "duration": 7,
    "start_time": "2022-03-04T18:27:15.372Z"
   },
   {
    "duration": 9,
    "start_time": "2022-03-04T18:27:15.386Z"
   },
   {
    "duration": 7,
    "start_time": "2022-03-04T18:27:15.434Z"
   },
   {
    "duration": 13,
    "start_time": "2022-03-04T18:27:15.444Z"
   },
   {
    "duration": 7,
    "start_time": "2022-03-04T18:27:15.459Z"
   },
   {
    "duration": 10,
    "start_time": "2022-03-04T18:27:15.469Z"
   },
   {
    "duration": 74,
    "start_time": "2022-03-04T18:27:15.481Z"
   },
   {
    "duration": 23,
    "start_time": "2022-03-04T18:27:15.558Z"
   },
   {
    "duration": 74,
    "start_time": "2022-03-04T18:27:15.584Z"
   },
   {
    "duration": 18,
    "start_time": "2022-03-04T18:27:15.661Z"
   },
   {
    "duration": 50,
    "start_time": "2022-03-04T18:27:15.682Z"
   },
   {
    "duration": 17,
    "start_time": "2022-03-04T18:27:15.735Z"
   },
   {
    "duration": 8,
    "start_time": "2022-03-04T18:27:15.755Z"
   },
   {
    "duration": 68,
    "start_time": "2022-03-04T18:27:15.766Z"
   },
   {
    "duration": 11,
    "start_time": "2022-03-04T18:27:15.837Z"
   },
   {
    "duration": 8,
    "start_time": "2022-03-04T18:54:27.918Z"
   },
   {
    "duration": 7,
    "start_time": "2022-03-04T18:54:57.231Z"
   },
   {
    "duration": 7,
    "start_time": "2022-03-04T18:55:12.742Z"
   },
   {
    "duration": 7,
    "start_time": "2022-03-04T18:55:36.347Z"
   },
   {
    "duration": 10,
    "start_time": "2022-03-04T18:55:49.774Z"
   },
   {
    "duration": 10,
    "start_time": "2022-03-04T18:56:07.203Z"
   },
   {
    "duration": 9,
    "start_time": "2022-03-04T18:56:22.149Z"
   },
   {
    "duration": 9,
    "start_time": "2022-03-04T18:56:39.943Z"
   },
   {
    "duration": 99,
    "start_time": "2022-03-04T18:56:59.376Z"
   },
   {
    "duration": 99,
    "start_time": "2022-03-04T18:57:07.449Z"
   },
   {
    "duration": 118,
    "start_time": "2022-03-04T18:57:45.544Z"
   },
   {
    "duration": 105,
    "start_time": "2022-03-04T18:57:54.235Z"
   },
   {
    "duration": 115,
    "start_time": "2022-03-04T18:58:27.038Z"
   },
   {
    "duration": 102,
    "start_time": "2022-03-04T18:58:50.610Z"
   },
   {
    "duration": 115,
    "start_time": "2022-03-04T18:58:56.045Z"
   },
   {
    "duration": 107,
    "start_time": "2022-03-04T18:59:01.329Z"
   },
   {
    "duration": 87,
    "start_time": "2022-03-04T18:59:16.284Z"
   },
   {
    "duration": 14,
    "start_time": "2022-03-04T18:59:16.374Z"
   },
   {
    "duration": 9,
    "start_time": "2022-03-04T18:59:16.391Z"
   },
   {
    "duration": 8,
    "start_time": "2022-03-04T18:59:16.434Z"
   },
   {
    "duration": 10,
    "start_time": "2022-03-04T18:59:16.444Z"
   },
   {
    "duration": 4,
    "start_time": "2022-03-04T18:59:16.456Z"
   },
   {
    "duration": 5,
    "start_time": "2022-03-04T18:59:16.462Z"
   },
   {
    "duration": 64,
    "start_time": "2022-03-04T18:59:16.470Z"
   },
   {
    "duration": 21,
    "start_time": "2022-03-04T18:59:16.537Z"
   },
   {
    "duration": 8,
    "start_time": "2022-03-04T18:59:16.560Z"
   },
   {
    "duration": 7,
    "start_time": "2022-03-04T18:59:16.570Z"
   },
   {
    "duration": 11,
    "start_time": "2022-03-04T18:59:16.632Z"
   },
   {
    "duration": 6,
    "start_time": "2022-03-04T18:59:16.645Z"
   },
   {
    "duration": 92,
    "start_time": "2022-03-04T18:59:16.654Z"
   },
   {
    "duration": 13,
    "start_time": "2022-03-04T18:59:16.748Z"
   },
   {
    "duration": 7,
    "start_time": "2022-03-04T18:59:16.764Z"
   },
   {
    "duration": 16,
    "start_time": "2022-03-04T18:59:16.773Z"
   },
   {
    "duration": 48,
    "start_time": "2022-03-04T18:59:16.791Z"
   },
   {
    "duration": 13,
    "start_time": "2022-03-04T18:59:16.841Z"
   },
   {
    "duration": 7,
    "start_time": "2022-03-04T18:59:16.856Z"
   },
   {
    "duration": 69,
    "start_time": "2022-03-04T18:59:16.865Z"
   },
   {
    "duration": 18,
    "start_time": "2022-03-04T18:59:16.937Z"
   },
   {
    "duration": 9,
    "start_time": "2022-03-04T18:59:16.961Z"
   },
   {
    "duration": 10,
    "start_time": "2022-03-04T18:59:16.973Z"
   },
   {
    "duration": 47,
    "start_time": "2022-03-04T18:59:16.985Z"
   },
   {
    "duration": 6,
    "start_time": "2022-03-04T18:59:17.035Z"
   },
   {
    "duration": 10,
    "start_time": "2022-03-04T18:59:17.044Z"
   },
   {
    "duration": 20,
    "start_time": "2022-03-04T18:59:17.057Z"
   },
   {
    "duration": 77,
    "start_time": "2022-03-04T18:59:17.080Z"
   },
   {
    "duration": 74,
    "start_time": "2022-03-04T18:59:17.160Z"
   },
   {
    "duration": 23,
    "start_time": "2022-03-04T18:59:17.237Z"
   },
   {
    "duration": 24,
    "start_time": "2022-03-04T18:59:17.262Z"
   },
   {
    "duration": 54,
    "start_time": "2022-03-04T18:59:17.288Z"
   },
   {
    "duration": 8,
    "start_time": "2022-03-04T18:59:17.344Z"
   },
   {
    "duration": 31,
    "start_time": "2022-03-04T18:59:17.355Z"
   },
   {
    "duration": 49,
    "start_time": "2022-03-04T18:59:17.388Z"
   },
   {
    "duration": 99,
    "start_time": "2022-03-04T18:59:17.440Z"
   },
   {
    "duration": 8,
    "start_time": "2022-03-04T19:00:14.850Z"
   },
   {
    "duration": 7,
    "start_time": "2022-03-04T19:00:21.030Z"
   },
   {
    "duration": 7,
    "start_time": "2022-03-04T19:00:31.439Z"
   },
   {
    "duration": 8,
    "start_time": "2022-03-04T19:00:40.208Z"
   },
   {
    "duration": 7,
    "start_time": "2022-03-04T19:00:52.590Z"
   },
   {
    "duration": 7,
    "start_time": "2022-03-04T19:01:00.301Z"
   },
   {
    "duration": 7,
    "start_time": "2022-03-04T19:01:30.582Z"
   },
   {
    "duration": 8,
    "start_time": "2022-03-04T19:01:44.027Z"
   },
   {
    "duration": 114,
    "start_time": "2022-03-04T19:03:06.944Z"
   },
   {
    "duration": 6,
    "start_time": "2022-03-04T19:03:23.525Z"
   },
   {
    "duration": 6,
    "start_time": "2022-03-04T19:03:39.955Z"
   },
   {
    "duration": 8,
    "start_time": "2022-03-04T19:04:10.272Z"
   },
   {
    "duration": 7,
    "start_time": "2022-03-04T19:04:45.079Z"
   },
   {
    "duration": 7,
    "start_time": "2022-03-04T19:05:09.250Z"
   },
   {
    "duration": 8,
    "start_time": "2022-03-04T19:05:45.349Z"
   },
   {
    "duration": 512,
    "start_time": "2022-03-04T19:08:12.295Z"
   },
   {
    "duration": 26,
    "start_time": "2022-03-04T19:08:47.727Z"
   },
   {
    "duration": 43,
    "start_time": "2022-03-04T19:09:08.561Z"
   },
   {
    "duration": 35,
    "start_time": "2022-03-04T19:11:38.438Z"
   },
   {
    "duration": 33,
    "start_time": "2022-03-04T19:12:04.815Z"
   },
   {
    "duration": 22,
    "start_time": "2022-03-04T19:14:31.894Z"
   },
   {
    "duration": 301,
    "start_time": "2022-03-04T19:28:20.262Z"
   },
   {
    "duration": 306,
    "start_time": "2022-03-04T19:28:35.176Z"
   },
   {
    "duration": 378,
    "start_time": "2022-03-04T19:28:57.943Z"
   },
   {
    "duration": 22,
    "start_time": "2022-03-04T19:29:34.264Z"
   },
   {
    "duration": 27,
    "start_time": "2022-03-04T19:29:51.480Z"
   },
   {
    "duration": 5894,
    "start_time": "2022-03-04T19:52:03.027Z"
   },
   {
    "duration": 5669,
    "start_time": "2022-03-04T19:52:28.471Z"
   },
   {
    "duration": 5680,
    "start_time": "2022-03-04T19:55:13.866Z"
   },
   {
    "duration": -292,
    "start_time": "2022-03-04T19:55:26.960Z"
   },
   {
    "duration": 5720,
    "start_time": "2022-03-04T19:55:35.918Z"
   },
   {
    "duration": 5720,
    "start_time": "2022-03-04T19:55:56.726Z"
   },
   {
    "duration": 6248,
    "start_time": "2022-03-04T19:56:35.679Z"
   },
   {
    "duration": 377,
    "start_time": "2022-03-04T19:56:54.241Z"
   },
   {
    "duration": 5816,
    "start_time": "2022-03-04T19:57:11.748Z"
   },
   {
    "duration": 5659,
    "start_time": "2022-03-04T19:58:58.146Z"
   },
   {
    "duration": 2086,
    "start_time": "2022-03-04T20:01:08.670Z"
   },
   {
    "duration": 2194,
    "start_time": "2022-03-04T20:01:45.630Z"
   },
   {
    "duration": 653,
    "start_time": "2022-03-06T14:44:01.914Z"
   },
   {
    "duration": 10,
    "start_time": "2022-03-06T14:44:02.569Z"
   },
   {
    "duration": 22,
    "start_time": "2022-03-06T14:44:02.582Z"
   },
   {
    "duration": 6,
    "start_time": "2022-03-06T14:44:02.606Z"
   },
   {
    "duration": 20,
    "start_time": "2022-03-06T14:44:02.613Z"
   },
   {
    "duration": 3,
    "start_time": "2022-03-06T14:44:02.634Z"
   },
   {
    "duration": 7,
    "start_time": "2022-03-06T14:44:02.638Z"
   },
   {
    "duration": 12,
    "start_time": "2022-03-06T14:44:02.647Z"
   },
   {
    "duration": 20,
    "start_time": "2022-03-06T14:44:02.662Z"
   },
   {
    "duration": 6,
    "start_time": "2022-03-06T14:44:02.684Z"
   },
   {
    "duration": 10,
    "start_time": "2022-03-06T14:44:02.692Z"
   },
   {
    "duration": 33,
    "start_time": "2022-03-06T14:44:02.704Z"
   },
   {
    "duration": 5,
    "start_time": "2022-03-06T14:44:02.739Z"
   },
   {
    "duration": 50,
    "start_time": "2022-03-06T14:44:02.746Z"
   },
   {
    "duration": 10,
    "start_time": "2022-03-06T14:44:02.797Z"
   },
   {
    "duration": 26,
    "start_time": "2022-03-06T14:44:02.808Z"
   },
   {
    "duration": 11,
    "start_time": "2022-03-06T14:44:02.836Z"
   },
   {
    "duration": 8,
    "start_time": "2022-03-06T14:44:02.849Z"
   },
   {
    "duration": 20,
    "start_time": "2022-03-06T14:44:02.859Z"
   },
   {
    "duration": 7,
    "start_time": "2022-03-06T14:44:02.880Z"
   },
   {
    "duration": 16,
    "start_time": "2022-03-06T14:44:02.889Z"
   },
   {
    "duration": 27,
    "start_time": "2022-03-06T14:44:02.907Z"
   },
   {
    "duration": 5,
    "start_time": "2022-03-06T14:44:02.937Z"
   },
   {
    "duration": 5,
    "start_time": "2022-03-06T14:44:02.945Z"
   },
   {
    "duration": 9,
    "start_time": "2022-03-06T14:44:02.952Z"
   },
   {
    "duration": 5,
    "start_time": "2022-03-06T14:44:02.963Z"
   },
   {
    "duration": 7,
    "start_time": "2022-03-06T14:44:02.970Z"
   },
   {
    "duration": 54,
    "start_time": "2022-03-06T14:44:02.979Z"
   },
   {
    "duration": 14,
    "start_time": "2022-03-06T14:44:03.035Z"
   },
   {
    "duration": 29,
    "start_time": "2022-03-06T14:44:03.051Z"
   },
   {
    "duration": 13,
    "start_time": "2022-03-06T14:44:03.082Z"
   },
   {
    "duration": 47,
    "start_time": "2022-03-06T14:44:03.096Z"
   },
   {
    "duration": 11,
    "start_time": "2022-03-06T14:44:03.144Z"
   },
   {
    "duration": 6,
    "start_time": "2022-03-06T14:44:03.157Z"
   },
   {
    "duration": 22,
    "start_time": "2022-03-06T14:44:03.165Z"
   },
   {
    "duration": 9,
    "start_time": "2022-03-06T14:44:03.188Z"
   },
   {
    "duration": 35,
    "start_time": "2022-03-06T14:44:03.198Z"
   },
   {
    "duration": 21,
    "start_time": "2022-03-06T14:44:03.235Z"
   },
   {
    "duration": 11,
    "start_time": "2022-03-06T14:44:03.257Z"
   },
   {
    "duration": 23,
    "start_time": "2022-03-06T14:44:03.269Z"
   },
   {
    "duration": 1284,
    "start_time": "2022-03-06T14:44:03.294Z"
   },
   {
    "duration": 2,
    "start_time": "2022-03-06T14:56:51.474Z"
   },
   {
    "duration": 6,
    "start_time": "2022-03-06T15:02:59.958Z"
   },
   {
    "duration": 6,
    "start_time": "2022-03-06T15:03:06.397Z"
   },
   {
    "duration": 6,
    "start_time": "2022-03-06T15:03:12.846Z"
   },
   {
    "duration": 6,
    "start_time": "2022-03-06T15:05:03.950Z"
   },
   {
    "duration": 5,
    "start_time": "2022-03-06T15:05:18.227Z"
   },
   {
    "duration": 288,
    "start_time": "2022-03-06T15:05:25.707Z"
   },
   {
    "duration": 5,
    "start_time": "2022-03-06T15:05:51.796Z"
   },
   {
    "duration": 2356,
    "start_time": "2022-03-06T15:07:35.474Z"
   },
   {
    "duration": 5,
    "start_time": "2022-03-06T15:08:41.913Z"
   },
   {
    "duration": 5,
    "start_time": "2022-03-06T15:08:46.511Z"
   },
   {
    "duration": 10,
    "start_time": "2022-03-06T15:09:04.657Z"
   },
   {
    "duration": 641,
    "start_time": "2022-03-06T15:29:53.210Z"
   },
   {
    "duration": 10,
    "start_time": "2022-03-06T15:29:53.853Z"
   },
   {
    "duration": 6,
    "start_time": "2022-03-06T15:29:53.865Z"
   },
   {
    "duration": 5,
    "start_time": "2022-03-06T15:29:53.873Z"
   },
   {
    "duration": 5,
    "start_time": "2022-03-06T15:29:53.880Z"
   },
   {
    "duration": 2,
    "start_time": "2022-03-06T15:29:53.887Z"
   },
   {
    "duration": 5,
    "start_time": "2022-03-06T15:29:53.890Z"
   },
   {
    "duration": 44,
    "start_time": "2022-03-06T15:29:53.897Z"
   },
   {
    "duration": 13,
    "start_time": "2022-03-06T15:29:53.943Z"
   },
   {
    "duration": 6,
    "start_time": "2022-03-06T15:29:53.958Z"
   },
   {
    "duration": 6,
    "start_time": "2022-03-06T15:29:53.966Z"
   },
   {
    "duration": 8,
    "start_time": "2022-03-06T15:29:53.973Z"
   },
   {
    "duration": 5,
    "start_time": "2022-03-06T15:29:53.983Z"
   },
   {
    "duration": 81,
    "start_time": "2022-03-06T15:29:53.990Z"
   },
   {
    "duration": 8,
    "start_time": "2022-03-06T15:29:54.073Z"
   },
   {
    "duration": 6,
    "start_time": "2022-03-06T15:29:54.082Z"
   },
   {
    "duration": 9,
    "start_time": "2022-03-06T15:29:54.089Z"
   },
   {
    "duration": 5,
    "start_time": "2022-03-06T15:29:54.100Z"
   },
   {
    "duration": 9,
    "start_time": "2022-03-06T15:29:54.133Z"
   },
   {
    "duration": 4,
    "start_time": "2022-03-06T15:29:54.143Z"
   },
   {
    "duration": 15,
    "start_time": "2022-03-06T15:29:54.149Z"
   },
   {
    "duration": 4,
    "start_time": "2022-03-06T15:29:54.165Z"
   },
   {
    "duration": 5,
    "start_time": "2022-03-06T15:29:54.172Z"
   },
   {
    "duration": 4,
    "start_time": "2022-03-06T15:29:54.178Z"
   },
   {
    "duration": 8,
    "start_time": "2022-03-06T15:29:54.184Z"
   },
   {
    "duration": 4,
    "start_time": "2022-03-06T15:29:54.233Z"
   },
   {
    "duration": 11,
    "start_time": "2022-03-06T15:29:54.238Z"
   },
   {
    "duration": 13,
    "start_time": "2022-03-06T15:29:54.250Z"
   },
   {
    "duration": 14,
    "start_time": "2022-03-06T15:29:54.265Z"
   },
   {
    "duration": 29,
    "start_time": "2022-03-06T15:29:54.280Z"
   },
   {
    "duration": 12,
    "start_time": "2022-03-06T15:29:54.333Z"
   },
   {
    "duration": 17,
    "start_time": "2022-03-06T15:29:54.347Z"
   },
   {
    "duration": 12,
    "start_time": "2022-03-06T15:29:54.366Z"
   },
   {
    "duration": 4,
    "start_time": "2022-03-06T15:29:54.380Z"
   },
   {
    "duration": 57,
    "start_time": "2022-03-06T15:29:54.386Z"
   },
   {
    "duration": 5,
    "start_time": "2022-03-06T15:29:54.445Z"
   },
   {
    "duration": 7,
    "start_time": "2022-03-06T15:29:54.451Z"
   },
   {
    "duration": 28,
    "start_time": "2022-03-06T15:29:54.460Z"
   },
   {
    "duration": 11,
    "start_time": "2022-03-06T15:29:54.490Z"
   },
   {
    "duration": 39,
    "start_time": "2022-03-06T15:29:54.503Z"
   },
   {
    "duration": 5,
    "start_time": "2022-03-06T15:29:54.543Z"
   },
   {
    "duration": 11,
    "start_time": "2022-03-06T15:29:54.549Z"
   },
   {
    "duration": 57,
    "start_time": "2022-03-06T15:30:02.304Z"
   },
   {
    "duration": 11,
    "start_time": "2022-03-06T15:30:02.363Z"
   },
   {
    "duration": 15,
    "start_time": "2022-03-06T15:30:02.375Z"
   },
   {
    "duration": 5,
    "start_time": "2022-03-06T15:30:02.392Z"
   },
   {
    "duration": 12,
    "start_time": "2022-03-06T15:30:02.399Z"
   },
   {
    "duration": 21,
    "start_time": "2022-03-06T15:30:02.412Z"
   },
   {
    "duration": 10,
    "start_time": "2022-03-06T15:30:02.435Z"
   },
   {
    "duration": 11,
    "start_time": "2022-03-06T15:30:02.448Z"
   },
   {
    "duration": 24,
    "start_time": "2022-03-06T15:30:02.461Z"
   },
   {
    "duration": 6,
    "start_time": "2022-03-06T15:30:02.487Z"
   },
   {
    "duration": 12,
    "start_time": "2022-03-06T15:30:02.495Z"
   },
   {
    "duration": 25,
    "start_time": "2022-03-06T15:30:02.509Z"
   },
   {
    "duration": 4,
    "start_time": "2022-03-06T15:30:02.536Z"
   },
   {
    "duration": 47,
    "start_time": "2022-03-06T15:30:02.542Z"
   },
   {
    "duration": 9,
    "start_time": "2022-03-06T15:30:02.590Z"
   },
   {
    "duration": 14,
    "start_time": "2022-03-06T15:30:02.600Z"
   },
   {
    "duration": 29,
    "start_time": "2022-03-06T15:30:02.616Z"
   },
   {
    "duration": 16,
    "start_time": "2022-03-06T15:30:02.648Z"
   },
   {
    "duration": 24,
    "start_time": "2022-03-06T15:30:02.666Z"
   },
   {
    "duration": 9,
    "start_time": "2022-03-06T15:30:02.692Z"
   },
   {
    "duration": 23,
    "start_time": "2022-03-06T15:30:02.703Z"
   },
   {
    "duration": 18,
    "start_time": "2022-03-06T15:30:02.727Z"
   },
   {
    "duration": 7,
    "start_time": "2022-03-06T15:30:02.748Z"
   },
   {
    "duration": 5,
    "start_time": "2022-03-06T15:30:02.756Z"
   },
   {
    "duration": 8,
    "start_time": "2022-03-06T15:30:02.762Z"
   },
   {
    "duration": 11,
    "start_time": "2022-03-06T15:30:02.771Z"
   },
   {
    "duration": 8,
    "start_time": "2022-03-06T15:30:02.783Z"
   },
   {
    "duration": 14,
    "start_time": "2022-03-06T15:30:02.793Z"
   },
   {
    "duration": 41,
    "start_time": "2022-03-06T15:30:02.809Z"
   },
   {
    "duration": 27,
    "start_time": "2022-03-06T15:30:02.852Z"
   },
   {
    "duration": 13,
    "start_time": "2022-03-06T15:30:02.881Z"
   },
   {
    "duration": 50,
    "start_time": "2022-03-06T15:30:02.895Z"
   },
   {
    "duration": 12,
    "start_time": "2022-03-06T15:30:02.946Z"
   },
   {
    "duration": 14,
    "start_time": "2022-03-06T15:30:02.959Z"
   },
   {
    "duration": 26,
    "start_time": "2022-03-06T15:30:02.975Z"
   },
   {
    "duration": 10,
    "start_time": "2022-03-06T15:30:03.003Z"
   },
   {
    "duration": 18,
    "start_time": "2022-03-06T15:30:03.015Z"
   },
   {
    "duration": 22,
    "start_time": "2022-03-06T15:30:03.034Z"
   },
   {
    "duration": 15,
    "start_time": "2022-03-06T15:30:03.057Z"
   },
   {
    "duration": 18,
    "start_time": "2022-03-06T15:30:03.074Z"
   },
   {
    "duration": 5,
    "start_time": "2022-03-06T15:30:03.093Z"
   },
   {
    "duration": 34,
    "start_time": "2022-03-06T15:30:03.100Z"
   },
   {
    "duration": 857,
    "start_time": "2022-03-06T19:33:01.838Z"
   },
   {
    "duration": 16,
    "start_time": "2022-03-06T19:33:02.697Z"
   },
   {
    "duration": 10,
    "start_time": "2022-03-06T19:33:02.732Z"
   },
   {
    "duration": 8,
    "start_time": "2022-03-06T19:33:02.746Z"
   },
   {
    "duration": 20,
    "start_time": "2022-03-06T19:33:02.756Z"
   },
   {
    "duration": 10,
    "start_time": "2022-03-06T19:33:02.778Z"
   },
   {
    "duration": 20,
    "start_time": "2022-03-06T19:33:02.790Z"
   },
   {
    "duration": 24,
    "start_time": "2022-03-06T19:33:02.813Z"
   },
   {
    "duration": 22,
    "start_time": "2022-03-06T19:33:02.840Z"
   },
   {
    "duration": 8,
    "start_time": "2022-03-06T19:33:02.864Z"
   },
   {
    "duration": 12,
    "start_time": "2022-03-06T19:33:02.875Z"
   },
   {
    "duration": 43,
    "start_time": "2022-03-06T19:33:02.889Z"
   },
   {
    "duration": 6,
    "start_time": "2022-03-06T19:33:02.935Z"
   },
   {
    "duration": 68,
    "start_time": "2022-03-06T19:33:02.943Z"
   },
   {
    "duration": 25,
    "start_time": "2022-03-06T19:33:03.013Z"
   },
   {
    "duration": 16,
    "start_time": "2022-03-06T19:33:03.040Z"
   },
   {
    "duration": 16,
    "start_time": "2022-03-06T19:33:03.059Z"
   },
   {
    "duration": 8,
    "start_time": "2022-03-06T19:33:03.077Z"
   },
   {
    "duration": 45,
    "start_time": "2022-03-06T19:33:03.087Z"
   },
   {
    "duration": 5,
    "start_time": "2022-03-06T19:33:03.135Z"
   },
   {
    "duration": 29,
    "start_time": "2022-03-06T19:33:03.143Z"
   },
   {
    "duration": 6,
    "start_time": "2022-03-06T19:33:03.175Z"
   },
   {
    "duration": 8,
    "start_time": "2022-03-06T19:33:03.188Z"
   },
   {
    "duration": 39,
    "start_time": "2022-03-06T19:33:03.198Z"
   },
   {
    "duration": 12,
    "start_time": "2022-03-06T19:33:03.239Z"
   },
   {
    "duration": 8,
    "start_time": "2022-03-06T19:33:03.253Z"
   },
   {
    "duration": 15,
    "start_time": "2022-03-06T19:33:03.263Z"
   },
   {
    "duration": 24,
    "start_time": "2022-03-06T19:33:03.281Z"
   },
   {
    "duration": 23,
    "start_time": "2022-03-06T19:33:03.333Z"
   },
   {
    "duration": 41,
    "start_time": "2022-03-06T19:33:03.358Z"
   },
   {
    "duration": 43,
    "start_time": "2022-03-06T19:33:03.402Z"
   },
   {
    "duration": 24,
    "start_time": "2022-03-06T19:33:03.447Z"
   },
   {
    "duration": 17,
    "start_time": "2022-03-06T19:33:03.473Z"
   },
   {
    "duration": 40,
    "start_time": "2022-03-06T19:33:03.492Z"
   },
   {
    "duration": 35,
    "start_time": "2022-03-06T19:33:03.535Z"
   },
   {
    "duration": 7,
    "start_time": "2022-03-06T19:33:03.573Z"
   },
   {
    "duration": 11,
    "start_time": "2022-03-06T19:33:03.583Z"
   },
   {
    "duration": 71,
    "start_time": "2022-03-06T19:33:03.597Z"
   },
   {
    "duration": 20,
    "start_time": "2022-03-06T19:33:03.671Z"
   },
   {
    "duration": 63,
    "start_time": "2022-03-06T19:33:03.695Z"
   },
   {
    "duration": 8,
    "start_time": "2022-03-06T19:33:03.761Z"
   },
   {
    "duration": 14,
    "start_time": "2022-03-06T19:33:03.772Z"
   },
   {
    "duration": 29,
    "start_time": "2022-03-06T19:47:04.873Z"
   },
   {
    "duration": 8,
    "start_time": "2022-03-06T19:47:17.614Z"
   },
   {
    "duration": 20,
    "start_time": "2022-03-06T19:47:46.929Z"
   },
   {
    "duration": 438,
    "start_time": "2022-03-06T19:49:45.768Z"
   },
   {
    "duration": 453,
    "start_time": "2022-03-06T19:50:06.298Z"
   },
   {
    "duration": 22,
    "start_time": "2022-03-06T19:50:43.808Z"
   },
   {
    "duration": 27,
    "start_time": "2022-03-06T19:50:59.849Z"
   },
   {
    "duration": 13,
    "start_time": "2022-03-06T19:54:38.339Z"
   },
   {
    "duration": 18,
    "start_time": "2022-03-06T20:12:27.039Z"
   },
   {
    "duration": 17,
    "start_time": "2022-03-06T20:13:03.808Z"
   },
   {
    "duration": 28,
    "start_time": "2022-03-06T20:13:26.409Z"
   },
   {
    "duration": 12,
    "start_time": "2022-03-06T20:13:35.220Z"
   },
   {
    "duration": 17,
    "start_time": "2022-03-06T20:13:39.418Z"
   },
   {
    "duration": 93,
    "start_time": "2022-03-06T20:14:05.342Z"
   },
   {
    "duration": 15,
    "start_time": "2022-03-06T20:14:05.437Z"
   },
   {
    "duration": 9,
    "start_time": "2022-03-06T20:14:05.455Z"
   },
   {
    "duration": 8,
    "start_time": "2022-03-06T20:14:05.467Z"
   },
   {
    "duration": 9,
    "start_time": "2022-03-06T20:14:05.478Z"
   },
   {
    "duration": 3,
    "start_time": "2022-03-06T20:14:05.533Z"
   },
   {
    "duration": 6,
    "start_time": "2022-03-06T20:14:05.539Z"
   },
   {
    "duration": 16,
    "start_time": "2022-03-06T20:14:05.549Z"
   },
   {
    "duration": 22,
    "start_time": "2022-03-06T20:14:05.568Z"
   },
   {
    "duration": 11,
    "start_time": "2022-03-06T20:14:05.634Z"
   },
   {
    "duration": 8,
    "start_time": "2022-03-06T20:14:05.647Z"
   },
   {
    "duration": 11,
    "start_time": "2022-03-06T20:14:05.657Z"
   },
   {
    "duration": 6,
    "start_time": "2022-03-06T20:14:05.670Z"
   },
   {
    "duration": 107,
    "start_time": "2022-03-06T20:14:05.679Z"
   },
   {
    "duration": 13,
    "start_time": "2022-03-06T20:14:05.788Z"
   },
   {
    "duration": 28,
    "start_time": "2022-03-06T20:14:05.803Z"
   },
   {
    "duration": 16,
    "start_time": "2022-03-06T20:14:05.834Z"
   },
   {
    "duration": 8,
    "start_time": "2022-03-06T20:14:05.853Z"
   },
   {
    "duration": 12,
    "start_time": "2022-03-06T20:14:05.864Z"
   },
   {
    "duration": 6,
    "start_time": "2022-03-06T20:14:05.878Z"
   },
   {
    "duration": 19,
    "start_time": "2022-03-06T20:14:05.933Z"
   },
   {
    "duration": 5,
    "start_time": "2022-03-06T20:14:05.955Z"
   },
   {
    "duration": 9,
    "start_time": "2022-03-06T20:14:05.965Z"
   },
   {
    "duration": 6,
    "start_time": "2022-03-06T20:14:05.977Z"
   },
   {
    "duration": 49,
    "start_time": "2022-03-06T20:14:05.985Z"
   },
   {
    "duration": 6,
    "start_time": "2022-03-06T20:14:06.037Z"
   },
   {
    "duration": 11,
    "start_time": "2022-03-06T20:14:06.046Z"
   },
   {
    "duration": 19,
    "start_time": "2022-03-06T20:14:06.059Z"
   },
   {
    "duration": 71,
    "start_time": "2022-03-06T20:14:06.081Z"
   },
   {
    "duration": 46,
    "start_time": "2022-03-06T20:14:06.155Z"
   },
   {
    "duration": 42,
    "start_time": "2022-03-06T20:14:06.204Z"
   },
   {
    "duration": 26,
    "start_time": "2022-03-06T20:14:06.249Z"
   },
   {
    "duration": 57,
    "start_time": "2022-03-06T20:14:06.277Z"
   },
   {
    "duration": 7,
    "start_time": "2022-03-06T20:14:06.336Z"
   },
   {
    "duration": 32,
    "start_time": "2022-03-06T20:14:06.345Z"
   },
   {
    "duration": 10,
    "start_time": "2022-03-06T20:14:06.380Z"
   },
   {
    "duration": 45,
    "start_time": "2022-03-06T20:14:06.393Z"
   },
   {
    "duration": 37,
    "start_time": "2022-03-06T20:14:06.441Z"
   },
   {
    "duration": 51,
    "start_time": "2022-03-06T20:14:06.481Z"
   },
   {
    "duration": 27,
    "start_time": "2022-03-06T20:14:06.535Z"
   },
   {
    "duration": 7,
    "start_time": "2022-03-06T20:14:06.565Z"
   },
   {
    "duration": 18,
    "start_time": "2022-03-06T20:14:06.574Z"
   },
   {
    "duration": 64,
    "start_time": "2022-03-06T20:14:06.595Z"
   },
   {
    "duration": 14,
    "start_time": "2022-03-06T20:14:06.661Z"
   },
   {
    "duration": 19,
    "start_time": "2022-03-06T20:14:12.231Z"
   },
   {
    "duration": 1382,
    "start_time": "2022-03-06T20:16:17.556Z"
   },
   {
    "duration": 346,
    "start_time": "2022-03-06T20:16:32.118Z"
   },
   {
    "duration": 26,
    "start_time": "2022-03-06T20:18:47.387Z"
   },
   {
    "duration": 84,
    "start_time": "2022-03-06T20:18:54.436Z"
   },
   {
    "duration": 18,
    "start_time": "2022-03-06T20:18:54.524Z"
   },
   {
    "duration": 9,
    "start_time": "2022-03-06T20:18:54.545Z"
   },
   {
    "duration": 8,
    "start_time": "2022-03-06T20:18:54.557Z"
   },
   {
    "duration": 9,
    "start_time": "2022-03-06T20:18:54.568Z"
   },
   {
    "duration": 3,
    "start_time": "2022-03-06T20:18:54.632Z"
   },
   {
    "duration": 4,
    "start_time": "2022-03-06T20:18:54.638Z"
   },
   {
    "duration": 16,
    "start_time": "2022-03-06T20:18:54.646Z"
   },
   {
    "duration": 21,
    "start_time": "2022-03-06T20:18:54.665Z"
   },
   {
    "duration": 51,
    "start_time": "2022-03-06T20:18:54.688Z"
   },
   {
    "duration": 9,
    "start_time": "2022-03-06T20:18:54.741Z"
   },
   {
    "duration": 10,
    "start_time": "2022-03-06T20:18:54.752Z"
   },
   {
    "duration": 6,
    "start_time": "2022-03-06T20:18:54.764Z"
   },
   {
    "duration": 107,
    "start_time": "2022-03-06T20:18:54.772Z"
   },
   {
    "duration": 12,
    "start_time": "2022-03-06T20:18:54.881Z"
   },
   {
    "duration": 9,
    "start_time": "2022-03-06T20:18:54.895Z"
   },
   {
    "duration": 42,
    "start_time": "2022-03-06T20:18:54.906Z"
   },
   {
    "duration": 7,
    "start_time": "2022-03-06T20:18:54.951Z"
   },
   {
    "duration": 13,
    "start_time": "2022-03-06T20:18:54.960Z"
   },
   {
    "duration": 7,
    "start_time": "2022-03-06T20:18:54.975Z"
   },
   {
    "duration": 65,
    "start_time": "2022-03-06T20:18:54.984Z"
   },
   {
    "duration": 5,
    "start_time": "2022-03-06T20:18:55.051Z"
   },
   {
    "duration": 7,
    "start_time": "2022-03-06T20:18:55.061Z"
   },
   {
    "duration": 5,
    "start_time": "2022-03-06T20:18:55.071Z"
   },
   {
    "duration": 19,
    "start_time": "2022-03-06T20:18:55.078Z"
   },
   {
    "duration": 38,
    "start_time": "2022-03-06T20:18:55.099Z"
   },
   {
    "duration": 9,
    "start_time": "2022-03-06T20:18:55.140Z"
   },
   {
    "duration": 18,
    "start_time": "2022-03-06T20:18:55.151Z"
   },
   {
    "duration": 61,
    "start_time": "2022-03-06T20:18:55.171Z"
   },
   {
    "duration": 42,
    "start_time": "2022-03-06T20:18:55.235Z"
   },
   {
    "duration": 19,
    "start_time": "2022-03-06T20:18:55.280Z"
   },
   {
    "duration": 48,
    "start_time": "2022-03-06T20:18:55.301Z"
   },
   {
    "duration": 20,
    "start_time": "2022-03-06T20:18:55.352Z"
   },
   {
    "duration": 8,
    "start_time": "2022-03-06T20:18:55.376Z"
   },
   {
    "duration": 73,
    "start_time": "2022-03-06T20:18:55.387Z"
   },
   {
    "duration": 10,
    "start_time": "2022-03-06T20:18:55.463Z"
   },
   {
    "duration": 7,
    "start_time": "2022-03-06T20:18:55.476Z"
   },
   {
    "duration": 72,
    "start_time": "2022-03-06T20:18:55.485Z"
   },
   {
    "duration": 19,
    "start_time": "2022-03-06T20:18:55.559Z"
   },
   {
    "duration": 53,
    "start_time": "2022-03-06T20:18:55.581Z"
   },
   {
    "duration": 8,
    "start_time": "2022-03-06T20:18:55.636Z"
   },
   {
    "duration": 16,
    "start_time": "2022-03-06T20:18:55.646Z"
   },
   {
    "duration": 29,
    "start_time": "2022-03-06T20:18:55.664Z"
   },
   {
    "duration": 43,
    "start_time": "2022-03-06T20:18:55.695Z"
   },
   {
    "duration": 27,
    "start_time": "2022-03-06T20:18:55.741Z"
   },
   {
    "duration": 348,
    "start_time": "2022-03-06T20:25:41.220Z"
   },
   {
    "duration": 26,
    "start_time": "2022-03-06T20:26:01.191Z"
   },
   {
    "duration": 31,
    "start_time": "2022-03-06T20:28:16.248Z"
   },
   {
    "duration": 347,
    "start_time": "2022-03-06T20:29:44.334Z"
   },
   {
    "duration": 33,
    "start_time": "2022-03-06T20:29:53.915Z"
   },
   {
    "duration": 24,
    "start_time": "2022-03-06T20:34:12.700Z"
   },
   {
    "duration": 30,
    "start_time": "2022-03-06T20:34:26.264Z"
   },
   {
    "duration": 34,
    "start_time": "2022-03-06T20:37:21.201Z"
   },
   {
    "duration": 32,
    "start_time": "2022-03-06T20:37:37.264Z"
   },
   {
    "duration": 12,
    "start_time": "2022-03-06T20:46:40.109Z"
   },
   {
    "duration": 20,
    "start_time": "2022-03-06T20:48:41.439Z"
   },
   {
    "duration": 30,
    "start_time": "2022-03-06T20:49:55.726Z"
   },
   {
    "duration": 12,
    "start_time": "2022-03-06T20:51:47.922Z"
   },
   {
    "duration": 19,
    "start_time": "2022-03-06T20:51:56.776Z"
   },
   {
    "duration": 31,
    "start_time": "2022-03-06T21:03:02.625Z"
   },
   {
    "duration": 31,
    "start_time": "2022-03-06T21:04:16.720Z"
   },
   {
    "duration": 33,
    "start_time": "2022-03-06T21:05:23.635Z"
   },
   {
    "duration": 933,
    "start_time": "2022-03-06T21:33:21.733Z"
   },
   {
    "duration": 15,
    "start_time": "2022-03-06T21:33:22.669Z"
   },
   {
    "duration": 9,
    "start_time": "2022-03-06T21:33:22.687Z"
   },
   {
    "duration": 38,
    "start_time": "2022-03-06T21:33:22.699Z"
   },
   {
    "duration": 8,
    "start_time": "2022-03-06T21:33:22.740Z"
   },
   {
    "duration": 4,
    "start_time": "2022-03-06T21:33:22.751Z"
   },
   {
    "duration": 3,
    "start_time": "2022-03-06T21:33:22.758Z"
   },
   {
    "duration": 16,
    "start_time": "2022-03-06T21:33:22.764Z"
   },
   {
    "duration": 62,
    "start_time": "2022-03-06T21:33:22.782Z"
   },
   {
    "duration": 11,
    "start_time": "2022-03-06T21:33:22.846Z"
   },
   {
    "duration": 10,
    "start_time": "2022-03-06T21:33:22.860Z"
   },
   {
    "duration": 13,
    "start_time": "2022-03-06T21:33:22.872Z"
   },
   {
    "duration": 45,
    "start_time": "2022-03-06T21:33:22.887Z"
   },
   {
    "duration": 66,
    "start_time": "2022-03-06T21:33:22.935Z"
   },
   {
    "duration": 34,
    "start_time": "2022-03-06T21:33:23.004Z"
   },
   {
    "duration": 8,
    "start_time": "2022-03-06T21:33:23.040Z"
   },
   {
    "duration": 21,
    "start_time": "2022-03-06T21:33:23.050Z"
   },
   {
    "duration": 8,
    "start_time": "2022-03-06T21:33:23.073Z"
   },
   {
    "duration": 48,
    "start_time": "2022-03-06T21:33:23.084Z"
   },
   {
    "duration": 7,
    "start_time": "2022-03-06T21:33:23.135Z"
   },
   {
    "duration": 28,
    "start_time": "2022-03-06T21:33:23.144Z"
   },
   {
    "duration": 6,
    "start_time": "2022-03-06T21:33:23.177Z"
   },
   {
    "duration": 10,
    "start_time": "2022-03-06T21:33:23.186Z"
   },
   {
    "duration": 38,
    "start_time": "2022-03-06T21:33:23.199Z"
   },
   {
    "duration": 12,
    "start_time": "2022-03-06T21:33:23.240Z"
   },
   {
    "duration": 6,
    "start_time": "2022-03-06T21:33:23.254Z"
   },
   {
    "duration": 8,
    "start_time": "2022-03-06T21:33:23.262Z"
   },
   {
    "duration": 61,
    "start_time": "2022-03-06T21:33:23.273Z"
   },
   {
    "duration": 22,
    "start_time": "2022-03-06T21:33:23.336Z"
   },
   {
    "duration": 42,
    "start_time": "2022-03-06T21:33:23.361Z"
   },
   {
    "duration": 43,
    "start_time": "2022-03-06T21:33:23.406Z"
   },
   {
    "duration": 26,
    "start_time": "2022-03-06T21:33:23.451Z"
   },
   {
    "duration": 56,
    "start_time": "2022-03-06T21:33:23.480Z"
   },
   {
    "duration": 7,
    "start_time": "2022-03-06T21:33:23.538Z"
   },
   {
    "duration": 31,
    "start_time": "2022-03-06T21:33:23.547Z"
   },
   {
    "duration": 7,
    "start_time": "2022-03-06T21:33:23.580Z"
   },
   {
    "duration": 44,
    "start_time": "2022-03-06T21:33:23.589Z"
   },
   {
    "duration": 33,
    "start_time": "2022-03-06T21:33:23.635Z"
   },
   {
    "duration": 18,
    "start_time": "2022-03-06T21:33:23.671Z"
   },
   {
    "duration": 60,
    "start_time": "2022-03-06T21:33:23.691Z"
   },
   {
    "duration": 7,
    "start_time": "2022-03-06T21:33:23.753Z"
   },
   {
    "duration": 14,
    "start_time": "2022-03-06T21:33:23.763Z"
   },
   {
    "duration": 63,
    "start_time": "2022-03-06T21:33:23.779Z"
   },
   {
    "duration": 13,
    "start_time": "2022-03-06T21:33:23.845Z"
   },
   {
    "duration": 20,
    "start_time": "2022-03-06T21:33:23.861Z"
   },
   {
    "duration": 68,
    "start_time": "2022-03-06T21:33:23.884Z"
   },
   {
    "duration": 12,
    "start_time": "2022-03-06T21:33:23.955Z"
   },
   {
    "duration": 21,
    "start_time": "2022-03-06T21:33:23.970Z"
   },
   {
    "duration": 71,
    "start_time": "2022-03-06T21:33:23.994Z"
   },
   {
    "duration": 83,
    "start_time": "2022-03-06T21:33:31.846Z"
   },
   {
    "duration": 14,
    "start_time": "2022-03-06T21:33:31.931Z"
   },
   {
    "duration": 11,
    "start_time": "2022-03-06T21:33:31.949Z"
   },
   {
    "duration": 10,
    "start_time": "2022-03-06T21:33:31.963Z"
   },
   {
    "duration": 60,
    "start_time": "2022-03-06T21:33:31.976Z"
   },
   {
    "duration": 7,
    "start_time": "2022-03-06T21:33:32.038Z"
   },
   {
    "duration": 6,
    "start_time": "2022-03-06T21:33:32.047Z"
   },
   {
    "duration": 14,
    "start_time": "2022-03-06T21:33:32.056Z"
   },
   {
    "duration": 60,
    "start_time": "2022-03-06T21:33:32.073Z"
   },
   {
    "duration": 10,
    "start_time": "2022-03-06T21:33:32.135Z"
   },
   {
    "duration": 7,
    "start_time": "2022-03-06T21:33:32.148Z"
   },
   {
    "duration": 14,
    "start_time": "2022-03-06T21:33:32.157Z"
   },
   {
    "duration": 6,
    "start_time": "2022-03-06T21:33:32.173Z"
   },
   {
    "duration": 106,
    "start_time": "2022-03-06T21:33:32.181Z"
   },
   {
    "duration": 11,
    "start_time": "2022-03-06T21:33:32.290Z"
   },
   {
    "duration": 9,
    "start_time": "2022-03-06T21:33:32.303Z"
   },
   {
    "duration": 14,
    "start_time": "2022-03-06T21:33:32.333Z"
   },
   {
    "duration": 9,
    "start_time": "2022-03-06T21:33:32.350Z"
   },
   {
    "duration": 12,
    "start_time": "2022-03-06T21:33:32.361Z"
   },
   {
    "duration": 6,
    "start_time": "2022-03-06T21:33:32.375Z"
   },
   {
    "duration": 63,
    "start_time": "2022-03-06T21:33:32.383Z"
   },
   {
    "duration": 5,
    "start_time": "2022-03-06T21:33:32.449Z"
   },
   {
    "duration": 7,
    "start_time": "2022-03-06T21:33:32.460Z"
   },
   {
    "duration": 5,
    "start_time": "2022-03-06T21:33:32.470Z"
   },
   {
    "duration": 57,
    "start_time": "2022-03-06T21:33:32.478Z"
   },
   {
    "duration": 8,
    "start_time": "2022-03-06T21:33:32.538Z"
   },
   {
    "duration": 11,
    "start_time": "2022-03-06T21:33:32.549Z"
   },
   {
    "duration": 24,
    "start_time": "2022-03-06T21:33:32.563Z"
   },
   {
    "duration": 68,
    "start_time": "2022-03-06T21:33:32.590Z"
   },
   {
    "duration": 78,
    "start_time": "2022-03-06T21:33:32.661Z"
   },
   {
    "duration": 26,
    "start_time": "2022-03-06T21:33:32.743Z"
   },
   {
    "duration": 26,
    "start_time": "2022-03-06T21:33:32.772Z"
   },
   {
    "duration": 20,
    "start_time": "2022-03-06T21:33:32.833Z"
   },
   {
    "duration": 8,
    "start_time": "2022-03-06T21:33:32.856Z"
   },
   {
    "duration": 68,
    "start_time": "2022-03-06T21:33:32.867Z"
   },
   {
    "duration": 10,
    "start_time": "2022-03-06T21:33:32.938Z"
   },
   {
    "duration": 9,
    "start_time": "2022-03-06T21:33:32.951Z"
   },
   {
    "duration": 71,
    "start_time": "2022-03-06T21:33:32.963Z"
   },
   {
    "duration": 20,
    "start_time": "2022-03-06T21:33:33.037Z"
   },
   {
    "duration": 27,
    "start_time": "2022-03-06T21:33:33.059Z"
   },
   {
    "duration": 7,
    "start_time": "2022-03-06T21:33:33.088Z"
   },
   {
    "duration": 14,
    "start_time": "2022-03-06T21:33:33.133Z"
   },
   {
    "duration": 27,
    "start_time": "2022-03-06T21:33:33.149Z"
   },
   {
    "duration": 12,
    "start_time": "2022-03-06T21:33:33.179Z"
   },
   {
    "duration": 61,
    "start_time": "2022-03-06T21:33:33.194Z"
   },
   {
    "duration": 46,
    "start_time": "2022-03-06T21:33:33.258Z"
   },
   {
    "duration": 32,
    "start_time": "2022-03-06T21:33:33.307Z"
   },
   {
    "duration": 18,
    "start_time": "2022-03-06T21:33:33.342Z"
   },
   {
    "duration": 34,
    "start_time": "2022-03-06T21:33:33.362Z"
   },
   {
    "duration": 881,
    "start_time": "2022-03-06T21:58:08.351Z"
   },
   {
    "duration": 14,
    "start_time": "2022-03-06T21:58:09.235Z"
   },
   {
    "duration": 10,
    "start_time": "2022-03-06T21:58:09.252Z"
   },
   {
    "duration": 9,
    "start_time": "2022-03-06T21:58:09.265Z"
   },
   {
    "duration": 10,
    "start_time": "2022-03-06T21:58:09.276Z"
   },
   {
    "duration": 13,
    "start_time": "2022-03-06T21:58:09.333Z"
   },
   {
    "duration": 20,
    "start_time": "2022-03-06T21:58:09.349Z"
   },
   {
    "duration": 8,
    "start_time": "2022-03-06T21:58:09.373Z"
   },
   {
    "duration": 50,
    "start_time": "2022-03-06T21:58:09.385Z"
   },
   {
    "duration": 12,
    "start_time": "2022-03-06T21:58:09.438Z"
   },
   {
    "duration": 8,
    "start_time": "2022-03-06T21:58:09.453Z"
   },
   {
    "duration": 99,
    "start_time": "2022-03-06T21:58:09.464Z"
   },
   {
    "duration": 14,
    "start_time": "2022-03-06T21:58:09.565Z"
   },
   {
    "duration": 10,
    "start_time": "2022-03-06T21:58:09.582Z"
   },
   {
    "duration": 45,
    "start_time": "2022-03-06T21:58:09.594Z"
   },
   {
    "duration": 8,
    "start_time": "2022-03-06T21:58:09.641Z"
   },
   {
    "duration": 15,
    "start_time": "2022-03-06T21:58:09.651Z"
   },
   {
    "duration": 7,
    "start_time": "2022-03-06T21:58:09.669Z"
   },
   {
    "duration": 72,
    "start_time": "2022-03-06T21:58:09.678Z"
   },
   {
    "duration": 7,
    "start_time": "2022-03-06T21:58:09.753Z"
   },
   {
    "duration": 10,
    "start_time": "2022-03-06T21:58:09.762Z"
   },
   {
    "duration": 10,
    "start_time": "2022-03-06T21:58:09.775Z"
   },
   {
    "duration": 46,
    "start_time": "2022-03-06T21:58:09.790Z"
   },
   {
    "duration": 7,
    "start_time": "2022-03-06T21:58:09.840Z"
   },
   {
    "duration": 20,
    "start_time": "2022-03-06T21:58:09.850Z"
   },
   {
    "duration": 37,
    "start_time": "2022-03-06T21:58:09.873Z"
   },
   {
    "duration": 46,
    "start_time": "2022-03-06T21:58:09.913Z"
   },
   {
    "duration": 76,
    "start_time": "2022-03-06T21:58:09.962Z"
   },
   {
    "duration": 25,
    "start_time": "2022-03-06T21:58:10.041Z"
   },
   {
    "duration": 24,
    "start_time": "2022-03-06T21:58:10.069Z"
   },
   {
    "duration": 54,
    "start_time": "2022-03-06T21:58:10.095Z"
   },
   {
    "duration": 8,
    "start_time": "2022-03-06T21:58:10.152Z"
   },
   {
    "duration": 40,
    "start_time": "2022-03-06T21:58:10.162Z"
   },
   {
    "duration": 34,
    "start_time": "2022-03-06T21:58:10.205Z"
   },
   {
    "duration": 10,
    "start_time": "2022-03-06T21:58:10.242Z"
   },
   {
    "duration": 78,
    "start_time": "2022-03-06T21:58:10.254Z"
   },
   {
    "duration": 26,
    "start_time": "2022-03-06T21:58:10.335Z"
   },
   {
    "duration": 37,
    "start_time": "2022-03-06T21:58:10.364Z"
   },
   {
    "duration": 35,
    "start_time": "2022-03-06T21:58:10.404Z"
   },
   {
    "duration": 20,
    "start_time": "2022-03-06T21:58:10.442Z"
   },
   {
    "duration": 68,
    "start_time": "2022-03-06T21:58:10.464Z"
   },
   {
    "duration": 17,
    "start_time": "2022-03-06T21:58:10.535Z"
   },
   {
    "duration": 26,
    "start_time": "2022-03-06T21:58:10.554Z"
   },
   {
    "duration": 73,
    "start_time": "2022-03-06T21:58:10.582Z"
   },
   {
    "duration": 15,
    "start_time": "2022-03-06T21:58:10.657Z"
   },
   {
    "duration": 24,
    "start_time": "2022-03-06T21:58:10.674Z"
   },
   {
    "duration": 68,
    "start_time": "2022-03-06T21:58:10.701Z"
   },
   {
    "duration": 861,
    "start_time": "2022-03-14T23:01:41.852Z"
   },
   {
    "duration": 15,
    "start_time": "2022-03-14T23:01:42.715Z"
   },
   {
    "duration": 11,
    "start_time": "2022-03-14T23:01:42.733Z"
   },
   {
    "duration": 41,
    "start_time": "2022-03-14T23:01:42.746Z"
   },
   {
    "duration": 10,
    "start_time": "2022-03-14T23:01:42.789Z"
   },
   {
    "duration": 39,
    "start_time": "2022-03-14T23:01:42.801Z"
   },
   {
    "duration": 31,
    "start_time": "2022-03-14T23:01:42.843Z"
   },
   {
    "duration": 19,
    "start_time": "2022-03-14T23:01:42.877Z"
   },
   {
    "duration": 16,
    "start_time": "2022-03-14T23:01:42.900Z"
   },
   {
    "duration": 14,
    "start_time": "2022-03-14T23:01:42.919Z"
   },
   {
    "duration": 7,
    "start_time": "2022-03-14T23:01:42.937Z"
   },
   {
    "duration": 77,
    "start_time": "2022-03-14T23:01:42.946Z"
   },
   {
    "duration": 11,
    "start_time": "2022-03-14T23:01:43.026Z"
   },
   {
    "duration": 13,
    "start_time": "2022-03-14T23:01:43.039Z"
   },
   {
    "duration": 36,
    "start_time": "2022-03-14T23:01:43.055Z"
   },
   {
    "duration": 8,
    "start_time": "2022-03-14T23:01:43.093Z"
   },
   {
    "duration": 12,
    "start_time": "2022-03-14T23:01:43.103Z"
   },
   {
    "duration": 8,
    "start_time": "2022-03-14T23:01:43.118Z"
   },
   {
    "duration": 67,
    "start_time": "2022-03-14T23:01:43.128Z"
   },
   {
    "duration": 5,
    "start_time": "2022-03-14T23:01:43.198Z"
   },
   {
    "duration": 8,
    "start_time": "2022-03-14T23:01:43.205Z"
   },
   {
    "duration": 5,
    "start_time": "2022-03-14T23:01:43.215Z"
   },
   {
    "duration": 11,
    "start_time": "2022-03-14T23:01:43.222Z"
   },
   {
    "duration": 6,
    "start_time": "2022-03-14T23:01:43.235Z"
   },
   {
    "duration": 49,
    "start_time": "2022-03-14T23:01:43.244Z"
   },
   {
    "duration": 18,
    "start_time": "2022-03-14T23:01:43.295Z"
   },
   {
    "duration": 21,
    "start_time": "2022-03-14T23:01:43.318Z"
   },
   {
    "duration": 81,
    "start_time": "2022-03-14T23:01:43.342Z"
   },
   {
    "duration": 18,
    "start_time": "2022-03-14T23:01:43.425Z"
   },
   {
    "duration": 52,
    "start_time": "2022-03-14T23:01:43.446Z"
   },
   {
    "duration": 18,
    "start_time": "2022-03-14T23:01:43.500Z"
   },
   {
    "duration": 7,
    "start_time": "2022-03-14T23:01:43.521Z"
   },
   {
    "duration": 63,
    "start_time": "2022-03-14T23:01:43.530Z"
   },
   {
    "duration": 8,
    "start_time": "2022-03-14T23:01:43.595Z"
   },
   {
    "duration": 9,
    "start_time": "2022-03-14T23:01:43.606Z"
   },
   {
    "duration": 70,
    "start_time": "2022-03-14T23:01:43.617Z"
   },
   {
    "duration": 19,
    "start_time": "2022-03-14T23:01:43.690Z"
   },
   {
    "duration": 31,
    "start_time": "2022-03-14T23:01:43.711Z"
   },
   {
    "duration": 7,
    "start_time": "2022-03-14T23:01:43.744Z"
   },
   {
    "duration": 40,
    "start_time": "2022-03-14T23:01:43.753Z"
   },
   {
    "duration": 27,
    "start_time": "2022-03-14T23:01:43.796Z"
   },
   {
    "duration": 11,
    "start_time": "2022-03-14T23:01:43.826Z"
   },
   {
    "duration": 58,
    "start_time": "2022-03-14T23:01:43.840Z"
   },
   {
    "duration": 30,
    "start_time": "2022-03-14T23:01:43.901Z"
   },
   {
    "duration": 12,
    "start_time": "2022-03-14T23:01:43.933Z"
   },
   {
    "duration": 52,
    "start_time": "2022-03-14T23:01:43.948Z"
   },
   {
    "duration": 35,
    "start_time": "2022-03-14T23:01:44.003Z"
   },
   {
    "duration": 19,
    "start_time": "2022-03-14T23:07:29.161Z"
   },
   {
    "duration": 224,
    "start_time": "2022-03-15T18:25:05.290Z"
   },
   {
    "duration": 580,
    "start_time": "2022-03-15T18:25:09.278Z"
   },
   {
    "duration": 64,
    "start_time": "2022-03-15T18:25:09.859Z"
   },
   {
    "duration": 15,
    "start_time": "2022-03-15T18:25:09.925Z"
   },
   {
    "duration": 10,
    "start_time": "2022-03-15T18:25:09.942Z"
   },
   {
    "duration": 17,
    "start_time": "2022-03-15T18:25:09.953Z"
   },
   {
    "duration": 19,
    "start_time": "2022-03-15T18:25:09.971Z"
   },
   {
    "duration": 23,
    "start_time": "2022-03-15T18:25:09.992Z"
   },
   {
    "duration": 26,
    "start_time": "2022-03-15T18:25:10.017Z"
   },
   {
    "duration": 18,
    "start_time": "2022-03-15T18:25:10.045Z"
   },
   {
    "duration": 16,
    "start_time": "2022-03-15T18:25:10.064Z"
   },
   {
    "duration": 24,
    "start_time": "2022-03-15T18:25:10.082Z"
   },
   {
    "duration": 25,
    "start_time": "2022-03-15T18:25:10.108Z"
   },
   {
    "duration": 53,
    "start_time": "2022-03-15T18:25:10.135Z"
   },
   {
    "duration": 9,
    "start_time": "2022-03-15T18:25:10.190Z"
   },
   {
    "duration": 27,
    "start_time": "2022-03-15T18:25:10.200Z"
   },
   {
    "duration": 29,
    "start_time": "2022-03-15T18:25:10.229Z"
   },
   {
    "duration": 27,
    "start_time": "2022-03-15T18:25:10.259Z"
   },
   {
    "duration": 22,
    "start_time": "2022-03-15T18:25:10.288Z"
   },
   {
    "duration": 30,
    "start_time": "2022-03-15T18:25:10.312Z"
   },
   {
    "duration": 34,
    "start_time": "2022-03-15T18:25:10.344Z"
   },
   {
    "duration": 18,
    "start_time": "2022-03-15T18:25:10.379Z"
   },
   {
    "duration": 22,
    "start_time": "2022-03-15T18:25:10.398Z"
   },
   {
    "duration": 15,
    "start_time": "2022-03-15T18:25:10.424Z"
   },
   {
    "duration": 26,
    "start_time": "2022-03-15T18:25:10.442Z"
   },
   {
    "duration": 17,
    "start_time": "2022-03-15T18:25:10.470Z"
   },
   {
    "duration": 17,
    "start_time": "2022-03-15T18:25:10.489Z"
   },
   {
    "duration": 29,
    "start_time": "2022-03-15T18:25:10.508Z"
   },
   {
    "duration": 27,
    "start_time": "2022-03-15T18:25:10.539Z"
   },
   {
    "duration": 32,
    "start_time": "2022-03-15T18:25:10.568Z"
   },
   {
    "duration": 13,
    "start_time": "2022-03-15T18:25:10.601Z"
   },
   {
    "duration": 36,
    "start_time": "2022-03-15T18:25:10.615Z"
   },
   {
    "duration": 11,
    "start_time": "2022-03-15T18:25:10.652Z"
   },
   {
    "duration": 19,
    "start_time": "2022-03-15T18:25:10.664Z"
   },
   {
    "duration": 35,
    "start_time": "2022-03-15T18:25:10.685Z"
   },
   {
    "duration": 12,
    "start_time": "2022-03-15T18:25:10.722Z"
   },
   {
    "duration": 32,
    "start_time": "2022-03-15T18:25:10.736Z"
   },
   {
    "duration": 40,
    "start_time": "2022-03-15T18:25:10.770Z"
   },
   {
    "duration": 29,
    "start_time": "2022-03-15T18:25:10.811Z"
   },
   {
    "duration": 33,
    "start_time": "2022-03-15T18:25:10.842Z"
   },
   {
    "duration": 12,
    "start_time": "2022-03-15T18:25:10.876Z"
   },
   {
    "duration": 28,
    "start_time": "2022-03-15T18:25:10.889Z"
   },
   {
    "duration": 46,
    "start_time": "2022-03-15T18:25:10.919Z"
   },
   {
    "duration": 33,
    "start_time": "2022-03-15T18:25:10.967Z"
   },
   {
    "duration": 27,
    "start_time": "2022-03-15T18:25:11.002Z"
   },
   {
    "duration": 57,
    "start_time": "2022-03-15T18:25:11.031Z"
   },
   {
    "duration": 39,
    "start_time": "2022-03-15T18:25:11.090Z"
   },
   {
    "duration": 29,
    "start_time": "2022-03-15T18:25:11.131Z"
   },
   {
    "duration": 39,
    "start_time": "2022-03-15T18:25:11.161Z"
   },
   {
    "duration": 51,
    "start_time": "2022-03-15T18:25:11.202Z"
   },
   {
    "duration": 203,
    "start_time": "2022-03-15T18:40:54.322Z"
   },
   {
    "duration": 12,
    "start_time": "2022-03-15T18:41:10.716Z"
   },
   {
    "duration": 585,
    "start_time": "2022-03-15T19:01:06.770Z"
   },
   {
    "duration": 61,
    "start_time": "2022-03-15T19:01:07.357Z"
   },
   {
    "duration": 11,
    "start_time": "2022-03-15T19:01:07.420Z"
   },
   {
    "duration": 7,
    "start_time": "2022-03-15T19:01:07.438Z"
   },
   {
    "duration": 6,
    "start_time": "2022-03-15T19:01:07.447Z"
   },
   {
    "duration": 12,
    "start_time": "2022-03-15T19:01:07.454Z"
   },
   {
    "duration": 10,
    "start_time": "2022-03-15T19:01:07.468Z"
   },
   {
    "duration": 15,
    "start_time": "2022-03-15T19:01:07.480Z"
   },
   {
    "duration": 42,
    "start_time": "2022-03-15T19:01:07.497Z"
   },
   {
    "duration": 5,
    "start_time": "2022-03-15T19:01:07.540Z"
   },
   {
    "duration": 8,
    "start_time": "2022-03-15T19:01:07.547Z"
   },
   {
    "duration": 7,
    "start_time": "2022-03-15T19:01:07.557Z"
   },
   {
    "duration": 40,
    "start_time": "2022-03-15T19:01:07.566Z"
   },
   {
    "duration": 31,
    "start_time": "2022-03-15T19:01:07.608Z"
   },
   {
    "duration": 6,
    "start_time": "2022-03-15T19:01:07.640Z"
   },
   {
    "duration": 12,
    "start_time": "2022-03-15T19:01:07.648Z"
   },
   {
    "duration": 5,
    "start_time": "2022-03-15T19:01:07.662Z"
   },
   {
    "duration": 10,
    "start_time": "2022-03-15T19:01:07.669Z"
   },
   {
    "duration": 4,
    "start_time": "2022-03-15T19:01:07.681Z"
   },
   {
    "duration": 53,
    "start_time": "2022-03-15T19:01:07.687Z"
   },
   {
    "duration": 5,
    "start_time": "2022-03-15T19:01:07.741Z"
   },
   {
    "duration": 10,
    "start_time": "2022-03-15T19:01:07.747Z"
   },
   {
    "duration": 6,
    "start_time": "2022-03-15T19:01:07.760Z"
   },
   {
    "duration": 8,
    "start_time": "2022-03-15T19:01:07.769Z"
   },
   {
    "duration": 5,
    "start_time": "2022-03-15T19:01:07.779Z"
   },
   {
    "duration": 8,
    "start_time": "2022-03-15T19:01:07.786Z"
   },
   {
    "duration": 43,
    "start_time": "2022-03-15T19:01:07.795Z"
   },
   {
    "duration": 15,
    "start_time": "2022-03-15T19:01:07.840Z"
   },
   {
    "duration": 29,
    "start_time": "2022-03-15T19:01:07.857Z"
   },
   {
    "duration": 13,
    "start_time": "2022-03-15T19:01:07.888Z"
   },
   {
    "duration": 50,
    "start_time": "2022-03-15T19:01:07.902Z"
   },
   {
    "duration": 11,
    "start_time": "2022-03-15T19:01:07.954Z"
   },
   {
    "duration": 8,
    "start_time": "2022-03-15T19:01:07.967Z"
   },
   {
    "duration": 22,
    "start_time": "2022-03-15T19:01:07.977Z"
   },
   {
    "duration": 6,
    "start_time": "2022-03-15T19:01:08.001Z"
   },
   {
    "duration": 6,
    "start_time": "2022-03-15T19:01:08.008Z"
   },
   {
    "duration": 21,
    "start_time": "2022-03-15T19:01:08.039Z"
   },
   {
    "duration": 15,
    "start_time": "2022-03-15T19:01:08.061Z"
   },
   {
    "duration": 24,
    "start_time": "2022-03-15T19:01:08.077Z"
   },
   {
    "duration": 5,
    "start_time": "2022-03-15T19:01:08.102Z"
   },
   {
    "duration": 37,
    "start_time": "2022-03-15T19:01:08.109Z"
   },
   {
    "duration": 17,
    "start_time": "2022-03-15T19:01:08.147Z"
   },
   {
    "duration": 17,
    "start_time": "2022-03-15T19:01:08.166Z"
   },
   {
    "duration": 9,
    "start_time": "2022-03-15T19:01:08.185Z"
   },
   {
    "duration": 16,
    "start_time": "2022-03-15T19:01:08.195Z"
   },
   {
    "duration": 21,
    "start_time": "2022-03-15T19:01:08.238Z"
   },
   {
    "duration": 8,
    "start_time": "2022-03-15T19:01:08.261Z"
   },
   {
    "duration": 14,
    "start_time": "2022-03-15T19:01:08.270Z"
   },
   {
    "duration": 21,
    "start_time": "2022-03-15T19:01:08.286Z"
   }
  ],
  "kernelspec": {
   "display_name": "Python 3 (ipykernel)",
   "language": "python",
   "name": "python3"
  },
  "language_info": {
   "codemirror_mode": {
    "name": "ipython",
    "version": 3
   },
   "file_extension": ".py",
   "mimetype": "text/x-python",
   "name": "python",
   "nbconvert_exporter": "python",
   "pygments_lexer": "ipython3",
   "version": "3.9.12"
  },
  "toc": {
   "base_numbering": 1,
   "nav_menu": {},
   "number_sections": false,
   "sideBar": true,
   "skip_h1_title": false,
   "title_cell": "Table of Contents",
   "title_sidebar": "Contents",
   "toc_cell": false,
   "toc_position": {
    "height": "calc(100% - 180px)",
    "left": "10px",
    "top": "150px",
    "width": "248px"
   },
   "toc_section_display": true,
   "toc_window_display": true
  }
 },
 "nbformat": 4,
 "nbformat_minor": 5
}
