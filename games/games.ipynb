{
 "cells": [
  {
   "cell_type": "markdown",
   "metadata": {
    "toc": true
   },
   "source": [
    "<h1>Содержание<span class=\"tocSkip\"></span></h1>\n",
    "<div class=\"toc\"><ul class=\"toc-item\"><li><span><a href=\"#Описание-проекта\" data-toc-modified-id=\"Описание-проекта-1\"><span class=\"toc-item-num\">1&nbsp;&nbsp;</span>Описание проекта</a></span></li><li><span><a href=\"#Обзор-данных\" data-toc-modified-id=\"Обзор-данных-2\"><span class=\"toc-item-num\">2&nbsp;&nbsp;</span>Обзор данных</a></span><ul class=\"toc-item\"><li><span><a href=\"#Вывод\" data-toc-modified-id=\"Вывод-2.1\"><span class=\"toc-item-num\">2.1&nbsp;&nbsp;</span>Вывод</a></span></li></ul></li><li><span><a href=\"#Предобработка-данных\" data-toc-modified-id=\"Предобработка-данных-3\"><span class=\"toc-item-num\">3&nbsp;&nbsp;</span>Предобработка данных</a></span><ul class=\"toc-item\"><li><span><a href=\"#Переименование-столбцов\" data-toc-modified-id=\"Переименование-столбцов-3.1\"><span class=\"toc-item-num\">3.1&nbsp;&nbsp;</span>Переименование столбцов</a></span></li><li><span><a href=\"#Объединение-категорий-возрастного-рейтинга\" data-toc-modified-id=\"Объединение-категорий-возрастного-рейтинга-3.2\"><span class=\"toc-item-num\">3.2&nbsp;&nbsp;</span>Объединение категорий возрастного рейтинга</a></span></li><li><span><a href=\"#Заполнение-пропусков\" data-toc-modified-id=\"Заполнение-пропусков-3.3\"><span class=\"toc-item-num\">3.3&nbsp;&nbsp;</span>Заполнение пропусков</a></span><ul class=\"toc-item\"><li><span><a href=\"#Название-и-жанр-игры\" data-toc-modified-id=\"Название-и-жанр-игры-3.3.1\"><span class=\"toc-item-num\">3.3.1&nbsp;&nbsp;</span>Название и жанр игры</a></span></li><li><span><a href=\"#Год-выпуска-игры.\" data-toc-modified-id=\"Год-выпуска-игры.-3.3.2\"><span class=\"toc-item-num\">3.3.2&nbsp;&nbsp;</span>Год выпуска игры.</a></span></li><li><span><a href=\"#Возрастной-рейтинг\" data-toc-modified-id=\"Возрастной-рейтинг-3.3.3\"><span class=\"toc-item-num\">3.3.3&nbsp;&nbsp;</span>Возрастной рейтинг</a></span></li><li><span><a href=\"#Оценка-критиков\" data-toc-modified-id=\"Оценка-критиков-3.3.4\"><span class=\"toc-item-num\">3.3.4&nbsp;&nbsp;</span>Оценка критиков</a></span></li><li><span><a href=\"#Оценка-пользователей\" data-toc-modified-id=\"Оценка-пользователей-3.3.5\"><span class=\"toc-item-num\">3.3.5&nbsp;&nbsp;</span>Оценка пользователей</a></span></li></ul></li><li><span><a href=\"#Преобразование-типов-данных\" data-toc-modified-id=\"Преобразование-типов-данных-3.4\"><span class=\"toc-item-num\">3.4&nbsp;&nbsp;</span>Преобразование типов данных</a></span></li><li><span><a href=\"#Проверка-дубликатов\" data-toc-modified-id=\"Проверка-дубликатов-3.5\"><span class=\"toc-item-num\">3.5&nbsp;&nbsp;</span>Проверка дубликатов</a></span></li><li><span><a href=\"#Добавление-в-таблицу-расчетных-данных\" data-toc-modified-id=\"Добавление-в-таблицу-расчетных-данных-3.6\"><span class=\"toc-item-num\">3.6&nbsp;&nbsp;</span>Добавление в таблицу расчетных данных</a></span></li><li><span><a href=\"#Вывод\" data-toc-modified-id=\"Вывод-3.7\"><span class=\"toc-item-num\">3.7&nbsp;&nbsp;</span>Вывод</a></span></li></ul></li><li><span><a href=\"#Анализ-данных\" data-toc-modified-id=\"Анализ-данных-4\"><span class=\"toc-item-num\">4&nbsp;&nbsp;</span>Анализ данных</a></span><ul class=\"toc-item\"><li><span><a href=\"#Динамика-выпуска-игр-по-годам\" data-toc-modified-id=\"Динамика-выпуска-игр-по-годам-4.1\"><span class=\"toc-item-num\">4.1&nbsp;&nbsp;</span>Динамика выпуска игр по годам</a></span></li><li><span><a href=\"#Продажи-игр-на-разных-платформах\" data-toc-modified-id=\"Продажи-игр-на-разных-платформах-4.2\"><span class=\"toc-item-num\">4.2&nbsp;&nbsp;</span>Продажи игр на разных платформах</a></span></li><li><span><a href=\"#Определение-актуального-периода-для-анализа\" data-toc-modified-id=\"Определение-актуального-периода-для-анализа-4.3\"><span class=\"toc-item-num\">4.3&nbsp;&nbsp;</span>Определение актуального периода для анализа</a></span></li><li><span><a href=\"#Определение-прибыльных-платформ\" data-toc-modified-id=\"Определение-прибыльных-платформ-4.4\"><span class=\"toc-item-num\">4.4&nbsp;&nbsp;</span>Определение прибыльных платформ</a></span></li><li><span><a href=\"#Влияние-отзывов-пользователей-и-критиков-на-объемы-продаж\" data-toc-modified-id=\"Влияние-отзывов-пользователей-и-критиков-на-объемы-продаж-4.5\"><span class=\"toc-item-num\">4.5&nbsp;&nbsp;</span>Влияние отзывов пользователей и критиков на объемы продаж</a></span></li><li><span><a href=\"#Распределение-игр-по-жанрам\" data-toc-modified-id=\"Распределение-игр-по-жанрам-4.6\"><span class=\"toc-item-num\">4.6&nbsp;&nbsp;</span>Распределение игр по жанрам</a></span></li><li><span><a href=\"#Вывод\" data-toc-modified-id=\"Вывод-4.7\"><span class=\"toc-item-num\">4.7&nbsp;&nbsp;</span>Вывод</a></span></li></ul></li><li><span><a href=\"#Портрет-пользователя-каждого-региона-(NA,-EU,-JP)\" data-toc-modified-id=\"Портрет-пользователя-каждого-региона-(NA,-EU,-JP)-5\"><span class=\"toc-item-num\">5&nbsp;&nbsp;</span>Портрет пользователя каждого региона (NA, EU, JP)</a></span><ul class=\"toc-item\"><li><span><a href=\"#Самые-популярные-платформы-(топ-5)\" data-toc-modified-id=\"Самые-популярные-платформы-(топ-5)-5.1\"><span class=\"toc-item-num\">5.1&nbsp;&nbsp;</span>Самые популярные платформы (топ-5)</a></span></li><li><span><a href=\"#Самые-популярные-жанры-(топ-5)\" data-toc-modified-id=\"Самые-популярные-жанры-(топ-5)-5.2\"><span class=\"toc-item-num\">5.2&nbsp;&nbsp;</span>Самые популярные жанры (топ-5)</a></span></li><li><span><a href=\"#Рейтинг-ESRB\" data-toc-modified-id=\"Рейтинг-ESRB-5.3\"><span class=\"toc-item-num\">5.3&nbsp;&nbsp;</span>Рейтинг ESRB</a></span></li><li><span><a href=\"#Вывод\" data-toc-modified-id=\"Вывод-5.4\"><span class=\"toc-item-num\">5.4&nbsp;&nbsp;</span>Вывод</a></span></li></ul></li><li><span><a href=\"#Проверка-гипотез\" data-toc-modified-id=\"Проверка-гипотез-6\"><span class=\"toc-item-num\">6&nbsp;&nbsp;</span>Проверка гипотез</a></span><ul class=\"toc-item\"><li><span><a href=\"#Средние-пользовательские-рейтинги-платформ-Xbox-One-и-PC-одинаковые\" data-toc-modified-id=\"Средние-пользовательские-рейтинги-платформ-Xbox-One-и-PC-одинаковые-6.1\"><span class=\"toc-item-num\">6.1&nbsp;&nbsp;</span>Средние пользовательские рейтинги платформ Xbox One и PC одинаковые</a></span></li><li><span><a href=\"#Средние-пользовательские-рейтинги-жанров-Action-и-Sports-разные\" data-toc-modified-id=\"Средние-пользовательские-рейтинги-жанров-Action-и-Sports-разные-6.2\"><span class=\"toc-item-num\">6.2&nbsp;&nbsp;</span>Средние пользовательские рейтинги жанров Action и Sports разные</a></span></li><li><span><a href=\"#Вывод\" data-toc-modified-id=\"Вывод-6.3\"><span class=\"toc-item-num\">6.3&nbsp;&nbsp;</span>Вывод</a></span></li></ul></li><li><span><a href=\"#Общий-вывод\" data-toc-modified-id=\"Общий-вывод-7\"><span class=\"toc-item-num\">7&nbsp;&nbsp;</span>Общий вывод</a></span></li></ul></div>"
   ]
  },
  {
   "cell_type": "markdown",
   "metadata": {},
   "source": [
    "# Анализ продаж компьютерных игр\n",
    "## Описание проекта"
   ]
  },
  {
   "cell_type": "markdown",
   "metadata": {},
   "source": [
    "Интернет-магазин «Стримчик» продаёт по всему миру компьютерные игры. Из открытых источников доступны исторические данные о продажах игр, оценки пользователей и экспертов, жанры и платформы (например, Xbox или PlayStation).\n",
    "\n",
    "**Цель проекта** - выявить определяющие успешность игры закономерности. Это позволит сделать ставку на потенциально популярный продукт и спланировать рекламные кампании. Проверить следующие гипотезы:\n",
    "- средние пользовательские рейтинги платформ Xbox One и PC одинаковые;\n",
    "- средние пользовательские рейтинги жанров Action и Sports разные.\n",
    "\n",
    "Перед нами данные до 2016 года. Данные за 2016 год могут быть неполными. Сейчас декабрь 2016 г., и мы планируем кампанию на 2017-й. \n",
    "\n",
    "###### Описание данных\n",
    "\n",
    "`Name` — название игры\\\n",
    "`Platform` — платформа\\\n",
    "`Year_of_Release` — год выпуска\\\n",
    "`Genre` — жанр игры\\\n",
    "`NA_sales` — продажи в Северной Америке (миллионы проданных копий)\\\n",
    "`EU_sales` — продажи в Европе (миллионы проданных копий)\\\n",
    "`JP_sales` — продажи в Японии (миллионы проданных копий)\\\n",
    "`Other_sales` — продажи в других странах (миллионы проданных копий)\\\n",
    "`Critic_Score` — оценка критиков (максимум 100)\\\n",
    "`User_Score` — оценка пользователей (максимум 10)\\\n",
    "`Rating` — рейтинг от организации ESRB (англ. Entertainment Software Rating\n",
    "Board). Эта ассоциация определяет рейтинг компьютерных игр и присваивает\n",
    "им подходящую возрастную категорию."
   ]
  },
  {
   "cell_type": "markdown",
   "metadata": {},
   "source": [
    "**Ход проекта**\\\n",
    "В ходе проекта проверим исходные данные, при необходимости проведем их обработку, затем проведем анализ данных, составим портрет типового пользователя по регионам и проверим сформулированные выше гипотезы.\\\n",
    "Основные этапы проекта:\n",
    "\n",
    "- Обзор данных,\n",
    "- Предобработка данных,\n",
    "- Анализ данных,\n",
    "- Портрет пользователя каждого региона,\n",
    "- Проверка гипотез,\n",
    "- Выводы."
   ]
  },
  {
   "cell_type": "markdown",
   "metadata": {},
   "source": [
    "## Обзор данных"
   ]
  },
  {
   "cell_type": "markdown",
   "metadata": {},
   "source": [
    "Загрузим библиотеки, необходимые для работы над проектом и посмотрим первые 10 строк файла с данными. Также выведем на экран общую информацию о типах данных и пропусках в столбцах."
   ]
  },
  {
   "cell_type": "code",
   "execution_count": 1,
   "metadata": {},
   "outputs": [],
   "source": [
    "import pandas as pd\n",
    "import numpy as np\n",
    "import matplotlib.pyplot as plt\n",
    "import seaborn as sns\n",
    "import scipy.stats as st"
   ]
  },
  {
   "cell_type": "code",
   "execution_count": 2,
   "metadata": {},
   "outputs": [],
   "source": [
    "#вывод на экран всех столбцов\n",
    "pd.options.display.max_columns = 100\n",
    "\n",
    "#представление вещественных чисел с тремя знаками после запятой\n",
    "pd.options.display.float_format = '{:.3f}'.format"
   ]
  },
  {
   "cell_type": "code",
   "execution_count": 3,
   "metadata": {
    "scrolled": true
   },
   "outputs": [
    {
     "data": {
      "text/html": [
       "<div>\n",
       "<style scoped>\n",
       "    .dataframe tbody tr th:only-of-type {\n",
       "        vertical-align: middle;\n",
       "    }\n",
       "\n",
       "    .dataframe tbody tr th {\n",
       "        vertical-align: top;\n",
       "    }\n",
       "\n",
       "    .dataframe thead th {\n",
       "        text-align: right;\n",
       "    }\n",
       "</style>\n",
       "<table border=\"1\" class=\"dataframe\">\n",
       "  <thead>\n",
       "    <tr style=\"text-align: right;\">\n",
       "      <th></th>\n",
       "      <th>Name</th>\n",
       "      <th>Platform</th>\n",
       "      <th>Year_of_Release</th>\n",
       "      <th>Genre</th>\n",
       "      <th>NA_sales</th>\n",
       "      <th>EU_sales</th>\n",
       "      <th>JP_sales</th>\n",
       "      <th>Other_sales</th>\n",
       "      <th>Critic_Score</th>\n",
       "      <th>User_Score</th>\n",
       "      <th>Rating</th>\n",
       "    </tr>\n",
       "  </thead>\n",
       "  <tbody>\n",
       "    <tr>\n",
       "      <th>0</th>\n",
       "      <td>Wii Sports</td>\n",
       "      <td>Wii</td>\n",
       "      <td>2006.000</td>\n",
       "      <td>Sports</td>\n",
       "      <td>41.360</td>\n",
       "      <td>28.960</td>\n",
       "      <td>3.770</td>\n",
       "      <td>8.450</td>\n",
       "      <td>76.000</td>\n",
       "      <td>8</td>\n",
       "      <td>E</td>\n",
       "    </tr>\n",
       "    <tr>\n",
       "      <th>1</th>\n",
       "      <td>Super Mario Bros.</td>\n",
       "      <td>NES</td>\n",
       "      <td>1985.000</td>\n",
       "      <td>Platform</td>\n",
       "      <td>29.080</td>\n",
       "      <td>3.580</td>\n",
       "      <td>6.810</td>\n",
       "      <td>0.770</td>\n",
       "      <td>NaN</td>\n",
       "      <td>NaN</td>\n",
       "      <td>NaN</td>\n",
       "    </tr>\n",
       "    <tr>\n",
       "      <th>2</th>\n",
       "      <td>Mario Kart Wii</td>\n",
       "      <td>Wii</td>\n",
       "      <td>2008.000</td>\n",
       "      <td>Racing</td>\n",
       "      <td>15.680</td>\n",
       "      <td>12.760</td>\n",
       "      <td>3.790</td>\n",
       "      <td>3.290</td>\n",
       "      <td>82.000</td>\n",
       "      <td>8.3</td>\n",
       "      <td>E</td>\n",
       "    </tr>\n",
       "    <tr>\n",
       "      <th>3</th>\n",
       "      <td>Wii Sports Resort</td>\n",
       "      <td>Wii</td>\n",
       "      <td>2009.000</td>\n",
       "      <td>Sports</td>\n",
       "      <td>15.610</td>\n",
       "      <td>10.930</td>\n",
       "      <td>3.280</td>\n",
       "      <td>2.950</td>\n",
       "      <td>80.000</td>\n",
       "      <td>8</td>\n",
       "      <td>E</td>\n",
       "    </tr>\n",
       "    <tr>\n",
       "      <th>4</th>\n",
       "      <td>Pokemon Red/Pokemon Blue</td>\n",
       "      <td>GB</td>\n",
       "      <td>1996.000</td>\n",
       "      <td>Role-Playing</td>\n",
       "      <td>11.270</td>\n",
       "      <td>8.890</td>\n",
       "      <td>10.220</td>\n",
       "      <td>1.000</td>\n",
       "      <td>NaN</td>\n",
       "      <td>NaN</td>\n",
       "      <td>NaN</td>\n",
       "    </tr>\n",
       "    <tr>\n",
       "      <th>5</th>\n",
       "      <td>Tetris</td>\n",
       "      <td>GB</td>\n",
       "      <td>1989.000</td>\n",
       "      <td>Puzzle</td>\n",
       "      <td>23.200</td>\n",
       "      <td>2.260</td>\n",
       "      <td>4.220</td>\n",
       "      <td>0.580</td>\n",
       "      <td>NaN</td>\n",
       "      <td>NaN</td>\n",
       "      <td>NaN</td>\n",
       "    </tr>\n",
       "    <tr>\n",
       "      <th>6</th>\n",
       "      <td>New Super Mario Bros.</td>\n",
       "      <td>DS</td>\n",
       "      <td>2006.000</td>\n",
       "      <td>Platform</td>\n",
       "      <td>11.280</td>\n",
       "      <td>9.140</td>\n",
       "      <td>6.500</td>\n",
       "      <td>2.880</td>\n",
       "      <td>89.000</td>\n",
       "      <td>8.5</td>\n",
       "      <td>E</td>\n",
       "    </tr>\n",
       "    <tr>\n",
       "      <th>7</th>\n",
       "      <td>Wii Play</td>\n",
       "      <td>Wii</td>\n",
       "      <td>2006.000</td>\n",
       "      <td>Misc</td>\n",
       "      <td>13.960</td>\n",
       "      <td>9.180</td>\n",
       "      <td>2.930</td>\n",
       "      <td>2.840</td>\n",
       "      <td>58.000</td>\n",
       "      <td>6.6</td>\n",
       "      <td>E</td>\n",
       "    </tr>\n",
       "    <tr>\n",
       "      <th>8</th>\n",
       "      <td>New Super Mario Bros. Wii</td>\n",
       "      <td>Wii</td>\n",
       "      <td>2009.000</td>\n",
       "      <td>Platform</td>\n",
       "      <td>14.440</td>\n",
       "      <td>6.940</td>\n",
       "      <td>4.700</td>\n",
       "      <td>2.240</td>\n",
       "      <td>87.000</td>\n",
       "      <td>8.4</td>\n",
       "      <td>E</td>\n",
       "    </tr>\n",
       "    <tr>\n",
       "      <th>9</th>\n",
       "      <td>Duck Hunt</td>\n",
       "      <td>NES</td>\n",
       "      <td>1984.000</td>\n",
       "      <td>Shooter</td>\n",
       "      <td>26.930</td>\n",
       "      <td>0.630</td>\n",
       "      <td>0.280</td>\n",
       "      <td>0.470</td>\n",
       "      <td>NaN</td>\n",
       "      <td>NaN</td>\n",
       "      <td>NaN</td>\n",
       "    </tr>\n",
       "  </tbody>\n",
       "</table>\n",
       "</div>"
      ],
      "text/plain": [
       "                        Name Platform  Year_of_Release         Genre  \\\n",
       "0                 Wii Sports      Wii         2006.000        Sports   \n",
       "1          Super Mario Bros.      NES         1985.000      Platform   \n",
       "2             Mario Kart Wii      Wii         2008.000        Racing   \n",
       "3          Wii Sports Resort      Wii         2009.000        Sports   \n",
       "4   Pokemon Red/Pokemon Blue       GB         1996.000  Role-Playing   \n",
       "5                     Tetris       GB         1989.000        Puzzle   \n",
       "6      New Super Mario Bros.       DS         2006.000      Platform   \n",
       "7                   Wii Play      Wii         2006.000          Misc   \n",
       "8  New Super Mario Bros. Wii      Wii         2009.000      Platform   \n",
       "9                  Duck Hunt      NES         1984.000       Shooter   \n",
       "\n",
       "   NA_sales  EU_sales  JP_sales  Other_sales  Critic_Score User_Score Rating  \n",
       "0    41.360    28.960     3.770        8.450        76.000          8      E  \n",
       "1    29.080     3.580     6.810        0.770           NaN        NaN    NaN  \n",
       "2    15.680    12.760     3.790        3.290        82.000        8.3      E  \n",
       "3    15.610    10.930     3.280        2.950        80.000          8      E  \n",
       "4    11.270     8.890    10.220        1.000           NaN        NaN    NaN  \n",
       "5    23.200     2.260     4.220        0.580           NaN        NaN    NaN  \n",
       "6    11.280     9.140     6.500        2.880        89.000        8.5      E  \n",
       "7    13.960     9.180     2.930        2.840        58.000        6.6      E  \n",
       "8    14.440     6.940     4.700        2.240        87.000        8.4      E  \n",
       "9    26.930     0.630     0.280        0.470           NaN        NaN    NaN  "
      ]
     },
     "execution_count": 3,
     "metadata": {},
     "output_type": "execute_result"
    }
   ],
   "source": [
    "try:\n",
    "    data = pd.read_csv('/datasets/games.csv')\n",
    "except:\n",
    "    data = pd.read_csv('games.csv')\n",
    "data.head(10)"
   ]
  },
  {
   "cell_type": "code",
   "execution_count": 4,
   "metadata": {},
   "outputs": [
    {
     "name": "stdout",
     "output_type": "stream",
     "text": [
      "<class 'pandas.core.frame.DataFrame'>\n",
      "RangeIndex: 16715 entries, 0 to 16714\n",
      "Data columns (total 11 columns):\n",
      " #   Column           Non-Null Count  Dtype  \n",
      "---  ------           --------------  -----  \n",
      " 0   Name             16713 non-null  object \n",
      " 1   Platform         16715 non-null  object \n",
      " 2   Year_of_Release  16446 non-null  float64\n",
      " 3   Genre            16713 non-null  object \n",
      " 4   NA_sales         16715 non-null  float64\n",
      " 5   EU_sales         16715 non-null  float64\n",
      " 6   JP_sales         16715 non-null  float64\n",
      " 7   Other_sales      16715 non-null  float64\n",
      " 8   Critic_Score     8137 non-null   float64\n",
      " 9   User_Score       10014 non-null  object \n",
      " 10  Rating           9949 non-null   object \n",
      "dtypes: float64(6), object(5)\n",
      "memory usage: 1.4+ MB\n"
     ]
    }
   ],
   "source": [
    "data.info()"
   ]
  },
  {
   "cell_type": "markdown",
   "metadata": {},
   "source": [
    "Всего в файле 11 столбцов и 16715 строк. По два пропуска в столбцах с названием игры и жанром, также есть пропуски в столбце с годом выпуска, больше всего пропущенных данных в столбцах с оценками и возрастным рейтингом.\\\n",
    "Некорректный тип данных в столбце с годом (вещественный, а должен быть целочисленный) и с оценкой пользователей (строковый, а должен быть числовой).\\\n",
    "Также лучше привести названия столбцов к нижнему регистру.\n",
    "\n",
    "Посмотрим уникальные значения в каждом столбце."
   ]
  },
  {
   "cell_type": "code",
   "execution_count": 5,
   "metadata": {},
   "outputs": [
    {
     "data": {
      "text/plain": [
       "11559"
      ]
     },
     "execution_count": 5,
     "metadata": {},
     "output_type": "execute_result"
    }
   ],
   "source": [
    "data.Name.nunique()"
   ]
  },
  {
   "cell_type": "markdown",
   "metadata": {},
   "source": [
    "В столбце с названием игры 11559 уникальных названий, все их не просмотреть."
   ]
  },
  {
   "cell_type": "code",
   "execution_count": 6,
   "metadata": {},
   "outputs": [
    {
     "data": {
      "text/plain": [
       "array(['2600', '3DO', '3DS', 'DC', 'DS', 'GB', 'GBA', 'GC', 'GEN', 'GG',\n",
       "       'N64', 'NES', 'NG', 'PC', 'PCFX', 'PS', 'PS2', 'PS3', 'PS4', 'PSP',\n",
       "       'PSV', 'SAT', 'SCD', 'SNES', 'TG16', 'WS', 'Wii', 'WiiU', 'X360',\n",
       "       'XB', 'XOne'], dtype=object)"
      ]
     },
     "execution_count": 6,
     "metadata": {},
     "output_type": "execute_result"
    }
   ],
   "source": [
    "data.Platform.sort_values().unique()"
   ]
  },
  {
   "cell_type": "code",
   "execution_count": 7,
   "metadata": {},
   "outputs": [
    {
     "data": {
      "text/plain": [
       "31"
      ]
     },
     "execution_count": 7,
     "metadata": {},
     "output_type": "execute_result"
    }
   ],
   "source": [
    "data.Platform.sort_values().nunique()"
   ]
  },
  {
   "cell_type": "markdown",
   "metadata": {},
   "source": [
    "Предоставлены данные по 31 различной игровой платформе."
   ]
  },
  {
   "cell_type": "code",
   "execution_count": 8,
   "metadata": {
    "scrolled": true
   },
   "outputs": [
    {
     "data": {
      "text/plain": [
       "array([1980., 1981., 1982., 1983., 1984., 1985., 1986., 1987., 1988.,\n",
       "       1989., 1990., 1991., 1992., 1993., 1994., 1995., 1996., 1997.,\n",
       "       1998., 1999., 2000., 2001., 2002., 2003., 2004., 2005., 2006.,\n",
       "       2007., 2008., 2009., 2010., 2011., 2012., 2013., 2014., 2015.,\n",
       "       2016.,   nan])"
      ]
     },
     "execution_count": 8,
     "metadata": {},
     "output_type": "execute_result"
    }
   ],
   "source": [
    "data.Year_of_Release.sort_values().unique()"
   ]
  },
  {
   "cell_type": "markdown",
   "metadata": {},
   "source": [
    "Т.о. в нашем распоряжении данные об играх, выпущенных с 1980 по 2016 год. Данные по годам корректные, нужно только изменить тип данных и решить, что делать с пропусками."
   ]
  },
  {
   "cell_type": "code",
   "execution_count": 9,
   "metadata": {
    "scrolled": false
   },
   "outputs": [
    {
     "data": {
      "text/plain": [
       "array(['Action', 'Adventure', 'Fighting', 'Misc', 'Platform', 'Puzzle',\n",
       "       'Racing', 'Role-Playing', 'Shooter', 'Simulation', 'Sports',\n",
       "       'Strategy', nan], dtype=object)"
      ]
     },
     "execution_count": 9,
     "metadata": {},
     "output_type": "execute_result"
    }
   ],
   "source": [
    "data.Genre.sort_values().unique()"
   ]
  },
  {
   "cell_type": "markdown",
   "metadata": {},
   "source": [
    "Имеем 12 различных жанров игр."
   ]
  },
  {
   "cell_type": "code",
   "execution_count": 10,
   "metadata": {
    "scrolled": false
   },
   "outputs": [
    {
     "data": {
      "text/plain": [
       "array([13., 17., 19., 20., 21., 22., 23., 24., 25., 26., 27., 28., 29.,\n",
       "       30., 31., 32., 33., 34., 35., 36., 37., 38., 39., 40., 41., 42.,\n",
       "       43., 44., 45., 46., 47., 48., 49., 50., 51., 52., 53., 54., 55.,\n",
       "       56., 57., 58., 59., 60., 61., 62., 63., 64., 65., 66., 67., 68.,\n",
       "       69., 70., 71., 72., 73., 74., 75., 76., 77., 78., 79., 80., 81.,\n",
       "       82., 83., 84., 85., 86., 87., 88., 89., 90., 91., 92., 93., 94.,\n",
       "       95., 96., 97., 98., nan])"
      ]
     },
     "execution_count": 10,
     "metadata": {},
     "output_type": "execute_result"
    }
   ],
   "source": [
    "data.Critic_Score.sort_values().unique()"
   ]
  },
  {
   "cell_type": "markdown",
   "metadata": {},
   "source": [
    "Оценки критиков в диапазоне от 13 до 98 баллов."
   ]
  },
  {
   "cell_type": "code",
   "execution_count": 11,
   "metadata": {},
   "outputs": [
    {
     "data": {
      "text/plain": [
       "array(['0', '0.2', '0.3', '0.5', '0.6', '0.7', '0.9', '1', '1.1', '1.2',\n",
       "       '1.3', '1.4', '1.5', '1.6', '1.7', '1.8', '1.9', '2', '2.1', '2.2',\n",
       "       '2.3', '2.4', '2.5', '2.6', '2.7', '2.8', '2.9', '3', '3.1', '3.2',\n",
       "       '3.3', '3.4', '3.5', '3.6', '3.7', '3.8', '3.9', '4', '4.1', '4.2',\n",
       "       '4.3', '4.4', '4.5', '4.6', '4.7', '4.8', '4.9', '5', '5.1', '5.2',\n",
       "       '5.3', '5.4', '5.5', '5.6', '5.7', '5.8', '5.9', '6', '6.1', '6.2',\n",
       "       '6.3', '6.4', '6.5', '6.6', '6.7', '6.8', '6.9', '7', '7.1', '7.2',\n",
       "       '7.3', '7.4', '7.5', '7.6', '7.7', '7.8', '7.9', '8', '8.1', '8.2',\n",
       "       '8.3', '8.4', '8.5', '8.6', '8.7', '8.8', '8.9', '9', '9.1', '9.2',\n",
       "       '9.3', '9.4', '9.5', '9.6', '9.7', 'tbd', nan], dtype=object)"
      ]
     },
     "execution_count": 11,
     "metadata": {},
     "output_type": "execute_result"
    }
   ],
   "source": [
    "data.User_Score.sort_values().unique()"
   ]
  },
  {
   "cell_type": "markdown",
   "metadata": {},
   "source": [
    "Оценки пользователей варьируются в диапазоне от 0 до 9,7. Помимо пустых строк в столбце с оценками пользователей есть строковое значение `tbd`. Из-за него тип данных всего столбца стал строковым."
   ]
  },
  {
   "cell_type": "code",
   "execution_count": 12,
   "metadata": {
    "scrolled": true
   },
   "outputs": [
    {
     "data": {
      "text/plain": [
       "E       3990\n",
       "T       2961\n",
       "M       1563\n",
       "E10+    1420\n",
       "EC         8\n",
       "RP         3\n",
       "K-A        3\n",
       "AO         1\n",
       "Name: Rating, dtype: int64"
      ]
     },
     "execution_count": 12,
     "metadata": {},
     "output_type": "execute_result"
    }
   ],
   "source": [
    "data.Rating.value_counts()"
   ]
  },
  {
   "cell_type": "markdown",
   "metadata": {},
   "source": [
    "Имеем следующие значения возрастного рейтинга:\\\n",
    "`EC` (Early childhood) — Для детей младшего возраста\\\n",
    "`E` (Everyone) — Для всех — первоначальное название `K-A` (Kids to Adults)\\\n",
    "`E10+` (Everyone 10 and older) — Для всех от 10 лет и старше\\\n",
    "`T` (Teen) — Подросткам\\\n",
    "`M` (Mature) — Для взрослых\\\n",
    "`AO` (Adults Only 18+) — Только для взрослых\\\n",
    "`RP` (Rating Pending) — Рейтинг ожидается\n",
    "\n",
    "Логично было бы объединить категории `K-A` и `E`, т.к. они означают одно и то же. Категория `RP` фактически означает отсутствие рейтинга, ее лучше заменить на `unknown`. Единственная игра с рейтингом `AO` может быть отнесена к `M`."
   ]
  },
  {
   "cell_type": "markdown",
   "metadata": {},
   "source": [
    "По числовым столбцам с объемом продаж по странам посмотрим числовые характеристики распределения."
   ]
  },
  {
   "cell_type": "code",
   "execution_count": 13,
   "metadata": {},
   "outputs": [
    {
     "data": {
      "text/html": [
       "<div>\n",
       "<style scoped>\n",
       "    .dataframe tbody tr th:only-of-type {\n",
       "        vertical-align: middle;\n",
       "    }\n",
       "\n",
       "    .dataframe tbody tr th {\n",
       "        vertical-align: top;\n",
       "    }\n",
       "\n",
       "    .dataframe thead th {\n",
       "        text-align: right;\n",
       "    }\n",
       "</style>\n",
       "<table border=\"1\" class=\"dataframe\">\n",
       "  <thead>\n",
       "    <tr style=\"text-align: right;\">\n",
       "      <th></th>\n",
       "      <th>Year_of_Release</th>\n",
       "      <th>NA_sales</th>\n",
       "      <th>EU_sales</th>\n",
       "      <th>JP_sales</th>\n",
       "      <th>Other_sales</th>\n",
       "      <th>Critic_Score</th>\n",
       "    </tr>\n",
       "  </thead>\n",
       "  <tbody>\n",
       "    <tr>\n",
       "      <th>count</th>\n",
       "      <td>16446.000</td>\n",
       "      <td>16715.000</td>\n",
       "      <td>16715.000</td>\n",
       "      <td>16715.000</td>\n",
       "      <td>16715.000</td>\n",
       "      <td>8137.000</td>\n",
       "    </tr>\n",
       "    <tr>\n",
       "      <th>mean</th>\n",
       "      <td>2006.485</td>\n",
       "      <td>0.263</td>\n",
       "      <td>0.145</td>\n",
       "      <td>0.078</td>\n",
       "      <td>0.047</td>\n",
       "      <td>68.968</td>\n",
       "    </tr>\n",
       "    <tr>\n",
       "      <th>std</th>\n",
       "      <td>5.877</td>\n",
       "      <td>0.814</td>\n",
       "      <td>0.503</td>\n",
       "      <td>0.309</td>\n",
       "      <td>0.187</td>\n",
       "      <td>13.938</td>\n",
       "    </tr>\n",
       "    <tr>\n",
       "      <th>min</th>\n",
       "      <td>1980.000</td>\n",
       "      <td>0.000</td>\n",
       "      <td>0.000</td>\n",
       "      <td>0.000</td>\n",
       "      <td>0.000</td>\n",
       "      <td>13.000</td>\n",
       "    </tr>\n",
       "    <tr>\n",
       "      <th>25%</th>\n",
       "      <td>2003.000</td>\n",
       "      <td>0.000</td>\n",
       "      <td>0.000</td>\n",
       "      <td>0.000</td>\n",
       "      <td>0.000</td>\n",
       "      <td>60.000</td>\n",
       "    </tr>\n",
       "    <tr>\n",
       "      <th>50%</th>\n",
       "      <td>2007.000</td>\n",
       "      <td>0.080</td>\n",
       "      <td>0.020</td>\n",
       "      <td>0.000</td>\n",
       "      <td>0.010</td>\n",
       "      <td>71.000</td>\n",
       "    </tr>\n",
       "    <tr>\n",
       "      <th>75%</th>\n",
       "      <td>2010.000</td>\n",
       "      <td>0.240</td>\n",
       "      <td>0.110</td>\n",
       "      <td>0.040</td>\n",
       "      <td>0.030</td>\n",
       "      <td>79.000</td>\n",
       "    </tr>\n",
       "    <tr>\n",
       "      <th>max</th>\n",
       "      <td>2016.000</td>\n",
       "      <td>41.360</td>\n",
       "      <td>28.960</td>\n",
       "      <td>10.220</td>\n",
       "      <td>10.570</td>\n",
       "      <td>98.000</td>\n",
       "    </tr>\n",
       "  </tbody>\n",
       "</table>\n",
       "</div>"
      ],
      "text/plain": [
       "       Year_of_Release  NA_sales  EU_sales  JP_sales  Other_sales  \\\n",
       "count        16446.000 16715.000 16715.000 16715.000    16715.000   \n",
       "mean          2006.485     0.263     0.145     0.078        0.047   \n",
       "std              5.877     0.814     0.503     0.309        0.187   \n",
       "min           1980.000     0.000     0.000     0.000        0.000   \n",
       "25%           2003.000     0.000     0.000     0.000        0.000   \n",
       "50%           2007.000     0.080     0.020     0.000        0.010   \n",
       "75%           2010.000     0.240     0.110     0.040        0.030   \n",
       "max           2016.000    41.360    28.960    10.220       10.570   \n",
       "\n",
       "       Critic_Score  \n",
       "count      8137.000  \n",
       "mean         68.968  \n",
       "std          13.938  \n",
       "min          13.000  \n",
       "25%          60.000  \n",
       "50%          71.000  \n",
       "75%          79.000  \n",
       "max          98.000  "
      ]
     },
     "execution_count": 13,
     "metadata": {},
     "output_type": "execute_result"
    }
   ],
   "source": [
    "data.describe()"
   ]
  },
  {
   "cell_type": "markdown",
   "metadata": {},
   "source": [
    "В данных по объемам продаж очень много нулевых значений (более 25%, а по Японии более 50%). Максимальный объем продаж в Северной Америке 41,36 млн. копий, в Европе 28,96 млн., в Японии 10,22 млн., в остальных странах 10,57 млн. копий игр."
   ]
  },
  {
   "cell_type": "markdown",
   "metadata": {},
   "source": [
    "### Вывод"
   ]
  },
  {
   "cell_type": "markdown",
   "metadata": {},
   "source": [
    "Обзор данных позволил выявить следующие проблемы, которые нужно исправить до начала анализа:\n",
    "- нестандартное написание названий столбцов;\n",
    "- разные названия одной и той же возрастной категории;\n",
    "- пропуски в данных в столбцах с названием игры и жанром, также есть пропуски в столбце с годом выпуска, больше всего пропущенных данных в столбцах с оценками и возрастным рейтингом;\n",
    "- некорректный тип данных в столбцах с годом выпуска игры и оценкой критиков (вещественный, а должен быть целочисленный), с оценкой пользователей (строковый, а должен быть числовой);\n",
    "- нечисловое значение 'tbd' в столбце с оценкой пользователей, которое влияет на тип данных всего столбца."
   ]
  },
  {
   "cell_type": "markdown",
   "metadata": {},
   "source": [
    "## Предобработка данных"
   ]
  },
  {
   "cell_type": "markdown",
   "metadata": {},
   "source": [
    "### Переименование столбцов"
   ]
  },
  {
   "cell_type": "markdown",
   "metadata": {},
   "source": [
    "Приведем названия столбцов к нижнему регистру."
   ]
  },
  {
   "cell_type": "code",
   "execution_count": 14,
   "metadata": {},
   "outputs": [
    {
     "data": {
      "text/plain": [
       "Index(['name', 'platform', 'year_of_release', 'genre', 'na_sales', 'eu_sales',\n",
       "       'jp_sales', 'other_sales', 'critic_score', 'user_score', 'rating'],\n",
       "      dtype='object')"
      ]
     },
     "execution_count": 14,
     "metadata": {},
     "output_type": "execute_result"
    }
   ],
   "source": [
    "data.columns = data.columns.str.lower()\n",
    "data.columns"
   ]
  },
  {
   "cell_type": "markdown",
   "metadata": {},
   "source": [
    "### Объединение категорий возрастного рейтинга"
   ]
  },
  {
   "cell_type": "markdown",
   "metadata": {},
   "source": [
    "Как было отмечено ранее можем заменить категорию `K-A` на `E`, `AO` на `M`, а `RP` на `unknown`. Значение категории `EC` так же несопоставимо мало по отношению к остальным, поэтому можем для анализа отнести эти игры к категории `E`."
   ]
  },
  {
   "cell_type": "code",
   "execution_count": 15,
   "metadata": {},
   "outputs": [
    {
     "data": {
      "text/plain": [
       "E          4001\n",
       "T          2961\n",
       "M          1564\n",
       "E10+       1420\n",
       "unknown       3\n",
       "Name: rating, dtype: int64"
      ]
     },
     "execution_count": 15,
     "metadata": {},
     "output_type": "execute_result"
    }
   ],
   "source": [
    "data.loc[data['rating'] == 'K-A', 'rating'] = 'E'\n",
    "data.loc[data['rating'] == 'AO', 'rating'] = 'M'\n",
    "data.loc[data['rating'] == 'EC', 'rating'] = 'E'\n",
    "data.loc[data['rating'] == 'RP', 'rating'] = 'unknown'\n",
    "data.rating.value_counts()"
   ]
  },
  {
   "cell_type": "markdown",
   "metadata": {},
   "source": [
    "### Заполнение пропусков"
   ]
  },
  {
   "cell_type": "markdown",
   "metadata": {},
   "source": [
    "#### Название и жанр игры"
   ]
  },
  {
   "cell_type": "code",
   "execution_count": 16,
   "metadata": {},
   "outputs": [
    {
     "data": {
      "text/html": [
       "<div>\n",
       "<style scoped>\n",
       "    .dataframe tbody tr th:only-of-type {\n",
       "        vertical-align: middle;\n",
       "    }\n",
       "\n",
       "    .dataframe tbody tr th {\n",
       "        vertical-align: top;\n",
       "    }\n",
       "\n",
       "    .dataframe thead th {\n",
       "        text-align: right;\n",
       "    }\n",
       "</style>\n",
       "<table border=\"1\" class=\"dataframe\">\n",
       "  <thead>\n",
       "    <tr style=\"text-align: right;\">\n",
       "      <th></th>\n",
       "      <th>name</th>\n",
       "      <th>platform</th>\n",
       "      <th>year_of_release</th>\n",
       "      <th>genre</th>\n",
       "      <th>na_sales</th>\n",
       "      <th>eu_sales</th>\n",
       "      <th>jp_sales</th>\n",
       "      <th>other_sales</th>\n",
       "      <th>critic_score</th>\n",
       "      <th>user_score</th>\n",
       "      <th>rating</th>\n",
       "    </tr>\n",
       "  </thead>\n",
       "  <tbody>\n",
       "    <tr>\n",
       "      <th>659</th>\n",
       "      <td>NaN</td>\n",
       "      <td>GEN</td>\n",
       "      <td>1993.000</td>\n",
       "      <td>NaN</td>\n",
       "      <td>1.780</td>\n",
       "      <td>0.530</td>\n",
       "      <td>0.000</td>\n",
       "      <td>0.080</td>\n",
       "      <td>NaN</td>\n",
       "      <td>NaN</td>\n",
       "      <td>NaN</td>\n",
       "    </tr>\n",
       "    <tr>\n",
       "      <th>14244</th>\n",
       "      <td>NaN</td>\n",
       "      <td>GEN</td>\n",
       "      <td>1993.000</td>\n",
       "      <td>NaN</td>\n",
       "      <td>0.000</td>\n",
       "      <td>0.000</td>\n",
       "      <td>0.030</td>\n",
       "      <td>0.000</td>\n",
       "      <td>NaN</td>\n",
       "      <td>NaN</td>\n",
       "      <td>NaN</td>\n",
       "    </tr>\n",
       "  </tbody>\n",
       "</table>\n",
       "</div>"
      ],
      "text/plain": [
       "      name platform  year_of_release genre  na_sales  eu_sales  jp_sales  \\\n",
       "659    NaN      GEN         1993.000   NaN     1.780     0.530     0.000   \n",
       "14244  NaN      GEN         1993.000   NaN     0.000     0.000     0.030   \n",
       "\n",
       "       other_sales  critic_score user_score rating  \n",
       "659          0.080           NaN        NaN    NaN  \n",
       "14244        0.000           NaN        NaN    NaN  "
      ]
     },
     "execution_count": 16,
     "metadata": {},
     "output_type": "execute_result"
    }
   ],
   "source": [
    "data.loc[data['name'].isna() | data['genre'].isna()]"
   ]
  },
  {
   "cell_type": "markdown",
   "metadata": {},
   "source": [
    "Оказалось, что название и жанр пропущены в одних и тех же строках, и пропуски в них, скорее всего, не случайны. По ним вообще очень мало информации. Это всего две строки. Можно этой информацией пожертвовать и удалить строки, к тому же без названия нам не провести анализ."
   ]
  },
  {
   "cell_type": "code",
   "execution_count": 17,
   "metadata": {},
   "outputs": [],
   "source": [
    "data = data.dropna(subset=['name'])"
   ]
  },
  {
   "cell_type": "markdown",
   "metadata": {},
   "source": [
    "#### Год выпуска игры."
   ]
  },
  {
   "cell_type": "code",
   "execution_count": 18,
   "metadata": {},
   "outputs": [
    {
     "data": {
      "text/plain": [
       "0.016095255190570215"
      ]
     },
     "execution_count": 18,
     "metadata": {},
     "output_type": "execute_result"
    }
   ],
   "source": [
    "len(data[data['year_of_release'].isna()]) / len(data)"
   ]
  },
  {
   "cell_type": "markdown",
   "metadata": {},
   "source": [
    "Пропусков в годе выпуска игры 1,6%. Это достаточно мало. Мы не можем заполнить эти пропуски какими-то расчетными значениями. Лучше их удалить."
   ]
  },
  {
   "cell_type": "code",
   "execution_count": 19,
   "metadata": {},
   "outputs": [],
   "source": [
    "data = data.dropna(subset=['year_of_release'])"
   ]
  },
  {
   "cell_type": "markdown",
   "metadata": {},
   "source": [
    "#### Возрастной рейтинг"
   ]
  },
  {
   "cell_type": "code",
   "execution_count": 20,
   "metadata": {},
   "outputs": [
    {
     "data": {
      "text/plain": [
       "0.40598394551204087"
      ]
     },
     "execution_count": 20,
     "metadata": {},
     "output_type": "execute_result"
    }
   ],
   "source": [
    "len(data[data['rating'].isna()]) / len(data)"
   ]
  },
  {
   "cell_type": "markdown",
   "metadata": {},
   "source": [
    "Пропусков много 40%, просто удалить строки нельзя. Заполнить их расчетным значением также не представляется возможным. Заменим пропуски значением 'unknown'."
   ]
  },
  {
   "cell_type": "code",
   "execution_count": 21,
   "metadata": {},
   "outputs": [
    {
     "data": {
      "text/plain": [
       "unknown    6677\n",
       "E          3932\n",
       "T          2905\n",
       "M          1537\n",
       "E10+       1393\n",
       "Name: rating, dtype: int64"
      ]
     },
     "execution_count": 21,
     "metadata": {},
     "output_type": "execute_result"
    }
   ],
   "source": [
    "data['rating'] = data['rating'].fillna('unknown')\n",
    "data['rating'].value_counts()"
   ]
  },
  {
   "cell_type": "markdown",
   "metadata": {},
   "source": [
    "#### Оценка критиков"
   ]
  },
  {
   "cell_type": "code",
   "execution_count": 22,
   "metadata": {},
   "outputs": [
    {
     "data": {
      "text/plain": [
       "0.5145341765993675"
      ]
     },
     "execution_count": 22,
     "metadata": {},
     "output_type": "execute_result"
    }
   ],
   "source": [
    "len(data[data['critic_score'].isna()]) / len(data)"
   ]
  },
  {
   "cell_type": "markdown",
   "metadata": {},
   "source": [
    "Здесь пропусков еще больше. Нельзя заменять пропущенные значения оценок расчетными, средними или еще какими-то аппроксимированными значениями. Но данные строки необходимы для анализа. Оставим пропуски как есть. Скорее всего, они не помешают при анализе."
   ]
  },
  {
   "cell_type": "markdown",
   "metadata": {},
   "source": [
    "#### Оценка пользователей"
   ]
  },
  {
   "cell_type": "code",
   "execution_count": 23,
   "metadata": {},
   "outputs": [
    {
     "data": {
      "text/plain": [
       "0.4016662612503041"
      ]
     },
     "execution_count": 23,
     "metadata": {},
     "output_type": "execute_result"
    }
   ],
   "source": [
    "len(data[data['user_score'].isna()]) / len(data)"
   ]
  },
  {
   "cell_type": "markdown",
   "metadata": {},
   "source": [
    "Так же около 40% пропусков. Ситуация аналогичная, мы не можем их ничем заменить. Но и оставить так не можем, т.к. это помешает нам обработать тип данных в столбце. Мы можем заменить пропуски на какое-то числовое значение заведомо вне возможного ряда оценок (например -1), преобразовать тип данных в числовой, а затем удалить эти значения или просто не принимать их во внимание при дальнейшем анализе.\\\n",
    "Аналогично следует поступить со значением 'tbd' в этом столбце. Аббревиатура 'tbd' означает 'to be determined' или 'подлежит уточнению'. Т.о. это оценка, которая еще не выставлена, но будет определена в ближайшее время, т.е. по сути так же отсутствует."
   ]
  },
  {
   "cell_type": "code",
   "execution_count": 24,
   "metadata": {},
   "outputs": [],
   "source": [
    "data['user_score'] = data['user_score'].fillna('-1')"
   ]
  },
  {
   "cell_type": "code",
   "execution_count": 25,
   "metadata": {},
   "outputs": [
    {
     "data": {
      "text/plain": [
       "array(['-1', '0', '0.2', '0.3', '0.5', '0.6', '0.7', '0.9', '1', '1.1',\n",
       "       '1.2', '1.3', '1.4', '1.5', '1.6', '1.7', '1.8', '1.9', '2', '2.1',\n",
       "       '2.2', '2.3', '2.4', '2.5', '2.6', '2.7', '2.8', '2.9', '3', '3.1',\n",
       "       '3.2', '3.3', '3.4', '3.5', '3.6', '3.7', '3.8', '3.9', '4', '4.1',\n",
       "       '4.2', '4.3', '4.4', '4.5', '4.6', '4.7', '4.8', '4.9', '5', '5.1',\n",
       "       '5.2', '5.3', '5.4', '5.5', '5.6', '5.7', '5.8', '5.9', '6', '6.1',\n",
       "       '6.2', '6.3', '6.4', '6.5', '6.6', '6.7', '6.8', '6.9', '7', '7.1',\n",
       "       '7.2', '7.3', '7.4', '7.5', '7.6', '7.7', '7.8', '7.9', '8', '8.1',\n",
       "       '8.2', '8.3', '8.4', '8.5', '8.6', '8.7', '8.8', '8.9', '9', '9.1',\n",
       "       '9.2', '9.3', '9.4', '9.5', '9.6', '9.7'], dtype=object)"
      ]
     },
     "execution_count": 25,
     "metadata": {},
     "output_type": "execute_result"
    }
   ],
   "source": [
    "data.loc[data['user_score'] == 'tbd', 'user_score'] = '-1'\n",
    "data.user_score.sort_values().unique()"
   ]
  },
  {
   "cell_type": "markdown",
   "metadata": {},
   "source": [
    "### Преобразование типов данных"
   ]
  },
  {
   "cell_type": "markdown",
   "metadata": {},
   "source": [
    "Мы избавились от строкового значения в столбце с оценкой пользователей, теперь ничего не мешает преобразовать тип данных в столбце в числовой."
   ]
  },
  {
   "cell_type": "code",
   "execution_count": 26,
   "metadata": {},
   "outputs": [],
   "source": [
    "data['user_score'] = data['user_score'].astype('float')"
   ]
  },
  {
   "cell_type": "markdown",
   "metadata": {},
   "source": [
    "Кроме того, преобразуем тип данных в столбце с годом выпуска в строковый."
   ]
  },
  {
   "cell_type": "code",
   "execution_count": 27,
   "metadata": {},
   "outputs": [
    {
     "name": "stdout",
     "output_type": "stream",
     "text": [
      "<class 'pandas.core.frame.DataFrame'>\n",
      "Int64Index: 16444 entries, 0 to 16714\n",
      "Data columns (total 11 columns):\n",
      " #   Column           Non-Null Count  Dtype  \n",
      "---  ------           --------------  -----  \n",
      " 0   name             16444 non-null  object \n",
      " 1   platform         16444 non-null  object \n",
      " 2   year_of_release  16444 non-null  object \n",
      " 3   genre            16444 non-null  object \n",
      " 4   na_sales         16444 non-null  float64\n",
      " 5   eu_sales         16444 non-null  float64\n",
      " 6   jp_sales         16444 non-null  float64\n",
      " 7   other_sales      16444 non-null  float64\n",
      " 8   critic_score     7983 non-null   float64\n",
      " 9   user_score       16444 non-null  float64\n",
      " 10  rating           16444 non-null  object \n",
      "dtypes: float64(6), object(5)\n",
      "memory usage: 1.5+ MB\n"
     ]
    }
   ],
   "source": [
    "data['year_of_release'] = data['year_of_release'].astype('int')\n",
    "data['year_of_release'] = data['year_of_release'].astype('str')\n",
    "data.info()"
   ]
  },
  {
   "cell_type": "markdown",
   "metadata": {},
   "source": [
    "Преобразование в целочисленный тип оценки критиков не имеет смысла, т.к. мы оставили там пропущенные значения, которые имеют тип 'float'."
   ]
  },
  {
   "cell_type": "markdown",
   "metadata": {},
   "source": [
    "### Проверка дубликатов"
   ]
  },
  {
   "cell_type": "markdown",
   "metadata": {},
   "source": [
    "Проверим данные на наличие явных дубликатов."
   ]
  },
  {
   "cell_type": "code",
   "execution_count": 28,
   "metadata": {},
   "outputs": [
    {
     "data": {
      "text/plain": [
       "0"
      ]
     },
     "execution_count": 28,
     "metadata": {},
     "output_type": "execute_result"
    }
   ],
   "source": [
    "data.duplicated().sum()"
   ]
  },
  {
   "cell_type": "markdown",
   "metadata": {},
   "source": [
    "Данные не содержат дублирующих записей. Все в порядке."
   ]
  },
  {
   "cell_type": "markdown",
   "metadata": {},
   "source": [
    "### Добавление в таблицу расчетных данных"
   ]
  },
  {
   "cell_type": "markdown",
   "metadata": {},
   "source": [
    "Добавим в таблицу столбец с суммой продаж по всем регионам."
   ]
  },
  {
   "cell_type": "code",
   "execution_count": 29,
   "metadata": {},
   "outputs": [
    {
     "data": {
      "text/html": [
       "<div>\n",
       "<style scoped>\n",
       "    .dataframe tbody tr th:only-of-type {\n",
       "        vertical-align: middle;\n",
       "    }\n",
       "\n",
       "    .dataframe tbody tr th {\n",
       "        vertical-align: top;\n",
       "    }\n",
       "\n",
       "    .dataframe thead th {\n",
       "        text-align: right;\n",
       "    }\n",
       "</style>\n",
       "<table border=\"1\" class=\"dataframe\">\n",
       "  <thead>\n",
       "    <tr style=\"text-align: right;\">\n",
       "      <th></th>\n",
       "      <th>name</th>\n",
       "      <th>platform</th>\n",
       "      <th>year_of_release</th>\n",
       "      <th>genre</th>\n",
       "      <th>na_sales</th>\n",
       "      <th>eu_sales</th>\n",
       "      <th>jp_sales</th>\n",
       "      <th>other_sales</th>\n",
       "      <th>critic_score</th>\n",
       "      <th>user_score</th>\n",
       "      <th>rating</th>\n",
       "      <th>sum_sales</th>\n",
       "    </tr>\n",
       "  </thead>\n",
       "  <tbody>\n",
       "    <tr>\n",
       "      <th>0</th>\n",
       "      <td>Wii Sports</td>\n",
       "      <td>Wii</td>\n",
       "      <td>2006</td>\n",
       "      <td>Sports</td>\n",
       "      <td>41.360</td>\n",
       "      <td>28.960</td>\n",
       "      <td>3.770</td>\n",
       "      <td>8.450</td>\n",
       "      <td>76.000</td>\n",
       "      <td>8.000</td>\n",
       "      <td>E</td>\n",
       "      <td>82.540</td>\n",
       "    </tr>\n",
       "    <tr>\n",
       "      <th>1</th>\n",
       "      <td>Super Mario Bros.</td>\n",
       "      <td>NES</td>\n",
       "      <td>1985</td>\n",
       "      <td>Platform</td>\n",
       "      <td>29.080</td>\n",
       "      <td>3.580</td>\n",
       "      <td>6.810</td>\n",
       "      <td>0.770</td>\n",
       "      <td>NaN</td>\n",
       "      <td>-1.000</td>\n",
       "      <td>unknown</td>\n",
       "      <td>40.240</td>\n",
       "    </tr>\n",
       "    <tr>\n",
       "      <th>2</th>\n",
       "      <td>Mario Kart Wii</td>\n",
       "      <td>Wii</td>\n",
       "      <td>2008</td>\n",
       "      <td>Racing</td>\n",
       "      <td>15.680</td>\n",
       "      <td>12.760</td>\n",
       "      <td>3.790</td>\n",
       "      <td>3.290</td>\n",
       "      <td>82.000</td>\n",
       "      <td>8.300</td>\n",
       "      <td>E</td>\n",
       "      <td>35.520</td>\n",
       "    </tr>\n",
       "    <tr>\n",
       "      <th>3</th>\n",
       "      <td>Wii Sports Resort</td>\n",
       "      <td>Wii</td>\n",
       "      <td>2009</td>\n",
       "      <td>Sports</td>\n",
       "      <td>15.610</td>\n",
       "      <td>10.930</td>\n",
       "      <td>3.280</td>\n",
       "      <td>2.950</td>\n",
       "      <td>80.000</td>\n",
       "      <td>8.000</td>\n",
       "      <td>E</td>\n",
       "      <td>32.770</td>\n",
       "    </tr>\n",
       "    <tr>\n",
       "      <th>4</th>\n",
       "      <td>Pokemon Red/Pokemon Blue</td>\n",
       "      <td>GB</td>\n",
       "      <td>1996</td>\n",
       "      <td>Role-Playing</td>\n",
       "      <td>11.270</td>\n",
       "      <td>8.890</td>\n",
       "      <td>10.220</td>\n",
       "      <td>1.000</td>\n",
       "      <td>NaN</td>\n",
       "      <td>-1.000</td>\n",
       "      <td>unknown</td>\n",
       "      <td>31.380</td>\n",
       "    </tr>\n",
       "  </tbody>\n",
       "</table>\n",
       "</div>"
      ],
      "text/plain": [
       "                       name platform year_of_release         genre  na_sales  \\\n",
       "0                Wii Sports      Wii            2006        Sports    41.360   \n",
       "1         Super Mario Bros.      NES            1985      Platform    29.080   \n",
       "2            Mario Kart Wii      Wii            2008        Racing    15.680   \n",
       "3         Wii Sports Resort      Wii            2009        Sports    15.610   \n",
       "4  Pokemon Red/Pokemon Blue       GB            1996  Role-Playing    11.270   \n",
       "\n",
       "   eu_sales  jp_sales  other_sales  critic_score  user_score   rating  \\\n",
       "0    28.960     3.770        8.450        76.000       8.000        E   \n",
       "1     3.580     6.810        0.770           NaN      -1.000  unknown   \n",
       "2    12.760     3.790        3.290        82.000       8.300        E   \n",
       "3    10.930     3.280        2.950        80.000       8.000        E   \n",
       "4     8.890    10.220        1.000           NaN      -1.000  unknown   \n",
       "\n",
       "   sum_sales  \n",
       "0     82.540  \n",
       "1     40.240  \n",
       "2     35.520  \n",
       "3     32.770  \n",
       "4     31.380  "
      ]
     },
     "execution_count": 29,
     "metadata": {},
     "output_type": "execute_result"
    }
   ],
   "source": [
    "data['sum_sales'] = data[['na_sales','eu_sales','jp_sales', 'other_sales']].sum(axis = 1)\n",
    "data.head()"
   ]
  },
  {
   "cell_type": "markdown",
   "metadata": {},
   "source": [
    "### Вывод"
   ]
  },
  {
   "cell_type": "markdown",
   "metadata": {},
   "source": [
    "Итак в данном разделе мы подготовили исходные данные к проведению анализа:\n",
    "- объединили возрастные категории,\n",
    "- обработали пропуски и некорректные значения,\n",
    "- удалили часть строк,\n",
    "- преобразовали тип данных,\n",
    "- добавили в таблицу расчетные данные.\n",
    "\n",
    "Теперь можем приступить к анализу."
   ]
  },
  {
   "cell_type": "markdown",
   "metadata": {},
   "source": [
    "## Анализ данных"
   ]
  },
  {
   "cell_type": "markdown",
   "metadata": {},
   "source": [
    "### Динамика выпуска игр по годам"
   ]
  },
  {
   "cell_type": "markdown",
   "metadata": {},
   "source": [
    "Проанализируем количество новых игр, выпускаемых по годам."
   ]
  },
  {
   "cell_type": "code",
   "execution_count": 30,
   "metadata": {},
   "outputs": [
    {
     "data": {
      "text/html": [
       "<div>\n",
       "<style scoped>\n",
       "    .dataframe tbody tr th:only-of-type {\n",
       "        vertical-align: middle;\n",
       "    }\n",
       "\n",
       "    .dataframe tbody tr th {\n",
       "        vertical-align: top;\n",
       "    }\n",
       "\n",
       "    .dataframe thead th {\n",
       "        text-align: right;\n",
       "    }\n",
       "</style>\n",
       "<table border=\"1\" class=\"dataframe\">\n",
       "  <thead>\n",
       "    <tr style=\"text-align: right;\">\n",
       "      <th></th>\n",
       "      <th>sum_sales</th>\n",
       "    </tr>\n",
       "    <tr>\n",
       "      <th>year_of_release</th>\n",
       "      <th></th>\n",
       "    </tr>\n",
       "  </thead>\n",
       "  <tbody>\n",
       "    <tr>\n",
       "      <th>1980</th>\n",
       "      <td>9</td>\n",
       "    </tr>\n",
       "    <tr>\n",
       "      <th>1981</th>\n",
       "      <td>46</td>\n",
       "    </tr>\n",
       "    <tr>\n",
       "      <th>1982</th>\n",
       "      <td>36</td>\n",
       "    </tr>\n",
       "    <tr>\n",
       "      <th>1983</th>\n",
       "      <td>17</td>\n",
       "    </tr>\n",
       "    <tr>\n",
       "      <th>1984</th>\n",
       "      <td>14</td>\n",
       "    </tr>\n",
       "    <tr>\n",
       "      <th>1985</th>\n",
       "      <td>14</td>\n",
       "    </tr>\n",
       "    <tr>\n",
       "      <th>1986</th>\n",
       "      <td>21</td>\n",
       "    </tr>\n",
       "    <tr>\n",
       "      <th>1987</th>\n",
       "      <td>16</td>\n",
       "    </tr>\n",
       "    <tr>\n",
       "      <th>1988</th>\n",
       "      <td>15</td>\n",
       "    </tr>\n",
       "    <tr>\n",
       "      <th>1989</th>\n",
       "      <td>17</td>\n",
       "    </tr>\n",
       "    <tr>\n",
       "      <th>1990</th>\n",
       "      <td>16</td>\n",
       "    </tr>\n",
       "    <tr>\n",
       "      <th>1991</th>\n",
       "      <td>41</td>\n",
       "    </tr>\n",
       "    <tr>\n",
       "      <th>1992</th>\n",
       "      <td>43</td>\n",
       "    </tr>\n",
       "    <tr>\n",
       "      <th>1993</th>\n",
       "      <td>60</td>\n",
       "    </tr>\n",
       "    <tr>\n",
       "      <th>1994</th>\n",
       "      <td>121</td>\n",
       "    </tr>\n",
       "    <tr>\n",
       "      <th>1995</th>\n",
       "      <td>219</td>\n",
       "    </tr>\n",
       "    <tr>\n",
       "      <th>1996</th>\n",
       "      <td>263</td>\n",
       "    </tr>\n",
       "    <tr>\n",
       "      <th>1997</th>\n",
       "      <td>289</td>\n",
       "    </tr>\n",
       "    <tr>\n",
       "      <th>1998</th>\n",
       "      <td>379</td>\n",
       "    </tr>\n",
       "    <tr>\n",
       "      <th>1999</th>\n",
       "      <td>338</td>\n",
       "    </tr>\n",
       "    <tr>\n",
       "      <th>2000</th>\n",
       "      <td>350</td>\n",
       "    </tr>\n",
       "    <tr>\n",
       "      <th>2001</th>\n",
       "      <td>482</td>\n",
       "    </tr>\n",
       "    <tr>\n",
       "      <th>2002</th>\n",
       "      <td>829</td>\n",
       "    </tr>\n",
       "    <tr>\n",
       "      <th>2003</th>\n",
       "      <td>775</td>\n",
       "    </tr>\n",
       "    <tr>\n",
       "      <th>2004</th>\n",
       "      <td>762</td>\n",
       "    </tr>\n",
       "    <tr>\n",
       "      <th>2005</th>\n",
       "      <td>939</td>\n",
       "    </tr>\n",
       "    <tr>\n",
       "      <th>2006</th>\n",
       "      <td>1006</td>\n",
       "    </tr>\n",
       "    <tr>\n",
       "      <th>2007</th>\n",
       "      <td>1197</td>\n",
       "    </tr>\n",
       "    <tr>\n",
       "      <th>2008</th>\n",
       "      <td>1427</td>\n",
       "    </tr>\n",
       "    <tr>\n",
       "      <th>2009</th>\n",
       "      <td>1426</td>\n",
       "    </tr>\n",
       "    <tr>\n",
       "      <th>2010</th>\n",
       "      <td>1255</td>\n",
       "    </tr>\n",
       "    <tr>\n",
       "      <th>2011</th>\n",
       "      <td>1136</td>\n",
       "    </tr>\n",
       "    <tr>\n",
       "      <th>2012</th>\n",
       "      <td>653</td>\n",
       "    </tr>\n",
       "    <tr>\n",
       "      <th>2013</th>\n",
       "      <td>544</td>\n",
       "    </tr>\n",
       "    <tr>\n",
       "      <th>2014</th>\n",
       "      <td>581</td>\n",
       "    </tr>\n",
       "    <tr>\n",
       "      <th>2015</th>\n",
       "      <td>606</td>\n",
       "    </tr>\n",
       "    <tr>\n",
       "      <th>2016</th>\n",
       "      <td>502</td>\n",
       "    </tr>\n",
       "  </tbody>\n",
       "</table>\n",
       "</div>"
      ],
      "text/plain": [
       "                 sum_sales\n",
       "year_of_release           \n",
       "1980                     9\n",
       "1981                    46\n",
       "1982                    36\n",
       "1983                    17\n",
       "1984                    14\n",
       "1985                    14\n",
       "1986                    21\n",
       "1987                    16\n",
       "1988                    15\n",
       "1989                    17\n",
       "1990                    16\n",
       "1991                    41\n",
       "1992                    43\n",
       "1993                    60\n",
       "1994                   121\n",
       "1995                   219\n",
       "1996                   263\n",
       "1997                   289\n",
       "1998                   379\n",
       "1999                   338\n",
       "2000                   350\n",
       "2001                   482\n",
       "2002                   829\n",
       "2003                   775\n",
       "2004                   762\n",
       "2005                   939\n",
       "2006                  1006\n",
       "2007                  1197\n",
       "2008                  1427\n",
       "2009                  1426\n",
       "2010                  1255\n",
       "2011                  1136\n",
       "2012                   653\n",
       "2013                   544\n",
       "2014                   581\n",
       "2015                   606\n",
       "2016                   502"
      ]
     },
     "metadata": {},
     "output_type": "display_data"
    },
    {
     "data": {
      "image/png": "[encoded data removed]",
      "text/plain": [
       "<Figure size 720x360 with 1 Axes>"
      ]
     },
     "metadata": {
      "needs_background": "light"
     },
     "output_type": "display_data"
    }
   ],
   "source": [
    "data_years = data.pivot_table(index='year_of_release', values='sum_sales', aggfunc='count')\n",
    "display(data_years)\n",
    "data_years.plot(figsize = (10,5), style='-o', grid=True, title='Динамика выпуска игр по годам', xlabel='Год выпуска', ylabel='Количество выпущенных игр')\n",
    "plt.show()"
   ]
  },
  {
   "cell_type": "markdown",
   "metadata": {},
   "source": [
    "Полученная сводная таблица, а также график наглядно показывают, что до 1994 года игр выпускалось очень мало, менее 100 в год. Эти данные непоказательны при анализе. Начиная с 1994 года начинается рост, сначала плавный, затем резкий, обусловленный развитием отрасли. Небольшой пик наблюдается в 2002 году, но максимума выпуск игр достигает в 2008-2009 году почти 1,5 тысячи игр в год, а далее начинается такое же резкое снижение. Возможно, снижение обусловлено мировым экономическим кризисом 2009 года и снижением финансирования отрасли из-за него. В 2013 году ситуация стабилизируется и выпуски новых игр остаются примерно на одном уровне. В 2016 году наблюдаем небольшое снижение из-за неполных данных за этот год."
   ]
  },
  {
   "cell_type": "markdown",
   "metadata": {},
   "source": [
    "### Продажи игр на разных платформах"
   ]
  },
  {
   "cell_type": "markdown",
   "metadata": {},
   "source": [
    "Рассмотрим распределение продаж по платформам."
   ]
  },
  {
   "cell_type": "code",
   "execution_count": 31,
   "metadata": {},
   "outputs": [
    {
     "data": {
      "text/html": [
       "<div>\n",
       "<style scoped>\n",
       "    .dataframe tbody tr th:only-of-type {\n",
       "        vertical-align: middle;\n",
       "    }\n",
       "\n",
       "    .dataframe tbody tr th {\n",
       "        vertical-align: top;\n",
       "    }\n",
       "\n",
       "    .dataframe thead th {\n",
       "        text-align: right;\n",
       "    }\n",
       "</style>\n",
       "<table border=\"1\" class=\"dataframe\">\n",
       "  <thead>\n",
       "    <tr style=\"text-align: right;\">\n",
       "      <th></th>\n",
       "      <th>sum_sales</th>\n",
       "    </tr>\n",
       "    <tr>\n",
       "      <th>platform</th>\n",
       "      <th></th>\n",
       "    </tr>\n",
       "  </thead>\n",
       "  <tbody>\n",
       "    <tr>\n",
       "      <th>PS2</th>\n",
       "      <td>1233.560</td>\n",
       "    </tr>\n",
       "    <tr>\n",
       "      <th>X360</th>\n",
       "      <td>961.240</td>\n",
       "    </tr>\n",
       "    <tr>\n",
       "      <th>PS3</th>\n",
       "      <td>931.340</td>\n",
       "    </tr>\n",
       "    <tr>\n",
       "      <th>Wii</th>\n",
       "      <td>891.180</td>\n",
       "    </tr>\n",
       "    <tr>\n",
       "      <th>DS</th>\n",
       "      <td>802.780</td>\n",
       "    </tr>\n",
       "    <tr>\n",
       "      <th>PS</th>\n",
       "      <td>727.580</td>\n",
       "    </tr>\n",
       "    <tr>\n",
       "      <th>PS4</th>\n",
       "      <td>314.140</td>\n",
       "    </tr>\n",
       "    <tr>\n",
       "      <th>GBA</th>\n",
       "      <td>312.880</td>\n",
       "    </tr>\n",
       "    <tr>\n",
       "      <th>PSP</th>\n",
       "      <td>289.530</td>\n",
       "    </tr>\n",
       "    <tr>\n",
       "      <th>3DS</th>\n",
       "      <td>257.810</td>\n",
       "    </tr>\n",
       "    <tr>\n",
       "      <th>PC</th>\n",
       "      <td>255.760</td>\n",
       "    </tr>\n",
       "    <tr>\n",
       "      <th>GB</th>\n",
       "      <td>254.430</td>\n",
       "    </tr>\n",
       "    <tr>\n",
       "      <th>XB</th>\n",
       "      <td>251.570</td>\n",
       "    </tr>\n",
       "    <tr>\n",
       "      <th>NES</th>\n",
       "      <td>251.050</td>\n",
       "    </tr>\n",
       "    <tr>\n",
       "      <th>N64</th>\n",
       "      <td>218.010</td>\n",
       "    </tr>\n",
       "    <tr>\n",
       "      <th>SNES</th>\n",
       "      <td>200.040</td>\n",
       "    </tr>\n",
       "    <tr>\n",
       "      <th>GC</th>\n",
       "      <td>196.730</td>\n",
       "    </tr>\n",
       "    <tr>\n",
       "      <th>XOne</th>\n",
       "      <td>159.320</td>\n",
       "    </tr>\n",
       "    <tr>\n",
       "      <th>2600</th>\n",
       "      <td>86.480</td>\n",
       "    </tr>\n",
       "    <tr>\n",
       "      <th>WiiU</th>\n",
       "      <td>82.190</td>\n",
       "    </tr>\n",
       "    <tr>\n",
       "      <th>PSV</th>\n",
       "      <td>53.810</td>\n",
       "    </tr>\n",
       "    <tr>\n",
       "      <th>SAT</th>\n",
       "      <td>33.590</td>\n",
       "    </tr>\n",
       "    <tr>\n",
       "      <th>GEN</th>\n",
       "      <td>28.350</td>\n",
       "    </tr>\n",
       "    <tr>\n",
       "      <th>DC</th>\n",
       "      <td>15.950</td>\n",
       "    </tr>\n",
       "    <tr>\n",
       "      <th>SCD</th>\n",
       "      <td>1.860</td>\n",
       "    </tr>\n",
       "    <tr>\n",
       "      <th>NG</th>\n",
       "      <td>1.440</td>\n",
       "    </tr>\n",
       "    <tr>\n",
       "      <th>WS</th>\n",
       "      <td>1.420</td>\n",
       "    </tr>\n",
       "    <tr>\n",
       "      <th>TG16</th>\n",
       "      <td>0.160</td>\n",
       "    </tr>\n",
       "    <tr>\n",
       "      <th>3DO</th>\n",
       "      <td>0.100</td>\n",
       "    </tr>\n",
       "    <tr>\n",
       "      <th>GG</th>\n",
       "      <td>0.040</td>\n",
       "    </tr>\n",
       "    <tr>\n",
       "      <th>PCFX</th>\n",
       "      <td>0.030</td>\n",
       "    </tr>\n",
       "  </tbody>\n",
       "</table>\n",
       "</div>"
      ],
      "text/plain": [
       "          sum_sales\n",
       "platform           \n",
       "PS2        1233.560\n",
       "X360        961.240\n",
       "PS3         931.340\n",
       "Wii         891.180\n",
       "DS          802.780\n",
       "PS          727.580\n",
       "PS4         314.140\n",
       "GBA         312.880\n",
       "PSP         289.530\n",
       "3DS         257.810\n",
       "PC          255.760\n",
       "GB          254.430\n",
       "XB          251.570\n",
       "NES         251.050\n",
       "N64         218.010\n",
       "SNES        200.040\n",
       "GC          196.730\n",
       "XOne        159.320\n",
       "2600         86.480\n",
       "WiiU         82.190\n",
       "PSV          53.810\n",
       "SAT          33.590\n",
       "GEN          28.350\n",
       "DC           15.950\n",
       "SCD           1.860\n",
       "NG            1.440\n",
       "WS            1.420\n",
       "TG16          0.160\n",
       "3DO           0.100\n",
       "GG            0.040\n",
       "PCFX          0.030"
      ]
     },
     "metadata": {},
     "output_type": "display_data"
    },
    {
     "data": {
      "text/plain": [
       "<AxesSubplot:xlabel='platform'>"
      ]
     },
     "execution_count": 31,
     "metadata": {},
     "output_type": "execute_result"
    },
    {
     "data": {
      "image/png": "[encoded data removed]",
      "text/plain": [
       "<Figure size 432x288 with 1 Axes>"
      ]
     },
     "metadata": {
      "needs_background": "light"
     },
     "output_type": "display_data"
    }
   ],
   "source": [
    "data_platf = data.pivot_table(index='platform', values='sum_sales', aggfunc='sum').sort_values(by='sum_sales', ascending=False)\n",
    "display(data_platf)\n",
    "data_platf.plot(kind='bar')"
   ]
  },
  {
   "cell_type": "markdown",
   "metadata": {},
   "source": [
    "Абсолютный лидер - платформа PS2 с более чем 1200 млн. проданных копий. Также есть пятерка платформ, близких к лидеру, сильно отличающиеся по продажам от остальных. Большинство игровых платформ не превышают 300 млн. проданных копий, есть также несколько с продажами, близкими к нулю.\\\n",
    "Для дальнейшего анализа используем платформы с макимальным объемом продаж (более 300 млн.копий)."
   ]
  },
  {
   "cell_type": "code",
   "execution_count": 32,
   "metadata": {
    "scrolled": true
   },
   "outputs": [
    {
     "data": {
      "text/plain": [
       "0     PS2\n",
       "1    X360\n",
       "2     PS3\n",
       "3     Wii\n",
       "4      DS\n",
       "5      PS\n",
       "6     PS4\n",
       "7     GBA\n",
       "Name: platform, dtype: object"
      ]
     },
     "execution_count": 32,
     "metadata": {},
     "output_type": "execute_result"
    }
   ],
   "source": [
    "# выделим названия топ-платформ в отдельный список\n",
    "data_platf = data_platf.reset_index()\n",
    "top_platf = data_platf.loc[data_platf['sum_sales']>300, 'platform']\n",
    "top_platf"
   ]
  },
  {
   "cell_type": "markdown",
   "metadata": {},
   "source": [
    "### Определение актуального периода для анализа"
   ]
  },
  {
   "cell_type": "markdown",
   "metadata": {},
   "source": [
    "Построим графики динамики продаж по годам на выбранных топ-платформах."
   ]
  },
  {
   "cell_type": "code",
   "execution_count": 33,
   "metadata": {},
   "outputs": [
    {
     "data": {
      "text/html": [
       "<div>\n",
       "<style scoped>\n",
       "    .dataframe tbody tr th:only-of-type {\n",
       "        vertical-align: middle;\n",
       "    }\n",
       "\n",
       "    .dataframe tbody tr th {\n",
       "        vertical-align: top;\n",
       "    }\n",
       "\n",
       "    .dataframe thead th {\n",
       "        text-align: right;\n",
       "    }\n",
       "</style>\n",
       "<table border=\"1\" class=\"dataframe\">\n",
       "  <thead>\n",
       "    <tr style=\"text-align: right;\">\n",
       "      <th>platform</th>\n",
       "      <th>DS</th>\n",
       "      <th>GBA</th>\n",
       "      <th>PS</th>\n",
       "      <th>PS2</th>\n",
       "      <th>PS3</th>\n",
       "      <th>PS4</th>\n",
       "      <th>Wii</th>\n",
       "      <th>X360</th>\n",
       "    </tr>\n",
       "    <tr>\n",
       "      <th>year_of_release</th>\n",
       "      <th></th>\n",
       "      <th></th>\n",
       "      <th></th>\n",
       "      <th></th>\n",
       "      <th></th>\n",
       "      <th></th>\n",
       "      <th></th>\n",
       "      <th></th>\n",
       "    </tr>\n",
       "  </thead>\n",
       "  <tbody>\n",
       "    <tr>\n",
       "      <th>1985</th>\n",
       "      <td>0.020</td>\n",
       "      <td>NaN</td>\n",
       "      <td>NaN</td>\n",
       "      <td>NaN</td>\n",
       "      <td>NaN</td>\n",
       "      <td>NaN</td>\n",
       "      <td>NaN</td>\n",
       "      <td>NaN</td>\n",
       "    </tr>\n",
       "    <tr>\n",
       "      <th>1994</th>\n",
       "      <td>NaN</td>\n",
       "      <td>NaN</td>\n",
       "      <td>6.030</td>\n",
       "      <td>NaN</td>\n",
       "      <td>NaN</td>\n",
       "      <td>NaN</td>\n",
       "      <td>NaN</td>\n",
       "      <td>NaN</td>\n",
       "    </tr>\n",
       "    <tr>\n",
       "      <th>1995</th>\n",
       "      <td>NaN</td>\n",
       "      <td>NaN</td>\n",
       "      <td>35.960</td>\n",
       "      <td>NaN</td>\n",
       "      <td>NaN</td>\n",
       "      <td>NaN</td>\n",
       "      <td>NaN</td>\n",
       "      <td>NaN</td>\n",
       "    </tr>\n",
       "    <tr>\n",
       "      <th>1996</th>\n",
       "      <td>NaN</td>\n",
       "      <td>NaN</td>\n",
       "      <td>94.700</td>\n",
       "      <td>NaN</td>\n",
       "      <td>NaN</td>\n",
       "      <td>NaN</td>\n",
       "      <td>NaN</td>\n",
       "      <td>NaN</td>\n",
       "    </tr>\n",
       "    <tr>\n",
       "      <th>1997</th>\n",
       "      <td>NaN</td>\n",
       "      <td>NaN</td>\n",
       "      <td>136.170</td>\n",
       "      <td>NaN</td>\n",
       "      <td>NaN</td>\n",
       "      <td>NaN</td>\n",
       "      <td>NaN</td>\n",
       "      <td>NaN</td>\n",
       "    </tr>\n",
       "    <tr>\n",
       "      <th>1998</th>\n",
       "      <td>NaN</td>\n",
       "      <td>NaN</td>\n",
       "      <td>169.490</td>\n",
       "      <td>NaN</td>\n",
       "      <td>NaN</td>\n",
       "      <td>NaN</td>\n",
       "      <td>NaN</td>\n",
       "      <td>NaN</td>\n",
       "    </tr>\n",
       "    <tr>\n",
       "      <th>1999</th>\n",
       "      <td>NaN</td>\n",
       "      <td>NaN</td>\n",
       "      <td>144.530</td>\n",
       "      <td>NaN</td>\n",
       "      <td>NaN</td>\n",
       "      <td>NaN</td>\n",
       "      <td>NaN</td>\n",
       "      <td>NaN</td>\n",
       "    </tr>\n",
       "    <tr>\n",
       "      <th>2000</th>\n",
       "      <td>NaN</td>\n",
       "      <td>0.070</td>\n",
       "      <td>96.370</td>\n",
       "      <td>39.170</td>\n",
       "      <td>NaN</td>\n",
       "      <td>NaN</td>\n",
       "      <td>NaN</td>\n",
       "      <td>NaN</td>\n",
       "    </tr>\n",
       "    <tr>\n",
       "      <th>2001</th>\n",
       "      <td>NaN</td>\n",
       "      <td>61.530</td>\n",
       "      <td>35.590</td>\n",
       "      <td>166.430</td>\n",
       "      <td>NaN</td>\n",
       "      <td>NaN</td>\n",
       "      <td>NaN</td>\n",
       "      <td>NaN</td>\n",
       "    </tr>\n",
       "    <tr>\n",
       "      <th>2002</th>\n",
       "      <td>NaN</td>\n",
       "      <td>74.160</td>\n",
       "      <td>6.670</td>\n",
       "      <td>205.380</td>\n",
       "      <td>NaN</td>\n",
       "      <td>NaN</td>\n",
       "      <td>NaN</td>\n",
       "      <td>NaN</td>\n",
       "    </tr>\n",
       "    <tr>\n",
       "      <th>2003</th>\n",
       "      <td>NaN</td>\n",
       "      <td>56.670</td>\n",
       "      <td>2.070</td>\n",
       "      <td>184.310</td>\n",
       "      <td>NaN</td>\n",
       "      <td>NaN</td>\n",
       "      <td>NaN</td>\n",
       "      <td>NaN</td>\n",
       "    </tr>\n",
       "    <tr>\n",
       "      <th>2004</th>\n",
       "      <td>17.270</td>\n",
       "      <td>77.910</td>\n",
       "      <td>NaN</td>\n",
       "      <td>211.810</td>\n",
       "      <td>NaN</td>\n",
       "      <td>NaN</td>\n",
       "      <td>NaN</td>\n",
       "      <td>NaN</td>\n",
       "    </tr>\n",
       "    <tr>\n",
       "      <th>2005</th>\n",
       "      <td>130.140</td>\n",
       "      <td>33.860</td>\n",
       "      <td>NaN</td>\n",
       "      <td>160.660</td>\n",
       "      <td>NaN</td>\n",
       "      <td>NaN</td>\n",
       "      <td>NaN</td>\n",
       "      <td>8.250</td>\n",
       "    </tr>\n",
       "    <tr>\n",
       "      <th>2006</th>\n",
       "      <td>119.810</td>\n",
       "      <td>5.280</td>\n",
       "      <td>NaN</td>\n",
       "      <td>103.420</td>\n",
       "      <td>20.960</td>\n",
       "      <td>NaN</td>\n",
       "      <td>137.150</td>\n",
       "      <td>51.620</td>\n",
       "    </tr>\n",
       "    <tr>\n",
       "      <th>2007</th>\n",
       "      <td>146.940</td>\n",
       "      <td>3.400</td>\n",
       "      <td>NaN</td>\n",
       "      <td>75.990</td>\n",
       "      <td>73.190</td>\n",
       "      <td>NaN</td>\n",
       "      <td>152.770</td>\n",
       "      <td>95.410</td>\n",
       "    </tr>\n",
       "    <tr>\n",
       "      <th>2008</th>\n",
       "      <td>145.310</td>\n",
       "      <td>NaN</td>\n",
       "      <td>NaN</td>\n",
       "      <td>53.900</td>\n",
       "      <td>118.520</td>\n",
       "      <td>NaN</td>\n",
       "      <td>171.320</td>\n",
       "      <td>135.260</td>\n",
       "    </tr>\n",
       "    <tr>\n",
       "      <th>2009</th>\n",
       "      <td>119.540</td>\n",
       "      <td>NaN</td>\n",
       "      <td>NaN</td>\n",
       "      <td>26.400</td>\n",
       "      <td>130.930</td>\n",
       "      <td>NaN</td>\n",
       "      <td>206.970</td>\n",
       "      <td>120.290</td>\n",
       "    </tr>\n",
       "    <tr>\n",
       "      <th>2010</th>\n",
       "      <td>85.020</td>\n",
       "      <td>NaN</td>\n",
       "      <td>NaN</td>\n",
       "      <td>5.640</td>\n",
       "      <td>142.170</td>\n",
       "      <td>NaN</td>\n",
       "      <td>127.950</td>\n",
       "      <td>170.030</td>\n",
       "    </tr>\n",
       "    <tr>\n",
       "      <th>2011</th>\n",
       "      <td>26.180</td>\n",
       "      <td>NaN</td>\n",
       "      <td>NaN</td>\n",
       "      <td>0.450</td>\n",
       "      <td>156.780</td>\n",
       "      <td>NaN</td>\n",
       "      <td>59.650</td>\n",
       "      <td>143.840</td>\n",
       "    </tr>\n",
       "    <tr>\n",
       "      <th>2012</th>\n",
       "      <td>11.010</td>\n",
       "      <td>NaN</td>\n",
       "      <td>NaN</td>\n",
       "      <td>NaN</td>\n",
       "      <td>107.360</td>\n",
       "      <td>NaN</td>\n",
       "      <td>21.710</td>\n",
       "      <td>99.740</td>\n",
       "    </tr>\n",
       "    <tr>\n",
       "      <th>2013</th>\n",
       "      <td>1.540</td>\n",
       "      <td>NaN</td>\n",
       "      <td>NaN</td>\n",
       "      <td>NaN</td>\n",
       "      <td>113.250</td>\n",
       "      <td>25.990</td>\n",
       "      <td>8.590</td>\n",
       "      <td>88.580</td>\n",
       "    </tr>\n",
       "    <tr>\n",
       "      <th>2014</th>\n",
       "      <td>NaN</td>\n",
       "      <td>NaN</td>\n",
       "      <td>NaN</td>\n",
       "      <td>NaN</td>\n",
       "      <td>47.760</td>\n",
       "      <td>100.000</td>\n",
       "      <td>3.750</td>\n",
       "      <td>34.740</td>\n",
       "    </tr>\n",
       "    <tr>\n",
       "      <th>2015</th>\n",
       "      <td>NaN</td>\n",
       "      <td>NaN</td>\n",
       "      <td>NaN</td>\n",
       "      <td>NaN</td>\n",
       "      <td>16.820</td>\n",
       "      <td>118.900</td>\n",
       "      <td>1.140</td>\n",
       "      <td>11.960</td>\n",
       "    </tr>\n",
       "    <tr>\n",
       "      <th>2016</th>\n",
       "      <td>NaN</td>\n",
       "      <td>NaN</td>\n",
       "      <td>NaN</td>\n",
       "      <td>NaN</td>\n",
       "      <td>3.600</td>\n",
       "      <td>69.250</td>\n",
       "      <td>0.180</td>\n",
       "      <td>1.520</td>\n",
       "    </tr>\n",
       "  </tbody>\n",
       "</table>\n",
       "</div>"
      ],
      "text/plain": [
       "platform             DS    GBA      PS     PS2     PS3     PS4     Wii    X360\n",
       "year_of_release                                                               \n",
       "1985              0.020    NaN     NaN     NaN     NaN     NaN     NaN     NaN\n",
       "1994                NaN    NaN   6.030     NaN     NaN     NaN     NaN     NaN\n",
       "1995                NaN    NaN  35.960     NaN     NaN     NaN     NaN     NaN\n",
       "1996                NaN    NaN  94.700     NaN     NaN     NaN     NaN     NaN\n",
       "1997                NaN    NaN 136.170     NaN     NaN     NaN     NaN     NaN\n",
       "1998                NaN    NaN 169.490     NaN     NaN     NaN     NaN     NaN\n",
       "1999                NaN    NaN 144.530     NaN     NaN     NaN     NaN     NaN\n",
       "2000                NaN  0.070  96.370  39.170     NaN     NaN     NaN     NaN\n",
       "2001                NaN 61.530  35.590 166.430     NaN     NaN     NaN     NaN\n",
       "2002                NaN 74.160   6.670 205.380     NaN     NaN     NaN     NaN\n",
       "2003                NaN 56.670   2.070 184.310     NaN     NaN     NaN     NaN\n",
       "2004             17.270 77.910     NaN 211.810     NaN     NaN     NaN     NaN\n",
       "2005            130.140 33.860     NaN 160.660     NaN     NaN     NaN   8.250\n",
       "2006            119.810  5.280     NaN 103.420  20.960     NaN 137.150  51.620\n",
       "2007            146.940  3.400     NaN  75.990  73.190     NaN 152.770  95.410\n",
       "2008            145.310    NaN     NaN  53.900 118.520     NaN 171.320 135.260\n",
       "2009            119.540    NaN     NaN  26.400 130.930     NaN 206.970 120.290\n",
       "2010             85.020    NaN     NaN   5.640 142.170     NaN 127.950 170.030\n",
       "2011             26.180    NaN     NaN   0.450 156.780     NaN  59.650 143.840\n",
       "2012             11.010    NaN     NaN     NaN 107.360     NaN  21.710  99.740\n",
       "2013              1.540    NaN     NaN     NaN 113.250  25.990   8.590  88.580\n",
       "2014                NaN    NaN     NaN     NaN  47.760 100.000   3.750  34.740\n",
       "2015                NaN    NaN     NaN     NaN  16.820 118.900   1.140  11.960\n",
       "2016                NaN    NaN     NaN     NaN   3.600  69.250   0.180   1.520"
      ]
     },
     "metadata": {},
     "output_type": "display_data"
    },
    {
     "data": {
      "image/png": "[encoded data removed]",
      "text/plain": [
       "<Figure size 1080x360 with 1 Axes>"
      ]
     },
     "metadata": {
      "needs_background": "light"
     },
     "output_type": "display_data"
    }
   ],
   "source": [
    "# выборка по списку топ-платформ\n",
    "data_top_platf = data.query('platform in @top_platf')\n",
    "data_top_platf_year = data_top_platf.pivot_table(index='year_of_release', columns='platform', values='sum_sales', aggfunc='sum')\n",
    "display(data_top_platf_year)\n",
    "data_top_platf_year.plot(figsize=(15, 5), grid=True, xlabel='Год выпуска', ylabel='Объем продаж, млн.копий', title='Динамика продаж на крупных платформах по годам')\n",
    "plt.show()"
   ]
  },
  {
   "cell_type": "markdown",
   "metadata": {},
   "source": [
    "По графикам наглядно видно, что каждая игровая платформа имеет период развития, период максимальной популярности и период угасания. Платформы сменяют друг друга во времени. Каждая из них является актуальной в течение 6-9 лет.\\\n",
    "PS2, которая оказалась абсолютным лидером продаж по всем годам, на самом деле уже давно не актуальна, ее пик продаж приходился на 2002-2004 гг.\\\n",
    "А по состоянию на 2016 год активной из крупных платформ является только PS4. Падение в 2016 по ней обусловлено неполными данными, скорее всего, она еще не достигла максимума продаж.\\\n",
    "Таким образом актуальным для анализа и прогноза на 2017 год является период 2014-2016 гг. Сделаем выборку данных за выбранный период времени."
   ]
  },
  {
   "cell_type": "code",
   "execution_count": 34,
   "metadata": {},
   "outputs": [],
   "source": [
    "data_years = data.query('year_of_release >= \"2014\"')"
   ]
  },
  {
   "cell_type": "markdown",
   "metadata": {},
   "source": [
    "### Определение прибыльных платформ"
   ]
  },
  {
   "cell_type": "markdown",
   "metadata": {},
   "source": [
    "Снова построим столбчатую диаграмму продаж по платформам и график динамики продаж по годам по данным за выбранный период времени."
   ]
  },
  {
   "cell_type": "code",
   "execution_count": 35,
   "metadata": {},
   "outputs": [
    {
     "data": {
      "text/plain": [
       "<AxesSubplot:xlabel='platform'>"
      ]
     },
     "execution_count": 35,
     "metadata": {},
     "output_type": "execute_result"
    },
    {
     "data": {
      "image/png": "[encoded data removed]",
      "text/plain": [
       "<Figure size 432x288 with 1 Axes>"
      ]
     },
     "metadata": {
      "needs_background": "light"
     },
     "output_type": "display_data"
    }
   ],
   "source": [
    "data_years_platf = data_years.pivot_table(index='platform', values='sum_sales', aggfunc='sum').sort_values(by='sum_sales', ascending=False)\n",
    "data_years_platf.plot(kind='bar')"
   ]
  },
  {
   "cell_type": "markdown",
   "metadata": {},
   "source": [
    "В текущем периоде лидерами продаж являются платформы PS4, XOne, 3DS."
   ]
  },
  {
   "cell_type": "code",
   "execution_count": 36,
   "metadata": {},
   "outputs": [
    {
     "data": {
      "text/html": [
       "<div>\n",
       "<style scoped>\n",
       "    .dataframe tbody tr th:only-of-type {\n",
       "        vertical-align: middle;\n",
       "    }\n",
       "\n",
       "    .dataframe tbody tr th {\n",
       "        vertical-align: top;\n",
       "    }\n",
       "\n",
       "    .dataframe thead th {\n",
       "        text-align: right;\n",
       "    }\n",
       "</style>\n",
       "<table border=\"1\" class=\"dataframe\">\n",
       "  <thead>\n",
       "    <tr style=\"text-align: right;\">\n",
       "      <th>platform</th>\n",
       "      <th>3DS</th>\n",
       "      <th>PC</th>\n",
       "      <th>PS3</th>\n",
       "      <th>PS4</th>\n",
       "      <th>PSP</th>\n",
       "      <th>PSV</th>\n",
       "      <th>Wii</th>\n",
       "      <th>WiiU</th>\n",
       "      <th>X360</th>\n",
       "      <th>XOne</th>\n",
       "    </tr>\n",
       "    <tr>\n",
       "      <th>year_of_release</th>\n",
       "      <th></th>\n",
       "      <th></th>\n",
       "      <th></th>\n",
       "      <th></th>\n",
       "      <th></th>\n",
       "      <th></th>\n",
       "      <th></th>\n",
       "      <th></th>\n",
       "      <th></th>\n",
       "      <th></th>\n",
       "    </tr>\n",
       "  </thead>\n",
       "  <tbody>\n",
       "    <tr>\n",
       "      <th>2014</th>\n",
       "      <td>43.760</td>\n",
       "      <td>13.280</td>\n",
       "      <td>47.760</td>\n",
       "      <td>100.000</td>\n",
       "      <td>0.240</td>\n",
       "      <td>11.900</td>\n",
       "      <td>3.750</td>\n",
       "      <td>22.030</td>\n",
       "      <td>34.740</td>\n",
       "      <td>54.070</td>\n",
       "    </tr>\n",
       "    <tr>\n",
       "      <th>2015</th>\n",
       "      <td>27.780</td>\n",
       "      <td>8.520</td>\n",
       "      <td>16.820</td>\n",
       "      <td>118.900</td>\n",
       "      <td>0.120</td>\n",
       "      <td>6.250</td>\n",
       "      <td>1.140</td>\n",
       "      <td>16.350</td>\n",
       "      <td>11.960</td>\n",
       "      <td>60.140</td>\n",
       "    </tr>\n",
       "    <tr>\n",
       "      <th>2016</th>\n",
       "      <td>15.140</td>\n",
       "      <td>5.250</td>\n",
       "      <td>3.600</td>\n",
       "      <td>69.250</td>\n",
       "      <td>NaN</td>\n",
       "      <td>4.250</td>\n",
       "      <td>0.180</td>\n",
       "      <td>4.600</td>\n",
       "      <td>1.520</td>\n",
       "      <td>26.150</td>\n",
       "    </tr>\n",
       "  </tbody>\n",
       "</table>\n",
       "</div>"
      ],
      "text/plain": [
       "platform           3DS     PC    PS3     PS4   PSP    PSV   Wii   WiiU   X360  \\\n",
       "year_of_release                                                                 \n",
       "2014            43.760 13.280 47.760 100.000 0.240 11.900 3.750 22.030 34.740   \n",
       "2015            27.780  8.520 16.820 118.900 0.120  6.250 1.140 16.350 11.960   \n",
       "2016            15.140  5.250  3.600  69.250   NaN  4.250 0.180  4.600  1.520   \n",
       "\n",
       "platform          XOne  \n",
       "year_of_release         \n",
       "2014            54.070  \n",
       "2015            60.140  \n",
       "2016            26.150  "
      ]
     },
     "metadata": {},
     "output_type": "display_data"
    },
    {
     "data": {
      "image/png": "[encoded data removed]",
      "text/plain": [
       "<Figure size 720x360 with 1 Axes>"
      ]
     },
     "metadata": {
      "needs_background": "light"
     },
     "output_type": "display_data"
    }
   ],
   "source": [
    "data_years_platf_y = data_years.pivot_table(index='year_of_release', columns='platform', values='sum_sales', aggfunc='sum')\n",
    "display(data_years_platf_y)\n",
    "data_years_platf_y.plot(figsize=(10,5), grid=True, xlabel='Год выпуска', ylabel='Объем продаж, млн.копий', title='Динамика продаж по годам')\n",
    "plt.show()"
   ]
  },
  {
   "cell_type": "markdown",
   "metadata": {},
   "source": [
    "Как замечено выше по результатам предыдущей диаграммы интерес представляют платформы PS4, XOne, 3DS. Эти платформы находятся в активной стадии. PS3 и X360 находятся в стадии угасания. WiiU, PC и PSV, хоть и имеют скромные показатели, но не такое резкое падение."
   ]
  },
  {
   "cell_type": "markdown",
   "metadata": {},
   "source": [
    "Построим диаграмму размаха для продаж игр на выбранных платформах за актуальный период времени."
   ]
  },
  {
   "cell_type": "code",
   "execution_count": 37,
   "metadata": {},
   "outputs": [],
   "source": [
    "data_actual = data_years"
   ]
  },
  {
   "cell_type": "code",
   "execution_count": 38,
   "metadata": {},
   "outputs": [
    {
     "data": {
      "image/png": "[encoded data removed]",
      "text/plain": [
       "<Figure size 1080x360 with 1 Axes>"
      ]
     },
     "metadata": {
      "needs_background": "light"
     },
     "output_type": "display_data"
    }
   ],
   "source": [
    "plt.figure(figsize=(15, 5))\n",
    "sns.boxplot(data=data_actual, y ='sum_sales', x='platform').set()\n",
    "plt.show()"
   ]
  },
  {
   "cell_type": "markdown",
   "metadata": {},
   "source": [
    "Продажи отдельных игр достигают 15 млн.проданных копий, но в основном они лежат в пределах 3 млн. Чтобы лучше разглядеть график, изменим масштаб."
   ]
  },
  {
   "cell_type": "code",
   "execution_count": 39,
   "metadata": {},
   "outputs": [
    {
     "data": {
      "image/png": "[encoded data removed]",
      "text/plain": [
       "<Figure size 1080x576 with 1 Axes>"
      ]
     },
     "metadata": {
      "needs_background": "light"
     },
     "output_type": "display_data"
    },
    {
     "data": {
      "text/html": [
       "<div>\n",
       "<style scoped>\n",
       "    .dataframe tbody tr th:only-of-type {\n",
       "        vertical-align: middle;\n",
       "    }\n",
       "\n",
       "    .dataframe tbody tr th {\n",
       "        vertical-align: top;\n",
       "    }\n",
       "\n",
       "    .dataframe thead th {\n",
       "        text-align: right;\n",
       "    }\n",
       "</style>\n",
       "<table border=\"1\" class=\"dataframe\">\n",
       "  <thead>\n",
       "    <tr style=\"text-align: right;\">\n",
       "      <th></th>\n",
       "      <th>count</th>\n",
       "      <th>mean</th>\n",
       "      <th>std</th>\n",
       "      <th>min</th>\n",
       "      <th>25%</th>\n",
       "      <th>50%</th>\n",
       "      <th>75%</th>\n",
       "      <th>max</th>\n",
       "    </tr>\n",
       "    <tr>\n",
       "      <th>platform</th>\n",
       "      <th></th>\n",
       "      <th></th>\n",
       "      <th></th>\n",
       "      <th></th>\n",
       "      <th></th>\n",
       "      <th></th>\n",
       "      <th></th>\n",
       "      <th></th>\n",
       "    </tr>\n",
       "  </thead>\n",
       "  <tbody>\n",
       "    <tr>\n",
       "      <th>3DS</th>\n",
       "      <td>212.000</td>\n",
       "      <td>0.409</td>\n",
       "      <td>1.188</td>\n",
       "      <td>0.010</td>\n",
       "      <td>0.030</td>\n",
       "      <td>0.090</td>\n",
       "      <td>0.250</td>\n",
       "      <td>11.680</td>\n",
       "    </tr>\n",
       "    <tr>\n",
       "      <th>PC</th>\n",
       "      <td>151.000</td>\n",
       "      <td>0.179</td>\n",
       "      <td>0.329</td>\n",
       "      <td>0.010</td>\n",
       "      <td>0.020</td>\n",
       "      <td>0.060</td>\n",
       "      <td>0.200</td>\n",
       "      <td>3.050</td>\n",
       "    </tr>\n",
       "    <tr>\n",
       "      <th>PS3</th>\n",
       "      <td>219.000</td>\n",
       "      <td>0.311</td>\n",
       "      <td>0.633</td>\n",
       "      <td>0.010</td>\n",
       "      <td>0.040</td>\n",
       "      <td>0.110</td>\n",
       "      <td>0.325</td>\n",
       "      <td>5.270</td>\n",
       "    </tr>\n",
       "    <tr>\n",
       "      <th>PS4</th>\n",
       "      <td>376.000</td>\n",
       "      <td>0.766</td>\n",
       "      <td>1.615</td>\n",
       "      <td>0.010</td>\n",
       "      <td>0.057</td>\n",
       "      <td>0.185</td>\n",
       "      <td>0.690</td>\n",
       "      <td>14.630</td>\n",
       "    </tr>\n",
       "    <tr>\n",
       "      <th>PSP</th>\n",
       "      <td>13.000</td>\n",
       "      <td>0.028</td>\n",
       "      <td>0.028</td>\n",
       "      <td>0.010</td>\n",
       "      <td>0.010</td>\n",
       "      <td>0.020</td>\n",
       "      <td>0.020</td>\n",
       "      <td>0.090</td>\n",
       "    </tr>\n",
       "    <tr>\n",
       "      <th>PSV</th>\n",
       "      <td>295.000</td>\n",
       "      <td>0.076</td>\n",
       "      <td>0.142</td>\n",
       "      <td>0.010</td>\n",
       "      <td>0.020</td>\n",
       "      <td>0.040</td>\n",
       "      <td>0.090</td>\n",
       "      <td>1.960</td>\n",
       "    </tr>\n",
       "    <tr>\n",
       "      <th>Wii</th>\n",
       "      <td>11.000</td>\n",
       "      <td>0.461</td>\n",
       "      <td>0.625</td>\n",
       "      <td>0.010</td>\n",
       "      <td>0.035</td>\n",
       "      <td>0.180</td>\n",
       "      <td>0.755</td>\n",
       "      <td>2.010</td>\n",
       "    </tr>\n",
       "    <tr>\n",
       "      <th>WiiU</th>\n",
       "      <td>73.000</td>\n",
       "      <td>0.589</td>\n",
       "      <td>1.161</td>\n",
       "      <td>0.010</td>\n",
       "      <td>0.050</td>\n",
       "      <td>0.190</td>\n",
       "      <td>0.570</td>\n",
       "      <td>7.090</td>\n",
       "    </tr>\n",
       "    <tr>\n",
       "      <th>X360</th>\n",
       "      <td>111.000</td>\n",
       "      <td>0.434</td>\n",
       "      <td>0.629</td>\n",
       "      <td>0.010</td>\n",
       "      <td>0.070</td>\n",
       "      <td>0.180</td>\n",
       "      <td>0.505</td>\n",
       "      <td>4.280</td>\n",
       "    </tr>\n",
       "    <tr>\n",
       "      <th>XOne</th>\n",
       "      <td>228.000</td>\n",
       "      <td>0.616</td>\n",
       "      <td>1.047</td>\n",
       "      <td>0.010</td>\n",
       "      <td>0.050</td>\n",
       "      <td>0.205</td>\n",
       "      <td>0.633</td>\n",
       "      <td>7.390</td>\n",
       "    </tr>\n",
       "  </tbody>\n",
       "</table>\n",
       "</div>"
      ],
      "text/plain": [
       "           count  mean   std   min   25%   50%   75%    max\n",
       "platform                                                   \n",
       "3DS      212.000 0.409 1.188 0.010 0.030 0.090 0.250 11.680\n",
       "PC       151.000 0.179 0.329 0.010 0.020 0.060 0.200  3.050\n",
       "PS3      219.000 0.311 0.633 0.010 0.040 0.110 0.325  5.270\n",
       "PS4      376.000 0.766 1.615 0.010 0.057 0.185 0.690 14.630\n",
       "PSP       13.000 0.028 0.028 0.010 0.010 0.020 0.020  0.090\n",
       "PSV      295.000 0.076 0.142 0.010 0.020 0.040 0.090  1.960\n",
       "Wii       11.000 0.461 0.625 0.010 0.035 0.180 0.755  2.010\n",
       "WiiU      73.000 0.589 1.161 0.010 0.050 0.190 0.570  7.090\n",
       "X360     111.000 0.434 0.629 0.010 0.070 0.180 0.505  4.280\n",
       "XOne     228.000 0.616 1.047 0.010 0.050 0.205 0.633  7.390"
      ]
     },
     "execution_count": 39,
     "metadata": {},
     "output_type": "execute_result"
    }
   ],
   "source": [
    "plt.figure(figsize=(15, 8))\n",
    "plt.ylim(0,2)\n",
    "sns.boxplot(data=data_actual, y ='sum_sales', x='platform').set()\n",
    "plt.show()\n",
    "data_actual.groupby('platform').sum_sales.describe()"
   ]
  },
  {
   "cell_type": "markdown",
   "metadata": {},
   "source": [
    "По этим графикам и числовым данным можно наблюдать, сколько копий каждой отдельной игры продается на каждой из платформ, т.е. сделать заключение о фактической прибыльности платформы. Это распределение существенно отличается от распределения суммарных продаж, которое обусловлено общим количеством игр, представленных на платформе.\\\n",
    "Медианное значение продаж одной игры на платформах PS4, XOne, WiiU, X360, Wii максимальны и примерно одинаковые от 180 до 205 тыс.копий, самой прибыльной можно считать платформу XOne. При этом из п.4.3 видно, что платформы X360 и Wii находятся на стадии угасания и на них не стоит рассчитывать при составлении прогнозов на 2017 год.\\\n",
    "На остальных платформах средние продажи 110 тыс.копий. и менее. Минимальная прибыльность у платформы PSP - 20 тыс.копий."
   ]
  },
  {
   "cell_type": "markdown",
   "metadata": {},
   "source": [
    "### Влияние отзывов пользователей и критиков на объемы продаж"
   ]
  },
  {
   "cell_type": "markdown",
   "metadata": {},
   "source": [
    "Для оценки влияния отзывов на объемы продаж построим диаграмму рассеяния и посчитаем коэффициент корреляции для каждой из 6 платформ, выбранных выше.\\\n",
    "Для этого напишем функцию и применим ее в цикле."
   ]
  },
  {
   "cell_type": "code",
   "execution_count": 40,
   "metadata": {
    "scrolled": false
   },
   "outputs": [
    {
     "name": "stdout",
     "output_type": "stream",
     "text": [
      "PS4\n",
      "Коэффициент корреляции между оценками критиков и объемом продаж: 0.40266141068104117\n",
      "Коэффициент корреляции между оценками пользователей и объемом продаж: -0.040131589472697266\n",
      "\n",
      "******************************************************************************************\n",
      "\n",
      "3DS\n",
      "Коэффициент корреляции между оценками критиков и объемом продаж: 0.31411749286905094\n",
      "Коэффициент корреляции между оценками пользователей и объемом продаж: 0.21519327185270273\n",
      "\n",
      "******************************************************************************************\n",
      "\n",
      "XOne\n",
      "Коэффициент корреляции между оценками критиков и объемом продаж: 0.428676943703332\n",
      "Коэффициент корреляции между оценками пользователей и объемом продаж: -0.0703839280647581\n",
      "\n",
      "******************************************************************************************\n",
      "\n",
      "WiiU\n",
      "Коэффициент корреляции между оценками критиков и объемом продаж: 0.3702014124808841\n",
      "Коэффициент корреляции между оценками пользователей и объемом продаж: 0.40792645792170795\n",
      "\n",
      "******************************************************************************************\n",
      "\n",
      "PS3\n",
      "Коэффициент корреляции между оценками критиков и объемом продаж: 0.44657460493190715\n",
      "Коэффициент корреляции между оценками пользователей и объемом продаж: -0.166761413476621\n",
      "\n",
      "******************************************************************************************\n",
      "\n",
      "X360\n",
      "Коэффициент корреляции между оценками критиков и объемом продаж: 0.5257228356581521\n",
      "Коэффициент корреляции между оценками пользователей и объемом продаж: -0.13844457094566506\n",
      "\n",
      "******************************************************************************************\n",
      "\n",
      "PC\n",
      "Коэффициент корреляции между оценками критиков и объемом продаж: 0.1746341376935003\n",
      "Коэффициент корреляции между оценками пользователей и объемом продаж: -0.07159665703472451\n",
      "\n",
      "******************************************************************************************\n",
      "\n",
      "Wii\n",
      "Коэффициент корреляции между оценками критиков и объемом продаж: nan\n",
      "Коэффициент корреляции между оценками пользователей и объемом продаж: 1.0\n",
      "\n",
      "******************************************************************************************\n",
      "\n",
      "PSV\n",
      "Коэффициент корреляции между оценками критиков и объемом продаж: 0.042664906570095286\n",
      "Коэффициент корреляции между оценками пользователей и объемом продаж: -0.1684550497806444\n",
      "\n",
      "******************************************************************************************\n",
      "\n",
      "PSP\n",
      "Коэффициент корреляции между оценками критиков и объемом продаж: nan\n",
      "Коэффициент корреляции между оценками пользователей и объемом продаж: nan\n",
      "\n",
      "******************************************************************************************\n",
      "\n"
     ]
    },
    {
     "data": {
      "image/png": "[encoded data removed]",
      "text/plain": [
       "<Figure size 1080x360 with 2 Axes>"
      ]
     },
     "metadata": {
      "needs_background": "light"
     },
     "output_type": "display_data"
    },
    {
     "data": {
      "image/png": "[encoded data removed]",
      "text/plain": [
       "<Figure size 1080x360 with 2 Axes>"
      ]
     },
     "metadata": {
      "needs_background": "light"
     },
     "output_type": "display_data"
    },
    {
     "data": {
      "image/png": "[encoded data removed]",
      "text/plain": [
       "<Figure size 1080x360 with 2 Axes>"
      ]
     },
     "metadata": {
      "needs_background": "light"
     },
     "output_type": "display_data"
    },
    {
     "data": {
      "image/png": "[encoded data removed]",
      "text/plain": [
       "<Figure size 1080x360 with 2 Axes>"
      ]
     },
     "metadata": {
      "needs_background": "light"
     },
     "output_type": "display_data"
    },
    {
     "data": {
      "image/png": "[encoded data removed]",
      "text/plain": [
       "<Figure size 1080x360 with 2 Axes>"
      ]
     },
     "metadata": {
      "needs_background": "light"
     },
     "output_type": "display_data"
    },
    {
     "data": {
      "image/png": "[encoded data removed]",
      "text/plain": [
       "<Figure size 1080x360 with 2 Axes>"
      ]
     },
     "metadata": {
      "needs_background": "light"
     },
     "output_type": "display_data"
    },
    {
     "data": {
      "image/png": "[encoded data removed]",
      "text/plain": [
       "<Figure size 1080x360 with 2 Axes>"
      ]
     },
     "metadata": {
      "needs_background": "light"
     },
     "output_type": "display_data"
    },
    {
     "data": {
      "image/png": "[encoded data removed]",
      "text/plain": [
       "<Figure size 1080x360 with 2 Axes>"
      ]
     },
     "metadata": {
      "needs_background": "light"
     },
     "output_type": "display_data"
    },
    {
     "data": {
      "image/png": "[encoded data removed]",
      "text/plain": [
       "<Figure size 1080x360 with 2 Axes>"
      ]
     },
     "metadata": {
      "needs_background": "light"
     },
     "output_type": "display_data"
    },
    {
     "data": {
      "image/png": "[encoded data removed]",
      "text/plain": [
       "<Figure size 1080x360 with 2 Axes>"
      ]
     },
     "metadata": {
      "needs_background": "light"
     },
     "output_type": "display_data"
    }
   ],
   "source": [
    "def score_corr(platform):\n",
    "    data_platform = data_actual.query('platform == @platform')\n",
    "    fig, axs = plt.subplots(1, 2, figsize=(15, 5))\n",
    "    axs[0].set_title(f'{platform}. Зависимость от оценки критиков')\n",
    "    axs[0].scatter(data_platform['critic_score'], y=data_platform['sum_sales'])\n",
    "    axs[1].set_title(f'{platform}. Зависимость от оценки пользователей')\n",
    "    # не забудем исключить из анализа значения \"заглушки\", которыми мы заполнили пропуски (-1)\n",
    "    axs[1].scatter(data_platform[data_platform['user_score'] != -1]['user_score'], y=data_platform[data_platform['user_score'] != -1]['sum_sales'])\n",
    "    print(f\"Коэффициент корреляции между оценками критиков и объемом продаж: {data_platform['critic_score'].corr(data_platform['sum_sales'])}\")\n",
    "    print(f\"Коэффициент корреляции между оценками пользователей и объемом продаж: {data_platform[data_platform['user_score'] != -1]['user_score'].corr(data_platform['sum_sales'])}\")\n",
    "        \n",
    "for platform in data_actual.platform.unique():\n",
    "    print(platform)\n",
    "    score_corr(platform)\n",
    "    print()\n",
    "    print('*'*90)\n",
    "    print()"
   ]
  },
  {
   "cell_type": "markdown",
   "metadata": {},
   "source": [
    "По графикам видно, и рассчитанные коэффициенты корреляции это подтверждают, что зависимость объемов продаж на платформе от оценок слабая и очень слабая, в пределах 0,53. При этом можно отметить следующее:\n",
    "- на платформах Wii и PSP отсутствуют оценки, поэтому говорить о корреляции не имеет смысла,\n",
    "- для более популярных платформ корреляция выше, чем для менее популярных,\n",
    "- максимальный коэффициент корреляции 0,52 у платформы Х360, при этом по графику видно, что количество точек достаточно мало, чтобы говорить о точности расчетов,\n",
    "- для PS4 и XOne картина практически идентична: продажи зависят от оценок критиков, но совсем не зависят от оценок пользователей,\n",
    "- для WiiU зависимость примерно одинаковая и близка к 0,4 для обеих оценок,\n",
    "- на менее популярной 3DS зависимость объемов продаж от оценок немного ниже,\n",
    "- продажи на непопулярных платформах PC и PSV совсем не зависят от оценок.\n",
    "\n",
    "Таким образом, с ростом популярности платформы растет зависимость объемов продаж от оценок критиков и пользователей, но в целом эта зависимость слабая, чтобы ориентироваться на этот фактор при составлении прогнозов."
   ]
  },
  {
   "cell_type": "markdown",
   "metadata": {},
   "source": [
    "### Распределение игр по жанрам"
   ]
  },
  {
   "cell_type": "markdown",
   "metadata": {},
   "source": [
    "Построим столбчатую диаграмму распределения количества игр и объема продаж по жанрам."
   ]
  },
  {
   "cell_type": "code",
   "execution_count": 41,
   "metadata": {},
   "outputs": [
    {
     "data": {
      "image/png": "[encoded data removed]",
      "text/plain": [
       "<Figure size 432x288 with 1 Axes>"
      ]
     },
     "metadata": {
      "needs_background": "light"
     },
     "output_type": "display_data"
    },
    {
     "data": {
      "image/png": "[encoded data removed]",
      "text/plain": [
       "<Figure size 432x288 with 1 Axes>"
      ]
     },
     "metadata": {
      "needs_background": "light"
     },
     "output_type": "display_data"
    }
   ],
   "source": [
    "data_genre_count = data_actual.pivot_table(index='genre', values='sum_sales', aggfunc='count').sort_values(by='sum_sales', ascending=False)\n",
    "data_genre_sum = data_actual.pivot_table(index='genre', values='sum_sales', aggfunc='sum').sort_values(by='sum_sales', ascending=False)\n",
    "data_genre_count.plot(kind='bar', xlabel='Жанр', ylabel='Количество игр')\n",
    "plt.show()\n",
    "data_genre_sum.plot(kind='bar', xlabel='Жанр', ylabel='Объем продаж, млн.копий')\n",
    "plt.show()"
   ]
  },
  {
   "cell_type": "markdown",
   "metadata": {},
   "source": [
    "По объему продаж с большим отрывом лидируют жанры Action, Shooter, Sports и Role-Playing. Однако нельзя сказать, что  жанр Action является самым прибыльным, т.к. количество игр в этом жанре в разы превышает все другие жанры. Чтобы оценить прибыльность игровых жанров, посчитаем удельный объем продаж в каждом жанре (отношение к общему количеству игр в жанре)"
   ]
  },
  {
   "cell_type": "code",
   "execution_count": 42,
   "metadata": {},
   "outputs": [
    {
     "data": {
      "text/html": [
       "<div>\n",
       "<style scoped>\n",
       "    .dataframe tbody tr th:only-of-type {\n",
       "        vertical-align: middle;\n",
       "    }\n",
       "\n",
       "    .dataframe tbody tr th {\n",
       "        vertical-align: top;\n",
       "    }\n",
       "\n",
       "    .dataframe thead th {\n",
       "        text-align: right;\n",
       "    }\n",
       "</style>\n",
       "<table border=\"1\" class=\"dataframe\">\n",
       "  <thead>\n",
       "    <tr style=\"text-align: right;\">\n",
       "      <th></th>\n",
       "      <th>sum_sales</th>\n",
       "      <th>rel</th>\n",
       "    </tr>\n",
       "    <tr>\n",
       "      <th>genre</th>\n",
       "      <th></th>\n",
       "      <th></th>\n",
       "    </tr>\n",
       "  </thead>\n",
       "  <tbody>\n",
       "    <tr>\n",
       "      <th>Shooter</th>\n",
       "      <td>170.940</td>\n",
       "      <td>1.335</td>\n",
       "    </tr>\n",
       "    <tr>\n",
       "      <th>Sports</th>\n",
       "      <td>109.480</td>\n",
       "      <td>0.680</td>\n",
       "    </tr>\n",
       "    <tr>\n",
       "      <th>Platform</th>\n",
       "      <td>18.090</td>\n",
       "      <td>0.476</td>\n",
       "    </tr>\n",
       "    <tr>\n",
       "      <th>Fighting</th>\n",
       "      <td>28.220</td>\n",
       "      <td>0.470</td>\n",
       "    </tr>\n",
       "    <tr>\n",
       "      <th>Role-Playing</th>\n",
       "      <td>101.440</td>\n",
       "      <td>0.459</td>\n",
       "    </tr>\n",
       "    <tr>\n",
       "      <th>Racing</th>\n",
       "      <td>27.520</td>\n",
       "      <td>0.399</td>\n",
       "    </tr>\n",
       "    <tr>\n",
       "      <th>Misc</th>\n",
       "      <td>37.550</td>\n",
       "      <td>0.332</td>\n",
       "    </tr>\n",
       "    <tr>\n",
       "      <th>Action</th>\n",
       "      <td>199.360</td>\n",
       "      <td>0.322</td>\n",
       "    </tr>\n",
       "    <tr>\n",
       "      <th>Simulation</th>\n",
       "      <td>13.130</td>\n",
       "      <td>0.298</td>\n",
       "    </tr>\n",
       "    <tr>\n",
       "      <th>Puzzle</th>\n",
       "      <td>2.210</td>\n",
       "      <td>0.158</td>\n",
       "    </tr>\n",
       "    <tr>\n",
       "      <th>Strategy</th>\n",
       "      <td>3.960</td>\n",
       "      <td>0.107</td>\n",
       "    </tr>\n",
       "    <tr>\n",
       "      <th>Adventure</th>\n",
       "      <td>17.550</td>\n",
       "      <td>0.095</td>\n",
       "    </tr>\n",
       "  </tbody>\n",
       "</table>\n",
       "</div>"
      ],
      "text/plain": [
       "              sum_sales   rel\n",
       "genre                        \n",
       "Shooter         170.940 1.335\n",
       "Sports          109.480 0.680\n",
       "Platform         18.090 0.476\n",
       "Fighting         28.220 0.470\n",
       "Role-Playing    101.440 0.459\n",
       "Racing           27.520 0.399\n",
       "Misc             37.550 0.332\n",
       "Action          199.360 0.322\n",
       "Simulation       13.130 0.298\n",
       "Puzzle            2.210 0.158\n",
       "Strategy          3.960 0.107\n",
       "Adventure        17.550 0.095"
      ]
     },
     "execution_count": 42,
     "metadata": {},
     "output_type": "execute_result"
    }
   ],
   "source": [
    "# отсортируем по названию жанра и разделим одно на другое\n",
    "data_genre_sum = data_genre_sum.sort_values(by='genre')\n",
    "data_genre_count = data_genre_count.sort_values(by='genre')\n",
    "data_genre_sum['rel'] = data_genre_sum['sum_sales']/data_genre_count['sum_sales']\n",
    "data_genre_sum.sort_values(by='rel', ascending=False)"
   ]
  },
  {
   "cell_type": "markdown",
   "metadata": {},
   "source": [
    "Также построим диаграммы размаха по продажам для каждого жанра."
   ]
  },
  {
   "cell_type": "code",
   "execution_count": 43,
   "metadata": {},
   "outputs": [
    {
     "data": {
      "image/png": "[encoded data removed]",
      "text/plain": [
       "<Figure size 1080x576 with 1 Axes>"
      ]
     },
     "metadata": {
      "needs_background": "light"
     },
     "output_type": "display_data"
    }
   ],
   "source": [
    "plt.figure(figsize=(15, 8))\n",
    "plt.ylim(0,4)\n",
    "sns.boxplot(data=data_actual, y ='sum_sales', x='genre').set()\n",
    "plt.show()"
   ]
  },
  {
   "cell_type": "markdown",
   "metadata": {},
   "source": [
    "Получили, что наиболее прибыльным жанром является Shooter. При небольшом количестве игр он имеет почти максимальный объем продаж. Далее с небольшим отрывом от остальных идут Sports и Platform. "
   ]
  },
  {
   "cell_type": "markdown",
   "metadata": {},
   "source": [
    "### Вывод"
   ]
  },
  {
   "cell_type": "markdown",
   "metadata": {},
   "source": [
    "В итоге проведенного анализа можно сделать следующие выводы:\n",
    "- в связи с историческим развитием отрасли данные до 2000 года не представляют интереса, т.к. их очень мало,\n",
    "- срок жизни каждой игровой платформы составляет в среднем 6-9 лет, поэтому многие платформы, имеющие большие показатели по продажам, уже не актуальны,\n",
    "- для анализа и прогноза на 2017 год интерес представляет период 2014-2016 гг.,\n",
    "- наибольший интерес представляют платформы PS4, XOne, WiiU,\n",
    "- продажи игр слабо зависят от оценок критиков и пользователей, но на указанных выше платформах зависимость чуть больше, чем на остальных,\n",
    "- по общему объему продаж лидирует жанр Action, однако в расчете на каждую игру лучше всего продажи в жанре Shooter, Sports и Platform."
   ]
  },
  {
   "cell_type": "markdown",
   "metadata": {},
   "source": [
    "## Портрет пользователя каждого региона (NA, EU, JP)"
   ]
  },
  {
   "cell_type": "markdown",
   "metadata": {},
   "source": [
    "### Самые популярные платформы (топ-5)"
   ]
  },
  {
   "cell_type": "markdown",
   "metadata": {},
   "source": [
    "Чтобы построить графики распределения продаж по платформам в разрезе регионов, напишем  функцию."
   ]
  },
  {
   "cell_type": "code",
   "execution_count": 44,
   "metadata": {},
   "outputs": [],
   "source": [
    "def pie(column):\n",
    "    # список регионов - из столбцов исходного дата-фрейма\n",
    "    regionn = data_years.columns[4:7]\n",
    "    # расположение графиков рядом\n",
    "    fig, axs = plt.subplots(1, 3, figsize=(15, 5))\n",
    "    for r in range(3):\n",
    "        region = regionn[r]\n",
    "        data_reg = data_years.pivot_table(index=column, values=region, aggfunc='sum').sort_values(by=region, ascending=False).reset_index()\n",
    "        #display(data_reg)\n",
    "        # в отсортированной по убыванию таблице все элементы после пятого заменим на others\n",
    "        for i in range(len(data_reg)):\n",
    "            if i>4:\n",
    "                data_reg.loc[i,column] = 'others'\n",
    "        # повторная группировка, чтобы сгруппировать все others\n",
    "        data_reg = data_reg.pivot_table(index=column, values=region, aggfunc='sum').sort_values(by=region, ascending=False).reset_index()\n",
    "        # подпись получим из названия столбца\n",
    "        print(region.split('_')[0].upper())\n",
    "        display(data_reg)\n",
    "        axs[r].set_title(region.split('_')[0].upper())\n",
    "        axs[r].pie(data_reg[region], labels=data_reg[column], autopct='%1.1f%%')\n",
    "       "
   ]
  },
  {
   "cell_type": "code",
   "execution_count": 45,
   "metadata": {
    "scrolled": false
   },
   "outputs": [
    {
     "name": "stdout",
     "output_type": "stream",
     "text": [
      "NA\n"
     ]
    },
    {
     "data": {
      "text/html": [
       "<div>\n",
       "<style scoped>\n",
       "    .dataframe tbody tr th:only-of-type {\n",
       "        vertical-align: middle;\n",
       "    }\n",
       "\n",
       "    .dataframe tbody tr th {\n",
       "        vertical-align: top;\n",
       "    }\n",
       "\n",
       "    .dataframe thead th {\n",
       "        text-align: right;\n",
       "    }\n",
       "</style>\n",
       "<table border=\"1\" class=\"dataframe\">\n",
       "  <thead>\n",
       "    <tr style=\"text-align: right;\">\n",
       "      <th></th>\n",
       "      <th>platform</th>\n",
       "      <th>na_sales</th>\n",
       "    </tr>\n",
       "  </thead>\n",
       "  <tbody>\n",
       "    <tr>\n",
       "      <th>0</th>\n",
       "      <td>PS4</td>\n",
       "      <td>98.610</td>\n",
       "    </tr>\n",
       "    <tr>\n",
       "      <th>1</th>\n",
       "      <td>XOne</td>\n",
       "      <td>81.270</td>\n",
       "    </tr>\n",
       "    <tr>\n",
       "      <th>2</th>\n",
       "      <td>others</td>\n",
       "      <td>31.190</td>\n",
       "    </tr>\n",
       "    <tr>\n",
       "      <th>3</th>\n",
       "      <td>X360</td>\n",
       "      <td>28.300</td>\n",
       "    </tr>\n",
       "    <tr>\n",
       "      <th>4</th>\n",
       "      <td>3DS</td>\n",
       "      <td>22.640</td>\n",
       "    </tr>\n",
       "    <tr>\n",
       "      <th>5</th>\n",
       "      <td>PS3</td>\n",
       "      <td>22.050</td>\n",
       "    </tr>\n",
       "  </tbody>\n",
       "</table>\n",
       "</div>"
      ],
      "text/plain": [
       "  platform  na_sales\n",
       "0      PS4    98.610\n",
       "1     XOne    81.270\n",
       "2   others    31.190\n",
       "3     X360    28.300\n",
       "4      3DS    22.640\n",
       "5      PS3    22.050"
      ]
     },
     "metadata": {},
     "output_type": "display_data"
    },
    {
     "name": "stdout",
     "output_type": "stream",
     "text": [
      "EU\n"
     ]
    },
    {
     "data": {
      "text/html": [
       "<div>\n",
       "<style scoped>\n",
       "    .dataframe tbody tr th:only-of-type {\n",
       "        vertical-align: middle;\n",
       "    }\n",
       "\n",
       "    .dataframe tbody tr th {\n",
       "        vertical-align: top;\n",
       "    }\n",
       "\n",
       "    .dataframe thead th {\n",
       "        text-align: right;\n",
       "    }\n",
       "</style>\n",
       "<table border=\"1\" class=\"dataframe\">\n",
       "  <thead>\n",
       "    <tr style=\"text-align: right;\">\n",
       "      <th></th>\n",
       "      <th>platform</th>\n",
       "      <th>eu_sales</th>\n",
       "    </tr>\n",
       "  </thead>\n",
       "  <tbody>\n",
       "    <tr>\n",
       "      <th>0</th>\n",
       "      <td>PS4</td>\n",
       "      <td>130.040</td>\n",
       "    </tr>\n",
       "    <tr>\n",
       "      <th>1</th>\n",
       "      <td>XOne</td>\n",
       "      <td>46.250</td>\n",
       "    </tr>\n",
       "    <tr>\n",
       "      <th>2</th>\n",
       "      <td>others</td>\n",
       "      <td>34.760</td>\n",
       "    </tr>\n",
       "    <tr>\n",
       "      <th>3</th>\n",
       "      <td>PS3</td>\n",
       "      <td>25.540</td>\n",
       "    </tr>\n",
       "    <tr>\n",
       "      <th>4</th>\n",
       "      <td>PC</td>\n",
       "      <td>17.970</td>\n",
       "    </tr>\n",
       "    <tr>\n",
       "      <th>5</th>\n",
       "      <td>3DS</td>\n",
       "      <td>16.120</td>\n",
       "    </tr>\n",
       "  </tbody>\n",
       "</table>\n",
       "</div>"
      ],
      "text/plain": [
       "  platform  eu_sales\n",
       "0      PS4   130.040\n",
       "1     XOne    46.250\n",
       "2   others    34.760\n",
       "3      PS3    25.540\n",
       "4       PC    17.970\n",
       "5      3DS    16.120"
      ]
     },
     "metadata": {},
     "output_type": "display_data"
    },
    {
     "name": "stdout",
     "output_type": "stream",
     "text": [
      "JP\n"
     ]
    },
    {
     "data": {
      "text/html": [
       "<div>\n",
       "<style scoped>\n",
       "    .dataframe tbody tr th:only-of-type {\n",
       "        vertical-align: middle;\n",
       "    }\n",
       "\n",
       "    .dataframe tbody tr th {\n",
       "        vertical-align: top;\n",
       "    }\n",
       "\n",
       "    .dataframe thead th {\n",
       "        text-align: right;\n",
       "    }\n",
       "</style>\n",
       "<table border=\"1\" class=\"dataframe\">\n",
       "  <thead>\n",
       "    <tr style=\"text-align: right;\">\n",
       "      <th></th>\n",
       "      <th>platform</th>\n",
       "      <th>jp_sales</th>\n",
       "    </tr>\n",
       "  </thead>\n",
       "  <tbody>\n",
       "    <tr>\n",
       "      <th>0</th>\n",
       "      <td>3DS</td>\n",
       "      <td>44.240</td>\n",
       "    </tr>\n",
       "    <tr>\n",
       "      <th>1</th>\n",
       "      <td>PS4</td>\n",
       "      <td>15.020</td>\n",
       "    </tr>\n",
       "    <tr>\n",
       "      <th>2</th>\n",
       "      <td>PSV</td>\n",
       "      <td>14.540</td>\n",
       "    </tr>\n",
       "    <tr>\n",
       "      <th>3</th>\n",
       "      <td>PS3</td>\n",
       "      <td>11.220</td>\n",
       "    </tr>\n",
       "    <tr>\n",
       "      <th>4</th>\n",
       "      <td>WiiU</td>\n",
       "      <td>7.310</td>\n",
       "    </tr>\n",
       "    <tr>\n",
       "      <th>5</th>\n",
       "      <td>others</td>\n",
       "      <td>0.760</td>\n",
       "    </tr>\n",
       "  </tbody>\n",
       "</table>\n",
       "</div>"
      ],
      "text/plain": [
       "  platform  jp_sales\n",
       "0      3DS    44.240\n",
       "1      PS4    15.020\n",
       "2      PSV    14.540\n",
       "3      PS3    11.220\n",
       "4     WiiU     7.310\n",
       "5   others     0.760"
      ]
     },
     "metadata": {},
     "output_type": "display_data"
    },
    {
     "data": {
      "image/png": "[encoded data removed]",
      "text/plain": [
       "<Figure size 1080x360 with 3 Axes>"
      ]
     },
     "metadata": {},
     "output_type": "display_data"
    }
   ],
   "source": [
    "pie('platform')"
   ]
  },
  {
   "cell_type": "markdown",
   "metadata": {},
   "source": [
    "Мы получили распределение долей рынка по игровым платформам в разных регионах.\\\n",
    "Можно отметить, что в Северной Америке и Европе лидирующие позиции занимают платформы PS4 и XOne, вместе они занимают 2/3 рынка в каждом из регионов. Следом за лидерами идут угасающие X360 и PS3, а также 3DS и PC. Остальные платформы также занимают вместе приличную долю рынка 11-13%.\\\n",
    "Рынок Японии сильно отличается от европейского и американского. Здесь почти половину рынка занимает платформа 3DS, которая в других регионах имеет долю 6-8%. Лидирующая же в Америке и Европе PS4 в Японии имеет всего 16% рынка. Так же почти 16% имеет платформа PSV, которая в других регионах не попала в пятерку лидеров. Следом идут PS3 и WiiU (так же не попавшая в число лидеров в Европе и Америке). Весь рынок Японии делят между собой эти 5 платформ, остальные занимают меньше 1%. "
   ]
  },
  {
   "cell_type": "markdown",
   "metadata": {},
   "source": [
    "### Самые популярные жанры (топ-5)"
   ]
  },
  {
   "cell_type": "markdown",
   "metadata": {},
   "source": [
    "Чтобы определить самые популярные жанры в разрезе регионов, воспользуемся той же функцией."
   ]
  },
  {
   "cell_type": "code",
   "execution_count": 46,
   "metadata": {},
   "outputs": [
    {
     "name": "stdout",
     "output_type": "stream",
     "text": [
      "NA\n"
     ]
    },
    {
     "data": {
      "text/html": [
       "<div>\n",
       "<style scoped>\n",
       "    .dataframe tbody tr th:only-of-type {\n",
       "        vertical-align: middle;\n",
       "    }\n",
       "\n",
       "    .dataframe tbody tr th {\n",
       "        vertical-align: top;\n",
       "    }\n",
       "\n",
       "    .dataframe thead th {\n",
       "        text-align: right;\n",
       "    }\n",
       "</style>\n",
       "<table border=\"1\" class=\"dataframe\">\n",
       "  <thead>\n",
       "    <tr style=\"text-align: right;\">\n",
       "      <th></th>\n",
       "      <th>genre</th>\n",
       "      <th>na_sales</th>\n",
       "    </tr>\n",
       "  </thead>\n",
       "  <tbody>\n",
       "    <tr>\n",
       "      <th>0</th>\n",
       "      <td>Shooter</td>\n",
       "      <td>79.020</td>\n",
       "    </tr>\n",
       "    <tr>\n",
       "      <th>1</th>\n",
       "      <td>Action</td>\n",
       "      <td>72.530</td>\n",
       "    </tr>\n",
       "    <tr>\n",
       "      <th>2</th>\n",
       "      <td>Sports</td>\n",
       "      <td>46.130</td>\n",
       "    </tr>\n",
       "    <tr>\n",
       "      <th>3</th>\n",
       "      <td>others</td>\n",
       "      <td>37.860</td>\n",
       "    </tr>\n",
       "    <tr>\n",
       "      <th>4</th>\n",
       "      <td>Role-Playing</td>\n",
       "      <td>33.470</td>\n",
       "    </tr>\n",
       "    <tr>\n",
       "      <th>5</th>\n",
       "      <td>Misc</td>\n",
       "      <td>15.050</td>\n",
       "    </tr>\n",
       "  </tbody>\n",
       "</table>\n",
       "</div>"
      ],
      "text/plain": [
       "          genre  na_sales\n",
       "0       Shooter    79.020\n",
       "1        Action    72.530\n",
       "2        Sports    46.130\n",
       "3        others    37.860\n",
       "4  Role-Playing    33.470\n",
       "5          Misc    15.050"
      ]
     },
     "metadata": {},
     "output_type": "display_data"
    },
    {
     "name": "stdout",
     "output_type": "stream",
     "text": [
      "EU\n"
     ]
    },
    {
     "data": {
      "text/html": [
       "<div>\n",
       "<style scoped>\n",
       "    .dataframe tbody tr th:only-of-type {\n",
       "        vertical-align: middle;\n",
       "    }\n",
       "\n",
       "    .dataframe tbody tr th {\n",
       "        vertical-align: top;\n",
       "    }\n",
       "\n",
       "    .dataframe thead th {\n",
       "        text-align: right;\n",
       "    }\n",
       "</style>\n",
       "<table border=\"1\" class=\"dataframe\">\n",
       "  <thead>\n",
       "    <tr style=\"text-align: right;\">\n",
       "      <th></th>\n",
       "      <th>genre</th>\n",
       "      <th>eu_sales</th>\n",
       "    </tr>\n",
       "  </thead>\n",
       "  <tbody>\n",
       "    <tr>\n",
       "      <th>0</th>\n",
       "      <td>Action</td>\n",
       "      <td>74.680</td>\n",
       "    </tr>\n",
       "    <tr>\n",
       "      <th>1</th>\n",
       "      <td>Shooter</td>\n",
       "      <td>65.520</td>\n",
       "    </tr>\n",
       "    <tr>\n",
       "      <th>2</th>\n",
       "      <td>Sports</td>\n",
       "      <td>45.730</td>\n",
       "    </tr>\n",
       "    <tr>\n",
       "      <th>3</th>\n",
       "      <td>others</td>\n",
       "      <td>42.450</td>\n",
       "    </tr>\n",
       "    <tr>\n",
       "      <th>4</th>\n",
       "      <td>Role-Playing</td>\n",
       "      <td>28.170</td>\n",
       "    </tr>\n",
       "    <tr>\n",
       "      <th>5</th>\n",
       "      <td>Racing</td>\n",
       "      <td>14.130</td>\n",
       "    </tr>\n",
       "  </tbody>\n",
       "</table>\n",
       "</div>"
      ],
      "text/plain": [
       "          genre  eu_sales\n",
       "0        Action    74.680\n",
       "1       Shooter    65.520\n",
       "2        Sports    45.730\n",
       "3        others    42.450\n",
       "4  Role-Playing    28.170\n",
       "5        Racing    14.130"
      ]
     },
     "metadata": {},
     "output_type": "display_data"
    },
    {
     "name": "stdout",
     "output_type": "stream",
     "text": [
      "JP\n"
     ]
    },
    {
     "data": {
      "text/html": [
       "<div>\n",
       "<style scoped>\n",
       "    .dataframe tbody tr th:only-of-type {\n",
       "        vertical-align: middle;\n",
       "    }\n",
       "\n",
       "    .dataframe tbody tr th {\n",
       "        vertical-align: top;\n",
       "    }\n",
       "\n",
       "    .dataframe thead th {\n",
       "        text-align: right;\n",
       "    }\n",
       "</style>\n",
       "<table border=\"1\" class=\"dataframe\">\n",
       "  <thead>\n",
       "    <tr style=\"text-align: right;\">\n",
       "      <th></th>\n",
       "      <th>genre</th>\n",
       "      <th>jp_sales</th>\n",
       "    </tr>\n",
       "  </thead>\n",
       "  <tbody>\n",
       "    <tr>\n",
       "      <th>0</th>\n",
       "      <td>Role-Playing</td>\n",
       "      <td>31.160</td>\n",
       "    </tr>\n",
       "    <tr>\n",
       "      <th>1</th>\n",
       "      <td>Action</td>\n",
       "      <td>29.580</td>\n",
       "    </tr>\n",
       "    <tr>\n",
       "      <th>2</th>\n",
       "      <td>others</td>\n",
       "      <td>15.500</td>\n",
       "    </tr>\n",
       "    <tr>\n",
       "      <th>3</th>\n",
       "      <td>Fighting</td>\n",
       "      <td>6.370</td>\n",
       "    </tr>\n",
       "    <tr>\n",
       "      <th>4</th>\n",
       "      <td>Misc</td>\n",
       "      <td>5.610</td>\n",
       "    </tr>\n",
       "    <tr>\n",
       "      <th>5</th>\n",
       "      <td>Shooter</td>\n",
       "      <td>4.870</td>\n",
       "    </tr>\n",
       "  </tbody>\n",
       "</table>\n",
       "</div>"
      ],
      "text/plain": [
       "          genre  jp_sales\n",
       "0  Role-Playing    31.160\n",
       "1        Action    29.580\n",
       "2        others    15.500\n",
       "3      Fighting     6.370\n",
       "4          Misc     5.610\n",
       "5       Shooter     4.870"
      ]
     },
     "metadata": {},
     "output_type": "display_data"
    },
    {
     "data": {
      "image/png": "[encoded data removed]",
      "text/plain": [
       "<Figure size 1080x360 with 3 Axes>"
      ]
     },
     "metadata": {},
     "output_type": "display_data"
    }
   ],
   "source": [
    "pie('genre')"
   ]
  },
  {
   "cell_type": "markdown",
   "metadata": {},
   "source": [
    "Снова видим, что рынки Европы и Северной Америки очень похожи. По 1/4 рынка в каждом из регионов занимают жанры Shooter и Action, в Америке чуть больше первого, в Европе второго. 16% рынка занимает Sports, 10-11% Role-Playing. На 5 месте в Америке Misc, в Европе Racing. Остальные жанры занимают 13-16% рынка.\\\n",
    "В Японии по 1/3 рынка занимают жанры Role-Playing и Action. Примерно поровну 5-7% у Fighting, Misc, Shooter. Все остальные жанры занимают еще почти 17% рынка."
   ]
  },
  {
   "cell_type": "markdown",
   "metadata": {},
   "source": [
    "###  Рейтинг ESRB"
   ]
  },
  {
   "cell_type": "markdown",
   "metadata": {},
   "source": [
    "Чтобы оценить влияние рейтинга ESRB на продажи по регионам, воспользуемся той же функцией."
   ]
  },
  {
   "cell_type": "code",
   "execution_count": 47,
   "metadata": {},
   "outputs": [
    {
     "name": "stdout",
     "output_type": "stream",
     "text": [
      "NA\n"
     ]
    },
    {
     "data": {
      "text/html": [
       "<div>\n",
       "<style scoped>\n",
       "    .dataframe tbody tr th:only-of-type {\n",
       "        vertical-align: middle;\n",
       "    }\n",
       "\n",
       "    .dataframe tbody tr th {\n",
       "        vertical-align: top;\n",
       "    }\n",
       "\n",
       "    .dataframe thead th {\n",
       "        text-align: right;\n",
       "    }\n",
       "</style>\n",
       "<table border=\"1\" class=\"dataframe\">\n",
       "  <thead>\n",
       "    <tr style=\"text-align: right;\">\n",
       "      <th></th>\n",
       "      <th>rating</th>\n",
       "      <th>na_sales</th>\n",
       "    </tr>\n",
       "  </thead>\n",
       "  <tbody>\n",
       "    <tr>\n",
       "      <th>0</th>\n",
       "      <td>M</td>\n",
       "      <td>96.420</td>\n",
       "    </tr>\n",
       "    <tr>\n",
       "      <th>1</th>\n",
       "      <td>unknown</td>\n",
       "      <td>64.720</td>\n",
       "    </tr>\n",
       "    <tr>\n",
       "      <th>2</th>\n",
       "      <td>E</td>\n",
       "      <td>50.740</td>\n",
       "    </tr>\n",
       "    <tr>\n",
       "      <th>3</th>\n",
       "      <td>T</td>\n",
       "      <td>38.950</td>\n",
       "    </tr>\n",
       "    <tr>\n",
       "      <th>4</th>\n",
       "      <td>E10+</td>\n",
       "      <td>33.230</td>\n",
       "    </tr>\n",
       "  </tbody>\n",
       "</table>\n",
       "</div>"
      ],
      "text/plain": [
       "    rating  na_sales\n",
       "0        M    96.420\n",
       "1  unknown    64.720\n",
       "2        E    50.740\n",
       "3        T    38.950\n",
       "4     E10+    33.230"
      ]
     },
     "metadata": {},
     "output_type": "display_data"
    },
    {
     "name": "stdout",
     "output_type": "stream",
     "text": [
      "EU\n"
     ]
    },
    {
     "data": {
      "text/html": [
       "<div>\n",
       "<style scoped>\n",
       "    .dataframe tbody tr th:only-of-type {\n",
       "        vertical-align: middle;\n",
       "    }\n",
       "\n",
       "    .dataframe tbody tr th {\n",
       "        vertical-align: top;\n",
       "    }\n",
       "\n",
       "    .dataframe thead th {\n",
       "        text-align: right;\n",
       "    }\n",
       "</style>\n",
       "<table border=\"1\" class=\"dataframe\">\n",
       "  <thead>\n",
       "    <tr style=\"text-align: right;\">\n",
       "      <th></th>\n",
       "      <th>rating</th>\n",
       "      <th>eu_sales</th>\n",
       "    </tr>\n",
       "  </thead>\n",
       "  <tbody>\n",
       "    <tr>\n",
       "      <th>0</th>\n",
       "      <td>M</td>\n",
       "      <td>93.440</td>\n",
       "    </tr>\n",
       "    <tr>\n",
       "      <th>1</th>\n",
       "      <td>unknown</td>\n",
       "      <td>58.950</td>\n",
       "    </tr>\n",
       "    <tr>\n",
       "      <th>2</th>\n",
       "      <td>E</td>\n",
       "      <td>58.060</td>\n",
       "    </tr>\n",
       "    <tr>\n",
       "      <th>3</th>\n",
       "      <td>T</td>\n",
       "      <td>34.070</td>\n",
       "    </tr>\n",
       "    <tr>\n",
       "      <th>4</th>\n",
       "      <td>E10+</td>\n",
       "      <td>26.160</td>\n",
       "    </tr>\n",
       "  </tbody>\n",
       "</table>\n",
       "</div>"
      ],
      "text/plain": [
       "    rating  eu_sales\n",
       "0        M    93.440\n",
       "1  unknown    58.950\n",
       "2        E    58.060\n",
       "3        T    34.070\n",
       "4     E10+    26.160"
      ]
     },
     "metadata": {},
     "output_type": "display_data"
    },
    {
     "name": "stdout",
     "output_type": "stream",
     "text": [
      "JP\n"
     ]
    },
    {
     "data": {
      "text/html": [
       "<div>\n",
       "<style scoped>\n",
       "    .dataframe tbody tr th:only-of-type {\n",
       "        vertical-align: middle;\n",
       "    }\n",
       "\n",
       "    .dataframe tbody tr th {\n",
       "        vertical-align: top;\n",
       "    }\n",
       "\n",
       "    .dataframe thead th {\n",
       "        text-align: right;\n",
       "    }\n",
       "</style>\n",
       "<table border=\"1\" class=\"dataframe\">\n",
       "  <thead>\n",
       "    <tr style=\"text-align: right;\">\n",
       "      <th></th>\n",
       "      <th>rating</th>\n",
       "      <th>jp_sales</th>\n",
       "    </tr>\n",
       "  </thead>\n",
       "  <tbody>\n",
       "    <tr>\n",
       "      <th>0</th>\n",
       "      <td>unknown</td>\n",
       "      <td>56.900</td>\n",
       "    </tr>\n",
       "    <tr>\n",
       "      <th>1</th>\n",
       "      <td>T</td>\n",
       "      <td>14.780</td>\n",
       "    </tr>\n",
       "    <tr>\n",
       "      <th>2</th>\n",
       "      <td>E</td>\n",
       "      <td>8.940</td>\n",
       "    </tr>\n",
       "    <tr>\n",
       "      <th>3</th>\n",
       "      <td>M</td>\n",
       "      <td>8.010</td>\n",
       "    </tr>\n",
       "    <tr>\n",
       "      <th>4</th>\n",
       "      <td>E10+</td>\n",
       "      <td>4.460</td>\n",
       "    </tr>\n",
       "  </tbody>\n",
       "</table>\n",
       "</div>"
      ],
      "text/plain": [
       "    rating  jp_sales\n",
       "0  unknown    56.900\n",
       "1        T    14.780\n",
       "2        E     8.940\n",
       "3        M     8.010\n",
       "4     E10+     4.460"
      ]
     },
     "metadata": {},
     "output_type": "display_data"
    },
    {
     "data": {
      "image/png": "[encoded data removed]",
      "text/plain": [
       "<Figure size 1080x360 with 3 Axes>"
      ]
     },
     "metadata": {},
     "output_type": "display_data"
    }
   ],
   "source": [
    "pie('rating')"
   ]
  },
  {
   "cell_type": "markdown",
   "metadata": {},
   "source": [
    "Напомним, что после преобразований, проведенных в ходе предобработки данных, у нас осталось 5 категорий: E, E10+, T, M и unknown, куда мы отнесли все игры, где рейтинг неопределен.\\\n",
    "`E` (Everyone) — Для всех\\\n",
    "`E10+` (Everyone 10 and older) — Для всех от 10 лет и старше\\\n",
    "`T` (Teen) — Подросткам\\\n",
    "`M` (Mature) — Для взрослых"
   ]
  },
  {
   "cell_type": "markdown",
   "metadata": {},
   "source": [
    "Распределение объемов продаж в зависимости от рейтинга в Европе и Северной Америке так же оказалось одинаковым: максимум - 1/3 рынка - игры с рейтингом \"для взрослых\", 18-21% - игры для всех возрастов, 13-14% - игры для подростков, 10-12% - игры для тех, кто старше 10 лет. 22% продаваемых игр имеют неопределенный рейтинг. В целом распределение продаж по рейтингам не ярко выраженное.\\\n",
    "Япония снова сильно отличается от других регионов. Больше половины продаваемых игр (61%) не имеют рейтинга, 16% - игры для подростков, 10% - игры для всех, 9% - игры для взрослых, 5% - для людей старше 10 лет. Т.к. данный рейтинг предназначен для Североамериканского региона, то логично, что в Японии популярны игры без данного рейтинга, выпущенные в другом регионе, в частности в самой Японии."
   ]
  },
  {
   "cell_type": "markdown",
   "metadata": {},
   "source": [
    "### Вывод"
   ]
  },
  {
   "cell_type": "markdown",
   "metadata": {},
   "source": [
    "На основе проведенного анализа можно составить портрет типового пользователя для каждого региона.\n",
    "\n",
    "Во многом в силу культурных особенностей и особенностей экономического развития типичные пользователи Европейского и Североамериканского рынка очень похожи между собой:\n",
    "- они предпочитают игры на платформах PS4 и XOne,\n",
    "- играют чаще всего в Action, Shooter и Sports,\n",
    "- чаще приобретают игры для взрослых, без возрастного рейтинга или для всех.\n",
    "\n",
    "Пользователи Японского рынка сильно отличаются:\n",
    "- предпочитают платформы 3DS, PS4 и PSV,\n",
    "- играют чаще в Role-Playing и Action,\n",
    "- в абсолютном большинстве случаев приобретают игры без возрастного рейтинга, т.е. выпущенные за пределами Северной Америки."
   ]
  },
  {
   "cell_type": "markdown",
   "metadata": {},
   "source": [
    "## Проверка гипотез"
   ]
  },
  {
   "cell_type": "markdown",
   "metadata": {},
   "source": [
    "С помощью методов математической статистики проверим сформулированные в начале работы гипотезы."
   ]
  },
  {
   "cell_type": "markdown",
   "metadata": {},
   "source": [
    "### Средние пользовательские рейтинги платформ Xbox One и PC одинаковые"
   ]
  },
  {
   "cell_type": "markdown",
   "metadata": {},
   "source": [
    "Будем считать нулевой гипотезой:\\\n",
    "Н0 - Средние пользовательские рейтинги платформ Xbox One и PC одинаковые,\\\n",
    "тогда альтернативная гипотеза:\\\n",
    "Н1 - Средние пользовательские рейтинги платформ Xbox One и PC различаются.\n",
    "\n",
    "Уровень значимости примем 5%."
   ]
  },
  {
   "cell_type": "markdown",
   "metadata": {},
   "source": [
    "Чтобы корректно посчитать средний пользовательский рейтинг, необходимо исключить подставленные на этапе предобработки данных значения \"заглушки\" (-1)."
   ]
  },
  {
   "cell_type": "code",
   "execution_count": 48,
   "metadata": {},
   "outputs": [],
   "source": [
    "data_score = data_years.query('user_score > 0')"
   ]
  },
  {
   "cell_type": "markdown",
   "metadata": {},
   "source": [
    "Напишем функцию, определяющую, следует принимать нулевую гипотезу или альтернативную. Для проверки двусторонней гипотезы воспользуемся методом t-test для сравнения средних двух выборок."
   ]
  },
  {
   "cell_type": "code",
   "execution_count": 49,
   "metadata": {},
   "outputs": [],
   "source": [
    "def ttest(sample1, sample2):\n",
    "    # в общем случае выборки могут иметь разный размер и дисперсии распределений могут сильно различаться\n",
    "    # мы не знаем этого наверняка, поэтому примем equal_var=False\n",
    "    results = st.ttest_ind(sample1, sample2, equal_var=False)\n",
    "    alpha = 0.05\n",
    "    print('p-значение: ', results.pvalue)\n",
    "    if results.pvalue < alpha:\n",
    "        print('Принимаем альтернативную гипотезу')\n",
    "    else:\n",
    "        print('Опровергнуть нулевую гипотезу нельзя')"
   ]
  },
  {
   "cell_type": "markdown",
   "metadata": {},
   "source": [
    "Передадим функции в качестве параметров срезы по интересующим нас платформам и посчитаем средние рейтинги для каждой платформы."
   ]
  },
  {
   "cell_type": "code",
   "execution_count": 50,
   "metadata": {},
   "outputs": [
    {
     "name": "stdout",
     "output_type": "stream",
     "text": [
      "Средний пользовательский рейтинг для платормы XOne 6.59\n",
      "Средний пользовательский рейтинг для платормы PC 6.3\n",
      "p-значение:  0.11601398086668835\n",
      "Опровергнуть нулевую гипотезу нельзя\n"
     ]
    }
   ],
   "source": [
    "print('Средний пользовательский рейтинг для платормы XOne', round(data_score.query('platform == \"XOne\"')['user_score'].mean(),2))    \n",
    "print('Средний пользовательский рейтинг для платормы PC', round(data_score.query('platform == \"PC\"')['user_score'].mean(),2))\n",
    "ttest(data_score.query('platform == \"XOne\"')['user_score'], data_score.query('platform == \"PC\"')['user_score'])"
   ]
  },
  {
   "cell_type": "markdown",
   "metadata": {},
   "source": [
    "Полученное р-значение достаточно велико, чтобы считать нулевую гипотезу неверной, поэтому мы не можем ее отвергнуть. Т.о. мы не можем однозначно утверждать, что средние пользовательские рейтинги на платформах XOne и PC различаются."
   ]
  },
  {
   "cell_type": "markdown",
   "metadata": {},
   "source": [
    "### Средние пользовательские рейтинги жанров Action и Sports разные"
   ]
  },
  {
   "cell_type": "markdown",
   "metadata": {},
   "source": [
    "Аналогичным образом проверим вторую гипотезу.\\\n",
    "Будем считать нулевой гипотезой:\\\n",
    "Н0 - Средние пользовательские рейтинги жанров Action и Sports одинаковые,\\\n",
    "тогда альтернативная гипотеза:\\\n",
    "Н1 - Средние пользовательские рейтинги жанров Action и Sports различаются.\n",
    "\n",
    "Уровень значимости примем 5%."
   ]
  },
  {
   "cell_type": "markdown",
   "metadata": {},
   "source": [
    "Передадим функции в качестве параметров срезы по интересующим нас жанрам и посчитаем средние рейтинги по каждому жанру."
   ]
  },
  {
   "cell_type": "code",
   "execution_count": 51,
   "metadata": {},
   "outputs": [
    {
     "name": "stdout",
     "output_type": "stream",
     "text": [
      "Средний пользовательский рейтинг для жанра Action 6.76\n",
      "Средний пользовательский рейтинг для жанра Sports 5.23\n",
      "p-значение:  1.1825550382644557e-14\n",
      "Принимаем альтернативную гипотезу\n"
     ]
    }
   ],
   "source": [
    "print('Средний пользовательский рейтинг для жанра Action', round(data_score.query('genre == \"Action\"')['user_score'].mean(),2))    \n",
    "print('Средний пользовательский рейтинг для жанра Sports', round(data_score.query('genre == \"Sports\"')['user_score'].mean(),2))\n",
    "ttest(data_score.query('genre == \"Action\"')['user_score'], data_score.query('genre == \"Sports\"')['user_score'])"
   ]
  },
  {
   "cell_type": "markdown",
   "metadata": {},
   "source": [
    "Полученное р-значение слишком мало, чтобы считать нулевую гипотезу верной, поэтому мы должны принять альтернативную гипотезу. Т.о. методом математической статистики мы доказали, что средние пользовательские рейтинги жанров Action и Sports различаются."
   ]
  },
  {
   "cell_type": "markdown",
   "metadata": {},
   "source": [
    "### Вывод"
   ]
  },
  {
   "cell_type": "markdown",
   "metadata": {},
   "source": [
    "Проведенный статистический тест:\n",
    "- не позволил однозначно утверждать, что средние пользовательские рейтинги на платформах XOne и PC различаются, скорее всего они одинаковые или близкие;\n",
    "- доказал, что средние пользовательские рейтинги жанров Action и Sports различаются."
   ]
  },
  {
   "cell_type": "markdown",
   "metadata": {},
   "source": [
    "## Общий вывод"
   ]
  },
  {
   "cell_type": "markdown",
   "metadata": {},
   "source": [
    "Исходные данные для данного проекта пришлось немного обработать. В ходе предобработки мы объединили возрастные категории, обработали пропуски в данных и некорректные значения, преобразовали типы данных.\n",
    "\n",
    "В ходе проведенного анализа:\n",
    "- определили средний срок жизни игровых платформ 6-9 лет и выделили актуальный для анализа и прогнозирования период времени 2014-2016 гг.;\n",
    "- выделили наиболее актуальные и прибыльные платформы в этот период: PS4, XOne, WiiU;\n",
    "- отметили, что с ростом популярности платформы растет зависимость объемов продаж от оценок критиков и пользователей, но в целом эта зависимость слабая, чтобы ориентироваться на этот фактор при составлении прогнозов;\n",
    "- отметили, что по общему объему продаж лидирует жанр Action, однако в расчете на каждую игру лучше всего продажи в жанре Shooter, Sports и Platform.\n",
    "\n",
    "На основе проведенного анализа составили портрет типового пользователя для каждого региона:\n",
    "\n",
    "Во многом в силу культурных особенностей и особенностей экономического развития типичные пользователи **Европейского и Североамериканского рынка** очень похожи между собой:\n",
    "- они предпочитают игры на платформах PS4 и XOne,\n",
    "- играют чаще всего в Action, Shooter и Sports,\n",
    "- чаще приобретают игры для взрослых, без возрастного рейтинга или для всех.\n",
    "\n",
    "Пользователи **Японского рынка** сильно отличаются:\n",
    "- предпочитают платформы 3DS, PS4 и PSV,\n",
    "- играют чаще в Role-Playing и Action,\n",
    "- в абсолютном большинстве случаев приобретают игры без возрастного рейтинга, т.е. выпущенные за пределами Северной Америки.\n",
    "\n",
    "С помощью статистических методов проверили гипотезы и пришли к выводу, что:\n",
    "- средние пользовательские рейтинги на платформах XOne и PC могут быть одинаковыми;\n",
    "- средние пользовательские рейтинги жанров Action и Sports различаются.\n",
    "\n",
    "**Рекомендации**\\\n",
    "Таким образом при составлении прогноза и плана на 2017 год следует ориентироваться на платформы PS4, XOne, 3DS и WiiU. Наиболее популярный жанр Action, наиболее прибыльный - Shooter, для Японского рынка актуален Role-Playing."
   ]
  }
 ],
 "metadata": {
  "ExecuteTimeLog": [
   {
    "duration": 1076,
    "start_time": "2022-07-07T23:34:27.931Z"
   },
   {
    "duration": 2,
    "start_time": "2022-07-07T23:34:29.009Z"
   },
   {
    "duration": 64,
    "start_time": "2022-07-07T23:34:29.013Z"
   },
   {
    "duration": 14,
    "start_time": "2022-07-07T23:34:29.079Z"
   },
   {
    "duration": 7,
    "start_time": "2022-07-07T23:34:29.094Z"
   },
   {
    "duration": 22,
    "start_time": "2022-07-07T23:34:29.102Z"
   },
   {
    "duration": 12,
    "start_time": "2022-07-07T23:34:29.126Z"
   },
   {
    "duration": 7,
    "start_time": "2022-07-07T23:34:29.140Z"
   },
   {
    "duration": 13,
    "start_time": "2022-07-07T23:34:29.149Z"
   },
   {
    "duration": 5,
    "start_time": "2022-07-07T23:34:29.166Z"
   },
   {
    "duration": 13,
    "start_time": "2022-07-07T23:34:29.173Z"
   },
   {
    "duration": 37,
    "start_time": "2022-07-07T23:34:29.188Z"
   },
   {
    "duration": 27,
    "start_time": "2022-07-07T23:34:29.226Z"
   },
   {
    "duration": 4,
    "start_time": "2022-07-07T23:34:29.255Z"
   },
   {
    "duration": 15,
    "start_time": "2022-07-07T23:34:29.260Z"
   },
   {
    "duration": 11,
    "start_time": "2022-07-07T23:34:29.277Z"
   },
   {
    "duration": 35,
    "start_time": "2022-07-07T23:34:29.289Z"
   },
   {
    "duration": 5,
    "start_time": "2022-07-07T23:34:29.325Z"
   },
   {
    "duration": 8,
    "start_time": "2022-07-07T23:34:29.332Z"
   },
   {
    "duration": 6,
    "start_time": "2022-07-07T23:34:29.341Z"
   },
   {
    "duration": 12,
    "start_time": "2022-07-07T23:34:29.348Z"
   },
   {
    "duration": 8,
    "start_time": "2022-07-07T23:34:29.361Z"
   },
   {
    "duration": 8,
    "start_time": "2022-07-07T23:34:29.370Z"
   },
   {
    "duration": 6,
    "start_time": "2022-07-07T23:34:29.379Z"
   },
   {
    "duration": 41,
    "start_time": "2022-07-07T23:34:29.386Z"
   },
   {
    "duration": 4,
    "start_time": "2022-07-07T23:34:29.429Z"
   },
   {
    "duration": 21,
    "start_time": "2022-07-07T23:34:29.435Z"
   },
   {
    "duration": 12,
    "start_time": "2022-07-07T23:34:29.460Z"
   },
   {
    "duration": 12,
    "start_time": "2022-07-07T23:34:29.474Z"
   },
   {
    "duration": 208,
    "start_time": "2022-07-07T23:34:29.488Z"
   },
   {
    "duration": 280,
    "start_time": "2022-07-07T23:34:29.698Z"
   },
   {
    "duration": 9,
    "start_time": "2022-07-07T23:34:29.979Z"
   },
   {
    "duration": 272,
    "start_time": "2022-07-07T23:34:29.990Z"
   },
   {
    "duration": 6,
    "start_time": "2022-07-07T23:34:30.264Z"
   },
   {
    "duration": 161,
    "start_time": "2022-07-07T23:34:30.271Z"
   },
   {
    "duration": 294,
    "start_time": "2022-07-07T23:34:30.434Z"
   },
   {
    "duration": 6,
    "start_time": "2022-07-07T23:34:30.730Z"
   },
   {
    "duration": 183,
    "start_time": "2022-07-07T23:34:30.738Z"
   },
   {
    "duration": 218,
    "start_time": "2022-07-07T23:34:30.922Z"
   },
   {
    "duration": 1649,
    "start_time": "2022-07-07T23:34:31.142Z"
   },
   {
    "duration": 420,
    "start_time": "2022-07-07T23:34:32.793Z"
   },
   {
    "duration": 16,
    "start_time": "2022-07-07T23:34:33.215Z"
   },
   {
    "duration": 44,
    "start_time": "2022-07-07T23:34:33.232Z"
   },
   {
    "duration": 353,
    "start_time": "2022-07-07T23:34:33.277Z"
   },
   {
    "duration": 318,
    "start_time": "2022-07-07T23:34:33.631Z"
   },
   {
    "duration": 285,
    "start_time": "2022-07-07T23:34:33.950Z"
   },
   {
    "duration": 6,
    "start_time": "2022-07-07T23:34:34.236Z"
   },
   {
    "duration": 45,
    "start_time": "2022-07-07T23:34:34.243Z"
   },
   {
    "duration": 55,
    "start_time": "2022-07-07T23:34:34.290Z"
   },
   {
    "duration": 37,
    "start_time": "2022-07-07T23:34:34.347Z"
   },
   {
    "duration": 70,
    "start_time": "2022-07-07T23:46:15.303Z"
   },
   {
    "duration": 243,
    "start_time": "2022-07-07T23:52:36.238Z"
   },
   {
    "duration": 204,
    "start_time": "2022-07-07T23:53:04.143Z"
   },
   {
    "duration": 5,
    "start_time": "2022-07-08T00:11:55.726Z"
   },
   {
    "duration": 55,
    "start_time": "2022-07-08T14:41:23.900Z"
   },
   {
    "duration": 1315,
    "start_time": "2022-07-08T14:41:31.601Z"
   },
   {
    "duration": 3,
    "start_time": "2022-07-08T14:41:32.918Z"
   },
   {
    "duration": 84,
    "start_time": "2022-07-08T14:41:32.922Z"
   },
   {
    "duration": 14,
    "start_time": "2022-07-08T14:41:33.008Z"
   },
   {
    "duration": 7,
    "start_time": "2022-07-08T14:41:33.024Z"
   },
   {
    "duration": 13,
    "start_time": "2022-07-08T14:41:33.032Z"
   },
   {
    "duration": 12,
    "start_time": "2022-07-08T14:41:33.047Z"
   },
   {
    "duration": 10,
    "start_time": "2022-07-08T14:41:33.061Z"
   },
   {
    "duration": 12,
    "start_time": "2022-07-08T14:41:33.100Z"
   },
   {
    "duration": 8,
    "start_time": "2022-07-08T14:41:33.113Z"
   },
   {
    "duration": 12,
    "start_time": "2022-07-08T14:41:33.122Z"
   },
   {
    "duration": 6,
    "start_time": "2022-07-08T14:41:33.136Z"
   },
   {
    "duration": 29,
    "start_time": "2022-07-08T14:41:33.143Z"
   },
   {
    "duration": 6,
    "start_time": "2022-07-08T14:41:33.200Z"
   },
   {
    "duration": 19,
    "start_time": "2022-07-08T14:41:33.207Z"
   },
   {
    "duration": 12,
    "start_time": "2022-07-08T14:41:33.227Z"
   },
   {
    "duration": 12,
    "start_time": "2022-07-08T14:41:33.241Z"
   },
   {
    "duration": 15,
    "start_time": "2022-07-08T14:41:33.255Z"
   },
   {
    "duration": 9,
    "start_time": "2022-07-08T14:41:33.272Z"
   },
   {
    "duration": 18,
    "start_time": "2022-07-08T14:41:33.283Z"
   },
   {
    "duration": 8,
    "start_time": "2022-07-08T14:41:33.303Z"
   },
   {
    "duration": 11,
    "start_time": "2022-07-08T14:41:33.313Z"
   },
   {
    "duration": 11,
    "start_time": "2022-07-08T14:41:33.326Z"
   },
   {
    "duration": 8,
    "start_time": "2022-07-08T14:41:33.338Z"
   },
   {
    "duration": 16,
    "start_time": "2022-07-08T14:41:33.347Z"
   },
   {
    "duration": 6,
    "start_time": "2022-07-08T14:41:33.364Z"
   },
   {
    "duration": 36,
    "start_time": "2022-07-08T14:41:33.371Z"
   },
   {
    "duration": 14,
    "start_time": "2022-07-08T14:41:33.409Z"
   },
   {
    "duration": 14,
    "start_time": "2022-07-08T14:41:33.425Z"
   },
   {
    "duration": 90,
    "start_time": "2022-07-08T14:41:33.441Z"
   },
   {
    "duration": 207,
    "start_time": "2022-07-08T14:41:33.533Z"
   },
   {
    "duration": 318,
    "start_time": "2022-07-08T14:41:33.741Z"
   },
   {
    "duration": 7,
    "start_time": "2022-07-08T14:41:34.060Z"
   },
   {
    "duration": 301,
    "start_time": "2022-07-08T14:41:34.068Z"
   },
   {
    "duration": 7,
    "start_time": "2022-07-08T14:41:34.370Z"
   },
   {
    "duration": 158,
    "start_time": "2022-07-08T14:41:34.378Z"
   },
   {
    "duration": 296,
    "start_time": "2022-07-08T14:41:34.538Z"
   },
   {
    "duration": 2,
    "start_time": "2022-07-08T14:41:34.836Z"
   },
   {
    "duration": 245,
    "start_time": "2022-07-08T14:41:34.839Z"
   },
   {
    "duration": 402,
    "start_time": "2022-07-08T14:41:35.085Z"
   },
   {
    "duration": 2806,
    "start_time": "2022-07-08T14:41:35.500Z"
   },
   {
    "duration": 5,
    "start_time": "2022-07-08T14:41:38.307Z"
   },
   {
    "duration": 497,
    "start_time": "2022-07-08T14:41:38.314Z"
   },
   {
    "duration": 13,
    "start_time": "2022-07-08T14:41:38.813Z"
   },
   {
    "duration": 74,
    "start_time": "2022-07-08T14:41:38.827Z"
   },
   {
    "duration": 817,
    "start_time": "2022-07-08T14:41:38.902Z"
   },
   {
    "duration": 706,
    "start_time": "2022-07-08T14:41:39.721Z"
   },
   {
    "duration": 306,
    "start_time": "2022-07-08T14:41:40.429Z"
   },
   {
    "duration": 5,
    "start_time": "2022-07-08T14:41:40.736Z"
   },
   {
    "duration": 7,
    "start_time": "2022-07-08T14:41:40.743Z"
   },
   {
    "duration": 30,
    "start_time": "2022-07-08T14:41:40.751Z"
   },
   {
    "duration": 25,
    "start_time": "2022-07-08T14:41:40.782Z"
   },
   {
    "duration": 234,
    "start_time": "2022-07-08T14:42:01.208Z"
   },
   {
    "duration": 289,
    "start_time": "2022-07-08T14:42:54.168Z"
   },
   {
    "duration": 246,
    "start_time": "2022-07-08T15:09:31.679Z"
   },
   {
    "duration": 192,
    "start_time": "2022-07-08T15:10:14.841Z"
   },
   {
    "duration": 275,
    "start_time": "2022-07-08T15:11:06.443Z"
   },
   {
    "duration": 202,
    "start_time": "2022-07-08T15:15:22.495Z"
   },
   {
    "duration": 202,
    "start_time": "2022-07-08T15:16:10.209Z"
   },
   {
    "duration": 181,
    "start_time": "2022-07-08T15:16:33.939Z"
   },
   {
    "duration": 183,
    "start_time": "2022-07-08T15:16:54.144Z"
   },
   {
    "duration": 254,
    "start_time": "2022-07-08T15:17:36.207Z"
   },
   {
    "duration": 226,
    "start_time": "2022-07-08T15:18:19.048Z"
   },
   {
    "duration": 188,
    "start_time": "2022-07-08T15:18:55.715Z"
   },
   {
    "duration": 186,
    "start_time": "2022-07-08T15:19:28.878Z"
   },
   {
    "duration": 193,
    "start_time": "2022-07-08T15:19:42.775Z"
   },
   {
    "duration": 232,
    "start_time": "2022-07-08T15:19:54.238Z"
   },
   {
    "duration": 2485,
    "start_time": "2022-07-08T15:21:42.867Z"
   },
   {
    "duration": 2499,
    "start_time": "2022-07-08T15:25:13.089Z"
   },
   {
    "duration": 215,
    "start_time": "2022-07-08T15:27:50.002Z"
   },
   {
    "duration": 227,
    "start_time": "2022-07-08T15:28:13.208Z"
   },
   {
    "duration": 196,
    "start_time": "2022-07-08T15:29:00.319Z"
   },
   {
    "duration": 44,
    "start_time": "2022-07-08T15:29:21.351Z"
   },
   {
    "duration": 2389,
    "start_time": "2022-07-08T15:29:43.008Z"
   },
   {
    "duration": 2446,
    "start_time": "2022-07-08T15:30:04.589Z"
   },
   {
    "duration": 53,
    "start_time": "2022-07-08T15:30:26.576Z"
   },
   {
    "duration": 54,
    "start_time": "2022-07-08T15:30:41.449Z"
   },
   {
    "duration": 52,
    "start_time": "2022-07-08T15:31:05.858Z"
   },
   {
    "duration": 45,
    "start_time": "2022-07-08T15:32:26.909Z"
   },
   {
    "duration": 2462,
    "start_time": "2022-07-08T15:32:54.719Z"
   },
   {
    "duration": 52,
    "start_time": "2022-07-08T15:35:05.619Z"
   },
   {
    "duration": 46,
    "start_time": "2022-07-08T15:35:20.149Z"
   },
   {
    "duration": 56,
    "start_time": "2022-07-08T15:35:26.689Z"
   },
   {
    "duration": 60,
    "start_time": "2022-07-08T15:43:01.579Z"
   },
   {
    "duration": 2637,
    "start_time": "2022-07-08T15:43:10.099Z"
   },
   {
    "duration": 52,
    "start_time": "2022-07-08T15:43:50.480Z"
   },
   {
    "duration": 2717,
    "start_time": "2022-07-08T17:10:19.852Z"
   },
   {
    "duration": 3,
    "start_time": "2022-07-08T18:24:45.293Z"
   },
   {
    "duration": 5,
    "start_time": "2022-07-08T18:24:45.308Z"
   },
   {
    "duration": 62,
    "start_time": "2022-07-08T18:24:45.315Z"
   },
   {
    "duration": 12,
    "start_time": "2022-07-08T18:24:45.380Z"
   },
   {
    "duration": 10,
    "start_time": "2022-07-08T18:24:45.394Z"
   },
   {
    "duration": 11,
    "start_time": "2022-07-08T18:24:45.405Z"
   },
   {
    "duration": 16,
    "start_time": "2022-07-08T18:24:45.418Z"
   },
   {
    "duration": 5,
    "start_time": "2022-07-08T18:24:45.436Z"
   },
   {
    "duration": 14,
    "start_time": "2022-07-08T18:24:45.442Z"
   },
   {
    "duration": 10,
    "start_time": "2022-07-08T18:24:45.457Z"
   },
   {
    "duration": 33,
    "start_time": "2022-07-08T18:24:45.468Z"
   },
   {
    "duration": 6,
    "start_time": "2022-07-08T18:24:45.504Z"
   },
   {
    "duration": 34,
    "start_time": "2022-07-08T18:24:45.512Z"
   },
   {
    "duration": 6,
    "start_time": "2022-07-08T18:24:45.548Z"
   },
   {
    "duration": 19,
    "start_time": "2022-07-08T18:24:45.556Z"
   },
   {
    "duration": 26,
    "start_time": "2022-07-08T18:24:45.576Z"
   },
   {
    "duration": 9,
    "start_time": "2022-07-08T18:24:45.603Z"
   },
   {
    "duration": 6,
    "start_time": "2022-07-08T18:24:45.614Z"
   },
   {
    "duration": 7,
    "start_time": "2022-07-08T18:24:45.621Z"
   },
   {
    "duration": 6,
    "start_time": "2022-07-08T18:24:45.629Z"
   },
   {
    "duration": 7,
    "start_time": "2022-07-08T18:24:45.637Z"
   },
   {
    "duration": 7,
    "start_time": "2022-07-08T18:24:45.645Z"
   },
   {
    "duration": 12,
    "start_time": "2022-07-08T18:24:45.653Z"
   },
   {
    "duration": 13,
    "start_time": "2022-07-08T18:24:45.666Z"
   },
   {
    "duration": 14,
    "start_time": "2022-07-08T18:24:45.701Z"
   },
   {
    "duration": 6,
    "start_time": "2022-07-08T18:24:45.716Z"
   },
   {
    "duration": 17,
    "start_time": "2022-07-08T18:24:45.725Z"
   },
   {
    "duration": 12,
    "start_time": "2022-07-08T18:24:45.743Z"
   },
   {
    "duration": 12,
    "start_time": "2022-07-08T18:24:45.756Z"
   },
   {
    "duration": 91,
    "start_time": "2022-07-08T18:24:45.769Z"
   },
   {
    "duration": 183,
    "start_time": "2022-07-08T18:24:45.861Z"
   },
   {
    "duration": 266,
    "start_time": "2022-07-08T18:24:46.045Z"
   },
   {
    "duration": 6,
    "start_time": "2022-07-08T18:24:46.313Z"
   },
   {
    "duration": 342,
    "start_time": "2022-07-08T18:24:46.320Z"
   },
   {
    "duration": 5,
    "start_time": "2022-07-08T18:24:46.664Z"
   },
   {
    "duration": 156,
    "start_time": "2022-07-08T18:24:46.671Z"
   },
   {
    "duration": 276,
    "start_time": "2022-07-08T18:24:46.829Z"
   },
   {
    "duration": 3,
    "start_time": "2022-07-08T18:24:47.106Z"
   },
   {
    "duration": 220,
    "start_time": "2022-07-08T18:24:47.110Z"
   },
   {
    "duration": 279,
    "start_time": "2022-07-08T18:24:47.331Z"
   },
   {
    "duration": 2559,
    "start_time": "2022-07-08T18:24:47.611Z"
   },
   {
    "duration": 5,
    "start_time": "2022-07-08T18:24:50.171Z"
   },
   {
    "duration": 396,
    "start_time": "2022-07-08T18:24:50.178Z"
   },
   {
    "duration": 10,
    "start_time": "2022-07-08T18:24:50.575Z"
   },
   {
    "duration": 26,
    "start_time": "2022-07-08T18:24:50.586Z"
   },
   {
    "duration": 356,
    "start_time": "2022-07-08T18:24:50.613Z"
   },
   {
    "duration": 358,
    "start_time": "2022-07-08T18:24:50.971Z"
   },
   {
    "duration": 569,
    "start_time": "2022-07-08T18:24:51.332Z"
   },
   {
    "duration": 7,
    "start_time": "2022-07-08T18:24:51.902Z"
   },
   {
    "duration": 12,
    "start_time": "2022-07-08T18:24:51.910Z"
   },
   {
    "duration": 24,
    "start_time": "2022-07-08T18:24:51.924Z"
   },
   {
    "duration": 61,
    "start_time": "2022-07-08T18:24:51.949Z"
   },
   {
    "duration": 424,
    "start_time": "2022-07-08T18:36:24.734Z"
   },
   {
    "duration": 339,
    "start_time": "2022-07-08T18:36:50.373Z"
   },
   {
    "duration": 296,
    "start_time": "2022-07-08T18:41:28.153Z"
   },
   {
    "duration": 300,
    "start_time": "2022-07-08T18:41:37.113Z"
   },
   {
    "duration": 267,
    "start_time": "2022-07-08T18:41:46.113Z"
   },
   {
    "duration": 1101,
    "start_time": "2022-07-08T19:14:17.571Z"
   },
   {
    "duration": 3,
    "start_time": "2022-07-08T19:14:18.673Z"
   },
   {
    "duration": 57,
    "start_time": "2022-07-08T19:14:18.678Z"
   },
   {
    "duration": 14,
    "start_time": "2022-07-08T19:14:18.736Z"
   },
   {
    "duration": 9,
    "start_time": "2022-07-08T19:14:18.752Z"
   },
   {
    "duration": 28,
    "start_time": "2022-07-08T19:14:18.762Z"
   },
   {
    "duration": 15,
    "start_time": "2022-07-08T19:14:18.791Z"
   },
   {
    "duration": 7,
    "start_time": "2022-07-08T19:14:18.808Z"
   },
   {
    "duration": 12,
    "start_time": "2022-07-08T19:14:18.816Z"
   },
   {
    "duration": 6,
    "start_time": "2022-07-08T19:14:18.830Z"
   },
   {
    "duration": 10,
    "start_time": "2022-07-08T19:14:18.837Z"
   },
   {
    "duration": 6,
    "start_time": "2022-07-08T19:14:18.848Z"
   },
   {
    "duration": 64,
    "start_time": "2022-07-08T19:14:18.856Z"
   },
   {
    "duration": 4,
    "start_time": "2022-07-08T19:14:18.923Z"
   },
   {
    "duration": 18,
    "start_time": "2022-07-08T19:14:18.929Z"
   },
   {
    "duration": 13,
    "start_time": "2022-07-08T19:14:18.948Z"
   },
   {
    "duration": 9,
    "start_time": "2022-07-08T19:14:18.962Z"
   },
   {
    "duration": 29,
    "start_time": "2022-07-08T19:14:18.973Z"
   },
   {
    "duration": 9,
    "start_time": "2022-07-08T19:14:19.003Z"
   },
   {
    "duration": 9,
    "start_time": "2022-07-08T19:14:19.014Z"
   },
   {
    "duration": 11,
    "start_time": "2022-07-08T19:14:19.024Z"
   },
   {
    "duration": 15,
    "start_time": "2022-07-08T19:14:19.036Z"
   },
   {
    "duration": 22,
    "start_time": "2022-07-08T19:14:19.053Z"
   },
   {
    "duration": 16,
    "start_time": "2022-07-08T19:14:19.076Z"
   },
   {
    "duration": 23,
    "start_time": "2022-07-08T19:14:19.094Z"
   },
   {
    "duration": 5,
    "start_time": "2022-07-08T19:14:19.118Z"
   },
   {
    "duration": 21,
    "start_time": "2022-07-08T19:14:19.125Z"
   },
   {
    "duration": 13,
    "start_time": "2022-07-08T19:14:19.148Z"
   },
   {
    "duration": 14,
    "start_time": "2022-07-08T19:14:19.162Z"
   },
   {
    "duration": 84,
    "start_time": "2022-07-08T19:14:19.177Z"
   },
   {
    "duration": 221,
    "start_time": "2022-07-08T19:14:19.262Z"
   },
   {
    "duration": 297,
    "start_time": "2022-07-08T19:14:19.484Z"
   },
   {
    "duration": 6,
    "start_time": "2022-07-08T19:14:19.783Z"
   },
   {
    "duration": 295,
    "start_time": "2022-07-08T19:14:19.790Z"
   },
   {
    "duration": 7,
    "start_time": "2022-07-08T19:14:20.088Z"
   },
   {
    "duration": 168,
    "start_time": "2022-07-08T19:14:20.097Z"
   },
   {
    "duration": 282,
    "start_time": "2022-07-08T19:14:20.267Z"
   },
   {
    "duration": 3,
    "start_time": "2022-07-08T19:14:20.551Z"
   },
   {
    "duration": 235,
    "start_time": "2022-07-08T19:14:20.556Z"
   },
   {
    "duration": 367,
    "start_time": "2022-07-08T19:14:20.793Z"
   },
   {
    "duration": 2495,
    "start_time": "2022-07-08T19:14:21.164Z"
   },
   {
    "duration": 5,
    "start_time": "2022-07-08T19:14:23.661Z"
   },
   {
    "duration": 539,
    "start_time": "2022-07-08T19:14:23.667Z"
   },
   {
    "duration": 14,
    "start_time": "2022-07-08T19:14:24.208Z"
   },
   {
    "duration": 347,
    "start_time": "2022-07-08T19:14:24.224Z"
   },
   {
    "duration": 6,
    "start_time": "2022-07-08T19:14:24.573Z"
   },
   {
    "duration": 356,
    "start_time": "2022-07-08T19:14:24.581Z"
   },
   {
    "duration": 416,
    "start_time": "2022-07-08T19:14:24.939Z"
   },
   {
    "duration": 341,
    "start_time": "2022-07-08T19:14:25.357Z"
   },
   {
    "duration": 5,
    "start_time": "2022-07-08T19:14:25.700Z"
   },
   {
    "duration": 10,
    "start_time": "2022-07-08T19:14:25.707Z"
   },
   {
    "duration": 30,
    "start_time": "2022-07-08T19:14:25.719Z"
   },
   {
    "duration": 17,
    "start_time": "2022-07-08T19:14:25.751Z"
   },
   {
    "duration": 1005,
    "start_time": "2022-07-09T00:50:12.362Z"
   },
   {
    "duration": 3,
    "start_time": "2022-07-09T00:50:13.369Z"
   },
   {
    "duration": 68,
    "start_time": "2022-07-09T00:50:13.373Z"
   },
   {
    "duration": 11,
    "start_time": "2022-07-09T00:50:13.442Z"
   },
   {
    "duration": 6,
    "start_time": "2022-07-09T00:50:13.455Z"
   },
   {
    "duration": 27,
    "start_time": "2022-07-09T00:50:13.462Z"
   },
   {
    "duration": 22,
    "start_time": "2022-07-09T00:50:13.491Z"
   },
   {
    "duration": 13,
    "start_time": "2022-07-09T00:50:13.514Z"
   },
   {
    "duration": 18,
    "start_time": "2022-07-09T00:50:13.529Z"
   },
   {
    "duration": 11,
    "start_time": "2022-07-09T00:50:13.548Z"
   },
   {
    "duration": 12,
    "start_time": "2022-07-09T00:50:13.561Z"
   },
   {
    "duration": 5,
    "start_time": "2022-07-09T00:50:13.574Z"
   },
   {
    "duration": 28,
    "start_time": "2022-07-09T00:50:13.581Z"
   },
   {
    "duration": 5,
    "start_time": "2022-07-09T00:50:13.611Z"
   },
   {
    "duration": 16,
    "start_time": "2022-07-09T00:50:13.618Z"
   },
   {
    "duration": 12,
    "start_time": "2022-07-09T00:50:13.636Z"
   },
   {
    "duration": 9,
    "start_time": "2022-07-09T00:50:13.649Z"
   },
   {
    "duration": 5,
    "start_time": "2022-07-09T00:50:13.659Z"
   },
   {
    "duration": 19,
    "start_time": "2022-07-09T00:50:13.666Z"
   },
   {
    "duration": 11,
    "start_time": "2022-07-09T00:50:13.701Z"
   },
   {
    "duration": 15,
    "start_time": "2022-07-09T00:50:13.714Z"
   },
   {
    "duration": 7,
    "start_time": "2022-07-09T00:50:13.730Z"
   },
   {
    "duration": 12,
    "start_time": "2022-07-09T00:50:13.739Z"
   },
   {
    "duration": 11,
    "start_time": "2022-07-09T00:50:13.752Z"
   },
   {
    "duration": 19,
    "start_time": "2022-07-09T00:50:13.764Z"
   },
   {
    "duration": 8,
    "start_time": "2022-07-09T00:50:13.784Z"
   },
   {
    "duration": 26,
    "start_time": "2022-07-09T00:50:13.793Z"
   },
   {
    "duration": 11,
    "start_time": "2022-07-09T00:50:13.820Z"
   },
   {
    "duration": 19,
    "start_time": "2022-07-09T00:50:13.832Z"
   },
   {
    "duration": 75,
    "start_time": "2022-07-09T00:50:13.852Z"
   },
   {
    "duration": 201,
    "start_time": "2022-07-09T00:50:13.929Z"
   },
   {
    "duration": 264,
    "start_time": "2022-07-09T00:50:14.131Z"
   },
   {
    "duration": 9,
    "start_time": "2022-07-09T00:50:14.396Z"
   },
   {
    "duration": 250,
    "start_time": "2022-07-09T00:50:14.406Z"
   },
   {
    "duration": 5,
    "start_time": "2022-07-09T00:50:14.658Z"
   },
   {
    "duration": 159,
    "start_time": "2022-07-09T00:50:14.665Z"
   },
   {
    "duration": 271,
    "start_time": "2022-07-09T00:50:14.826Z"
   },
   {
    "duration": 2,
    "start_time": "2022-07-09T00:50:15.100Z"
   },
   {
    "duration": 229,
    "start_time": "2022-07-09T00:50:15.104Z"
   },
   {
    "duration": 386,
    "start_time": "2022-07-09T00:50:15.335Z"
   },
   {
    "duration": 2275,
    "start_time": "2022-07-09T00:50:15.724Z"
   },
   {
    "duration": 4,
    "start_time": "2022-07-09T00:50:18.001Z"
   },
   {
    "duration": 430,
    "start_time": "2022-07-09T00:50:18.007Z"
   },
   {
    "duration": 9,
    "start_time": "2022-07-09T00:50:18.438Z"
   },
   {
    "duration": 259,
    "start_time": "2022-07-09T00:50:18.449Z"
   },
   {
    "duration": 5,
    "start_time": "2022-07-09T00:50:18.710Z"
   },
   {
    "duration": 302,
    "start_time": "2022-07-09T00:50:18.716Z"
   },
   {
    "duration": 316,
    "start_time": "2022-07-09T00:50:19.019Z"
   },
   {
    "duration": 285,
    "start_time": "2022-07-09T00:50:19.337Z"
   },
   {
    "duration": 5,
    "start_time": "2022-07-09T00:50:19.624Z"
   },
   {
    "duration": 10,
    "start_time": "2022-07-09T00:50:19.630Z"
   },
   {
    "duration": 31,
    "start_time": "2022-07-09T00:50:19.641Z"
   },
   {
    "duration": 25,
    "start_time": "2022-07-09T00:50:19.674Z"
   }
  ],
  "kernelspec": {
   "display_name": "Python 3 (ipykernel)",
   "language": "python",
   "name": "python3"
  },
  "language_info": {
   "codemirror_mode": {
    "name": "ipython",
    "version": 3
   },
   "file_extension": ".py",
   "mimetype": "text/x-python",
   "name": "python",
   "nbconvert_exporter": "python",
   "pygments_lexer": "ipython3",
   "version": "3.9.12"
  },
  "toc": {
   "base_numbering": 1,
   "nav_menu": {},
   "number_sections": true,
   "sideBar": true,
   "skip_h1_title": true,
   "title_cell": "Содержание",
   "title_sidebar": "Contents",
   "toc_cell": true,
   "toc_position": {
    "height": "calc(100% - 180px)",
    "left": "10px",
    "top": "150px",
    "width": "215.182px"
   },
   "toc_section_display": true,
   "toc_window_display": true
  }
 },
 "nbformat": 4,
 "nbformat_minor": 2
}
