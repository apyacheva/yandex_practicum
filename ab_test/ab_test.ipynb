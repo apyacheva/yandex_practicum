{
 "cells": [
  {
   "cell_type": "markdown",
   "metadata": {},
   "source": [
    "# Принятие решений в бизнесе"
   ]
  },
  {
   "cell_type": "markdown",
   "metadata": {},
   "source": [
    "# Описание проекта"
   ]
  },
  {
   "cell_type": "markdown",
   "metadata": {},
   "source": [
    "Вместе с отделом маркетинга крупного интернет-магазина подготовлен список гипотез для увеличения выручки.\\\n",
    "В первой части проекта необходимо приоритизировать гипотезы, во второй - запустить A/B-тест и проанализировать результаты."
   ]
  },
  {
   "cell_type": "markdown",
   "metadata": {},
   "source": [
    "**Описание данных**\n",
    "\n",
    "Данные для первой части\n",
    "\n",
    "Файл ``/datasets/hypothesis.csv`` содержит следующую информацию:\\\n",
    "`Hypothesis` — краткое описание гипотезы;\\\n",
    "`Reach` — охват пользователей по 10-балльной шкале;\\\n",
    "``Impact`` — влияние на пользователей по 10-балльной шкале;\\\n",
    "``Confidence`` — уверенность в гипотезе по 10-балльной шкале;\\\n",
    "``Efforts`` — затраты ресурсов на проверку гипотезы по 10-балльной шкале. Чем больше значение Efforts, тем дороже проверка гипотезы.\n",
    "\n",
    "Данные для второй части\n",
    "\n",
    "Файл ``/datasets/orders.csv`` содержит следующую информацию:\\\n",
    "``transactionId`` — идентификатор заказа;\\\n",
    "``visitorId`` — идентификатор пользователя, совершившего заказ;\\\n",
    "``date`` — дата, когда был совершён заказ;\\\n",
    "``revenue`` — выручка заказа;\\\n",
    "``group`` — группа A/B-теста, в которую попал заказ.\n",
    "\n",
    "Файл ``/datasets/visitors.csv`` содержит следующую информацию:\\\n",
    "``date`` — дата;\\\n",
    "``group`` — группа A/B-теста;\\\n",
    "``visitors`` — количество пользователей в указанную дату в указанной группе A/B-теста"
   ]
  },
  {
   "cell_type": "markdown",
   "metadata": {},
   "source": [
    "## Часть 1. Приоритизация гипотез"
   ]
  },
  {
   "cell_type": "markdown",
   "metadata": {},
   "source": [
    "Загрузим необходимые библиотеки и изучим файл с исходными данными."
   ]
  },
  {
   "cell_type": "code",
   "execution_count": 1,
   "metadata": {},
   "outputs": [],
   "source": [
    "import pandas as pd\n",
    "import numpy as np\n",
    "import scipy.stats as stats\n",
    "from matplotlib import pyplot as plt\n"
   ]
  },
  {
   "cell_type": "code",
   "execution_count": 2,
   "metadata": {},
   "outputs": [
    {
     "data": {
      "text/html": [
       "<div>\n",
       "<style scoped>\n",
       "    .dataframe tbody tr th:only-of-type {\n",
       "        vertical-align: middle;\n",
       "    }\n",
       "\n",
       "    .dataframe tbody tr th {\n",
       "        vertical-align: top;\n",
       "    }\n",
       "\n",
       "    .dataframe thead th {\n",
       "        text-align: right;\n",
       "    }\n",
       "</style>\n",
       "<table border=\"1\" class=\"dataframe\">\n",
       "  <thead>\n",
       "    <tr style=\"text-align: right;\">\n",
       "      <th></th>\n",
       "      <th>Hypothesis</th>\n",
       "      <th>Reach</th>\n",
       "      <th>Impact</th>\n",
       "      <th>Confidence</th>\n",
       "      <th>Efforts</th>\n",
       "    </tr>\n",
       "  </thead>\n",
       "  <tbody>\n",
       "    <tr>\n",
       "      <th>0</th>\n",
       "      <td>Добавить два новых канала привлечения трафика, что позволит привлекать на 30% больше пользователей</td>\n",
       "      <td>3</td>\n",
       "      <td>10</td>\n",
       "      <td>8</td>\n",
       "      <td>6</td>\n",
       "    </tr>\n",
       "    <tr>\n",
       "      <th>1</th>\n",
       "      <td>Запустить собственную службу доставки, что сократит срок доставки заказов</td>\n",
       "      <td>2</td>\n",
       "      <td>5</td>\n",
       "      <td>4</td>\n",
       "      <td>10</td>\n",
       "    </tr>\n",
       "    <tr>\n",
       "      <th>2</th>\n",
       "      <td>Добавить блоки рекомендаций товаров на сайт интернет магазина, чтобы повысить конверсию и средний чек заказа</td>\n",
       "      <td>8</td>\n",
       "      <td>3</td>\n",
       "      <td>7</td>\n",
       "      <td>3</td>\n",
       "    </tr>\n",
       "    <tr>\n",
       "      <th>3</th>\n",
       "      <td>Изменить структура категорий, что увеличит конверсию, т.к. пользователи быстрее найдут нужный товар</td>\n",
       "      <td>8</td>\n",
       "      <td>3</td>\n",
       "      <td>3</td>\n",
       "      <td>8</td>\n",
       "    </tr>\n",
       "    <tr>\n",
       "      <th>4</th>\n",
       "      <td>Изменить цвет фона главной страницы, чтобы увеличить вовлеченность пользователей</td>\n",
       "      <td>3</td>\n",
       "      <td>1</td>\n",
       "      <td>1</td>\n",
       "      <td>1</td>\n",
       "    </tr>\n",
       "    <tr>\n",
       "      <th>5</th>\n",
       "      <td>Добавить страницу отзывов клиентов о магазине, что позволит увеличить количество заказов</td>\n",
       "      <td>3</td>\n",
       "      <td>2</td>\n",
       "      <td>2</td>\n",
       "      <td>3</td>\n",
       "    </tr>\n",
       "    <tr>\n",
       "      <th>6</th>\n",
       "      <td>Показать на главной странице баннеры с актуальными акциями и распродажами, чтобы увеличить конверсию</td>\n",
       "      <td>5</td>\n",
       "      <td>3</td>\n",
       "      <td>8</td>\n",
       "      <td>3</td>\n",
       "    </tr>\n",
       "    <tr>\n",
       "      <th>7</th>\n",
       "      <td>Добавить форму подписки на все основные страницы, чтобы собрать базу клиентов для email-рассылок</td>\n",
       "      <td>10</td>\n",
       "      <td>7</td>\n",
       "      <td>8</td>\n",
       "      <td>5</td>\n",
       "    </tr>\n",
       "    <tr>\n",
       "      <th>8</th>\n",
       "      <td>Запустить акцию, дающую скидку на товар в день рождения</td>\n",
       "      <td>1</td>\n",
       "      <td>9</td>\n",
       "      <td>9</td>\n",
       "      <td>5</td>\n",
       "    </tr>\n",
       "  </tbody>\n",
       "</table>\n",
       "</div>"
      ],
      "text/plain": [
       "                                                                                                     Hypothesis  \\\n",
       "0            Добавить два новых канала привлечения трафика, что позволит привлекать на 30% больше пользователей   \n",
       "1                                     Запустить собственную службу доставки, что сократит срок доставки заказов   \n",
       "2  Добавить блоки рекомендаций товаров на сайт интернет магазина, чтобы повысить конверсию и средний чек заказа   \n",
       "3           Изменить структура категорий, что увеличит конверсию, т.к. пользователи быстрее найдут нужный товар   \n",
       "4                              Изменить цвет фона главной страницы, чтобы увеличить вовлеченность пользователей   \n",
       "5                      Добавить страницу отзывов клиентов о магазине, что позволит увеличить количество заказов   \n",
       "6          Показать на главной странице баннеры с актуальными акциями и распродажами, чтобы увеличить конверсию   \n",
       "7              Добавить форму подписки на все основные страницы, чтобы собрать базу клиентов для email-рассылок   \n",
       "8                                                       Запустить акцию, дающую скидку на товар в день рождения   \n",
       "\n",
       "   Reach  Impact  Confidence  Efforts  \n",
       "0      3      10           8        6  \n",
       "1      2       5           4       10  \n",
       "2      8       3           7        3  \n",
       "3      8       3           3        8  \n",
       "4      3       1           1        1  \n",
       "5      3       2           2        3  \n",
       "6      5       3           8        3  \n",
       "7     10       7           8        5  \n",
       "8      1       9           9        5  "
      ]
     },
     "execution_count": 2,
     "metadata": {},
     "output_type": "execute_result"
    }
   ],
   "source": [
    "hypothesis = pd.read_csv('hypothesis.csv')\n",
    "pd.options.display.max_colwidth = 130\n",
    "hypothesis"
   ]
  },
  {
   "cell_type": "markdown",
   "metadata": {},
   "source": [
    "В нашем списке 9 гипотез с проранжированными параметрами. Определим, какую из гипотез стоит проверить первой."
   ]
  },
  {
   "cell_type": "markdown",
   "metadata": {},
   "source": [
    "### Метод ICE"
   ]
  },
  {
   "cell_type": "markdown",
   "metadata": {},
   "source": [
    "Чтобы определить приоритет гипотезы данным методом, нужно перемножить коэффициенты Impact и Confidence и разделить результат на Efforts. Так и сделаем. Создадим новый столбец в дата-фрейме."
   ]
  },
  {
   "cell_type": "code",
   "execution_count": 3,
   "metadata": {},
   "outputs": [
    {
     "data": {
      "text/html": [
       "<div>\n",
       "<style scoped>\n",
       "    .dataframe tbody tr th:only-of-type {\n",
       "        vertical-align: middle;\n",
       "    }\n",
       "\n",
       "    .dataframe tbody tr th {\n",
       "        vertical-align: top;\n",
       "    }\n",
       "\n",
       "    .dataframe thead th {\n",
       "        text-align: right;\n",
       "    }\n",
       "</style>\n",
       "<table border=\"1\" class=\"dataframe\">\n",
       "  <thead>\n",
       "    <tr style=\"text-align: right;\">\n",
       "      <th></th>\n",
       "      <th>Hypothesis</th>\n",
       "      <th>Reach</th>\n",
       "      <th>Impact</th>\n",
       "      <th>Confidence</th>\n",
       "      <th>Efforts</th>\n",
       "      <th>ICE</th>\n",
       "    </tr>\n",
       "  </thead>\n",
       "  <tbody>\n",
       "    <tr>\n",
       "      <th>8</th>\n",
       "      <td>Запустить акцию, дающую скидку на товар в день рождения</td>\n",
       "      <td>1</td>\n",
       "      <td>9</td>\n",
       "      <td>9</td>\n",
       "      <td>5</td>\n",
       "      <td>16.20</td>\n",
       "    </tr>\n",
       "    <tr>\n",
       "      <th>0</th>\n",
       "      <td>Добавить два новых канала привлечения трафика, что позволит привлекать на 30% больше пользователей</td>\n",
       "      <td>3</td>\n",
       "      <td>10</td>\n",
       "      <td>8</td>\n",
       "      <td>6</td>\n",
       "      <td>13.33</td>\n",
       "    </tr>\n",
       "    <tr>\n",
       "      <th>7</th>\n",
       "      <td>Добавить форму подписки на все основные страницы, чтобы собрать базу клиентов для email-рассылок</td>\n",
       "      <td>10</td>\n",
       "      <td>7</td>\n",
       "      <td>8</td>\n",
       "      <td>5</td>\n",
       "      <td>11.20</td>\n",
       "    </tr>\n",
       "    <tr>\n",
       "      <th>6</th>\n",
       "      <td>Показать на главной странице баннеры с актуальными акциями и распродажами, чтобы увеличить конверсию</td>\n",
       "      <td>5</td>\n",
       "      <td>3</td>\n",
       "      <td>8</td>\n",
       "      <td>3</td>\n",
       "      <td>8.00</td>\n",
       "    </tr>\n",
       "    <tr>\n",
       "      <th>2</th>\n",
       "      <td>Добавить блоки рекомендаций товаров на сайт интернет магазина, чтобы повысить конверсию и средний чек заказа</td>\n",
       "      <td>8</td>\n",
       "      <td>3</td>\n",
       "      <td>7</td>\n",
       "      <td>3</td>\n",
       "      <td>7.00</td>\n",
       "    </tr>\n",
       "    <tr>\n",
       "      <th>1</th>\n",
       "      <td>Запустить собственную службу доставки, что сократит срок доставки заказов</td>\n",
       "      <td>2</td>\n",
       "      <td>5</td>\n",
       "      <td>4</td>\n",
       "      <td>10</td>\n",
       "      <td>2.00</td>\n",
       "    </tr>\n",
       "    <tr>\n",
       "      <th>5</th>\n",
       "      <td>Добавить страницу отзывов клиентов о магазине, что позволит увеличить количество заказов</td>\n",
       "      <td>3</td>\n",
       "      <td>2</td>\n",
       "      <td>2</td>\n",
       "      <td>3</td>\n",
       "      <td>1.33</td>\n",
       "    </tr>\n",
       "    <tr>\n",
       "      <th>3</th>\n",
       "      <td>Изменить структура категорий, что увеличит конверсию, т.к. пользователи быстрее найдут нужный товар</td>\n",
       "      <td>8</td>\n",
       "      <td>3</td>\n",
       "      <td>3</td>\n",
       "      <td>8</td>\n",
       "      <td>1.12</td>\n",
       "    </tr>\n",
       "    <tr>\n",
       "      <th>4</th>\n",
       "      <td>Изменить цвет фона главной страницы, чтобы увеличить вовлеченность пользователей</td>\n",
       "      <td>3</td>\n",
       "      <td>1</td>\n",
       "      <td>1</td>\n",
       "      <td>1</td>\n",
       "      <td>1.00</td>\n",
       "    </tr>\n",
       "  </tbody>\n",
       "</table>\n",
       "</div>"
      ],
      "text/plain": [
       "                                                                                                     Hypothesis  \\\n",
       "8                                                       Запустить акцию, дающую скидку на товар в день рождения   \n",
       "0            Добавить два новых канала привлечения трафика, что позволит привлекать на 30% больше пользователей   \n",
       "7              Добавить форму подписки на все основные страницы, чтобы собрать базу клиентов для email-рассылок   \n",
       "6          Показать на главной странице баннеры с актуальными акциями и распродажами, чтобы увеличить конверсию   \n",
       "2  Добавить блоки рекомендаций товаров на сайт интернет магазина, чтобы повысить конверсию и средний чек заказа   \n",
       "1                                     Запустить собственную службу доставки, что сократит срок доставки заказов   \n",
       "5                      Добавить страницу отзывов клиентов о магазине, что позволит увеличить количество заказов   \n",
       "3           Изменить структура категорий, что увеличит конверсию, т.к. пользователи быстрее найдут нужный товар   \n",
       "4                              Изменить цвет фона главной страницы, чтобы увеличить вовлеченность пользователей   \n",
       "\n",
       "   Reach  Impact  Confidence  Efforts    ICE  \n",
       "8      1       9           9        5  16.20  \n",
       "0      3      10           8        6  13.33  \n",
       "7     10       7           8        5  11.20  \n",
       "6      5       3           8        3   8.00  \n",
       "2      8       3           7        3   7.00  \n",
       "1      2       5           4       10   2.00  \n",
       "5      3       2           2        3   1.33  \n",
       "3      8       3           3        8   1.12  \n",
       "4      3       1           1        1   1.00  "
      ]
     },
     "execution_count": 3,
     "metadata": {},
     "output_type": "execute_result"
    }
   ],
   "source": [
    "hypothesis['ICE'] = round(hypothesis['Impact'] * hypothesis['Confidence'] / hypothesis['Efforts'], 2)\n",
    "hypothesis.sort_values(by='ICE', ascending = False)"
   ]
  },
  {
   "cell_type": "markdown",
   "metadata": {},
   "source": [
    "Наибольший приоритет имеет гипотеза 8 \"Запустить акцию, дающую скидку на товар в день рождения\", далее следуют 0 \"Добавить два новых канала привлечения трафика, что позволит привлекать на 30% больше пользователей\" и 7 \"Добавить форму подписки на все основные страницы, чтобы собрать базу клиентов для email-рассылок\".\\\n",
    "Наименьший приоритет у гипотез 4 \"Изменить цвет фона главной страницы, чтобы увеличить вовлеченность пользователей\", 3 \"Изменить структура категорий, что увеличит конверсию, т.к. пользователи быстрее найдут нужный товар\", 5 \"Добавить страницу отзывов клиентов о магазине, что позволит увеличить количество заказов\". Проверять эти гипотезы не имеет смысла."
   ]
  },
  {
   "cell_type": "markdown",
   "metadata": {},
   "source": [
    "### Метод RICE"
   ]
  },
  {
   "cell_type": "markdown",
   "metadata": {},
   "source": [
    "Приоритизируем те же гипотезы еще одним способом. Формула аналогичная, но дополнительно нужно умножить на параметр Reach (охват аудитории). Добавим в тот же дата-фрейм еще один столбец."
   ]
  },
  {
   "cell_type": "code",
   "execution_count": 4,
   "metadata": {},
   "outputs": [
    {
     "data": {
      "text/html": [
       "<div>\n",
       "<style scoped>\n",
       "    .dataframe tbody tr th:only-of-type {\n",
       "        vertical-align: middle;\n",
       "    }\n",
       "\n",
       "    .dataframe tbody tr th {\n",
       "        vertical-align: top;\n",
       "    }\n",
       "\n",
       "    .dataframe thead th {\n",
       "        text-align: right;\n",
       "    }\n",
       "</style>\n",
       "<table border=\"1\" class=\"dataframe\">\n",
       "  <thead>\n",
       "    <tr style=\"text-align: right;\">\n",
       "      <th></th>\n",
       "      <th>Hypothesis</th>\n",
       "      <th>Reach</th>\n",
       "      <th>Impact</th>\n",
       "      <th>Confidence</th>\n",
       "      <th>Efforts</th>\n",
       "      <th>ICE</th>\n",
       "      <th>RICE</th>\n",
       "    </tr>\n",
       "  </thead>\n",
       "  <tbody>\n",
       "    <tr>\n",
       "      <th>7</th>\n",
       "      <td>Добавить форму подписки на все основные страницы, чтобы собрать базу клиентов для email-рассылок</td>\n",
       "      <td>10</td>\n",
       "      <td>7</td>\n",
       "      <td>8</td>\n",
       "      <td>5</td>\n",
       "      <td>11.20</td>\n",
       "      <td>112.0</td>\n",
       "    </tr>\n",
       "    <tr>\n",
       "      <th>2</th>\n",
       "      <td>Добавить блоки рекомендаций товаров на сайт интернет магазина, чтобы повысить конверсию и средний чек заказа</td>\n",
       "      <td>8</td>\n",
       "      <td>3</td>\n",
       "      <td>7</td>\n",
       "      <td>3</td>\n",
       "      <td>7.00</td>\n",
       "      <td>56.0</td>\n",
       "    </tr>\n",
       "    <tr>\n",
       "      <th>0</th>\n",
       "      <td>Добавить два новых канала привлечения трафика, что позволит привлекать на 30% больше пользователей</td>\n",
       "      <td>3</td>\n",
       "      <td>10</td>\n",
       "      <td>8</td>\n",
       "      <td>6</td>\n",
       "      <td>13.33</td>\n",
       "      <td>40.0</td>\n",
       "    </tr>\n",
       "    <tr>\n",
       "      <th>6</th>\n",
       "      <td>Показать на главной странице баннеры с актуальными акциями и распродажами, чтобы увеличить конверсию</td>\n",
       "      <td>5</td>\n",
       "      <td>3</td>\n",
       "      <td>8</td>\n",
       "      <td>3</td>\n",
       "      <td>8.00</td>\n",
       "      <td>40.0</td>\n",
       "    </tr>\n",
       "    <tr>\n",
       "      <th>8</th>\n",
       "      <td>Запустить акцию, дающую скидку на товар в день рождения</td>\n",
       "      <td>1</td>\n",
       "      <td>9</td>\n",
       "      <td>9</td>\n",
       "      <td>5</td>\n",
       "      <td>16.20</td>\n",
       "      <td>16.2</td>\n",
       "    </tr>\n",
       "    <tr>\n",
       "      <th>3</th>\n",
       "      <td>Изменить структура категорий, что увеличит конверсию, т.к. пользователи быстрее найдут нужный товар</td>\n",
       "      <td>8</td>\n",
       "      <td>3</td>\n",
       "      <td>3</td>\n",
       "      <td>8</td>\n",
       "      <td>1.12</td>\n",
       "      <td>9.0</td>\n",
       "    </tr>\n",
       "    <tr>\n",
       "      <th>1</th>\n",
       "      <td>Запустить собственную службу доставки, что сократит срок доставки заказов</td>\n",
       "      <td>2</td>\n",
       "      <td>5</td>\n",
       "      <td>4</td>\n",
       "      <td>10</td>\n",
       "      <td>2.00</td>\n",
       "      <td>4.0</td>\n",
       "    </tr>\n",
       "    <tr>\n",
       "      <th>5</th>\n",
       "      <td>Добавить страницу отзывов клиентов о магазине, что позволит увеличить количество заказов</td>\n",
       "      <td>3</td>\n",
       "      <td>2</td>\n",
       "      <td>2</td>\n",
       "      <td>3</td>\n",
       "      <td>1.33</td>\n",
       "      <td>4.0</td>\n",
       "    </tr>\n",
       "    <tr>\n",
       "      <th>4</th>\n",
       "      <td>Изменить цвет фона главной страницы, чтобы увеличить вовлеченность пользователей</td>\n",
       "      <td>3</td>\n",
       "      <td>1</td>\n",
       "      <td>1</td>\n",
       "      <td>1</td>\n",
       "      <td>1.00</td>\n",
       "      <td>3.0</td>\n",
       "    </tr>\n",
       "  </tbody>\n",
       "</table>\n",
       "</div>"
      ],
      "text/plain": [
       "                                                                                                     Hypothesis  \\\n",
       "7              Добавить форму подписки на все основные страницы, чтобы собрать базу клиентов для email-рассылок   \n",
       "2  Добавить блоки рекомендаций товаров на сайт интернет магазина, чтобы повысить конверсию и средний чек заказа   \n",
       "0            Добавить два новых канала привлечения трафика, что позволит привлекать на 30% больше пользователей   \n",
       "6          Показать на главной странице баннеры с актуальными акциями и распродажами, чтобы увеличить конверсию   \n",
       "8                                                       Запустить акцию, дающую скидку на товар в день рождения   \n",
       "3           Изменить структура категорий, что увеличит конверсию, т.к. пользователи быстрее найдут нужный товар   \n",
       "1                                     Запустить собственную службу доставки, что сократит срок доставки заказов   \n",
       "5                      Добавить страницу отзывов клиентов о магазине, что позволит увеличить количество заказов   \n",
       "4                              Изменить цвет фона главной страницы, чтобы увеличить вовлеченность пользователей   \n",
       "\n",
       "   Reach  Impact  Confidence  Efforts    ICE   RICE  \n",
       "7     10       7           8        5  11.20  112.0  \n",
       "2      8       3           7        3   7.00   56.0  \n",
       "0      3      10           8        6  13.33   40.0  \n",
       "6      5       3           8        3   8.00   40.0  \n",
       "8      1       9           9        5  16.20   16.2  \n",
       "3      8       3           3        8   1.12    9.0  \n",
       "1      2       5           4       10   2.00    4.0  \n",
       "5      3       2           2        3   1.33    4.0  \n",
       "4      3       1           1        1   1.00    3.0  "
      ]
     },
     "execution_count": 4,
     "metadata": {},
     "output_type": "execute_result"
    }
   ],
   "source": [
    "hypothesis['RICE'] = round(hypothesis['Reach'] * hypothesis['Impact'] * hypothesis['Confidence'] / hypothesis['Efforts'], 2)\n",
    "hypothesis.sort_values(by='RICE', ascending = False)"
   ]
  },
  {
   "cell_type": "markdown",
   "metadata": {},
   "source": [
    "Результат проверки методом RICE отличается от полученного выше. Здесь максимальный приоритет у гипотезы 7 \"Добавить форму подписки на все основные страницы, чтобы собрать базу клиентов для email-рассылок\" (по методу ICE она занимала третье место), т.к. это изменение затронет всех пользователей.\\\n",
    "На втором месте гипотеза 2 \"Добавить блоки рекомендаций товаров на сайт интернет магазина, чтобы повысить конверсию и средний чек заказа\". В рейтинге ICE она занимала лишь пятое место, по методу RICE ее важность более существенна, т.к. она так же затрагивает большое количество пользователей.\\\n",
    "Зато гипотеза 0 \"Добавить два новых канала привлечения трафика, что позволит привлекать на 30% больше пользователей\" опустилась со второго места на третье, т.к. она охватывает гораздо меньшее количество пользователей.\\\n",
    "Последние 4 гипотезы так и остались последними, лишь поменяв немного порядок следования. Эти гипотезы несущественны для бизнеса и не будут проверяться."
   ]
  },
  {
   "cell_type": "markdown",
   "metadata": {},
   "source": [
    "### Вывод"
   ]
  },
  {
   "cell_type": "markdown",
   "metadata": {},
   "source": [
    "Проведенный анализ гипотез показывает, что наилучшей гипотезой является гипотеза 7 \"Добавить форму подписки на все основные страницы, чтобы собрать базу клиентов для email-рассылок\". Ее и стоит проверять в первую очередь."
   ]
  },
  {
   "cell_type": "markdown",
   "metadata": {},
   "source": [
    "## Часть 2. Анализ A/B-теста"
   ]
  },
  {
   "cell_type": "markdown",
   "metadata": {},
   "source": [
    "### Предобработка данных"
   ]
  },
  {
   "cell_type": "markdown",
   "metadata": {},
   "source": [
    "Изучим файлы с исходными данными."
   ]
  },
  {
   "cell_type": "code",
   "execution_count": 5,
   "metadata": {},
   "outputs": [
    {
     "name": "stdout",
     "output_type": "stream",
     "text": [
      "orders\n"
     ]
    },
    {
     "data": {
      "text/html": [
       "<div>\n",
       "<style scoped>\n",
       "    .dataframe tbody tr th:only-of-type {\n",
       "        vertical-align: middle;\n",
       "    }\n",
       "\n",
       "    .dataframe tbody tr th {\n",
       "        vertical-align: top;\n",
       "    }\n",
       "\n",
       "    .dataframe thead th {\n",
       "        text-align: right;\n",
       "    }\n",
       "</style>\n",
       "<table border=\"1\" class=\"dataframe\">\n",
       "  <thead>\n",
       "    <tr style=\"text-align: right;\">\n",
       "      <th></th>\n",
       "      <th>transactionId</th>\n",
       "      <th>visitorId</th>\n",
       "      <th>date</th>\n",
       "      <th>revenue</th>\n",
       "      <th>group</th>\n",
       "    </tr>\n",
       "  </thead>\n",
       "  <tbody>\n",
       "    <tr>\n",
       "      <th>0</th>\n",
       "      <td>3667963787</td>\n",
       "      <td>3312258926</td>\n",
       "      <td>2019-08-15</td>\n",
       "      <td>1650</td>\n",
       "      <td>B</td>\n",
       "    </tr>\n",
       "    <tr>\n",
       "      <th>1</th>\n",
       "      <td>2804400009</td>\n",
       "      <td>3642806036</td>\n",
       "      <td>2019-08-15</td>\n",
       "      <td>730</td>\n",
       "      <td>B</td>\n",
       "    </tr>\n",
       "    <tr>\n",
       "      <th>2</th>\n",
       "      <td>2961555356</td>\n",
       "      <td>4069496402</td>\n",
       "      <td>2019-08-15</td>\n",
       "      <td>400</td>\n",
       "      <td>A</td>\n",
       "    </tr>\n",
       "    <tr>\n",
       "      <th>3</th>\n",
       "      <td>3797467345</td>\n",
       "      <td>1196621759</td>\n",
       "      <td>2019-08-15</td>\n",
       "      <td>9759</td>\n",
       "      <td>B</td>\n",
       "    </tr>\n",
       "    <tr>\n",
       "      <th>4</th>\n",
       "      <td>2282983706</td>\n",
       "      <td>2322279887</td>\n",
       "      <td>2019-08-15</td>\n",
       "      <td>2308</td>\n",
       "      <td>B</td>\n",
       "    </tr>\n",
       "  </tbody>\n",
       "</table>\n",
       "</div>"
      ],
      "text/plain": [
       "   transactionId   visitorId        date  revenue group\n",
       "0     3667963787  3312258926  2019-08-15     1650     B\n",
       "1     2804400009  3642806036  2019-08-15      730     B\n",
       "2     2961555356  4069496402  2019-08-15      400     A\n",
       "3     3797467345  1196621759  2019-08-15     9759     B\n",
       "4     2282983706  2322279887  2019-08-15     2308     B"
      ]
     },
     "metadata": {},
     "output_type": "display_data"
    },
    {
     "name": "stdout",
     "output_type": "stream",
     "text": [
      "<class 'pandas.core.frame.DataFrame'>\n",
      "RangeIndex: 1197 entries, 0 to 1196\n",
      "Data columns (total 5 columns):\n",
      " #   Column         Non-Null Count  Dtype \n",
      "---  ------         --------------  ----- \n",
      " 0   transactionId  1197 non-null   int64 \n",
      " 1   visitorId      1197 non-null   int64 \n",
      " 2   date           1197 non-null   object\n",
      " 3   revenue        1197 non-null   int64 \n",
      " 4   group          1197 non-null   object\n",
      "dtypes: int64(3), object(2)\n",
      "memory usage: 46.9+ KB\n",
      "None\n",
      "\n",
      "\n",
      "Количество дубликатов в файле orders: 0\n",
      "**************************************************\n",
      "\n",
      "\n",
      "visitors\n"
     ]
    },
    {
     "data": {
      "text/html": [
       "<div>\n",
       "<style scoped>\n",
       "    .dataframe tbody tr th:only-of-type {\n",
       "        vertical-align: middle;\n",
       "    }\n",
       "\n",
       "    .dataframe tbody tr th {\n",
       "        vertical-align: top;\n",
       "    }\n",
       "\n",
       "    .dataframe thead th {\n",
       "        text-align: right;\n",
       "    }\n",
       "</style>\n",
       "<table border=\"1\" class=\"dataframe\">\n",
       "  <thead>\n",
       "    <tr style=\"text-align: right;\">\n",
       "      <th></th>\n",
       "      <th>date</th>\n",
       "      <th>group</th>\n",
       "      <th>visitors</th>\n",
       "    </tr>\n",
       "  </thead>\n",
       "  <tbody>\n",
       "    <tr>\n",
       "      <th>0</th>\n",
       "      <td>2019-08-01</td>\n",
       "      <td>A</td>\n",
       "      <td>719</td>\n",
       "    </tr>\n",
       "    <tr>\n",
       "      <th>1</th>\n",
       "      <td>2019-08-02</td>\n",
       "      <td>A</td>\n",
       "      <td>619</td>\n",
       "    </tr>\n",
       "    <tr>\n",
       "      <th>2</th>\n",
       "      <td>2019-08-03</td>\n",
       "      <td>A</td>\n",
       "      <td>507</td>\n",
       "    </tr>\n",
       "    <tr>\n",
       "      <th>3</th>\n",
       "      <td>2019-08-04</td>\n",
       "      <td>A</td>\n",
       "      <td>717</td>\n",
       "    </tr>\n",
       "    <tr>\n",
       "      <th>4</th>\n",
       "      <td>2019-08-05</td>\n",
       "      <td>A</td>\n",
       "      <td>756</td>\n",
       "    </tr>\n",
       "  </tbody>\n",
       "</table>\n",
       "</div>"
      ],
      "text/plain": [
       "         date group  visitors\n",
       "0  2019-08-01     A       719\n",
       "1  2019-08-02     A       619\n",
       "2  2019-08-03     A       507\n",
       "3  2019-08-04     A       717\n",
       "4  2019-08-05     A       756"
      ]
     },
     "metadata": {},
     "output_type": "display_data"
    },
    {
     "name": "stdout",
     "output_type": "stream",
     "text": [
      "<class 'pandas.core.frame.DataFrame'>\n",
      "RangeIndex: 62 entries, 0 to 61\n",
      "Data columns (total 3 columns):\n",
      " #   Column    Non-Null Count  Dtype \n",
      "---  ------    --------------  ----- \n",
      " 0   date      62 non-null     object\n",
      " 1   group     62 non-null     object\n",
      " 2   visitors  62 non-null     int64 \n",
      "dtypes: int64(1), object(2)\n",
      "memory usage: 1.6+ KB\n",
      "None\n",
      "\n",
      "\n",
      "Количество дубликатов в файле visitors: 0\n",
      "**************************************************\n"
     ]
    }
   ],
   "source": [
    "orders = pd.read_csv('orders.csv')\n",
    "print('orders')\n",
    "display(orders.head(5))\n",
    "print(orders.info())\n",
    "print('\\n')\n",
    "print(f'Количество дубликатов в файле orders: {orders.duplicated().sum()}')\n",
    "print(50*'*')\n",
    "print('\\n')\n",
    "visitors = pd.read_csv('visitors.csv')\n",
    "print('visitors')\n",
    "display(visitors.head(5))\n",
    "print(visitors.info())\n",
    "print('\\n')\n",
    "print(f'Количество дубликатов в файле visitors: {visitors.duplicated().sum()}')\n",
    "print(50*'*')\n"
   ]
  },
  {
   "cell_type": "markdown",
   "metadata": {},
   "source": [
    "Пропусков и дубликатов в данных нет. Столбцы с датой в обоих файлах имеют строковый формат. Для возможности обработки дат необходимо преобразовать формат."
   ]
  },
  {
   "cell_type": "code",
   "execution_count": 6,
   "metadata": {},
   "outputs": [],
   "source": [
    "orders['date'] = pd.to_datetime(orders['date'])\n",
    "visitors['date'] = pd.to_datetime(visitors['date'])"
   ]
  },
  {
   "cell_type": "markdown",
   "metadata": {},
   "source": [
    "Подробнее исследуем исходные данные. Прежде всего проверим сроки проведения тестирования."
   ]
  },
  {
   "cell_type": "code",
   "execution_count": 7,
   "metadata": {},
   "outputs": [
    {
     "name": "stdout",
     "output_type": "stream",
     "text": [
      "Начало тестирования: 2019-08-01 00:00:00\n",
      "Конец тестирования: 2019-08-31 00:00:00\n"
     ]
    }
   ],
   "source": [
    "print(f\"Начало тестирования: {orders['date'].min()}\")\n",
    "print(f\"Конец тестирования: {orders['date'].max()}\")"
   ]
  },
  {
   "cell_type": "markdown",
   "metadata": {},
   "source": [
    "Итак, тестирование проводилось в течение месяца с 1 по 31 августа 2019.\n",
    "\n",
    "Теперь рассмотрим группы теста."
   ]
  },
  {
   "cell_type": "code",
   "execution_count": 8,
   "metadata": {},
   "outputs": [
    {
     "name": "stdout",
     "output_type": "stream",
     "text": [
      "B    640\n",
      "A    557\n",
      "Name: group, dtype: int64\n"
     ]
    }
   ],
   "source": [
    "print(orders['group'].value_counts())"
   ]
  },
  {
   "cell_type": "markdown",
   "metadata": {},
   "source": [
    "В тесте принимают участие 2 группы - А и В. Количество пользователей в группе В оказалось больше, чем в группе А. Проверим, не попадают ли некоторые пользователи сразу в две группы."
   ]
  },
  {
   "cell_type": "code",
   "execution_count": 9,
   "metadata": {},
   "outputs": [
    {
     "data": {
      "text/plain": [
       "visitorId    58\n",
       "group        58\n",
       "dtype: int64"
      ]
     },
     "execution_count": 9,
     "metadata": {},
     "output_type": "execute_result"
    }
   ],
   "source": [
    "user_dupl = orders.groupby('visitorId', as_index=False).agg({'group': 'nunique'})\n",
    "user_dupl = user_dupl[user_dupl['group']==2]\n",
    "user_dupl.count()"
   ]
  },
  {
   "cell_type": "markdown",
   "metadata": {},
   "source": [
    "Нашлось 58 таких пользователей. Поскольку они попали в обе группы и видели и тот, и другой контент, то их покупки являются непоказательными, т.к. мы не можем знать, что именно повлияло на их решение о покупке. Поэтому лучшим решением будет удалить этих пользователей из анализа."
   ]
  },
  {
   "cell_type": "code",
   "execution_count": 10,
   "metadata": {},
   "outputs": [
    {
     "data": {
      "text/plain": [
       "181"
      ]
     },
     "execution_count": 10,
     "metadata": {},
     "output_type": "execute_result"
    }
   ],
   "source": [
    "orders[orders['visitorId'].isin(user_dupl['visitorId'])]['transactionId'].count()"
   ]
  },
  {
   "cell_type": "markdown",
   "metadata": {},
   "source": [
    "Всего эти пользователи имеют 181 заказ, больше, чем по одному заказу на каждого."
   ]
  },
  {
   "cell_type": "code",
   "execution_count": 11,
   "metadata": {
    "scrolled": true
   },
   "outputs": [
    {
     "name": "stdout",
     "output_type": "stream",
     "text": [
      "<class 'pandas.core.frame.DataFrame'>\n",
      "RangeIndex: 1016 entries, 0 to 1015\n",
      "Data columns (total 5 columns):\n",
      " #   Column         Non-Null Count  Dtype         \n",
      "---  ------         --------------  -----         \n",
      " 0   transactionId  1016 non-null   int64         \n",
      " 1   visitorId      1016 non-null   int64         \n",
      " 2   date           1016 non-null   datetime64[ns]\n",
      " 3   revenue        1016 non-null   int64         \n",
      " 4   group          1016 non-null   object        \n",
      "dtypes: datetime64[ns](1), int64(3), object(1)\n",
      "memory usage: 39.8+ KB\n"
     ]
    }
   ],
   "source": [
    "orders = orders.drop(orders[orders['visitorId'].isin(user_dupl['visitorId'])].index).reset_index(drop=True)\n",
    "orders.info()"
   ]
  },
  {
   "cell_type": "markdown",
   "metadata": {},
   "source": [
    "Теперь у нас 1016 строк в таблице заказов."
   ]
  },
  {
   "cell_type": "markdown",
   "metadata": {},
   "source": [
    "Избавились от дублирующихся пользователей, теперь можно приступать к анализу результатов теста."
   ]
  },
  {
   "cell_type": "markdown",
   "metadata": {},
   "source": [
    "### Кумулятивная выручка по группам"
   ]
  },
  {
   "cell_type": "markdown",
   "metadata": {},
   "source": [
    "Посчитаем и построим график кумулятивной выручки в каждой группе теста."
   ]
  },
  {
   "cell_type": "code",
   "execution_count": 12,
   "metadata": {},
   "outputs": [],
   "source": [
    "# создадим список уникальных пар \"дата-группа\"\n",
    "datesGroups = orders[['date', 'group']].drop_duplicates()\n",
    "# агрегируем данные:\n",
    "# для каждой группы из полученного списка и всех дат, меньших или равных дате из списка, найдем количество уникальных заказов и покупателей,\n",
    "# а также суммарную выручку\n",
    "ordersAggregated = datesGroups.apply(lambda x: orders[np.logical_and(orders['date'] <= x['date'], orders['group'] == x['group'])]\\\n",
    ".agg({'date' : 'max', 'group' : 'max', 'transactionId' : 'nunique', 'visitorId' : 'nunique', 'revenue' : 'sum'}), axis=1).sort_values(by=['date','group'])\n",
    "# аналогично просуммируем количество пользователей\n",
    "visitorsAggregated = datesGroups.apply(lambda x: visitors[np.logical_and(visitors['date'] <= x['date'], visitors['group'] == x['group'])].agg({'date' : 'max', 'group' : 'max', 'visitors' : 'sum'}), axis=1).sort_values(by=['date','group'])\n",
    "# объединим таблицы\n",
    "cumulativeData = ordersAggregated.merge(visitorsAggregated, left_on=['date', 'group'], right_on=['date', 'group'])\n",
    "cumulativeData.columns = ['date', 'group', 'orders', 'buyers', 'revenue', 'visitors']\n",
    "# полученную таблицу разделим на две по группе теста\n",
    "cumulativeRevenueA = cumulativeData[cumulativeData['group']=='A'][['date','revenue', 'orders', 'visitors']]\n",
    "cumulativeRevenueB = cumulativeData[cumulativeData['group']=='B'][['date','revenue', 'orders', 'visitors']]"
   ]
  },
  {
   "cell_type": "markdown",
   "metadata": {},
   "source": [
    "Чтобы проконтролировать, корректно ли сформировалась итоговая таблица, проверим временной интервал."
   ]
  },
  {
   "cell_type": "code",
   "execution_count": 13,
   "metadata": {},
   "outputs": [
    {
     "name": "stdout",
     "output_type": "stream",
     "text": [
      "Начальная дата: 2019-08-01 00:00:00\n",
      "Конечная дата: 2019-08-31 00:00:00\n"
     ]
    }
   ],
   "source": [
    "print(f\"Начальная дата: {cumulativeData['date'].min()}\")\n",
    "print(f\"Конечная дата: {cumulativeData['date'].max()}\")"
   ]
  },
  {
   "cell_type": "markdown",
   "metadata": {},
   "source": [
    "Даты совпадают с периодом тестирования."
   ]
  },
  {
   "cell_type": "markdown",
   "metadata": {},
   "source": [
    "По полученным данным можем построить график."
   ]
  },
  {
   "cell_type": "code",
   "execution_count": 14,
   "metadata": {},
   "outputs": [
    {
     "data": {
      "image/png": "[encoded data removed]",
      "text/plain": [
       "<Figure size 720x360 with 1 Axes>"
      ]
     },
     "metadata": {
      "needs_background": "light"
     },
     "output_type": "display_data"
    }
   ],
   "source": [
    "plt.figure(figsize=(10, 5))\n",
    "plt.plot(cumulativeRevenueA['date'], cumulativeRevenueA['revenue'], label='A')\n",
    "plt.plot(cumulativeRevenueB['date'], cumulativeRevenueB['revenue'], label='B')\n",
    "plt.xlabel('Дата')\n",
    "plt.ylabel('Выручка')\n",
    "plt.title('Кумулятивная выручка по группам')\n",
    "plt.legend()\n",
    "plt.grid()\n",
    "plt.show()"
   ]
  },
  {
   "cell_type": "markdown",
   "metadata": {},
   "source": [
    "Пр графику видно, что в группе А идет равномерный рост выручки по дням. Группа В сначала имеет немного большую выручку, затем 19.08.2019 наблюдается резкий скачок, который, скорее всего обусловлен появлением аномально большого заказа либо большого количества заказов. И дальше кумулятивная выручка группы В существенно превышает выручку группы А."
   ]
  },
  {
   "cell_type": "markdown",
   "metadata": {},
   "source": [
    "### Кумулятивный средний чек по группам"
   ]
  },
  {
   "cell_type": "markdown",
   "metadata": {},
   "source": [
    "Чтобы посчитать средний чек, нужно общую выручку разделить на количество заказов. Для кумулятивного среднего чека нужно взять кумулятивную выручку и кумулятивное количество заказов на каждую дату."
   ]
  },
  {
   "cell_type": "code",
   "execution_count": 15,
   "metadata": {},
   "outputs": [
    {
     "data": {
      "image/png": "[encoded data removed]",
      "text/plain": [
       "<Figure size 720x360 with 1 Axes>"
      ]
     },
     "metadata": {
      "needs_background": "light"
     },
     "output_type": "display_data"
    }
   ],
   "source": [
    "plt.figure(figsize=(10, 5))\n",
    "plt.plot(cumulativeRevenueA['date'], cumulativeRevenueA['revenue']/cumulativeRevenueA['orders'], label='A')\n",
    "plt.plot(cumulativeRevenueB['date'], cumulativeRevenueB['revenue']/cumulativeRevenueB['orders'], label='B')\n",
    "plt.xlabel('Дата')\n",
    "plt.ylabel('Средний чек')\n",
    "plt.title('Кумулятивный средний чек по группам')\n",
    "plt.legend()\n",
    "plt.grid()\n",
    "plt.show()"
   ]
  },
  {
   "cell_type": "markdown",
   "metadata": {},
   "source": [
    "Выводы предыдущего графика подтверждаются. 19.08.2019 наблюдается резкий скачок среднего чека. В целом сложно сделать какие-либо выводы по этому графику, т.к. значения среднего чека нестабильны, группа В то лучше, то хуже группы А. При этом видно, что средний чек в группе А достаточно стабилен начиная со второй недели наблюдений. Требуется анализ выбросов."
   ]
  },
  {
   "cell_type": "markdown",
   "metadata": {},
   "source": [
    "### Относительное изменение кумулятивного среднего чека группы B к группе A"
   ]
  },
  {
   "cell_type": "markdown",
   "metadata": {},
   "source": [
    "Построим график относительного различия для среднего чека в группах. Для этого объединим данные по группам в один дата-фрейм."
   ]
  },
  {
   "cell_type": "code",
   "execution_count": 16,
   "metadata": {},
   "outputs": [
    {
     "data": {
      "image/png": "[encoded data removed]",
      "text/plain": [
       "<Figure size 720x360 with 1 Axes>"
      ]
     },
     "metadata": {
      "needs_background": "light"
     },
     "output_type": "display_data"
    }
   ],
   "source": [
    "mergedCumulativeRevenue = cumulativeRevenueA.merge(cumulativeRevenueB, left_on='date', right_on='date', how='left', suffixes=['A', 'B'])\n",
    "\n",
    "plt.figure(figsize=(10, 5))\n",
    "plt.plot(mergedCumulativeRevenue['date'], (mergedCumulativeRevenue['revenueB']/mergedCumulativeRevenue['ordersB'])/(mergedCumulativeRevenue['revenueA']/mergedCumulativeRevenue['ordersA'])-1)\n",
    "plt.grid()\n",
    "plt.xlabel('Дата')\n",
    "plt.ylabel('Отношение средних чеков')\n",
    "plt.title('Относительное изменение кумулятивного среднего чека')\n",
    "# добавим ось X\n",
    "plt.axhline(y=0, color='black', linestyle='--') \n",
    "plt.show()"
   ]
  },
  {
   "cell_type": "markdown",
   "metadata": {},
   "source": [
    "Отношение среднего чека в группах то больше, то меньше. Нельзя ничего сказать однозначно. Скорее всего, влияют аномально большие заказы."
   ]
  },
  {
   "cell_type": "markdown",
   "metadata": {},
   "source": [
    "### Кумулятивное среднее количество заказов по группам"
   ]
  },
  {
   "cell_type": "markdown",
   "metadata": {},
   "source": [
    "Аналогичным образом построим графики кумулятивного среднего количества заказов в каждой группе теста. Для этого разделим кумулятивное количество заказов на количество посетителей по дням."
   ]
  },
  {
   "cell_type": "code",
   "execution_count": 17,
   "metadata": {},
   "outputs": [
    {
     "data": {
      "image/png": "[encoded data removed]",
      "text/plain": [
       "<Figure size 720x360 with 1 Axes>"
      ]
     },
     "metadata": {
      "needs_background": "light"
     },
     "output_type": "display_data"
    }
   ],
   "source": [
    "plt.figure(figsize=(10, 5))\n",
    "plt.plot(cumulativeRevenueA['date'], cumulativeRevenueA['orders']/cumulativeRevenueA['visitors'], label='A')\n",
    "plt.plot(cumulativeRevenueB['date'], cumulativeRevenueB['orders']/cumulativeRevenueB['visitors'], label='B')\n",
    "plt.xlabel('Дата')\n",
    "plt.ylabel('Количество заказов')\n",
    "plt.title('Кумулятивное среднее количество заказов по группам')\n",
    "plt.legend()\n",
    "plt.grid()\n",
    "plt.show()"
   ]
  },
  {
   "cell_type": "markdown",
   "metadata": {},
   "source": [
    "Среднее количество заказов примерно со второй недели наблюдений относительно стабилизировалось, в группе В среднее количество заказов стабильно больше, чем в группе А.\\\n",
    "Таким образом, в наблюдаемый период времени в данных группах, скорее всего, не было аномального увеличения количества заказов, а на скачки выручки повлияли только выбросы в величине среднего чека."
   ]
  },
  {
   "cell_type": "markdown",
   "metadata": {},
   "source": [
    "### Относительное изменение кумулятивного среднего количества заказов группы B к группе A"
   ]
  },
  {
   "cell_type": "markdown",
   "metadata": {},
   "source": [
    "Для того, чтобы построить график относительного изменения кумулятивного среднего количества заказов группы B к группе A, воспользуемся объединенным ранее дата-фреймом."
   ]
  },
  {
   "cell_type": "code",
   "execution_count": 18,
   "metadata": {},
   "outputs": [
    {
     "data": {
      "image/png": "[encoded data removed]",
      "text/plain": [
       "<Figure size 720x360 with 1 Axes>"
      ]
     },
     "metadata": {
      "needs_background": "light"
     },
     "output_type": "display_data"
    }
   ],
   "source": [
    "plt.figure(figsize=(10, 5))\n",
    "plt.plot(mergedCumulativeRevenue['date'], (mergedCumulativeRevenue['ordersB']/mergedCumulativeRevenue['visitorsB'])/(mergedCumulativeRevenue['ordersA']/mergedCumulativeRevenue['visitorsA'])-1)\n",
    "plt.grid()\n",
    "plt.xlabel('Дата')\n",
    "plt.ylabel('Отношение количества заказов')\n",
    "plt.title('Относительное изменение кумулятивного среднего количества заказов')\n",
    "# добавим ось X\n",
    "plt.axhline(y=0, color='black', linestyle='--') \n",
    "plt.show()"
   ]
  },
  {
   "cell_type": "markdown",
   "metadata": {},
   "source": [
    "График подтверждает предыдущий вывод. Со второй недели наблюдений среднее количество заказов в группе В примерно на 15-20% больше, чем в группе А. "
   ]
  },
  {
   "cell_type": "markdown",
   "metadata": {},
   "source": [
    "### Точечный график количества заказов по пользователям"
   ]
  },
  {
   "cell_type": "markdown",
   "metadata": {},
   "source": [
    "Чтобы оценить количество заказов в разрезе пользователей, сгруппируем исходные данные по пользователям и найдем количество уникальных заказов для каждого."
   ]
  },
  {
   "cell_type": "code",
   "execution_count": 19,
   "metadata": {},
   "outputs": [
    {
     "data": {
      "image/png": "[encoded data removed]",
      "text/plain": [
       "<Figure size 432x288 with 1 Axes>"
      ]
     },
     "metadata": {
      "needs_background": "light"
     },
     "output_type": "display_data"
    }
   ],
   "source": [
    "ordersByUsers = orders.groupby('visitorId', as_index= False).agg({'transactionId': 'nunique'})\n",
    "ordersByUsers.columns = ['userId', 'orders']\n",
    "# построим точечный график\n",
    "x_values = pd.Series(range(0, len(ordersByUsers)))\n",
    "plt.scatter(x_values, ordersByUsers['orders'])\n",
    "plt.xlabel('Номер наблюдения')\n",
    "plt.ylabel('Количество заказов на пользователя')\n",
    "plt.title('Количество заказов по пользователям')\n",
    "plt.show()"
   ]
  },
  {
   "cell_type": "markdown",
   "metadata": {},
   "source": [
    "Большинство пользователей совершили по 1 заказу, но есть и такие, у кого было 2-3 заказа."
   ]
  },
  {
   "cell_type": "markdown",
   "metadata": {},
   "source": [
    "### Перцентили количества заказов на пользователя"
   ]
  },
  {
   "cell_type": "markdown",
   "metadata": {},
   "source": [
    "Чтобы понять, какие заказы считать аномальными, посчитаем 95-й и 99-й перцентили распределения."
   ]
  },
  {
   "cell_type": "code",
   "execution_count": 20,
   "metadata": {},
   "outputs": [
    {
     "name": "stdout",
     "output_type": "stream",
     "text": [
      "[1. 2.]\n"
     ]
    }
   ],
   "source": [
    "print(np.percentile(ordersByUsers['orders'], [95, 99]))"
   ]
  },
  {
   "cell_type": "markdown",
   "metadata": {},
   "source": [
    "Таким образом, только 1% пользователей совершили 2 покупки и более. Если мы исключим их, это не повлияет на результат анализа, но очистит данные от выбросов."
   ]
  },
  {
   "cell_type": "markdown",
   "metadata": {},
   "source": [
    "### Точечный график стоимостей заказов"
   ]
  },
  {
   "cell_type": "markdown",
   "metadata": {},
   "source": [
    "Аналогичным образом построим точечный график стоимостей заказов"
   ]
  },
  {
   "cell_type": "code",
   "execution_count": 21,
   "metadata": {},
   "outputs": [
    {
     "data": {
      "image/png": "[encoded data removed]",
      "text/plain": [
       "<Figure size 432x288 with 1 Axes>"
      ]
     },
     "metadata": {
      "needs_background": "light"
     },
     "output_type": "display_data"
    }
   ],
   "source": [
    "x_values = pd.Series(range(0, len(orders['revenue'])))\n",
    "plt.scatter(x_values, orders['revenue'])\n",
    "plt.xlabel('Номер наблюдения')\n",
    "plt.ylabel('Стоимость заказа')\n",
    "plt.title('Стоимость заказа')\n",
    "plt.show()"
   ]
  },
  {
   "cell_type": "markdown",
   "metadata": {},
   "source": [
    "Большинство заказов совершено на сумму до 100 000, но есть один аномально большой заказ, в 10 раз превышающий норму."
   ]
  },
  {
   "cell_type": "markdown",
   "metadata": {},
   "source": [
    "Чтобы рассмотреть основную часть заказов изменим масштаб графика."
   ]
  },
  {
   "cell_type": "code",
   "execution_count": 22,
   "metadata": {},
   "outputs": [
    {
     "data": {
      "image/png": "[encoded data removed]",
      "text/plain": [
       "<Figure size 432x288 with 1 Axes>"
      ]
     },
     "metadata": {
      "needs_background": "light"
     },
     "output_type": "display_data"
    }
   ],
   "source": [
    "plt.scatter(x_values, orders['revenue'])\n",
    "plt.axis([0, len(orders['revenue']), 0, 100000]) \n",
    "plt.xlabel('Номер наблюдения')\n",
    "plt.ylabel('Стоимость заказа')\n",
    "plt.title('Стоимость заказа')\n",
    "plt.show()"
   ]
  },
  {
   "cell_type": "markdown",
   "metadata": {},
   "source": [
    "### Перцентили стоимости заказов"
   ]
  },
  {
   "cell_type": "markdown",
   "metadata": {},
   "source": [
    "Чтобы понять, какие заказы можно исключить из анализа, посчитаем 95-й и 99-й перцентили."
   ]
  },
  {
   "cell_type": "code",
   "execution_count": 23,
   "metadata": {},
   "outputs": [
    {
     "name": "stdout",
     "output_type": "stream",
     "text": [
      "[26785. 53904.]\n"
     ]
    }
   ],
   "source": [
    "print(np.percentile(orders['revenue'], [95, 99]))"
   ]
  },
  {
   "cell_type": "markdown",
   "metadata": {},
   "source": [
    "Не более 5% заказов совершены на сумму 27000 и выше и не более 1% заказов на сумму выше 54000. Таким образом, если мы ограничим выборку по уровню 30000, это поможет отфильтровать выбросы и не скажется на результате теста."
   ]
  },
  {
   "cell_type": "markdown",
   "metadata": {},
   "source": [
    "###  Статистическая значимость различий в среднем количестве заказов между группами по «сырым» данным"
   ]
  },
  {
   "cell_type": "markdown",
   "metadata": {},
   "source": [
    "Сначала определим статистическую значимость различий между группами по исходным данным, а затем сравним результат с отфильтрованными данными.\\\n",
    "Сначала сравним по среднему количеству заказов."
   ]
  },
  {
   "cell_type": "markdown",
   "metadata": {},
   "source": [
    "Прежде всего подготовим данные."
   ]
  },
  {
   "cell_type": "code",
   "execution_count": 24,
   "metadata": {},
   "outputs": [],
   "source": [
    "# количество посетителей в группе А по дням \n",
    "visitorsADaily = visitors[visitors['group'] == 'A'][['date', 'visitors']]\n",
    "visitorsADaily.columns = ['date', 'visitorsPerDateA']\n",
    "# количество посетителей в группе А с накоплением\n",
    "visitorsACummulative = visitorsADaily.apply(\n",
    "    lambda x: visitorsADaily[visitorsADaily['date'] <= x['date']].agg(\n",
    "        {'date': 'max', 'visitorsPerDateA': 'sum'}\n",
    "    ),\n",
    "    axis=1,\n",
    ")\n",
    "visitorsACummulative.columns = ['date', 'visitorsCummulativeA']\n",
    "# количество посетителей в группе В по дням \n",
    "visitorsBDaily = visitors[visitors['group'] == 'B'][['date', 'visitors']]\n",
    "visitorsBDaily.columns = ['date', 'visitorsPerDateB']\n",
    "# количество посетителей в группе В с накоплением\n",
    "visitorsBCummulative = visitorsBDaily.apply(\n",
    "    lambda x: visitorsBDaily[visitorsBDaily['date'] <= x['date']].agg(\n",
    "        {'date': 'max', 'visitorsPerDateB': 'sum'}\n",
    "    ),\n",
    "    axis=1,\n",
    ")\n",
    "visitorsBCummulative.columns = ['date', 'visitorsCummulativeB']\n",
    "# заказы в группе А по дням \n",
    "ordersADaily = (\n",
    "    orders[orders['group'] == 'A'][['date', 'transactionId', 'visitorId', 'revenue']]\n",
    "    .groupby('date', as_index=False)\n",
    "    .agg({'transactionId': pd.Series.nunique, 'revenue': 'sum'})\n",
    ")\n",
    "ordersADaily.columns = ['date', 'ordersPerDateA', 'revenuePerDateA']\n",
    "# заказы в группе А с накоплением\n",
    "ordersACummulative = ordersADaily.apply(\n",
    "    lambda x: ordersADaily[ordersADaily['date'] <= x['date']].agg(\n",
    "        {'date': 'max', 'ordersPerDateA': 'sum', 'revenuePerDateA': 'sum'}\n",
    "    ),\n",
    "    axis=1,\n",
    ").sort_values(by=['date'])\n",
    "ordersACummulative.columns = ['date', 'ordersCummulativeA', 'revenueCummulativeA']\n",
    "# заказы в группе В по дням\n",
    "ordersBDaily = (\n",
    "    orders[orders['group'] == 'B'][['date', 'transactionId', 'visitorId', 'revenue']]\n",
    "    .groupby('date', as_index=False)\n",
    "    .agg({'transactionId': pd.Series.nunique, 'revenue': 'sum'})\n",
    ")\n",
    "ordersBDaily.columns = ['date', 'ordersPerDateB', 'revenuePerDateB']\n",
    "# заказы в группе В с накоплением\n",
    "ordersBCummulative = ordersBDaily.apply(\n",
    "    lambda x: ordersBDaily[ordersBDaily['date'] <= x['date']].agg(\n",
    "        {'date': 'max', 'ordersPerDateB': 'sum', 'revenuePerDateB': 'sum'}\n",
    "    ),\n",
    "    axis=1,\n",
    ").sort_values(by=['date'])\n",
    "ordersBCummulative.columns = ['date', 'ordersCummulativeB', 'revenueCummulativeB']\n",
    "# соединим все в один общий дата-фрейм\n",
    "data = (\n",
    "    ordersADaily.merge(\n",
    "        ordersBDaily, left_on='date', right_on='date', how='left'\n",
    "    )\n",
    "    .merge(ordersACummulative, left_on='date', right_on='date', how='left')\n",
    "    .merge(ordersBCummulative, left_on='date', right_on='date', how='left')\n",
    "    .merge(visitorsADaily, left_on='date', right_on='date', how='left')\n",
    "    .merge(visitorsBDaily, left_on='date', right_on='date', how='left')\n",
    "    .merge(visitorsACummulative, left_on='date', right_on='date', how='left')\n",
    "    .merge(visitorsBCummulative, left_on='date', right_on='date', how='left')\n",
    ")\n"
   ]
  },
  {
   "cell_type": "markdown",
   "metadata": {},
   "source": [
    "Аналогично созданному ранее дата-фрейму ordersByUsers, создадим два отдельных по группам теста."
   ]
  },
  {
   "cell_type": "code",
   "execution_count": 25,
   "metadata": {},
   "outputs": [],
   "source": [
    "# группа А\n",
    "ordersByUsersA = orders[orders['group'] == 'A'].groupby('visitorId', as_index= False).agg({'transactionId': 'nunique'})\n",
    "ordersByUsersA.columns = ['userId', 'orders']\n",
    "# группа В\n",
    "ordersByUsersB = orders[orders['group'] == 'B'].groupby('visitorId', as_index= False).agg({'transactionId': 'nunique'})\n",
    "ordersByUsersB.columns = ['userId', 'orders']"
   ]
  },
  {
   "cell_type": "markdown",
   "metadata": {},
   "source": [
    "Создадим списки sampleA и sampleB, в которых пользователям из разных групп будет соответствовать количество заказов. Тем, кто ничего не заказал, будут соответствовать нули."
   ]
  },
  {
   "cell_type": "code",
   "execution_count": 26,
   "metadata": {},
   "outputs": [],
   "source": [
    "sampleA = pd.concat([ordersByUsersA['orders'],pd.Series(0, index=np.arange(data['visitorsPerDateA'].sum() - len(ordersByUsersA['orders'])), name='orders')],axis=0)\n",
    "sampleB = pd.concat([ordersByUsersB['orders'],pd.Series(0, index=np.arange(data['visitorsPerDateB'].sum() - len(ordersByUsersB['orders'])), name='orders')],axis=0)"
   ]
  },
  {
   "cell_type": "markdown",
   "metadata": {},
   "source": [
    "Статистическую значимость различия среднего количества заказов по результатам теста определим с помощью критерия Манна-Уитни.\n",
    "\n",
    "Для этого сформулируем гипотезы. Нулевой гипотезой будем считать: различий в среднем количестве заказов между группами нет. Тогда альтернативная гипотеза: различия в среднем между группами есть.\n",
    "\n",
    "Применим критерий"
   ]
  },
  {
   "cell_type": "code",
   "execution_count": 27,
   "metadata": {},
   "outputs": [
    {
     "name": "stdout",
     "output_type": "stream",
     "text": [
      "Значение p-value: 0.011\n"
     ]
    }
   ],
   "source": [
    "print(\"Значение p-value: {0:.3f}\".format(stats.mannwhitneyu(sampleA, sampleB)[1]))"
   ]
  },
  {
   "cell_type": "markdown",
   "metadata": {},
   "source": [
    "Значение p-value меньше 5%, значит, мы должны отвергнуть нулевую гипотезу о том, что различий в среднем количестве заказов между группами нет. Проверим также относительный прирост среднего числа заказов группы B по отношению к группе А."
   ]
  },
  {
   "cell_type": "code",
   "execution_count": 28,
   "metadata": {},
   "outputs": [
    {
     "name": "stdout",
     "output_type": "stream",
     "text": [
      "Прирост среднего числа заказов: 0.160\n"
     ]
    }
   ],
   "source": [
    "print(\"Прирост среднего числа заказов: {0:.3f}\".format(sampleB.mean() / sampleA.mean() - 1))"
   ]
  },
  {
   "cell_type": "markdown",
   "metadata": {},
   "source": [
    "Прирост среднего числа заказов в группе В по сравнению с группой А составляет 16%. Неплохой результат."
   ]
  },
  {
   "cell_type": "markdown",
   "metadata": {},
   "source": [
    "Т.о. мы подтвердили сделанный ранее по графикам кумулятивного среднего количества заказов вывод о том, что количество заказов в группе В больше, чем в группе А."
   ]
  },
  {
   "cell_type": "markdown",
   "metadata": {},
   "source": [
    "### Статистическая значимость различий в среднем чеке заказа между группами по «сырым» данным"
   ]
  },
  {
   "cell_type": "markdown",
   "metadata": {},
   "source": [
    "Аналогичным образом определим статистическую значимость различий в среднем чеке заказа.\n",
    "\n",
    "Сформулируем гипотезы. Нулевая: различий в среднем чеке заказа между группами нет, альтернативная: различия в среднем между группами есть."
   ]
  },
  {
   "cell_type": "code",
   "execution_count": 29,
   "metadata": {},
   "outputs": [
    {
     "name": "stdout",
     "output_type": "stream",
     "text": [
      "Значение p-value: 0.829\n",
      "Прирост среднего чека: 0.287\n"
     ]
    }
   ],
   "source": [
    "print('Значение p-value: {0:.3f}'.format(stats.mannwhitneyu(orders[orders['group']=='A']['revenue'], orders[orders['group']=='B']['revenue'])[1]))\n",
    "print('Прирост среднего чека: {0:.3f}'.format(orders[orders['group']=='B']['revenue'].mean()/orders[orders['group']=='A']['revenue'].mean()-1)) "
   ]
  },
  {
   "cell_type": "markdown",
   "metadata": {},
   "source": [
    "Значение p-value существенно больше 5%, значит, мы не можем отвергнуть нулевую гипотезу об отсутствии различий в средних чеках в двух группах. При этом средний чек группы В почти на 29% превышает средний чек группы А. Здесь стоит вспомнить об аномально большом заказе, который повлиял на расчет среднего чека.\n",
    "\n",
    "Следующим шагом рассчитаем статистическую значимость различий по отфильтрованным данным."
   ]
  },
  {
   "cell_type": "markdown",
   "metadata": {},
   "source": [
    "### Статистическая значимость различий в среднем количестве заказов между группами по «очищенным» данным"
   ]
  },
  {
   "cell_type": "markdown",
   "metadata": {},
   "source": [
    "Ограничим выборку, отфильтровав пользователей, совершивших слишком много заказов или слишком дорогие заказы. В качестве границы используем 95-й перцентиль по количеству заказов и стоимости.\\\n",
    "Сформируем соответствующие срезы, определим идентификаторы пользователей и объединим их в общий список аномальных пользователей."
   ]
  },
  {
   "cell_type": "code",
   "execution_count": 30,
   "metadata": {},
   "outputs": [],
   "source": [
    "usersWithManyOrders = ordersByUsers[ordersByUsers['orders'] > np.percentile(ordersByUsers['orders'], 95)]['userId']\n",
    "usersWithExpensiveOrders = orders[orders['revenue'] > np.percentile(orders['revenue'], 95)]['visitorId']\n",
    "\n",
    "abnormalUsers = (\n",
    "    pd.concat([usersWithManyOrders, usersWithExpensiveOrders], axis=0)\n",
    "    .drop_duplicates()\n",
    "    .sort_values()\n",
    ")"
   ]
  },
  {
   "cell_type": "markdown",
   "metadata": {},
   "source": [
    "Подготовим выборки количества заказов по пользователям по группам теста."
   ]
  },
  {
   "cell_type": "code",
   "execution_count": 31,
   "metadata": {},
   "outputs": [],
   "source": [
    "sampleAFiltered = pd.concat(\n",
    "    [\n",
    "        ordersByUsersA[np.logical_not(ordersByUsersA['userId'].isin(abnormalUsers))]['orders'],\n",
    "        pd.Series(0, index=np.arange(data['visitorsPerDateA'].sum() - len(ordersByUsersA['orders'])), name='orders'),\n",
    "    ],\n",
    "    axis=0,\n",
    ")\n",
    "\n",
    "sampleBFiltered = pd.concat(\n",
    "    [\n",
    "        ordersByUsersB[np.logical_not(ordersByUsersB['userId'].isin(abnormalUsers))]['orders'],\n",
    "        pd.Series(0, index=np.arange(data['visitorsPerDateB'].sum() - len(ordersByUsersB['orders'])), name='orders'),\n",
    "    ],\n",
    "    axis=0,\n",
    ") "
   ]
  },
  {
   "cell_type": "markdown",
   "metadata": {},
   "source": [
    "И применим к этим выборкам статистический критерий Манна-Уитни. Гипотезы сформулированы аналогичным образом."
   ]
  },
  {
   "cell_type": "code",
   "execution_count": 32,
   "metadata": {},
   "outputs": [
    {
     "name": "stdout",
     "output_type": "stream",
     "text": [
      "Значение p-value: 0.016\n",
      "Прирост среднего числа заказов: 0.174\n"
     ]
    }
   ],
   "source": [
    "print(\"Значение p-value: {0:.3f}\".format(stats.mannwhitneyu(sampleAFiltered, sampleBFiltered)[1]))\n",
    "print(\"Прирост среднего числа заказов: {0:.3f}\".format(sampleBFiltered.mean() / sampleAFiltered.mean() - 1))"
   ]
  },
  {
   "cell_type": "markdown",
   "metadata": {},
   "source": [
    "Результат сравнения по количеству заказов для очищенных данных изменился несущественно. Оба значения чуть увеличились, но это не изменило выводов.\n",
    "\n",
    "Таким образом тест подтвердил, что количество заказов в группе В в среднем увеличилось на 17% по сравнению с группой А."
   ]
  },
  {
   "cell_type": "markdown",
   "metadata": {},
   "source": [
    "### Статистическая значимость различий в среднем чеке заказа между группами по «очищенным» данным"
   ]
  },
  {
   "cell_type": "markdown",
   "metadata": {},
   "source": [
    "Аналогично определим статистическую значимость различий в среднем чеке заказа для отфильтрованных данных."
   ]
  },
  {
   "cell_type": "code",
   "execution_count": 33,
   "metadata": {},
   "outputs": [
    {
     "name": "stdout",
     "output_type": "stream",
     "text": [
      "Значение p-value: 0.727\n",
      "Прирост среднего чека: -0.034\n"
     ]
    }
   ],
   "source": [
    "\n",
    "print(\n",
    "    'Значение p-value: {0:.3f}'.format(\n",
    "        stats.mannwhitneyu(\n",
    "            orders[\n",
    "                np.logical_and(\n",
    "                    orders['group'] == 'A',\n",
    "                    np.logical_not(orders['visitorId'].isin(abnormalUsers)),\n",
    "                )\n",
    "            ]['revenue'],\n",
    "            orders[\n",
    "                np.logical_and(\n",
    "                    orders['group'] == 'B',\n",
    "                    np.logical_not(orders['visitorId'].isin(abnormalUsers)),\n",
    "                )\n",
    "            ]['revenue'],\n",
    "        )[1]\n",
    "    )\n",
    ")\n",
    "\n",
    "print(\n",
    "    \"Прирост среднего чека: {0:.3f}\".format(\n",
    "        orders[\n",
    "            np.logical_and(\n",
    "                orders['group'] == 'B',\n",
    "                np.logical_not(orders['visitorId'].isin(abnormalUsers)),\n",
    "            )\n",
    "        ]['revenue'].mean()\n",
    "        / orders[\n",
    "            np.logical_and(\n",
    "                orders['group'] == 'A',\n",
    "                np.logical_not(orders['visitorId'].isin(abnormalUsers)),\n",
    "            )\n",
    "        ]['revenue'].mean()\n",
    "        - 1\n",
    "    )\n",
    ") "
   ]
  },
  {
   "cell_type": "markdown",
   "metadata": {},
   "source": [
    "После фильтрации аномальных значений p-value незначительно уменьшился, при этом относительный прирост среднего чека в группе В уменьшился настолько, что стал отрицательным. Таким образом, средний чек в группе В уменьшился по сравнению с исходным на 3%. В целом уровень p-value показывает нам, что статистически значимого различия в размере среднего чека в двух группах нет."
   ]
  },
  {
   "cell_type": "markdown",
   "metadata": {},
   "source": [
    "## Вывод"
   ]
  },
  {
   "cell_type": "markdown",
   "metadata": {},
   "source": [
    "**В первой части** данной работы была проведена приоритизация гипотез двумя методами с целью выявления наиболее перспективных гипотез, подлежащих проверке в первую очередь. Два метода дали различные результаты за счет того, что разные гипотезы охватывают разное количество пользователей. Наиболее точный результат с учетом охвата пользовательской аудитории дал метод RICE. Таким образом, для проверки была выбрана гипотеза 7 \"Добавить форму подписки на все основные страницы, чтобы собрать базу клиентов для email-рассылок\"\n",
    "\n",
    "**Во второй части** работы выполнен анализ результатов проведенного А/В-теста:\n",
    "- исключены из анализа пользователи, попавшие сразу в две группы наблюдений,\n",
    "- построены графики кумулятивных показателей (выручка, средний чек, количество заказов) по группам,\n",
    "- выявлены пользователи, совершившие аномально большое количество заказов (2 заказа и более) или аномально дорогие заказы (более 30 000 руб), которые оказывают влияние на анализ результатов теста,\n",
    "- рассчитана статистическая значимость различий в среднем количестве заказов и в среднем чеке между двумя группами по сырым данным и по отфильтрованным.\n",
    "\n",
    "**В целом** по результатам проведенного анализа результатов теста можно заключить следующее:\n",
    "- нет статистически значимого различия по среднему чеку между группами,\n",
    "- есть статистически значимые различия по среднему количеству заказов между группами. Испытуемая группа В имеет лучшие показатели на 17%,\n",
    "- график относительного различия среднего количества заказов ко второй неделе теста стабилизировался и также показывает лучшие результаты для группы В,\n",
    "\n",
    "Исходя из обнаруженных фактов, тест следует остановить и зафиксировать победу группы В. Сегмент B лучше сегмента A по количеству заказов в среднем на 17%."
   ]
  }
 ],
 "metadata": {
  "ExecuteTimeLog": [
   {
    "duration": 47,
    "start_time": "2022-10-22T21:03:14.111Z"
   },
   {
    "duration": 1272,
    "start_time": "2022-10-22T21:03:16.690Z"
   },
   {
    "duration": 84,
    "start_time": "2022-10-22T21:03:17.964Z"
   },
   {
    "duration": 34,
    "start_time": "2022-10-22T21:03:28.352Z"
   },
   {
    "duration": 1200,
    "start_time": "2022-10-23T19:28:25.873Z"
   },
   {
    "duration": 41,
    "start_time": "2022-10-23T19:28:27.075Z"
   },
   {
    "duration": 10,
    "start_time": "2022-10-23T19:28:27.118Z"
   },
   {
    "duration": 11,
    "start_time": "2022-10-23T19:29:02.272Z"
   },
   {
    "duration": 5,
    "start_time": "2022-10-23T19:29:53.781Z"
   },
   {
    "duration": 5,
    "start_time": "2022-10-23T19:30:05.112Z"
   },
   {
    "duration": 13,
    "start_time": "2022-10-23T19:35:39.026Z"
   },
   {
    "duration": 12,
    "start_time": "2022-10-23T19:36:01.132Z"
   },
   {
    "duration": 63,
    "start_time": "2022-10-23T20:40:40.171Z"
   },
   {
    "duration": 10,
    "start_time": "2022-10-23T20:41:03.351Z"
   },
   {
    "duration": 35,
    "start_time": "2022-10-23T20:45:35.979Z"
   },
   {
    "duration": 36,
    "start_time": "2022-10-23T20:45:55.091Z"
   },
   {
    "duration": 37,
    "start_time": "2022-10-23T20:46:39.151Z"
   },
   {
    "duration": 36,
    "start_time": "2022-10-23T20:46:54.591Z"
   },
   {
    "duration": 37,
    "start_time": "2022-10-23T20:47:50.171Z"
   },
   {
    "duration": 80,
    "start_time": "2022-10-23T20:48:48.591Z"
   },
   {
    "duration": 55,
    "start_time": "2022-10-23T20:49:38.891Z"
   },
   {
    "duration": 56,
    "start_time": "2022-10-23T20:50:07.832Z"
   },
   {
    "duration": 43,
    "start_time": "2022-10-23T20:51:04.271Z"
   },
   {
    "duration": 54,
    "start_time": "2022-10-23T20:51:18.331Z"
   },
   {
    "duration": 55,
    "start_time": "2022-10-23T20:51:50.392Z"
   },
   {
    "duration": 58,
    "start_time": "2022-10-23T20:52:53.392Z"
   },
   {
    "duration": 4,
    "start_time": "2022-10-23T20:54:24.659Z"
   },
   {
    "duration": 4,
    "start_time": "2022-10-23T20:54:33.814Z"
   },
   {
    "duration": 14,
    "start_time": "2022-10-23T21:00:09.292Z"
   },
   {
    "duration": 12,
    "start_time": "2022-10-23T21:00:28.911Z"
   },
   {
    "duration": 6,
    "start_time": "2022-10-23T21:01:11.191Z"
   },
   {
    "duration": 299,
    "start_time": "2022-10-23T21:29:49.833Z"
   },
   {
    "duration": 278,
    "start_time": "2022-10-23T21:32:31.332Z"
   },
   {
    "duration": 230,
    "start_time": "2022-10-23T21:32:49.972Z"
   },
   {
    "duration": 109,
    "start_time": "2022-10-23T21:33:36.071Z"
   },
   {
    "duration": 181,
    "start_time": "2022-10-23T21:34:02.452Z"
   },
   {
    "duration": 201,
    "start_time": "2022-10-23T21:34:25.711Z"
   },
   {
    "duration": 178,
    "start_time": "2022-10-23T21:34:36.791Z"
   },
   {
    "duration": 163,
    "start_time": "2022-10-23T21:34:42.230Z"
   },
   {
    "duration": 190,
    "start_time": "2022-10-23T21:35:02.992Z"
   },
   {
    "duration": 246,
    "start_time": "2022-10-23T21:49:15.471Z"
   },
   {
    "duration": 1274,
    "start_time": "2022-10-24T13:05:56.735Z"
   },
   {
    "duration": 85,
    "start_time": "2022-10-24T13:05:58.011Z"
   },
   {
    "duration": 11,
    "start_time": "2022-10-24T13:05:58.098Z"
   },
   {
    "duration": 5,
    "start_time": "2022-10-24T13:05:58.111Z"
   },
   {
    "duration": 18,
    "start_time": "2022-10-24T13:05:58.118Z"
   },
   {
    "duration": 183,
    "start_time": "2022-10-24T13:05:58.137Z"
   },
   {
    "duration": 5,
    "start_time": "2022-10-24T13:05:58.321Z"
   },
   {
    "duration": 262,
    "start_time": "2022-10-24T13:05:58.327Z"
   },
   {
    "duration": 244,
    "start_time": "2022-10-24T13:05:58.590Z"
   },
   {
    "duration": 172,
    "start_time": "2022-10-24T13:05:58.836Z"
   },
   {
    "duration": 298,
    "start_time": "2022-10-24T13:05:59.010Z"
   },
   {
    "duration": 276,
    "start_time": "2022-10-24T13:06:55.707Z"
   },
   {
    "duration": 280,
    "start_time": "2022-10-24T13:07:03.108Z"
   },
   {
    "duration": 167,
    "start_time": "2022-10-24T13:34:33.466Z"
   },
   {
    "duration": 85,
    "start_time": "2022-10-24T13:55:45.495Z"
   },
   {
    "duration": 260,
    "start_time": "2022-10-24T13:55:56.026Z"
   },
   {
    "duration": 87,
    "start_time": "2022-10-24T14:17:55.532Z"
   },
   {
    "duration": 175,
    "start_time": "2022-10-24T14:18:17.757Z"
   },
   {
    "duration": 4,
    "start_time": "2022-10-24T14:24:50.025Z"
   },
   {
    "duration": 5,
    "start_time": "2022-10-24T14:24:59.174Z"
   },
   {
    "duration": 5,
    "start_time": "2022-10-24T14:25:02.105Z"
   },
   {
    "duration": 4,
    "start_time": "2022-10-24T14:25:40.386Z"
   },
   {
    "duration": 5,
    "start_time": "2022-10-24T14:40:15.867Z"
   },
   {
    "duration": 53,
    "start_time": "2022-10-24T17:37:32.978Z"
   },
   {
    "duration": 1229,
    "start_time": "2022-10-24T17:37:42.759Z"
   },
   {
    "duration": 80,
    "start_time": "2022-10-24T17:37:43.991Z"
   },
   {
    "duration": 12,
    "start_time": "2022-10-24T17:37:44.072Z"
   },
   {
    "duration": 4,
    "start_time": "2022-10-24T17:37:44.085Z"
   },
   {
    "duration": 12,
    "start_time": "2022-10-24T17:37:44.091Z"
   },
   {
    "duration": 183,
    "start_time": "2022-10-24T17:37:44.104Z"
   },
   {
    "duration": 5,
    "start_time": "2022-10-24T17:37:44.288Z"
   },
   {
    "duration": 297,
    "start_time": "2022-10-24T17:37:44.295Z"
   },
   {
    "duration": 278,
    "start_time": "2022-10-24T17:37:44.594Z"
   },
   {
    "duration": 199,
    "start_time": "2022-10-24T17:37:44.874Z"
   },
   {
    "duration": 354,
    "start_time": "2022-10-24T17:37:45.075Z"
   },
   {
    "duration": 193,
    "start_time": "2022-10-24T17:37:45.431Z"
   },
   {
    "duration": 286,
    "start_time": "2022-10-24T17:37:45.625Z"
   },
   {
    "duration": 126,
    "start_time": "2022-10-24T17:37:45.914Z"
   },
   {
    "duration": 4,
    "start_time": "2022-10-24T17:37:46.042Z"
   },
   {
    "duration": 144,
    "start_time": "2022-10-24T17:37:46.048Z"
   },
   {
    "duration": 4,
    "start_time": "2022-10-24T17:46:09.099Z"
   },
   {
    "duration": 4,
    "start_time": "2022-10-24T17:46:25.719Z"
   },
   {
    "duration": 4,
    "start_time": "2022-10-24T18:14:08.398Z"
   },
   {
    "duration": 1279,
    "start_time": "2022-10-24T18:14:19.958Z"
   },
   {
    "duration": 11,
    "start_time": "2022-10-24T18:18:27.179Z"
   },
   {
    "duration": 12,
    "start_time": "2022-10-24T18:21:49.665Z"
   },
   {
    "duration": 276,
    "start_time": "2022-10-24T18:37:29.889Z"
   },
   {
    "duration": 15,
    "start_time": "2022-10-24T18:38:23.999Z"
   },
   {
    "duration": 8,
    "start_time": "2022-10-24T18:38:28.179Z"
   },
   {
    "duration": 9,
    "start_time": "2022-10-24T18:44:07.759Z"
   },
   {
    "duration": 3,
    "start_time": "2022-10-24T18:44:49.718Z"
   },
   {
    "duration": 36,
    "start_time": "2022-10-24T18:44:49.742Z"
   },
   {
    "duration": 19,
    "start_time": "2022-10-24T18:44:49.781Z"
   },
   {
    "duration": 6,
    "start_time": "2022-10-24T18:44:49.803Z"
   },
   {
    "duration": 16,
    "start_time": "2022-10-24T18:44:49.811Z"
   },
   {
    "duration": 86,
    "start_time": "2022-10-24T18:44:49.831Z"
   },
   {
    "duration": 6,
    "start_time": "2022-10-24T18:44:49.918Z"
   },
   {
    "duration": 327,
    "start_time": "2022-10-24T18:44:49.925Z"
   },
   {
    "duration": 221,
    "start_time": "2022-10-24T18:44:50.253Z"
   },
   {
    "duration": 243,
    "start_time": "2022-10-24T18:44:50.477Z"
   },
   {
    "duration": 309,
    "start_time": "2022-10-24T18:44:50.722Z"
   },
   {
    "duration": 295,
    "start_time": "2022-10-24T18:44:51.034Z"
   },
   {
    "duration": 317,
    "start_time": "2022-10-24T18:44:51.332Z"
   },
   {
    "duration": 159,
    "start_time": "2022-10-24T18:44:51.651Z"
   },
   {
    "duration": 5,
    "start_time": "2022-10-24T18:44:51.813Z"
   },
   {
    "duration": 175,
    "start_time": "2022-10-24T18:44:51.820Z"
   },
   {
    "duration": 5,
    "start_time": "2022-10-24T18:44:51.996Z"
   },
   {
    "duration": 249,
    "start_time": "2022-10-24T18:44:52.003Z"
   },
   {
    "duration": 18,
    "start_time": "2022-10-24T18:44:52.254Z"
   },
   {
    "duration": 24,
    "start_time": "2022-10-24T18:44:52.274Z"
   },
   {
    "duration": 25,
    "start_time": "2022-10-24T18:44:52.301Z"
   },
   {
    "duration": 4,
    "start_time": "2022-10-24T19:21:29.199Z"
   },
   {
    "duration": 21,
    "start_time": "2022-10-24T19:28:15.660Z"
   },
   {
    "duration": 11,
    "start_time": "2022-10-24T19:30:02.879Z"
   },
   {
    "duration": 19,
    "start_time": "2022-10-24T19:51:40.688Z"
   },
   {
    "duration": 1153,
    "start_time": "2022-10-24T19:51:46.739Z"
   },
   {
    "duration": 7,
    "start_time": "2022-10-24T19:52:26.868Z"
   },
   {
    "duration": 10,
    "start_time": "2022-10-24T19:52:29.402Z"
   },
   {
    "duration": 13,
    "start_time": "2022-10-24T19:53:35.215Z"
   },
   {
    "duration": 27,
    "start_time": "2022-10-24T19:55:53.919Z"
   },
   {
    "duration": 24,
    "start_time": "2022-10-24T19:56:23.609Z"
   },
   {
    "duration": 1203,
    "start_time": "2022-10-24T20:05:32.822Z"
   },
   {
    "duration": 14,
    "start_time": "2022-10-24T20:06:54.680Z"
   },
   {
    "duration": 12,
    "start_time": "2022-10-24T20:07:34.251Z"
   },
   {
    "duration": 15,
    "start_time": "2022-10-24T20:08:09.279Z"
   },
   {
    "duration": 3,
    "start_time": "2022-10-24T20:44:02.919Z"
   },
   {
    "duration": 43,
    "start_time": "2022-10-24T20:44:02.924Z"
   },
   {
    "duration": 13,
    "start_time": "2022-10-24T20:44:02.969Z"
   },
   {
    "duration": 6,
    "start_time": "2022-10-24T20:44:02.984Z"
   },
   {
    "duration": 16,
    "start_time": "2022-10-24T20:44:02.993Z"
   },
   {
    "duration": 81,
    "start_time": "2022-10-24T20:44:03.011Z"
   },
   {
    "duration": 6,
    "start_time": "2022-10-24T20:44:03.093Z"
   },
   {
    "duration": 272,
    "start_time": "2022-10-24T20:44:03.100Z"
   },
   {
    "duration": 191,
    "start_time": "2022-10-24T20:44:03.373Z"
   },
   {
    "duration": 184,
    "start_time": "2022-10-24T20:44:03.569Z"
   },
   {
    "duration": 327,
    "start_time": "2022-10-24T20:44:03.754Z"
   },
   {
    "duration": 185,
    "start_time": "2022-10-24T20:44:04.090Z"
   },
   {
    "duration": 416,
    "start_time": "2022-10-24T20:44:04.277Z"
   },
   {
    "duration": 121,
    "start_time": "2022-10-24T20:44:04.695Z"
   },
   {
    "duration": 3,
    "start_time": "2022-10-24T20:44:04.818Z"
   },
   {
    "duration": 131,
    "start_time": "2022-10-24T20:44:04.823Z"
   },
   {
    "duration": 4,
    "start_time": "2022-10-24T20:44:04.956Z"
   },
   {
    "duration": 225,
    "start_time": "2022-10-24T20:44:04.962Z"
   },
   {
    "duration": 11,
    "start_time": "2022-10-24T20:44:05.191Z"
   },
   {
    "duration": 7,
    "start_time": "2022-10-24T20:44:05.203Z"
   },
   {
    "duration": 45,
    "start_time": "2022-10-24T20:44:05.211Z"
   },
   {
    "duration": 4,
    "start_time": "2022-10-24T20:44:05.257Z"
   },
   {
    "duration": 25,
    "start_time": "2022-10-24T20:44:05.263Z"
   },
   {
    "duration": 26,
    "start_time": "2022-10-24T20:44:05.291Z"
   },
   {
    "duration": 50,
    "start_time": "2022-10-24T20:44:05.318Z"
   },
   {
    "duration": 43,
    "start_time": "2022-10-24T20:44:05.371Z"
   },
   {
    "duration": 15,
    "start_time": "2022-10-24T20:44:05.416Z"
   },
   {
    "duration": 1015,
    "start_time": "2022-10-24T20:46:56.955Z"
   },
   {
    "duration": 92,
    "start_time": "2022-10-24T20:46:57.972Z"
   },
   {
    "duration": 14,
    "start_time": "2022-10-24T20:46:58.066Z"
   },
   {
    "duration": 10,
    "start_time": "2022-10-24T20:46:58.082Z"
   },
   {
    "duration": 18,
    "start_time": "2022-10-24T20:46:58.093Z"
   },
   {
    "duration": 83,
    "start_time": "2022-10-24T20:46:58.113Z"
   },
   {
    "duration": 6,
    "start_time": "2022-10-24T20:46:58.198Z"
   },
   {
    "duration": 301,
    "start_time": "2022-10-24T20:46:58.205Z"
   },
   {
    "duration": 261,
    "start_time": "2022-10-24T20:46:58.508Z"
   },
   {
    "duration": 178,
    "start_time": "2022-10-24T20:46:58.771Z"
   },
   {
    "duration": 290,
    "start_time": "2022-10-24T20:46:58.951Z"
   },
   {
    "duration": 186,
    "start_time": "2022-10-24T20:46:59.243Z"
   },
   {
    "duration": 278,
    "start_time": "2022-10-24T20:46:59.431Z"
   },
   {
    "duration": 122,
    "start_time": "2022-10-24T20:46:59.710Z"
   },
   {
    "duration": 4,
    "start_time": "2022-10-24T20:46:59.833Z"
   },
   {
    "duration": 134,
    "start_time": "2022-10-24T20:46:59.839Z"
   },
   {
    "duration": 4,
    "start_time": "2022-10-24T20:46:59.975Z"
   },
   {
    "duration": 225,
    "start_time": "2022-10-24T20:46:59.980Z"
   },
   {
    "duration": 11,
    "start_time": "2022-10-24T20:47:00.206Z"
   },
   {
    "duration": 14,
    "start_time": "2022-10-24T20:47:00.219Z"
   },
   {
    "duration": 33,
    "start_time": "2022-10-24T20:47:00.235Z"
   },
   {
    "duration": 4,
    "start_time": "2022-10-24T20:47:00.270Z"
   },
   {
    "duration": 27,
    "start_time": "2022-10-24T20:47:00.276Z"
   },
   {
    "duration": 12,
    "start_time": "2022-10-24T20:47:00.304Z"
   },
   {
    "duration": 19,
    "start_time": "2022-10-24T20:47:00.318Z"
   },
   {
    "duration": 45,
    "start_time": "2022-10-24T20:47:00.339Z"
   },
   {
    "duration": 14,
    "start_time": "2022-10-24T20:47:00.386Z"
   },
   {
    "duration": 1157,
    "start_time": "2022-10-25T08:47:14.094Z"
   },
   {
    "duration": 131,
    "start_time": "2022-10-25T08:47:15.253Z"
   },
   {
    "duration": 11,
    "start_time": "2022-10-25T08:47:15.385Z"
   },
   {
    "duration": 4,
    "start_time": "2022-10-25T08:47:15.398Z"
   },
   {
    "duration": 12,
    "start_time": "2022-10-25T08:47:15.403Z"
   },
   {
    "duration": 157,
    "start_time": "2022-10-25T08:47:15.421Z"
   },
   {
    "duration": 5,
    "start_time": "2022-10-25T08:47:15.580Z"
   },
   {
    "duration": 248,
    "start_time": "2022-10-25T08:47:15.587Z"
   },
   {
    "duration": 262,
    "start_time": "2022-10-25T08:47:15.836Z"
   },
   {
    "duration": 208,
    "start_time": "2022-10-25T08:47:16.101Z"
   },
   {
    "duration": 320,
    "start_time": "2022-10-25T08:47:16.311Z"
   },
   {
    "duration": 163,
    "start_time": "2022-10-25T08:47:16.632Z"
   },
   {
    "duration": 284,
    "start_time": "2022-10-25T08:47:16.796Z"
   },
   {
    "duration": 105,
    "start_time": "2022-10-25T08:47:17.082Z"
   },
   {
    "duration": 4,
    "start_time": "2022-10-25T08:47:17.188Z"
   },
   {
    "duration": 120,
    "start_time": "2022-10-25T08:47:17.193Z"
   },
   {
    "duration": 9,
    "start_time": "2022-10-25T08:47:17.314Z"
   },
   {
    "duration": 210,
    "start_time": "2022-10-25T08:47:17.324Z"
   },
   {
    "duration": 9,
    "start_time": "2022-10-25T08:47:17.536Z"
   },
   {
    "duration": 5,
    "start_time": "2022-10-25T08:47:17.546Z"
   },
   {
    "duration": 20,
    "start_time": "2022-10-25T08:47:17.552Z"
   },
   {
    "duration": 4,
    "start_time": "2022-10-25T08:47:17.573Z"
   },
   {
    "duration": 12,
    "start_time": "2022-10-25T08:47:17.578Z"
   },
   {
    "duration": 31,
    "start_time": "2022-10-25T08:47:17.591Z"
   },
   {
    "duration": 7,
    "start_time": "2022-10-25T08:47:17.623Z"
   },
   {
    "duration": 23,
    "start_time": "2022-10-25T08:47:17.631Z"
   },
   {
    "duration": 11,
    "start_time": "2022-10-25T08:47:17.655Z"
   },
   {
    "duration": 77,
    "start_time": "2022-10-25T09:42:10.522Z"
   },
   {
    "duration": 57,
    "start_time": "2022-10-25T10:08:14.007Z"
   },
   {
    "duration": 1247,
    "start_time": "2022-10-25T10:08:20.372Z"
   },
   {
    "duration": 137,
    "start_time": "2022-10-25T10:08:27.812Z"
   },
   {
    "duration": 61,
    "start_time": "2022-10-25T10:24:23.467Z"
   },
   {
    "duration": 3,
    "start_time": "2022-10-25T10:24:32.467Z"
   },
   {
    "duration": 30,
    "start_time": "2022-10-25T10:24:32.514Z"
   },
   {
    "duration": 15,
    "start_time": "2022-10-25T10:24:32.546Z"
   },
   {
    "duration": 4,
    "start_time": "2022-10-25T10:24:32.563Z"
   },
   {
    "duration": 43,
    "start_time": "2022-10-25T10:24:32.569Z"
   },
   {
    "duration": 183,
    "start_time": "2022-10-25T10:24:32.614Z"
   },
   {
    "duration": 5,
    "start_time": "2022-10-25T10:24:32.799Z"
   },
   {
    "duration": 7,
    "start_time": "2022-10-25T10:24:32.806Z"
   },
   {
    "duration": 271,
    "start_time": "2022-10-25T10:24:33.161Z"
   },
   {
    "duration": 300,
    "start_time": "2022-10-25T10:24:33.434Z"
   },
   {
    "duration": 203,
    "start_time": "2022-10-25T10:24:33.736Z"
   },
   {
    "duration": 360,
    "start_time": "2022-10-25T10:24:33.942Z"
   },
   {
    "duration": 220,
    "start_time": "2022-10-25T10:24:34.304Z"
   },
   {
    "duration": 282,
    "start_time": "2022-10-25T10:24:34.526Z"
   },
   {
    "duration": 125,
    "start_time": "2022-10-25T10:24:34.809Z"
   },
   {
    "duration": 4,
    "start_time": "2022-10-25T10:24:34.936Z"
   },
   {
    "duration": 149,
    "start_time": "2022-10-25T10:24:34.942Z"
   },
   {
    "duration": 4,
    "start_time": "2022-10-25T10:24:35.093Z"
   },
   {
    "duration": 221,
    "start_time": "2022-10-25T10:24:35.099Z"
   },
   {
    "duration": 10,
    "start_time": "2022-10-25T10:24:35.322Z"
   },
   {
    "duration": 6,
    "start_time": "2022-10-25T10:24:35.334Z"
   },
   {
    "duration": 20,
    "start_time": "2022-10-25T10:24:35.341Z"
   },
   {
    "duration": 3,
    "start_time": "2022-10-25T10:24:35.363Z"
   },
   {
    "duration": 12,
    "start_time": "2022-10-25T10:24:35.392Z"
   },
   {
    "duration": 8,
    "start_time": "2022-10-25T10:24:35.406Z"
   },
   {
    "duration": 10,
    "start_time": "2022-10-25T10:24:35.415Z"
   },
   {
    "duration": 23,
    "start_time": "2022-10-25T10:24:35.427Z"
   },
   {
    "duration": 51,
    "start_time": "2022-10-25T10:24:35.452Z"
   },
   {
    "duration": 3,
    "start_time": "2022-10-25T10:25:03.660Z"
   },
   {
    "duration": 4,
    "start_time": "2022-10-25T10:25:17.406Z"
   },
   {
    "duration": 4,
    "start_time": "2022-10-25T10:25:32.665Z"
   },
   {
    "duration": 4,
    "start_time": "2022-10-25T10:25:59.653Z"
   },
   {
    "duration": 6,
    "start_time": "2022-10-25T10:26:11.994Z"
   },
   {
    "duration": 8,
    "start_time": "2022-10-25T10:27:12.111Z"
   },
   {
    "duration": 5,
    "start_time": "2022-10-25T10:34:25.152Z"
   },
   {
    "duration": 1212,
    "start_time": "2022-10-25T12:46:41.379Z"
   },
   {
    "duration": 144,
    "start_time": "2022-10-25T12:46:42.593Z"
   },
   {
    "duration": 14,
    "start_time": "2022-10-25T12:46:42.739Z"
   },
   {
    "duration": 4,
    "start_time": "2022-10-25T12:46:42.754Z"
   },
   {
    "duration": 31,
    "start_time": "2022-10-25T12:46:42.760Z"
   },
   {
    "duration": 163,
    "start_time": "2022-10-25T12:46:42.793Z"
   },
   {
    "duration": 6,
    "start_time": "2022-10-25T12:46:42.957Z"
   },
   {
    "duration": 15,
    "start_time": "2022-10-25T12:46:42.964Z"
   },
   {
    "duration": 271,
    "start_time": "2022-10-25T12:46:42.981Z"
   },
   {
    "duration": 260,
    "start_time": "2022-10-25T12:46:43.254Z"
   },
   {
    "duration": 173,
    "start_time": "2022-10-25T12:46:43.515Z"
   },
   {
    "duration": 302,
    "start_time": "2022-10-25T12:46:43.690Z"
   },
   {
    "duration": 181,
    "start_time": "2022-10-25T12:46:43.993Z"
   },
   {
    "duration": 291,
    "start_time": "2022-10-25T12:46:44.177Z"
   },
   {
    "duration": 106,
    "start_time": "2022-10-25T12:46:44.476Z"
   },
   {
    "duration": 4,
    "start_time": "2022-10-25T12:46:44.583Z"
   },
   {
    "duration": 133,
    "start_time": "2022-10-25T12:46:44.589Z"
   },
   {
    "duration": 4,
    "start_time": "2022-10-25T12:46:44.724Z"
   },
   {
    "duration": 209,
    "start_time": "2022-10-25T12:46:44.730Z"
   },
   {
    "duration": 9,
    "start_time": "2022-10-25T12:46:44.941Z"
   },
   {
    "duration": 5,
    "start_time": "2022-10-25T12:46:44.952Z"
   },
   {
    "duration": 31,
    "start_time": "2022-10-25T12:46:44.959Z"
   },
   {
    "duration": 5,
    "start_time": "2022-10-25T12:46:44.992Z"
   },
   {
    "duration": 18,
    "start_time": "2022-10-25T12:46:44.998Z"
   },
   {
    "duration": 27,
    "start_time": "2022-10-25T12:46:45.017Z"
   },
   {
    "duration": 9,
    "start_time": "2022-10-25T12:46:45.045Z"
   },
   {
    "duration": 22,
    "start_time": "2022-10-25T12:46:45.055Z"
   },
   {
    "duration": 13,
    "start_time": "2022-10-25T12:46:45.079Z"
   },
   {
    "duration": 75,
    "start_time": "2022-10-25T12:51:57.758Z"
   },
   {
    "duration": 3,
    "start_time": "2022-10-25T12:52:12.851Z"
   },
   {
    "duration": 89,
    "start_time": "2022-10-25T13:05:31.299Z"
   },
   {
    "duration": 11,
    "start_time": "2022-10-25T13:07:57.837Z"
   },
   {
    "duration": 11,
    "start_time": "2022-10-25T13:10:09.870Z"
   },
   {
    "duration": 9,
    "start_time": "2022-10-25T13:10:39.210Z"
   },
   {
    "duration": 13,
    "start_time": "2022-10-25T13:19:59.390Z"
   },
   {
    "duration": 1124,
    "start_time": "2022-10-25T13:20:41.278Z"
   },
   {
    "duration": 6,
    "start_time": "2022-10-25T13:21:10.369Z"
   },
   {
    "duration": 9,
    "start_time": "2022-10-25T13:21:26.111Z"
   },
   {
    "duration": 1177,
    "start_time": "2022-10-25T13:21:29.710Z"
   },
   {
    "duration": 1197,
    "start_time": "2022-10-25T13:21:40.069Z"
   },
   {
    "duration": 11,
    "start_time": "2022-10-25T13:21:51.478Z"
   },
   {
    "duration": 12,
    "start_time": "2022-10-25T13:22:11.290Z"
   },
   {
    "duration": 9,
    "start_time": "2022-10-25T13:22:19.291Z"
   },
   {
    "duration": 12,
    "start_time": "2022-10-25T13:22:21.969Z"
   },
   {
    "duration": 12,
    "start_time": "2022-10-25T13:22:52.349Z"
   },
   {
    "duration": 12,
    "start_time": "2022-10-25T13:23:01.109Z"
   },
   {
    "duration": 11,
    "start_time": "2022-10-25T13:24:43.590Z"
   },
   {
    "duration": 9,
    "start_time": "2022-10-25T13:24:57.117Z"
   },
   {
    "duration": 10,
    "start_time": "2022-10-25T13:25:19.169Z"
   },
   {
    "duration": 12,
    "start_time": "2022-10-25T13:25:32.310Z"
   },
   {
    "duration": 13,
    "start_time": "2022-10-25T13:25:55.209Z"
   },
   {
    "duration": 13,
    "start_time": "2022-10-25T13:26:04.709Z"
   },
   {
    "duration": 12,
    "start_time": "2022-10-25T13:26:19.949Z"
   },
   {
    "duration": 12,
    "start_time": "2022-10-25T13:28:10.650Z"
   },
   {
    "duration": 13,
    "start_time": "2022-10-25T13:28:47.109Z"
   },
   {
    "duration": 12,
    "start_time": "2022-10-25T13:28:56.277Z"
   },
   {
    "duration": 11,
    "start_time": "2022-10-25T13:29:09.989Z"
   },
   {
    "duration": 13,
    "start_time": "2022-10-25T13:29:23.357Z"
   },
   {
    "duration": 12,
    "start_time": "2022-10-25T13:34:03.869Z"
   },
   {
    "duration": 16,
    "start_time": "2022-10-25T13:34:15.571Z"
   },
   {
    "duration": 11,
    "start_time": "2022-10-25T13:34:23.659Z"
   },
   {
    "duration": 70,
    "start_time": "2022-10-25T13:37:46.589Z"
   },
   {
    "duration": 2,
    "start_time": "2022-10-25T13:37:53.198Z"
   },
   {
    "duration": 49,
    "start_time": "2022-10-25T13:37:53.202Z"
   },
   {
    "duration": 13,
    "start_time": "2022-10-25T13:37:53.253Z"
   },
   {
    "duration": 18,
    "start_time": "2022-10-25T13:37:53.267Z"
   },
   {
    "duration": 23,
    "start_time": "2022-10-25T13:37:53.287Z"
   },
   {
    "duration": 111,
    "start_time": "2022-10-25T13:37:53.312Z"
   },
   {
    "duration": 5,
    "start_time": "2022-10-25T13:37:53.425Z"
   },
   {
    "duration": 4,
    "start_time": "2022-10-25T13:37:53.490Z"
   },
   {
    "duration": 13,
    "start_time": "2022-10-25T13:37:53.504Z"
   },
   {
    "duration": 23,
    "start_time": "2022-10-25T13:37:53.518Z"
   },
   {
    "duration": 69,
    "start_time": "2022-10-25T13:37:53.690Z"
   },
   {
    "duration": 89,
    "start_time": "2022-10-25T13:38:43.249Z"
   },
   {
    "duration": 66,
    "start_time": "2022-10-25T13:39:07.450Z"
   },
   {
    "duration": 75,
    "start_time": "2022-10-25T13:39:15.257Z"
   },
   {
    "duration": 73,
    "start_time": "2022-10-25T13:39:20.717Z"
   },
   {
    "duration": 3,
    "start_time": "2022-10-25T13:39:42.090Z"
   },
   {
    "duration": 42,
    "start_time": "2022-10-25T13:39:42.096Z"
   },
   {
    "duration": 10,
    "start_time": "2022-10-25T13:39:42.140Z"
   },
   {
    "duration": 26,
    "start_time": "2022-10-25T13:39:42.151Z"
   },
   {
    "duration": 35,
    "start_time": "2022-10-25T13:39:42.179Z"
   },
   {
    "duration": 92,
    "start_time": "2022-10-25T13:39:42.216Z"
   },
   {
    "duration": 5,
    "start_time": "2022-10-25T13:39:42.310Z"
   },
   {
    "duration": 23,
    "start_time": "2022-10-25T13:39:42.316Z"
   },
   {
    "duration": 25,
    "start_time": "2022-10-25T13:39:42.340Z"
   },
   {
    "duration": 33,
    "start_time": "2022-10-25T13:39:42.366Z"
   },
   {
    "duration": 74,
    "start_time": "2022-10-25T13:39:42.401Z"
   },
   {
    "duration": 9,
    "start_time": "2022-10-25T13:41:47.909Z"
   },
   {
    "duration": 6,
    "start_time": "2022-10-25T13:42:52.533Z"
   },
   {
    "duration": 10,
    "start_time": "2022-10-25T13:44:05.409Z"
   },
   {
    "duration": 3,
    "start_time": "2022-10-25T13:46:55.797Z"
   },
   {
    "duration": 35,
    "start_time": "2022-10-25T13:46:55.802Z"
   },
   {
    "duration": 10,
    "start_time": "2022-10-25T13:46:55.839Z"
   },
   {
    "duration": 6,
    "start_time": "2022-10-25T13:46:55.850Z"
   },
   {
    "duration": 13,
    "start_time": "2022-10-25T13:46:55.858Z"
   },
   {
    "duration": 79,
    "start_time": "2022-10-25T13:46:55.873Z"
   },
   {
    "duration": 4,
    "start_time": "2022-10-25T13:46:55.954Z"
   },
   {
    "duration": 16,
    "start_time": "2022-10-25T13:46:55.959Z"
   },
   {
    "duration": 8,
    "start_time": "2022-10-25T13:46:55.976Z"
   },
   {
    "duration": 10,
    "start_time": "2022-10-25T13:46:55.986Z"
   },
   {
    "duration": 4,
    "start_time": "2022-10-25T13:46:55.998Z"
   },
   {
    "duration": 11,
    "start_time": "2022-10-25T13:46:56.003Z"
   },
   {
    "duration": 247,
    "start_time": "2022-10-25T13:46:56.212Z"
   },
   {
    "duration": 185,
    "start_time": "2022-10-25T13:46:56.461Z"
   },
   {
    "duration": 273,
    "start_time": "2022-10-25T13:46:56.648Z"
   },
   {
    "duration": 237,
    "start_time": "2022-10-25T13:46:56.923Z"
   },
   {
    "duration": 170,
    "start_time": "2022-10-25T13:46:57.161Z"
   },
   {
    "duration": 248,
    "start_time": "2022-10-25T13:46:57.333Z"
   },
   {
    "duration": 153,
    "start_time": "2022-10-25T13:46:57.583Z"
   },
   {
    "duration": 4,
    "start_time": "2022-10-25T13:46:57.739Z"
   },
   {
    "duration": 157,
    "start_time": "2022-10-25T13:46:57.745Z"
   },
   {
    "duration": 4,
    "start_time": "2022-10-25T13:46:57.905Z"
   },
   {
    "duration": 206,
    "start_time": "2022-10-25T13:46:57.910Z"
   },
   {
    "duration": 9,
    "start_time": "2022-10-25T13:46:58.117Z"
   },
   {
    "duration": 8,
    "start_time": "2022-10-25T13:46:58.127Z"
   },
   {
    "duration": 21,
    "start_time": "2022-10-25T13:46:58.136Z"
   },
   {
    "duration": 3,
    "start_time": "2022-10-25T13:46:58.159Z"
   },
   {
    "duration": 10,
    "start_time": "2022-10-25T13:46:58.177Z"
   },
   {
    "duration": 10,
    "start_time": "2022-10-25T13:46:58.188Z"
   },
   {
    "duration": 9,
    "start_time": "2022-10-25T13:46:58.200Z"
   },
   {
    "duration": 20,
    "start_time": "2022-10-25T13:46:58.210Z"
   },
   {
    "duration": 12,
    "start_time": "2022-10-25T13:46:58.231Z"
   },
   {
    "duration": 4,
    "start_time": "2022-10-25T13:49:26.969Z"
   },
   {
    "duration": 184,
    "start_time": "2022-10-25T13:54:49.649Z"
   },
   {
    "duration": 155,
    "start_time": "2022-10-25T13:55:06.610Z"
   },
   {
    "duration": 150,
    "start_time": "2022-10-25T13:57:08.809Z"
   },
   {
    "duration": 173,
    "start_time": "2022-10-25T13:58:53.008Z"
   },
   {
    "duration": 176,
    "start_time": "2022-10-25T14:00:05.349Z"
   },
   {
    "duration": 170,
    "start_time": "2022-10-25T14:00:16.349Z"
   },
   {
    "duration": 262,
    "start_time": "2022-10-25T14:01:24.908Z"
   },
   {
    "duration": 314,
    "start_time": "2022-10-25T14:02:27.589Z"
   },
   {
    "duration": 170,
    "start_time": "2022-10-25T14:03:20.909Z"
   },
   {
    "duration": 234,
    "start_time": "2022-10-25T14:04:13.928Z"
   },
   {
    "duration": 129,
    "start_time": "2022-10-25T14:05:49.629Z"
   },
   {
    "duration": 136,
    "start_time": "2022-10-25T14:07:00.977Z"
   },
   {
    "duration": 2,
    "start_time": "2022-10-25T14:07:44.551Z"
   },
   {
    "duration": 34,
    "start_time": "2022-10-25T14:07:44.555Z"
   },
   {
    "duration": 10,
    "start_time": "2022-10-25T14:07:44.591Z"
   },
   {
    "duration": 5,
    "start_time": "2022-10-25T14:07:44.602Z"
   },
   {
    "duration": 12,
    "start_time": "2022-10-25T14:07:44.609Z"
   },
   {
    "duration": 76,
    "start_time": "2022-10-25T14:07:44.623Z"
   },
   {
    "duration": 5,
    "start_time": "2022-10-25T14:07:44.701Z"
   },
   {
    "duration": 13,
    "start_time": "2022-10-25T14:07:44.708Z"
   },
   {
    "duration": 6,
    "start_time": "2022-10-25T14:07:44.723Z"
   },
   {
    "duration": 9,
    "start_time": "2022-10-25T14:07:44.731Z"
   },
   {
    "duration": 5,
    "start_time": "2022-10-25T14:07:44.741Z"
   },
   {
    "duration": 11,
    "start_time": "2022-10-25T14:07:44.748Z"
   },
   {
    "duration": 280,
    "start_time": "2022-10-25T14:07:44.761Z"
   },
   {
    "duration": 3,
    "start_time": "2022-10-25T14:07:45.043Z"
   },
   {
    "duration": 173,
    "start_time": "2022-10-25T14:07:45.089Z"
   },
   {
    "duration": 199,
    "start_time": "2022-10-25T14:07:45.264Z"
   },
   {
    "duration": 290,
    "start_time": "2022-10-25T14:07:45.464Z"
   },
   {
    "duration": 196,
    "start_time": "2022-10-25T14:07:45.756Z"
   },
   {
    "duration": 297,
    "start_time": "2022-10-25T14:07:45.953Z"
   },
   {
    "duration": 143,
    "start_time": "2022-10-25T14:07:46.251Z"
   },
   {
    "duration": 4,
    "start_time": "2022-10-25T14:07:46.395Z"
   },
   {
    "duration": 216,
    "start_time": "2022-10-25T14:07:46.401Z"
   },
   {
    "duration": 3,
    "start_time": "2022-10-25T14:07:46.619Z"
   },
   {
    "duration": 205,
    "start_time": "2022-10-25T14:07:46.624Z"
   },
   {
    "duration": 9,
    "start_time": "2022-10-25T14:07:46.831Z"
   },
   {
    "duration": 5,
    "start_time": "2022-10-25T14:07:46.841Z"
   },
   {
    "duration": 36,
    "start_time": "2022-10-25T14:07:46.847Z"
   },
   {
    "duration": 3,
    "start_time": "2022-10-25T14:07:46.885Z"
   },
   {
    "duration": 11,
    "start_time": "2022-10-25T14:07:46.889Z"
   },
   {
    "duration": 8,
    "start_time": "2022-10-25T14:07:46.901Z"
   },
   {
    "duration": 8,
    "start_time": "2022-10-25T14:07:46.910Z"
   },
   {
    "duration": 21,
    "start_time": "2022-10-25T14:07:46.919Z"
   },
   {
    "duration": 12,
    "start_time": "2022-10-25T14:07:46.942Z"
   },
   {
    "duration": 203,
    "start_time": "2022-10-25T14:15:02.636Z"
   },
   {
    "duration": 167,
    "start_time": "2022-10-25T14:15:26.776Z"
   },
   {
    "duration": 260,
    "start_time": "2022-10-25T14:24:25.489Z"
   },
   {
    "duration": 175,
    "start_time": "2022-10-25T14:26:28.768Z"
   },
   {
    "duration": 252,
    "start_time": "2022-10-25T14:27:05.129Z"
   },
   {
    "duration": 180,
    "start_time": "2022-10-25T14:27:16.308Z"
   },
   {
    "duration": 1077,
    "start_time": "2022-10-25T14:37:41.408Z"
   },
   {
    "duration": 3,
    "start_time": "2022-10-25T14:37:53.835Z"
   },
   {
    "duration": 33,
    "start_time": "2022-10-25T14:37:53.848Z"
   },
   {
    "duration": 11,
    "start_time": "2022-10-25T14:37:53.883Z"
   },
   {
    "duration": 4,
    "start_time": "2022-10-25T14:37:53.908Z"
   },
   {
    "duration": 17,
    "start_time": "2022-10-25T14:37:53.913Z"
   },
   {
    "duration": 83,
    "start_time": "2022-10-25T14:37:53.932Z"
   },
   {
    "duration": 5,
    "start_time": "2022-10-25T14:37:54.016Z"
   },
   {
    "duration": 7,
    "start_time": "2022-10-25T14:37:54.023Z"
   },
   {
    "duration": 7,
    "start_time": "2022-10-25T14:37:54.031Z"
   },
   {
    "duration": 12,
    "start_time": "2022-10-25T14:37:54.040Z"
   },
   {
    "duration": 5,
    "start_time": "2022-10-25T14:37:54.054Z"
   },
   {
    "duration": 11,
    "start_time": "2022-10-25T14:37:54.077Z"
   },
   {
    "duration": 270,
    "start_time": "2022-10-25T14:37:54.089Z"
   },
   {
    "duration": 4,
    "start_time": "2022-10-25T14:37:54.360Z"
   },
   {
    "duration": 181,
    "start_time": "2022-10-25T14:37:54.378Z"
   },
   {
    "duration": 195,
    "start_time": "2022-10-25T14:37:54.561Z"
   },
   {
    "duration": 302,
    "start_time": "2022-10-25T14:37:54.758Z"
   },
   {
    "duration": 209,
    "start_time": "2022-10-25T14:37:55.063Z"
   },
   {
    "duration": 307,
    "start_time": "2022-10-25T14:37:55.276Z"
   },
   {
    "duration": 141,
    "start_time": "2022-10-25T14:43:09.595Z"
   },
   {
    "duration": 272,
    "start_time": "2022-10-25T14:43:22.987Z"
   },
   {
    "duration": 189,
    "start_time": "2022-10-25T14:43:34.948Z"
   },
   {
    "duration": 376,
    "start_time": "2022-10-25T14:43:39.395Z"
   },
   {
    "duration": 185,
    "start_time": "2022-10-25T14:43:43.967Z"
   },
   {
    "duration": 174,
    "start_time": "2022-10-25T14:43:53.587Z"
   },
   {
    "duration": 4,
    "start_time": "2022-10-25T14:44:58.207Z"
   },
   {
    "duration": 135,
    "start_time": "2022-10-25T14:47:39.887Z"
   },
   {
    "duration": 130,
    "start_time": "2022-10-25T14:51:05.947Z"
   },
   {
    "duration": 110,
    "start_time": "2022-10-25T14:51:21.947Z"
   },
   {
    "duration": 121,
    "start_time": "2022-10-25T14:51:28.889Z"
   },
   {
    "duration": 121,
    "start_time": "2022-10-25T14:51:33.075Z"
   },
   {
    "duration": 118,
    "start_time": "2022-10-25T14:51:39.215Z"
   },
   {
    "duration": 9,
    "start_time": "2022-10-25T14:54:09.036Z"
   },
   {
    "duration": 8,
    "start_time": "2022-10-25T14:54:20.608Z"
   },
   {
    "duration": 3,
    "start_time": "2022-10-25T14:54:24.547Z"
   },
   {
    "duration": 32,
    "start_time": "2022-10-25T14:54:24.563Z"
   },
   {
    "duration": 10,
    "start_time": "2022-10-25T14:54:24.597Z"
   },
   {
    "duration": 9,
    "start_time": "2022-10-25T14:54:24.609Z"
   },
   {
    "duration": 12,
    "start_time": "2022-10-25T14:54:24.620Z"
   },
   {
    "duration": 78,
    "start_time": "2022-10-25T14:54:24.634Z"
   },
   {
    "duration": 5,
    "start_time": "2022-10-25T14:54:24.714Z"
   },
   {
    "duration": 8,
    "start_time": "2022-10-25T14:54:24.721Z"
   },
   {
    "duration": 5,
    "start_time": "2022-10-25T14:54:24.730Z"
   },
   {
    "duration": 11,
    "start_time": "2022-10-25T14:54:24.736Z"
   },
   {
    "duration": 5,
    "start_time": "2022-10-25T14:54:24.748Z"
   },
   {
    "duration": 31,
    "start_time": "2022-10-25T14:54:24.755Z"
   },
   {
    "duration": 265,
    "start_time": "2022-10-25T14:54:24.788Z"
   },
   {
    "duration": 5,
    "start_time": "2022-10-25T14:54:25.054Z"
   },
   {
    "duration": 193,
    "start_time": "2022-10-25T14:54:25.062Z"
   },
   {
    "duration": 216,
    "start_time": "2022-10-25T14:54:25.257Z"
   },
   {
    "duration": 303,
    "start_time": "2022-10-25T14:54:25.476Z"
   },
   {
    "duration": 198,
    "start_time": "2022-10-25T14:54:25.781Z"
   },
   {
    "duration": 284,
    "start_time": "2022-10-25T14:54:25.981Z"
   },
   {
    "duration": 244,
    "start_time": "2022-10-25T14:54:26.276Z"
   },
   {
    "duration": 4,
    "start_time": "2022-10-25T14:54:26.521Z"
   },
   {
    "duration": 138,
    "start_time": "2022-10-25T14:54:26.527Z"
   },
   {
    "duration": 12,
    "start_time": "2022-10-25T14:54:26.666Z"
   },
   {
    "duration": 118,
    "start_time": "2022-10-25T14:55:59.906Z"
   },
   {
    "duration": 119,
    "start_time": "2022-10-25T14:56:11.894Z"
   },
   {
    "duration": 98,
    "start_time": "2022-10-25T14:56:34.108Z"
   },
   {
    "duration": 9,
    "start_time": "2022-10-25T14:56:43.728Z"
   },
   {
    "duration": 108,
    "start_time": "2022-10-25T15:01:58.787Z"
   },
   {
    "duration": 126,
    "start_time": "2022-10-25T15:02:38.458Z"
   },
   {
    "duration": 127,
    "start_time": "2022-10-25T15:02:48.648Z"
   },
   {
    "duration": 108,
    "start_time": "2022-10-25T15:03:01.623Z"
   },
   {
    "duration": 4,
    "start_time": "2022-10-25T15:03:18.095Z"
   },
   {
    "duration": 126,
    "start_time": "2022-10-25T15:03:22.587Z"
   },
   {
    "duration": 137,
    "start_time": "2022-10-25T15:03:39.076Z"
   },
   {
    "duration": 113,
    "start_time": "2022-10-25T15:03:50.588Z"
   },
   {
    "duration": 7,
    "start_time": "2022-10-25T15:12:10.156Z"
   },
   {
    "duration": 7,
    "start_time": "2022-10-25T15:15:38.288Z"
   },
   {
    "duration": 3,
    "start_time": "2022-10-25T15:15:49.916Z"
   },
   {
    "duration": 37,
    "start_time": "2022-10-25T15:15:49.920Z"
   },
   {
    "duration": 10,
    "start_time": "2022-10-25T15:15:49.959Z"
   },
   {
    "duration": 7,
    "start_time": "2022-10-25T15:15:49.970Z"
   },
   {
    "duration": 21,
    "start_time": "2022-10-25T15:15:49.979Z"
   },
   {
    "duration": 84,
    "start_time": "2022-10-25T15:15:50.001Z"
   },
   {
    "duration": 5,
    "start_time": "2022-10-25T15:15:50.087Z"
   },
   {
    "duration": 7,
    "start_time": "2022-10-25T15:15:50.093Z"
   },
   {
    "duration": 10,
    "start_time": "2022-10-25T15:15:50.102Z"
   },
   {
    "duration": 13,
    "start_time": "2022-10-25T15:15:50.115Z"
   },
   {
    "duration": 5,
    "start_time": "2022-10-25T15:15:50.130Z"
   },
   {
    "duration": 14,
    "start_time": "2022-10-25T15:15:50.136Z"
   },
   {
    "duration": 284,
    "start_time": "2022-10-25T15:15:50.151Z"
   },
   {
    "duration": 3,
    "start_time": "2022-10-25T15:15:50.437Z"
   },
   {
    "duration": 199,
    "start_time": "2022-10-25T15:15:50.442Z"
   },
   {
    "duration": 202,
    "start_time": "2022-10-25T15:15:50.644Z"
   },
   {
    "duration": 302,
    "start_time": "2022-10-25T15:15:50.848Z"
   },
   {
    "duration": 284,
    "start_time": "2022-10-25T15:15:51.152Z"
   },
   {
    "duration": 261,
    "start_time": "2022-10-25T15:15:51.438Z"
   },
   {
    "duration": 136,
    "start_time": "2022-10-25T15:15:51.701Z"
   },
   {
    "duration": 5,
    "start_time": "2022-10-25T15:15:51.838Z"
   },
   {
    "duration": 129,
    "start_time": "2022-10-25T15:15:51.844Z"
   },
   {
    "duration": 117,
    "start_time": "2022-10-25T15:15:51.977Z"
   },
   {
    "duration": 4,
    "start_time": "2022-10-25T15:15:52.096Z"
   },
   {
    "duration": 214,
    "start_time": "2022-10-25T15:15:52.101Z"
   },
   {
    "duration": 10,
    "start_time": "2022-10-25T15:15:52.317Z"
   },
   {
    "duration": 5,
    "start_time": "2022-10-25T15:15:52.328Z"
   },
   {
    "duration": 18,
    "start_time": "2022-10-25T15:15:52.334Z"
   },
   {
    "duration": 3,
    "start_time": "2022-10-25T15:15:52.353Z"
   },
   {
    "duration": 27,
    "start_time": "2022-10-25T15:15:52.357Z"
   },
   {
    "duration": 6,
    "start_time": "2022-10-25T15:15:52.386Z"
   },
   {
    "duration": 7,
    "start_time": "2022-10-25T15:15:52.393Z"
   },
   {
    "duration": 20,
    "start_time": "2022-10-25T15:15:52.401Z"
   },
   {
    "duration": 11,
    "start_time": "2022-10-25T15:15:52.422Z"
   },
   {
    "duration": 973,
    "start_time": "2022-10-25T15:25:30.009Z"
   },
   {
    "duration": 87,
    "start_time": "2022-10-25T15:25:30.984Z"
   },
   {
    "duration": 13,
    "start_time": "2022-10-25T15:25:31.072Z"
   },
   {
    "duration": 5,
    "start_time": "2022-10-25T15:25:31.086Z"
   },
   {
    "duration": 14,
    "start_time": "2022-10-25T15:25:31.093Z"
   },
   {
    "duration": 93,
    "start_time": "2022-10-25T15:25:31.109Z"
   },
   {
    "duration": 6,
    "start_time": "2022-10-25T15:25:31.203Z"
   },
   {
    "duration": 22,
    "start_time": "2022-10-25T15:25:31.210Z"
   },
   {
    "duration": 11,
    "start_time": "2022-10-25T15:25:31.234Z"
   },
   {
    "duration": 12,
    "start_time": "2022-10-25T15:25:31.247Z"
   },
   {
    "duration": 6,
    "start_time": "2022-10-25T15:25:31.260Z"
   },
   {
    "duration": 17,
    "start_time": "2022-10-25T15:25:31.268Z"
   },
   {
    "duration": 270,
    "start_time": "2022-10-25T15:25:31.286Z"
   },
   {
    "duration": 4,
    "start_time": "2022-10-25T15:25:31.558Z"
   },
   {
    "duration": 253,
    "start_time": "2022-10-25T15:25:31.563Z"
   },
   {
    "duration": 192,
    "start_time": "2022-10-25T15:25:31.818Z"
   },
   {
    "duration": 254,
    "start_time": "2022-10-25T15:25:32.012Z"
   },
   {
    "duration": 201,
    "start_time": "2022-10-25T15:25:32.268Z"
   },
   {
    "duration": 305,
    "start_time": "2022-10-25T15:25:32.477Z"
   },
   {
    "duration": 146,
    "start_time": "2022-10-25T15:25:32.783Z"
   },
   {
    "duration": 4,
    "start_time": "2022-10-25T15:25:32.931Z"
   },
   {
    "duration": 130,
    "start_time": "2022-10-25T15:25:32.936Z"
   },
   {
    "duration": 123,
    "start_time": "2022-10-25T15:25:33.068Z"
   },
   {
    "duration": 4,
    "start_time": "2022-10-25T15:25:33.193Z"
   },
   {
    "duration": 216,
    "start_time": "2022-10-25T15:25:33.198Z"
   },
   {
    "duration": 10,
    "start_time": "2022-10-25T15:25:33.416Z"
   },
   {
    "duration": 5,
    "start_time": "2022-10-25T15:25:33.427Z"
   },
   {
    "duration": 22,
    "start_time": "2022-10-25T15:25:33.434Z"
   },
   {
    "duration": 4,
    "start_time": "2022-10-25T15:25:33.457Z"
   },
   {
    "duration": 10,
    "start_time": "2022-10-25T15:25:33.478Z"
   },
   {
    "duration": 7,
    "start_time": "2022-10-25T15:25:33.490Z"
   },
   {
    "duration": 7,
    "start_time": "2022-10-25T15:25:33.498Z"
   },
   {
    "duration": 20,
    "start_time": "2022-10-25T15:25:33.507Z"
   },
   {
    "duration": 12,
    "start_time": "2022-10-25T15:25:33.528Z"
   }
  ],
  "kernelspec": {
   "display_name": "Python 3 (ipykernel)",
   "language": "python",
   "name": "python3"
  },
  "language_info": {
   "codemirror_mode": {
    "name": "ipython",
    "version": 3
   },
   "file_extension": ".py",
   "mimetype": "text/x-python",
   "name": "python",
   "nbconvert_exporter": "python",
   "pygments_lexer": "ipython3",
   "version": "3.9.12"
  },
  "toc": {
   "base_numbering": 1,
   "nav_menu": {},
   "number_sections": true,
   "sideBar": true,
   "skip_h1_title": true,
   "title_cell": "Table of Contents",
   "title_sidebar": "Contents",
   "toc_cell": false,
   "toc_position": {
    "height": "calc(100% - 180px)",
    "left": "10px",
    "top": "150px",
    "width": "366.188px"
   },
   "toc_section_display": true,
   "toc_window_display": true
  }
 },
 "nbformat": 4,
 "nbformat_minor": 2
}
